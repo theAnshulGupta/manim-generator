{
 "cells": [
  {
   "cell_type": "code",
   "execution_count": 18,
   "id": "6e6f3d36",
   "metadata": {},
   "outputs": [],
   "source": [
    "import os\n",
    "from tqdm import tqdm\n",
    "import anthropic\n",
    "from bs4 import BeautifulSoup\n",
    "import re\n",
    "from manim import * \n",
    "\n",
    "client = anthropic.Anthropic()"
   ]
  },
  {
   "cell_type": "code",
   "execution_count": 19,
   "id": "3c99e1f1",
   "metadata": {},
   "outputs": [],
   "source": [
    "INPUT_DIR = \"page_content\"\n",
    "EXAMPLE_DIR = \"examples\"\n",
    "SUMMARY_DIR = \"summary\"\n",
    "MEDIA_OUTPUT_DIR = \"downloaded_media\"\n",
    "VOICEOVER_FILE_NAME = \"voiceover_doc.txt\"\n",
    "\n",
    "SYSTEM = \"\"\"\n",
    "You are an agent that is an expert at Manim, a Python library that can be compiled to create video tutorials for educational materials. Your task is to take in a textbook chapter covering some material and create an educational tutorial using Manim, detailing technical parts of the textbook to make it intuitive. Feel free to create a voice over with the manim voiceover feature and explore the documentation. Ensure the absolute highest accuracy possible by using the documentation in order to prevent any mistakes.\n",
    "\n",
    "First, understand the topic at hand. If there are multiple, focus on the first one and then iterate through the rest. Then, understand how the textbook conveys material and equations. If there is a lot of material to cover, break it up into sections, processing each section at a time. Make it such that a beginner new to this field understands it.\n",
    "\n",
    "Ensure that your Manim tutorial goes in depth to each of these topics, creating a detailed video of at least a minute explaining the topic, having an example, and ending in a summary. Compile all the events in a term called FullTutorial. Additionally, if you need to include equations, ensure that you write it in LaTeX that can be compiled accurately. It is essential that you write safe LaTeX that only uses valid characters and formatting such that there are no issues with it. Use other materials like graphs or plots as well. When writing the steps of each topic using the Manim Community library in Python, ensuring that your code works correctly. Output a valid solution that can be run, producing a correct video without any errors whatsoever. Ensure that the text all fits in the screen and does not overlap with one another. I will provide several example input outputs to you as well initially.\n",
    "\"\"\""
   ]
  },
  {
   "cell_type": "code",
   "execution_count": 20,
   "id": "34e0ba96",
   "metadata": {},
   "outputs": [],
   "source": [
    "# Examples\n",
    "SYSTEM += \"\\n\\n===\\nBelow are a few examples\\n\\n\"\n",
    "\n",
    "for file_name in os.listdir(EXAMPLE_DIR):\n",
    "    path = os.path.join(EXAMPLE_DIR, file_name)\n",
    "    \n",
    "    with open(path, \"rb\") as f:\n",
    "        if \"in\" in file_name:\n",
    "            SYSTEM += \"Input:\\n\"\n",
    "        else:\n",
    "            SYSTEM += \"Output:\\n\"\n",
    "        \n",
    "        SYSTEM += str(f.read()) + \"\\n\\n\""
   ]
  },
  {
   "cell_type": "code",
   "execution_count": 21,
   "id": "7aefb6b0",
   "metadata": {},
   "outputs": [
    {
     "name": "stderr",
     "output_type": "stream",
     "text": [
      "100%|██████████| 539/539 [00:00<00:00, 1812.97it/s]\n"
     ]
    }
   ],
   "source": [
    "# Documentation\n",
    "SYSTEM += \"\\n===\\nYou will be provided the full documentation of the Manim. You can find the full set of page links and associated summary of the given page of documentation below. To view the actual details of some given documentation, feel free to call the function aivailable to you. Don't be afraid to do tthis as accuracy is your highest priority!\\n\\n\"\n",
    "\n",
    "for file_name in tqdm(os.listdir(INPUT_DIR)):\n",
    "    path_html = os.path.join(INPUT_DIR, file_name)\n",
    "    path_summ = os.path.join(SUMMARY_DIR, file_name.replace(\"html\", \"txt\"))\n",
    "\n",
    "    with open(path_html, \"rb\") as f:\n",
    "        url = f.readline().decode('utf-8').strip()\n",
    "    \n",
    "    with open(path_summ, \"rb\") as f:\n",
    "        SYSTEM += f\"{url}\\n{f.read()}\\n\\n\"\n",
    "\n",
    "# Voiceover (seperate from rest of documentation so include it fully here)\n",
    "SYSTEM += \"\\n\\nThe documentation for voiceover is seperate so will be fully included below (no need to look specific voiceover stuff up that's included here)\\n\\n\"\n",
    "\n",
    "with open(VOICEOVER_FILE_NAME, \"rb\") as f:\n",
    "    SYSTEM += str(f.read())\n"
   ]
  },
  {
   "cell_type": "code",
   "execution_count": 22,
   "id": "976a5193",
   "metadata": {},
   "outputs": [
    {
     "data": {
      "text/plain": [
       "109371.0"
      ]
     },
     "execution_count": 22,
     "metadata": {},
     "output_type": "execute_result"
    }
   ],
   "source": [
    "len(SYSTEM) / 4"
   ]
  },
  {
   "cell_type": "code",
   "execution_count": 23,
   "id": "91db988e",
   "metadata": {},
   "outputs": [],
   "source": [
    "def link_to_file_name(link):\n",
    "    return link[39:].replace('/', '.')\n",
    "\n",
    "def extract_text_and_media(path):\n",
    "    with open(path, \"rb\") as f:\n",
    "        data = f.read()\n",
    "    soup = BeautifulSoup(data, \"html.parser\")\n",
    "    media_tags = soup.find_all([\"img\", \"video\"])\n",
    "    marker = \"<<<MEDIA>>>\"\n",
    "    media_list = []\n",
    "\n",
    "    # Get images and replace all of them with marker\n",
    "    for tag in media_tags:\n",
    "        if tag.name == \"img\":\n",
    "            src = tag.get(\"src\") or tag.get(\"data‑src\")\n",
    "            media_list.append((\"image\", src))\n",
    "        else:\n",
    "            src = tag.get(\"src\")\n",
    "            if not src and tag.find(\"source\"):\n",
    "                src = tag.find(\"source\").get(\"src\")\n",
    "            media_list.append((\"video\", src))\n",
    "        tag.replace_with(marker)\n",
    "\n",
    "    # Get all the texts and split based on marker\n",
    "    full_text = soup.get_text()\n",
    "    parts = [piece.strip() for piece in full_text.split(marker)]\n",
    "\n",
    "    # Interleave\n",
    "    result = []\n",
    "    for i, media in enumerate(media_list):\n",
    "        if parts[i]:\n",
    "            result.append((\"text\", parts[i]))\n",
    "        result.append(media)\n",
    "    if len(parts) > len(media_list) and parts[-1]:\n",
    "        result.append((\"text\", parts[-1]))\n",
    "\n",
    "    return result\n",
    "\n",
    "def construct_message_without_media(content):\n",
    "    message_content = []\n",
    "    for t, info in content:\n",
    "        if t == \"image\" or t == \"video\":\n",
    "            continue\n",
    "        else:\n",
    "            message_content.append({ \"type\": \"text\", \"text\": info })\n",
    "\n",
    "    return { \"role\": \"user\", \"content\": message_content }\n",
    "\n",
    "def send_query(url):\n",
    "    path = os.path.join(INPUT_DIR, link_to_file_name(url))\n",
    "\n",
    "    if not os.path.exists(path):\n",
    "        return \"Provided url {url} does not exist. Please provide an existitng one\"\n",
    "    \n",
    "    content = extract_text_and_media(path)\n",
    "    return str(construct_message_without_media(content))"
   ]
  },
  {
   "cell_type": "code",
   "execution_count": null,
   "id": "bb6c8ad9",
   "metadata": {},
   "outputs": [
    {
     "data": {
      "text/html": [
       "<pre style=\"white-space:pre;overflow-x:auto;line-height:normal;font-family:Menlo,'DejaVu Sans Mono',consolas,'Courier New',monospace\"><span style=\"color: #7fbfbf; text-decoration-color: #7fbfbf\">[04/20/25 12:36:41] </span><span style=\"color: #008000; text-decoration-color: #008000\">INFO    </span> HTTP Request: POST <span style=\"color: #0000ff; text-decoration-color: #0000ff; text-decoration: underline\">https://api.anthropic.com/v1/messages</span> <span style=\"color: #008000; text-decoration-color: #008000\">\"HTTP/1.1 200</span> <a href=\"file://c:\\Users\\alexl\\AppData\\Local\\Programs\\Python\\Python312\\Lib\\site-packages\\httpx\\_client.py\" target=\"_blank\"><span style=\"color: #7f7f7f; text-decoration-color: #7f7f7f\">_client.py</span></a><span style=\"color: #7f7f7f; text-decoration-color: #7f7f7f\">:</span><a href=\"file://c:\\Users\\alexl\\AppData\\Local\\Programs\\Python\\Python312\\Lib\\site-packages\\httpx\\_client.py#1038\" target=\"_blank\"><span style=\"color: #7f7f7f; text-decoration-color: #7f7f7f\">1038</span></a>\n",
       "<span style=\"color: #7fbfbf; text-decoration-color: #7fbfbf\">                    </span>         <span style=\"color: #008000; text-decoration-color: #008000\">OK\"</span>                                                                    <span style=\"color: #7f7f7f; text-decoration-color: #7f7f7f\">               </span>\n",
       "</pre>\n"
      ],
      "text/plain": [
       "\u001b[2;36m[04/20/25 12:36:41]\u001b[0m\u001b[2;36m \u001b[0m\u001b[32mINFO    \u001b[0m HTTP Request: POST \u001b[4;94mhttps://api.anthropic.com/v1/messages\u001b[0m \u001b[32m\"HTTP/1.1 200\u001b[0m \u001b]8;id=868848;file://c:\\Users\\alexl\\AppData\\Local\\Programs\\Python\\Python312\\Lib\\site-packages\\httpx\\_client.py\u001b\\\u001b[2m_client.py\u001b[0m\u001b]8;;\u001b\\\u001b[2m:\u001b[0m\u001b]8;id=868161;file://c:\\Users\\alexl\\AppData\\Local\\Programs\\Python\\Python312\\Lib\\site-packages\\httpx\\_client.py#1038\u001b\\\u001b[2m1038\u001b[0m\u001b]8;;\u001b\\\n",
       "\u001b[2;36m                    \u001b[0m         \u001b[32mOK\"\u001b[0m                                                                    \u001b[2m               \u001b[0m\n"
      ]
     },
     "metadata": {},
     "output_type": "display_data"
    },
    {
     "name": "stdout",
     "output_type": "stream",
     "text": [
      "[content]\n",
      "TextBlock(citations=None, text=\"I'll create a Manim animation with voiceover that explains gradient descent based on the given document. I'll focus on making it visually engaging while ensuring it runs without errors.\\n\\nLet me check the Manim documentation for voiceover integration first to ensure accuracy:\", type='text')\n",
      "\n",
      "[query]\n",
      "https://docs.manim.community/en/stable/guides/add_voiceovers.html\n",
      "\n"
     ]
    },
    {
     "data": {
      "text/html": [
       "<pre style=\"white-space:pre;overflow-x:auto;line-height:normal;font-family:Menlo,'DejaVu Sans Mono',consolas,'Courier New',monospace\"><span style=\"color: #7fbfbf; text-decoration-color: #7fbfbf\">[04/20/25 12:38:53] </span><span style=\"color: #008000; text-decoration-color: #008000\">INFO    </span> HTTP Request: POST <span style=\"color: #0000ff; text-decoration-color: #0000ff; text-decoration: underline\">https://api.anthropic.com/v1/messages</span> <span style=\"color: #008000; text-decoration-color: #008000\">\"HTTP/1.1 200</span> <a href=\"file://c:\\Users\\alexl\\AppData\\Local\\Programs\\Python\\Python312\\Lib\\site-packages\\httpx\\_client.py\" target=\"_blank\"><span style=\"color: #7f7f7f; text-decoration-color: #7f7f7f\">_client.py</span></a><span style=\"color: #7f7f7f; text-decoration-color: #7f7f7f\">:</span><a href=\"file://c:\\Users\\alexl\\AppData\\Local\\Programs\\Python\\Python312\\Lib\\site-packages\\httpx\\_client.py#1038\" target=\"_blank\"><span style=\"color: #7f7f7f; text-decoration-color: #7f7f7f\">1038</span></a>\n",
       "<span style=\"color: #7fbfbf; text-decoration-color: #7fbfbf\">                    </span>         <span style=\"color: #008000; text-decoration-color: #008000\">OK\"</span>                                                                    <span style=\"color: #7f7f7f; text-decoration-color: #7f7f7f\">               </span>\n",
       "</pre>\n"
      ],
      "text/plain": [
       "\u001b[2;36m[04/20/25 12:38:53]\u001b[0m\u001b[2;36m \u001b[0m\u001b[32mINFO    \u001b[0m HTTP Request: POST \u001b[4;94mhttps://api.anthropic.com/v1/messages\u001b[0m \u001b[32m\"HTTP/1.1 200\u001b[0m \u001b]8;id=847904;file://c:\\Users\\alexl\\AppData\\Local\\Programs\\Python\\Python312\\Lib\\site-packages\\httpx\\_client.py\u001b\\\u001b[2m_client.py\u001b[0m\u001b]8;;\u001b\\\u001b[2m:\u001b[0m\u001b]8;id=348350;file://c:\\Users\\alexl\\AppData\\Local\\Programs\\Python\\Python312\\Lib\\site-packages\\httpx\\_client.py#1038\u001b\\\u001b[2m1038\u001b[0m\u001b]8;;\u001b\\\n",
       "\u001b[2;36m                    \u001b[0m         \u001b[32mOK\"\u001b[0m                                                                    \u001b[2m               \u001b[0m\n"
      ]
     },
     "metadata": {},
     "output_type": "display_data"
    },
    {
     "name": "stdout",
     "output_type": "stream",
     "text": [
      "[content]\n",
      "TextBlock(citations=None, text='Now I\\'ll create a focused, visually engaging Manim animation about gradient descent with voiceover support. I\\'ll use the VoiceoverScene from manim_voiceover and structure the animation to cover the key points from the document.\\n\\n```python\\nfrom manim import *\\nfrom manim_voiceover import VoiceoverScene\\nfrom manim_voiceover.services.gtts import GTTSService\\nimport numpy as np\\n\\nclass FullTutorial(VoiceoverScene):\\n    def construct(self):\\n        # Set up the speech service (using Google TTS for reliability)\\n        self.set_speech_service(GTTSService())\\n        \\n        # SECTION 1: INTRODUCTION\\n        self.intro_section()\\n        \\n        # SECTION 2: 1D GRADIENT DESCENT\\n        self.one_d_gradient_descent()\\n        \\n        # SECTION 3: MULTI-DIMENSIONAL GRADIENT DESCENT\\n        self.multi_d_gradient_descent()\\n        \\n        # SECTION 4: APPLICATION TO REGRESSION\\n        self.regression_application()\\n        \\n        # SECTION 5: STOCHASTIC GRADIENT DESCENT\\n        self.stochastic_gradient_descent()\\n        \\n        # SECTION 6: CONCLUSION\\n        self.conclusion()\\n\\n    def intro_section(self):\\n        # Title\\n        title = Text(\"Gradient Descent\", font_size=72)\\n        subtitle = Text(\"An Iterative Optimization Method\", font_size=36)\\n        subtitle.next_to(title, DOWN)\\n        \\n        with self.voiceover(\"Welcome to this tutorial on gradient descent, one of the most fundamental optimization algorithms in machine learning.\"):\\n            self.play(Write(title))\\n            self.play(FadeIn(subtitle))\\n        \\n        with self.voiceover(\"In supervised learning, we often want to find parameters that minimize an objective function.\"):\\n            objective_eq = MathTex(r\"\\\\Theta^* = \\\\arg\\\\min_{\\\\Theta} J(\\\\Theta)\")\\n            objective_eq.next_to(subtitle, DOWN, buff=0.75)\\n            self.play(FadeOut(subtitle), ReplacementTransform(title, objective_eq))\\n        \\n        # Visual intuition of GD as traversing a terrain\\n        with self.voiceover(\"Intuitively, imagine the objective function as a terrain. Gradient descent starts from an initial point, looks for the steepest downward direction, takes a step, and repeats until reaching a minimum.\"):\\n            # Create a simple contour plot to represent the terrain\\n            axes = Axes(\\n                x_range=[-3, 3, 1],\\n                y_range=[-3, 3, 1],\\n                axis_config={\"include_numbers\": False}\\n            )\\n            \\n            # Function to create a 3D surface (visualized as contour)\\n            def func(x, y):\\n                return 0.5 * (x**2 + 3*y**2 + 0.5*x*y)\\n            \\n            # Create contour plot\\n            contour = axes.plot_implicit_curve(\\n                lambda x, y: func(x, y) - 1,\\n                color=BLUE\\n            )\\n            \\n            contour2 = axes.plot_implicit_curve(\\n                lambda x, y: func(x, y) - 2,\\n                color=BLUE_B\\n            )\\n            \\n            contour3 = axes.plot_implicit_curve(\\n                lambda x, y: func(x, y) - 4,\\n                color=BLUE_C\\n            )\\n            \\n            # Start point and path\\n            start_point = Dot(axes.c2p(2, 2), color=RED)\\n            path = VMobject(color=YELLOW)\\n            path.set_points_as_corners([\\n                axes.c2p(2, 2),\\n                axes.c2p(1.5, 1.0),\\n                axes.c2p(0.8, 0.5),\\n                axes.c2p(0.2, 0.2),\\n                axes.c2p(0, 0)\\n            ])\\n            \\n            destination = Dot(axes.c2p(0, 0), color=GREEN)\\n            \\n            landscape_group = Group(axes, contour, contour2, contour3)\\n            landscape_group.scale(0.8)\\n            \\n            self.play(FadeOut(objective_eq))\\n            self.play(\\n                FadeIn(landscape_group),\\n                FadeIn(start_point)\\n            )\\n            self.play(\\n                Create(path),\\n                run_time=3\\n            )\\n            self.play(FadeIn(destination))\\n            \\n        # Outline the progression of the tutorial\\n        with self.voiceover(\"In this tutorial, we\\'ll cover gradient descent in four stages: One-dimensional gradient descent, extension to many dimensions, application to regression, and stochastic gradient descent for large datasets.\"):\\n            outline = BulletedList(\\n                \"1D Gradient Descent\",\\n                \"Multi-dimensional Extension\",\\n                \"Application to Regression\",\\n                \"Stochastic Gradient Descent (SGD)\",\\n                font_size=36\\n            )\\n            self.play(\\n                FadeOut(landscape_group),\\n                FadeOut(start_point),\\n                FadeOut(path),\\n                FadeOut(destination),\\n                FadeIn(outline)\\n            )\\n            \\n        self.wait(1)\\n        self.play(FadeOut(outline))\\n\\n    def one_d_gradient_descent(self):\\n        section_title = Text(\"1D Gradient Descent\", font_size=60)\\n        \\n        with self.voiceover(\"Let\\'s begin with gradient descent in one dimension.\"):\\n            self.play(Write(section_title))\\n            self.wait(1)\\n            self.play(section_title.animate.to_edge(UP))\\n        \\n        with self.voiceover(\"In one dimension, we need an objective function f, its derivative, and three hyperparameters: an initial value, a step size or learning rate eta, and an accuracy threshold epsilon.\"):\\n            params = BulletedList(\\n                \"Initial value $\\\\\\\\Theta_{init}$\",\\n                \"Step size (learning rate) $\\\\\\\\eta > 0$\",\\n                \"Accuracy threshold $\\\\\\\\epsilon > 0$\",\\n                font_size=34\\n            )\\n            self.play(Create(params))\\n            \\n        with self.voiceover(\"The gradient descent algorithm starts at the initial point and iteratively updates the parameter by moving in the direction opposite to the derivative, scaled by the learning rate.\"):\\n            algorithm_box = SurroundingRectangle(\\n                MathTex(r\"\\\\Theta^{(t)} \\\\gets \\\\Theta^{(t-1)} - \\\\eta \\\\, f\\'(\\\\Theta^{(t-1)})\"),\\n                buff=0.5,\\n                color=YELLOW\\n            )\\n            algorithm = VGroup(\\n                algorithm_box[0],\\n                algorithm_box\\n            )\\n            algorithm.next_to(params, DOWN, buff=0.75)\\n            self.play(FadeIn(algorithm))\\n            \\n        # Visual demonstration of 1D gradient descent\\n        with self.voiceover(\"Let\\'s visualize this with a simple example: minimizing the function f(x) equals (x minus 2) squared.\"):\\n            self.play(FadeOut(params), FadeOut(algorithm))\\n            \\n            # Create axes\\n            axes = Axes(\\n                x_range=[-1, 5, 1],\\n                y_range=[0, 10, 2],\\n                axis_config={\"include_tip\": False},\\n                x_axis_config={\"numbers_to_include\": range(0, 6, 1)},\\n                y_axis_config={\"numbers_to_include\": range(0, 12, 2)}\\n            )\\n            \\n            # Label the axes\\n            x_label = axes.get_x_axis_label(\"x\")\\n            y_label = axes.get_y_axis_label(\"f(x)\")\\n            \\n            # Define and plot the function f(x) = (x - 2)^2\\n            def f(x):\\n                return (x - 2)**2\\n                \\n            graph = axes.plot(f, color=BLUE)\\n            graph_label = MathTex(\"f(x) = (x - 2)^2\").next_to(graph, UP).shift(LEFT * 2)\\n            \\n            plot_group = VGroup(axes, x_label, y_label, graph, graph_label)\\n            self.play(Create(plot_group))\\n            \\n        # Animate the gradient descent steps\\n        starting_x = 4\\n        eta = 0.5\\n        convergence_threshold = 0.1\\n        \\n        current_x = starting_x\\n        iterations = []\\n        \\n        # Pre-compute iteration points for smooth animation\\n        while abs(current_x - 2) > convergence_threshold:\\n            iterations.append(current_x)\\n            gradient = 2 * (current_x - 2)  # f\\'(x) = 2(x - 2)\\n            current_x = current_x - eta * gradient\\n            \\n        with self.voiceover(\"Starting at x equals 4 with a learning rate of 0.5, let\\'s trace the gradient descent steps.\"):\\n            # Initial point\\n            point = Dot(axes.c2p(starting_x, f(starting_x)), color=RED)\\n            x_value = MathTex(f\"x^{{(0)}} = {starting_x}\").to_edge(DOWN)\\n            \\n            self.play(FadeIn(point), Write(x_value))\\n            \\n            # Show iterations\\n            for i, x_val in enumerate(iterations[1:], 1):\\n                if i < len(iterations) - 1:  # Skip last iteration for voice pacing\\n                    new_point = Dot(axes.c2p(x_val, f(x_val)), color=RED)\\n                    arrow = Arrow(point.get_center(), new_point.get_center(), buff=0.1, color=YELLOW)\\n                    new_x_value = MathTex(f\"x^{{({i})}} = {x_val:.4f}\").to_edge(DOWN)\\n                    \\n                    self.play(\\n                        Create(arrow),\\n                        Transform(point, new_point),\\n                        Transform(x_value, new_x_value),\\n                        run_time=0.75\\n                    )\\n        \\n        with self.voiceover(\"Eventually, our algorithm converges to the minimum at x equals 2.\"):\\n            final_point = Dot(axes.c2p(2, 0), color=GREEN, radius=0.08)\\n            final_x_value = MathTex(r\"x^* = 2\").to_edge(DOWN)\\n            \\n            self.play(\\n                Transform(point, final_point),\\n                Transform(x_value, final_x_value)\\n            )\\n        \\n        with self.voiceover(\"In convex functions like this one, gradient descent is guaranteed to converge to the global minimum if the learning rate is small enough.\"):\\n            theorem = MathTex(r\"\\\\text{For convex } f \\\\text{ with small enough } \\\\eta, \\\\text{ GD converges to optimum.}\")\\n            theorem.to_edge(DOWN, buff=0.75)\\n            \\n            self.play(\\n                FadeOut(x_value),\\n                FadeIn(theorem)\\n            )\\n        \\n        self.wait(1)\\n        self.play(\\n            FadeOut(plot_group),\\n            FadeOut(point),\\n            FadeOut(theorem),\\n            FadeOut(section_title)\\n        )\\n\\n    def multi_d_gradient_descent(self):\\n        section_title = Text(\"Multi-dimensional Gradient Descent\", font_size=60)\\n        \\n        with self.voiceover(\"Now, let\\'s extend gradient descent to multiple dimensions.\"):\\n            self.play(Write(section_title))\\n            self.wait(1)\\n            self.play(section_title.animate.to_edge(UP))\\n            \\n        with self.voiceover(\"In multiple dimensions, we replace the derivative with the gradient vector, which contains the partial derivatives with respect to each parameter.\"):\\n            gradient = MathTex(\\n                r\"\\\\nabla_\\\\Theta f(\\\\Theta) = \\\\begin{bmatrix} \\\\frac{\\\\partial f}{\\\\partial \\\\Theta_1} \\\\\\\\ \\\\vdots \\\\\\\\ \\\\frac{\\\\partial f}{\\\\partial \\\\Theta_m} \\\\end{bmatrix}\"\\n            )\\n            self.play(Write(gradient))\\n            \\n        with self.voiceover(\"The update rule becomes vector-valued, subtracting the gradient scaled by the learning rate from the current parameter vector.\"):\\n            update = MathTex(\\n                r\"\\\\Theta^{(t)} = \\\\Theta^{(t-1)} - \\\\eta \\\\nabla_\\\\Theta f(\\\\Theta^{(t-1)})\"\\n            )\\n            update.next_to(gradient, DOWN, buff=0.75)\\n            self.play(Write(update))\\n            \\n        # 2D visualization\\n        with self.voiceover(\"Let\\'s visualize gradient descent in two dimensions, where our objective forms a bowl-shaped surface.\"):\\n            self.play(FadeOut(gradient), FadeOut(update))\\n            \\n            # Create a 3D surface\\n            axes = ThreeDAxes(\\n                x_range=[-2, 2, 1],\\n                y_range=[-2, 2, 1],\\n                z_range=[0, 4, 1],\\n                x_length=5,\\n                y_length=5,\\n                z_length=3\\n            )\\n            \\n            # Function for the 3D surface\\n            def f(u, v):\\n                x, y = u, v\\n                return x**2 + y**2\\n                \\n            surface = Surface(\\n                lambda u, v: axes.c2p(u, v, f(u, v)),\\n                u_range=[-2, 2],\\n                v_range=[-2, 2],\\n                resolution=(20, 20),\\n                fill_opacity=0.7,\\n                stroke_color=BLUE\\n            )\\n            \\n            # Set up the camera\\n            self.set_camera_orientation(phi=70 * DEGREES, theta=30 * DEGREES)\\n            self.play(\\n                Create(axes),\\n                Create(surface)\\n            )\\n            \\n        # Animate gradient descent on the surface\\n        with self.voiceover(\"Starting from a point away from the minimum, gradient descent will navigate the surface toward the lowest point.\"):\\n            # Starting point on the surface\\n            start_x, start_y = 1.5, 1.5\\n            start_z = f(start_x, start_y)\\n            start_point = Dot3D(axes.c2p(start_x, start_y, start_z), color=RED, radius=0.08)\\n            \\n            # Destination (minimum)\\n            end_point = Dot3D(axes.c2p(0, 0, 0), color=GREEN, radius=0.08)\\n            \\n            # Create a path for the descent\\n            path_points = []\\n            current_x, current_y = start_x, start_y\\n            eta = 0.2\\n            \\n            for _ in range(8):  # Limited iterations for animation\\n                grad_x = 2 * current_x\\n                grad_y = 2 * current_y\\n                current_x -= eta * grad_x\\n                current_y -= eta * grad_y\\n                path_points.append((current_x, current_y, f(current_x, current_y)))\\n                \\n            # Create the descent path\\n            path = VMobject(color=YELLOW)\\n            path.set_points_as_corners([axes.c2p(start_x, start_y, start_z)] + \\n                                      [axes.c2p(x, y, z) for x, y, z in path_points])\\n            \\n            self.play(FadeIn(start_point))\\n            self.play(Create(path), run_time=3)\\n            self.play(FadeIn(end_point))\\n            \\n        with self.voiceover(\"The termination condition can be based on function change, parameter change, or simply a fixed number of iterations.\"):\\n            termination = BulletedList(\\n                \"Fixed iteration cap\",\\n                \"Small parameter change\",\\n                \"Small function change\",\\n                font_size=28\\n            )\\n            termination.to_corner(UR)\\n            self.play(Write(termination))\\n            \\n        self.wait(1)\\n        self.play(\\n            FadeOut(axes),\\n            FadeOut(surface),\\n            FadeOut(start_point),\\n            FadeOut(path),\\n            FadeOut(end_point),\\n            FadeOut(termination),\\n            FadeOut(section_title)\\n        )\\n        # Reset camera orientation for 2D scenes\\n        self.set_camera_orientation(phi=0, theta=-90 * DEGREES)\\n\\n    def regression_application(self):\\n        section_title = Text(\"Application to Regression\", font_size=60)\\n        \\n        with self.voiceover(\"Now, let\\'s apply gradient descent to a practical problem: linear regression.\"):\\n            self.play(Write(section_title))\\n            self.wait(1)\\n            self.play(section_title.animate.to_edge(UP))\\n            \\n        with self.voiceover(\"In linear regression with squared error loss, our objective is to minimize the average squared difference between predictions and actual values.\"):\\n            objective = MathTex(\\n                r\"J(\\\\bm{\\\\theta}) = \\\\frac{1}{n}\\\\sum_{i=1}^{n} \\\\bigl(\\\\bm{\\\\theta}^{\\\\top}x^{(i)}-y^{(i)}\\\\bigr)^2\"\\n            )\\n            self.play(Write(objective))\\n            \\n        with self.voiceover(\"The gradient of this objective with respect to our parameters is:\"):\\n            gradient = MathTex(\\n                r\"\\\\nabla_{\\\\bm{\\\\theta}}J = \\\\frac{2}{n}X^{\\\\top}(X\\\\bm{\\\\theta}-Y)\"\\n            )\\n            gradient.next_to(objective, DOWN, buff=0.75)\\n            self.play(Write(gradient))\\n            \\n        with self.voiceover(\"Which gives us the gradient descent update rule:\"):\\n            update = MathTex(\\n                r\"\\\\bm{\\\\theta}^{(t)} = \\\\bm{\\\\theta}^{(t-1)} - \\\\eta\\\\frac{2}{n}\\\\sum_{i=1}^{n} \\\\bigl(\\\\bm{\\\\theta}^{(t-1)\\\\top}x^{(i)}-y^{(i)}\\\\bigr)x^{(i)}\"\\n            )\\n            update.next_to(gradient, DOWN, buff=0.75)\\n            self.play(Write(update))\\n            \\n        # Visual example of linear regression\\n        with self.voiceover(\"Let\\'s visualize how gradient descent works for linear regression.\"):\\n            self.play(\\n                FadeOut(objective),\\n                FadeOut(gradient),\\n                FadeOut(update)\\n            )\\n            \\n            # Create scatter plot with data points\\n            axes = Axes(\\n                x_range=[0, 10, 1],\\n                y_range=[0, 10, 1],\\n                axis_config={\"include_tip\": False}\\n            )\\n            \\n            # Generate synthetic data for visualization\\n            np.random.seed(42)  # For reproducibility\\n            x_vals = np.linspace(1, 9, 10)\\n            y_vals = 1 + 0.7 * x_vals + np.random.normal(0, 1, 10)\\n            \\n            # Create dots for the data points\\n            dots = VGroup(*[\\n                Dot(axes.c2p(x, y), color=BLUE)\\n                for x, y in zip(x_vals, y_vals)\\n            ])\\n            \\n            x_label = axes.get_x_axis_label(\"x\")\\n            y_label = axes.get_y_axis_label(\"y\")\\n            \\n            plot_group = VGroup(axes, x_label, y_label, dots)\\n            self.play(Create(plot_group))\\n            \\n        with self.voiceover(\"We start with initial parameters and iteratively update them using gradient descent.\"):\\n            # Initial line\\n            init_slope, init_intercept = 0.0, 5.0\\n            initial_line = axes.plot(\\n                lambda x: init_slope * x + init_intercept,\\n                color=RED,\\n                x_range=[0, 10]\\n            )\\n            initial_eq = MathTex(r\"y = 0.0x + 5.0\", color=RED).to_corner(UL)\\n            \\n            self.play(\\n                Create(initial_line),\\n                Write(initial_eq)\\n            )\\n            \\n        with self.voiceover(\"With each iteration, our line gets closer to the optimal fit.\"):\\n            # Iterate to show gradient descent progress\\n            lines = []\\n            equations = []\\n            \\n            # These would be computed by actual GD in practice\\n            # Here we\\'ll just show a smooth progression\\n            slopes = [0.2, 0.4, 0.55, 0.65, 0.7]\\n            intercepts = [4.5, 3.5, 2.5, 1.5, 1.0]\\n            \\n            for i, (slope, intercept) in enumerate(zip(slopes, intercepts)):\\n                new_line = axes.plot(\\n                    lambda x, s=slope, i=intercept: s * x + i,\\n                    color=YELLOW,\\n                    x_range=[0, 10]\\n                )\\n                new_eq = MathTex(f\"y = {slope:.1f}x + {intercept:.1f}\", color=YELLOW).to_corner(UL)\\n                \\n                lines.append(new_line)\\n                equations.append(new_eq)\\n                \\n                if i == 0:\\n                    self.play(\\n                        Transform(initial_line, new_line),\\n                        Transform(initial_eq, new_eq),\\n                        run_time=1\\n                    )\\n                else:\\n                    self.play(\\n                        Transform(initial_line, new_line),\\n                        Transform(initial_eq, new_eq),\\n                        run_time=0.8\\n                    )\\n            \\n            # Final optimal line\\n            optimal_line = axes.plot(\\n                lambda x: 0.7 * x + 1.0,\\n                color=GREEN,\\n                x_range=[0, 10]\\n            )\\n            optimal_eq = MathTex(r\"y = 0.7x + 1.0\", color=GREEN).to_corner(UL)\\n            \\n            self.play(\\n                Transform(initial_line, optimal_line),\\n                Transform(initial_eq, optimal_eq)\\n            )\\n            \\n        with self.voiceover(\"We can extend this approach to ridge regression by adding an L2 regularization term to the objective function.\"):\\n            ridge_title = Text(\"Ridge Regression\", font_size=40)\\n            ridge_title.next_to(section_title, DOWN)\\n            \\n            ridge_obj = MathTex(\\n                r\"J_{ridge}(\\\\bm{\\\\theta}) = \\\\frac{1}{n}\\\\sum_{i=1}^{n} \\\\bigl(\\\\bm{\\\\theta}^{\\\\top}x^{(i)}-y^{(i)}\\\\bigr)^2 + \\\\lambda||\\\\bm{\\\\theta}||^2\"\\n            )\\n            ridge_obj.scale(0.8)\\n            ridge_obj.next_to(ridge_title, DOWN, buff=0.5)\\n            \\n            self.play(\\n                FadeOut(plot_group),\\n                FadeOut(initial_line),\\n                FadeOut(initial_eq),\\n                Write(ridge_title),\\n                Write(ridge_obj)\\n            )\\n            \\n        self.wait(1)\\n        self.play(\\n            FadeOut(section_title),\\n            FadeOut(ridge_title),\\n            FadeOut(ridge_obj)\\n        )\\n\\n    def stochastic_gradient_descent(self):\\n        section_title = Text(\"Stochastic Gradient Descent\", font_size=60)\\n        \\n        with self.voiceover(\"Finally, let\\'s explore stochastic gradient descent, a variant of gradient descent designed for large datasets.\"):\\n            self.play(Write(section_title))\\n            self.wait(1)\\n            self.play(section_title.animate.to_edge(UP))\\n            \\n        with self.voiceover(\"When our objective is a sum of many terms, computing the full gradient can be expensive. Stochastic gradient descent updates with just one randomly chosen term at each step.\"):\\n            sgd_formula = MathTex(\\n                r\"f(\\\\Theta) = \\\\frac{1}{n}\\\\sum_{i=1}^{n} f_i(\\\\Theta)\"\\n            )\\n            \\n            sgd_update = MathTex(\\n                r\"\\\\Theta^{(t)} \\\\gets \\\\Theta^{(t-1)} - \\\\eta(t) \\\\, \\\\nabla f_i(\\\\Theta^{(t-1)})\"\\n            )\\n            sgd_update.next_to(sgd_formula, DOWN, buff=0.75)\\n            \\n            random_i = MathTex(r\"i \\\\sim \\\\text{Uniform}\\\\{1, \\\\ldots, n\\\\}\")\\n            random_i.next_to(sgd_update, DOWN, buff=0.5)\\n            \\n            self.play(Write(sgd_formula))\\n            self.play(Write(sgd_update))\\n            self.play(Write(random_i))\\n            \\n        with self.voiceover(\"Under certain conditions on the learning rate schedule, SGD converges to the optimum with probability 1.\"):\\n            convergence = MathTex(\\n                r\"\\\\sum_{t=1}^{\\\\infty}\\\\eta(t) = \\\\infty, \\\\quad \\\\sum_{t=1}^{\\\\infty}\\\\eta(t)^2 < \\\\infty\"\\n            )\\n            convergence.next_to(random_i, DOWN, buff=0.75)\\n            self.play(Write(convergence))\\n            \\n        # Visualization comparing GD and SGD\\n        with self.voiceover(\"There are three key advantages of SGD: it\\'s more efficient for large datasets, it can escape poor local minima, and it often leads to better generalization.\"):\\n            self.play(\\n                FadeOut(sgd_formula),\\n                FadeOut(sgd_update),\\n                FadeOut(random_i),\\n                FadeOut(convergence)\\n            )\\n            \\n            advantages = BulletedList(\\n                \"Efficiency: Each step uses only one data point\",\\n                \"Escaping bad minima: Noise helps avoid shallow local minima\",\\n                \"Generalization: Slight under-optimization reduces overfitting\",\\n                font_size=36\\n            )\\n            self.play(Create(advantages))\\n            \\n        # Visual comparison of GD vs SGD trajectories\\n        with self.voiceover(\"Let\\'s compare the trajectories of batch gradient descent and stochastic gradient descent.\"):\\n            self.play(FadeOut(advantages))\\n            \\n            # Create a contour plot for a non-convex function\\n            axes = Axes(\\n                x_range=[-3, 3, 1],\\n                y_range=[-3, 3, 1],\\n                axis_config={\"include_numbers\": False}\\n            )\\n            \\n            # Non-convex function for visualization\\n            def non_convex_func(x, y):\\n                return 0.5 * (x**2 + 3*y**2) + np.sin(2*x) + 2*np.cos(y)\\n            \\n            # Create contours\\n            contour_levels = [0.5, 1, 2, 3, 4]\\n            contours = VGroup(*[\\n                axes.plot_implicit_curve(\\n                    lambda x, y: non_convex_func(x, y) - level,\\n                    color=BLUE_C if i % 2 == 0 else BLUE_D\\n                )\\n                for i, level in enumerate(contour_levels)\\n            ])\\n            \\n            # Label the plot\\n            plot_label = Text(\"Non-convex Objective\", font_size=28).next_to(axes, UP)\\n            plot_group = VGroup(axes, contours, plot_label)\\n            \\n            self.play(Create(plot_group))\\n            \\n            # Batch GD path (direct)\\n            gd_start = Dot(axes.c2p(2, 2), color=RED)\\n            gd_path = VMobject(color=RED)\\n            gd_path.set_points_as_corners([\\n                axes.c2p(2, 2),\\n                axes.c2p(1.5, 1.5),\\n                axes.c2p(1.0, 1.0),\\n                axes.c2p(0.5, 0.5),\\n                axes.c2p(0.3, 0.3),\\n                axes.c2p(0.2, 0.2)\\n            ])\\n            gd_end = Dot(axes.c2p(0.2, 0.2), color=RED)\\n            gd_label = Text(\"Batch GD\", font_size=24, color=RED).next_to(gd_end, RIGHT)\\n            \\n            # SGD path (noisy)\\n            sgd_start = Dot(axes.c2p(2, 2), color=YELLOW)\\n            sgd_path = VMobject(color=YELLOW)\\n            sgd_path.set_points_as_corners([\\n                axes.c2p(2, 2),\\n                axes.c2p(1.7, 1.3),\\n                axes.c2p(1.2, 1.4),\\n                axes.c2p(0.9, 0.8),\\n                axes.c2p(0.4, 0.7),\\n                axes.c2p(0.0, 0.3),\\n                axes.c2p(-0.3, 0.1),\\n                axes.c2p(-0.5, -0.2)\\n            ])\\n            sgd_end = Dot(axes.c2p(-0.5, -0.2), color=YELLOW)\\n            sgd_label = Text(\"SGD\", font_size=24, color=YELLOW).next_to(sgd_end, LEFT)\\n            \\n            # Show batch GD\\n            self.play(FadeIn(gd_start))\\n            self.play(Create(gd_path), run_time=2)\\n            self.play(FadeIn(gd_end), Write(gd_label))\\n            \\n            # Show SGD\\n            self.play(FadeIn(sgd_start))\\n            self.play(Create(sgd_path), run_time=2)\\n            self.play(FadeIn(sgd_end), Write(sgd_label))\\n            \\n        with self.voiceover(\"Notice how SGD\\'s noisy updates allow it to escape the local minimum that trapped batch gradient descent, potentially finding a better solution.\"):\\n            global_min = Dot(axes.c2p(-0.5, -0.2), color=GREEN, radius=0.1)\\n            global_min_label = Text(\"Global Minimum\", font_size=24, color=GREEN).next_to(global_min, DOWN)\\n            \\n            local_min = Dot(axes.c2p(0.2, 0.2), color=ORANGE, radius=0.1)\\n            local_min_label = Text(\"Local Minimum\", font_size=24, color=ORANGE).next_to(local_min, UP)\\n            \\n            self.play(\\n                FadeOut(sgd_end),\\n                FadeIn(global_min),\\n                Write(global_min_label),\\n                Transform(gd_end, local_min),\\n                Write(local_min_label)\\n            )\\n            \\n        self.wait(1)\\n        self.play(\\n            FadeOut(plot_group),\\n            FadeOut(gd_start),\\n            FadeOut(gd_path),\\n            FadeOut(gd_end),\\n            FadeOut(gd_label),\\n            FadeOut(sgd_start),\\n            FadeOut(sgd_path),\\n            FadeOut(global_min),\\n            FadeOut(global_min_label),\\n            FadeOut(local_min_label),\\n            FadeOut(section_title)\\n        )\\n\\n    def conclusion(self):\\n        conclusion_title = Text(\"Conclusion\", font_size=60)\\n        \\n        with self.voiceover(\"To conclude, gradient descent is a fundamental optimization algorithm with several variants.\"):\\n            self.play(Write(conclusion_title))\\n            self.wait(1)\\n            self.play(conclusion_title.animate.to_edge(UP))\\n            \\n        with self.voiceover(\"We\\'ve covered one-dimensional gradient descent, multi-dimensional gradient descent, applications to regression, and stochastic gradient descent.\"):\\n            summary = BulletedList(\\n                \"1D Gradient Descent: Moving in the opposite direction of the derivative\",\\n                \"Multi-dimensional GD: Using the gradient vector for multiple parameters\",\\n                \"Regression Applications: Finding optimal parameters for prediction\",\\n                \"Stochastic GD: Using single samples for efficiency and better generalization\",\\n                font_size=32\\n            )\\n            self.play(Create(summary))\\n            \\n        with self.voiceover(\"These techniques form the backbone of optimization in modern machine learning, enabling the training of complex models on large datasets.\"):\\n            algorithms = VGroup(\\n                Text(\"Batch Gradient Descent\", font_size=28, color=BLUE),\\n                Text(\"Mini-batch SGD\", font_size=28, color=GREEN),\\n                Text(\"Momentum\", font_size=28, color=RED),\\n                Text(\"AdaGrad\", font_size=28, color=YELLOW),\\n                Text(\"RMSProp\", font_size=28, color=PURPLE),\\n                Text(\"Adam\", font_size=28, color=ORANGE)\\n            ).arrange(DOWN, aligned_edge=LEFT, buff=0.3)\\n            \\n            algorithms.next_to(summary, RIGHT, buff=1)\\n            self.play(FadeIn(algorithms))\\n            \\n        with self.voiceover(\"Thank you for exploring gradient descent with us.\"):\\n            final_text = Text(\"Thank you!\", font_size=60, color=BLUE)\\n            self.play(\\n                FadeOut(summary),\\n                FadeOut(algorithms),\\n                FadeOut(conclusion_title),\\n                Write(final_text)\\n            )\\n            \\n        self.wait(1)\\n        self.play(FadeOut(final_text))\\n```\\n\\nThis code creates a comprehensive video tutorial on gradient descent with voiceover. It\\'s organized into sections covering:\\n\\n1. **Introduction** - Overview of gradient descent with a visual terrain analogy\\n2. **1D Gradient Descent** - Explanation with a quadratic function example and visualization of convergence\\n3. **Multi-dimensional Gradient Descent** - Extension to many dimensions with 3D visualization\\n4. **Application to Regression** - Linear regression demonstration showing line fitting\\n5. **Stochastic Gradient Descent** - Explanation with comparison to batch GD and visualization of escaping local minima\\n6. **Conclusion** - Summary and related optimization algorithms\\n\\nThe animation includes various visual elements like equations, graphs, 3D surfaces, arrows, and paths to illustrate the concepts clearly. The voiceover is implemented using GTTSService for reliability.\\n\\nKey features I\\'ve included:\\n- Clear section organization\\n- Smooth transitions between scenes\\n- Proper fading of objects when no longer needed\\n- Careful indexing and bounds checking\\n- No risky LaTeX commands or special characters\\n- Appropriate scaling and positioning of text\\n\\nThis should create an engaging and informative video of about 1-2 minutes that explains gradient descent concepts through visualization.', type='text')\n",
      "\n",
      "[running code]\n",
      "\n"
     ]
    },
    {
     "data": {
      "text/html": [
       "<pre style=\"white-space:pre;overflow-x:auto;line-height:normal;font-family:Menlo,'DejaVu Sans Mono',consolas,'Courier New',monospace\"><span style=\"color: #7fbfbf; text-decoration-color: #7fbfbf\">                    </span><span style=\"color: #008000; text-decoration-color: #008000\">INFO    </span> Automatically converted                                       <a href=\"file://c:\\Users\\alexl\\AppData\\Local\\Programs\\Python\\Python312\\Lib\\site-packages\\manim\\scene\\scene_file_writer.py\" target=\"_blank\"><span style=\"color: #7f7f7f; text-decoration-color: #7f7f7f\">scene_file_writer.py</span></a><span style=\"color: #7f7f7f; text-decoration-color: #7f7f7f\">:</span><a href=\"file://c:\\Users\\alexl\\AppData\\Local\\Programs\\Python\\Python312\\Lib\\site-packages\\manim\\scene\\scene_file_writer.py#377\" target=\"_blank\"><span style=\"color: #7f7f7f; text-decoration-color: #7f7f7f\">377</span></a>\n",
       "<span style=\"color: #7fbfbf; text-decoration-color: #7fbfbf\">                    </span>         media\\voiceovers\\welcome-to-this-tutorial-on-gradient-descent <span style=\"color: #7f7f7f; text-decoration-color: #7f7f7f\">                        </span>\n",
       "<span style=\"color: #7fbfbf; text-decoration-color: #7fbfbf\">                    </span>         -one-<span style=\"color: #008000; text-decoration-color: #008000\">04047886.</span>mp3 to .wav                                     <span style=\"color: #7f7f7f; text-decoration-color: #7f7f7f\">                        </span>\n",
       "</pre>\n"
      ],
      "text/plain": [
       "\u001b[2;36m                   \u001b[0m\u001b[2;36m \u001b[0m\u001b[32mINFO    \u001b[0m Automatically converted                                       \u001b]8;id=308034;file://c:\\Users\\alexl\\AppData\\Local\\Programs\\Python\\Python312\\Lib\\site-packages\\manim\\scene\\scene_file_writer.py\u001b\\\u001b[2mscene_file_writer.py\u001b[0m\u001b]8;;\u001b\\\u001b[2m:\u001b[0m\u001b]8;id=215761;file://c:\\Users\\alexl\\AppData\\Local\\Programs\\Python\\Python312\\Lib\\site-packages\\manim\\scene\\scene_file_writer.py#377\u001b\\\u001b[2m377\u001b[0m\u001b]8;;\u001b\\\n",
       "\u001b[2;36m                    \u001b[0m         media\\voiceovers\\welcome-to-this-tutorial-on-gradient-descent \u001b[2m                        \u001b[0m\n",
       "\u001b[2;36m                    \u001b[0m         -one-\u001b[32m04047886.\u001b[0mmp3 to .wav                                     \u001b[2m                        \u001b[0m\n"
      ]
     },
     "metadata": {},
     "output_type": "display_data"
    },
    {
     "name": "stderr",
     "output_type": "stream",
     "text": [
      "                                                                                              \r"
     ]
    },
    {
     "data": {
      "text/html": [
       "<pre style=\"white-space:pre;overflow-x:auto;line-height:normal;font-family:Menlo,'DejaVu Sans Mono',consolas,'Courier New',monospace\"><span style=\"color: #7fbfbf; text-decoration-color: #7fbfbf\">[04/20/25 12:38:54] </span><span style=\"color: #008000; text-decoration-color: #008000\">INFO    </span> Animation <span style=\"color: #008000; text-decoration-color: #008000\">0</span> : Partial movie file written in                   <a href=\"file://c:\\Users\\alexl\\AppData\\Local\\Programs\\Python\\Python312\\Lib\\site-packages\\manim\\scene\\scene_file_writer.py\" target=\"_blank\"><span style=\"color: #7f7f7f; text-decoration-color: #7f7f7f\">scene_file_writer.py</span></a><span style=\"color: #7f7f7f; text-decoration-color: #7f7f7f\">:</span><a href=\"file://c:\\Users\\alexl\\AppData\\Local\\Programs\\Python\\Python312\\Lib\\site-packages\\manim\\scene\\scene_file_writer.py#588\" target=\"_blank\"><span style=\"color: #7f7f7f; text-decoration-color: #7f7f7f\">588</span></a>\n",
       "<span style=\"color: #7fbfbf; text-decoration-color: #7fbfbf\">                    </span>         <span style=\"color: #008000; text-decoration-color: #008000\">'C:\\Users\\alexl\\Code\\manim-generator\\documentation\\media\\vide</span> <span style=\"color: #7f7f7f; text-decoration-color: #7f7f7f\">                        </span>\n",
       "<span style=\"color: #7fbfbf; text-decoration-color: #7fbfbf\">                    </span>         <span style=\"color: #008000; text-decoration-color: #008000\">os\\480p15\\partial_movie_files\\FullTutorial\\1185818338_3252111</span> <span style=\"color: #7f7f7f; text-decoration-color: #7f7f7f\">                        </span>\n",
       "<span style=\"color: #7fbfbf; text-decoration-color: #7fbfbf\">                    </span>         <span style=\"color: #008000; text-decoration-color: #008000\">515_223132457.mp4'</span>                                            <span style=\"color: #7f7f7f; text-decoration-color: #7f7f7f\">                        </span>\n",
       "</pre>\n"
      ],
      "text/plain": [
       "\u001b[2;36m[04/20/25 12:38:54]\u001b[0m\u001b[2;36m \u001b[0m\u001b[32mINFO    \u001b[0m Animation \u001b[32m0\u001b[0m : Partial movie file written in                   \u001b]8;id=305958;file://c:\\Users\\alexl\\AppData\\Local\\Programs\\Python\\Python312\\Lib\\site-packages\\manim\\scene\\scene_file_writer.py\u001b\\\u001b[2mscene_file_writer.py\u001b[0m\u001b]8;;\u001b\\\u001b[2m:\u001b[0m\u001b]8;id=701167;file://c:\\Users\\alexl\\AppData\\Local\\Programs\\Python\\Python312\\Lib\\site-packages\\manim\\scene\\scene_file_writer.py#588\u001b\\\u001b[2m588\u001b[0m\u001b]8;;\u001b\\\n",
       "\u001b[2;36m                    \u001b[0m         \u001b[32m'C:\\Users\\alexl\\Code\\manim-generator\\documentation\\media\\vide\u001b[0m \u001b[2m                        \u001b[0m\n",
       "\u001b[2;36m                    \u001b[0m         \u001b[32mos\\480p15\\partial_movie_files\\FullTutorial\\1185818338_3252111\u001b[0m \u001b[2m                        \u001b[0m\n",
       "\u001b[2;36m                    \u001b[0m         \u001b[32m515_223132457.mp4'\u001b[0m                                            \u001b[2m                        \u001b[0m\n"
      ]
     },
     "metadata": {},
     "output_type": "display_data"
    },
    {
     "name": "stderr",
     "output_type": "stream",
     "text": [
      "                                                                                                              \r"
     ]
    },
    {
     "data": {
      "text/html": [
       "<pre style=\"white-space:pre;overflow-x:auto;line-height:normal;font-family:Menlo,'DejaVu Sans Mono',consolas,'Courier New',monospace\"><span style=\"color: #7fbfbf; text-decoration-color: #7fbfbf\">[04/20/25 12:38:55] </span><span style=\"color: #008000; text-decoration-color: #008000\">INFO    </span> Animation <span style=\"color: #008000; text-decoration-color: #008000\">1</span> : Partial movie file written in                   <a href=\"file://c:\\Users\\alexl\\AppData\\Local\\Programs\\Python\\Python312\\Lib\\site-packages\\manim\\scene\\scene_file_writer.py\" target=\"_blank\"><span style=\"color: #7f7f7f; text-decoration-color: #7f7f7f\">scene_file_writer.py</span></a><span style=\"color: #7f7f7f; text-decoration-color: #7f7f7f\">:</span><a href=\"file://c:\\Users\\alexl\\AppData\\Local\\Programs\\Python\\Python312\\Lib\\site-packages\\manim\\scene\\scene_file_writer.py#588\" target=\"_blank\"><span style=\"color: #7f7f7f; text-decoration-color: #7f7f7f\">588</span></a>\n",
       "<span style=\"color: #7fbfbf; text-decoration-color: #7fbfbf\">                    </span>         <span style=\"color: #008000; text-decoration-color: #008000\">'C:\\Users\\alexl\\Code\\manim-generator\\documentation\\media\\vide</span> <span style=\"color: #7f7f7f; text-decoration-color: #7f7f7f\">                        </span>\n",
       "<span style=\"color: #7fbfbf; text-decoration-color: #7fbfbf\">                    </span>         <span style=\"color: #008000; text-decoration-color: #008000\">os\\480p15\\partial_movie_files\\FullTutorial\\624642324_14543232</span> <span style=\"color: #7f7f7f; text-decoration-color: #7f7f7f\">                        </span>\n",
       "<span style=\"color: #7fbfbf; text-decoration-color: #7fbfbf\">                    </span>         <span style=\"color: #008000; text-decoration-color: #008000\">05_3262335682.mp4'</span>                                            <span style=\"color: #7f7f7f; text-decoration-color: #7f7f7f\">                        </span>\n",
       "</pre>\n"
      ],
      "text/plain": [
       "\u001b[2;36m[04/20/25 12:38:55]\u001b[0m\u001b[2;36m \u001b[0m\u001b[32mINFO    \u001b[0m Animation \u001b[32m1\u001b[0m : Partial movie file written in                   \u001b]8;id=296152;file://c:\\Users\\alexl\\AppData\\Local\\Programs\\Python\\Python312\\Lib\\site-packages\\manim\\scene\\scene_file_writer.py\u001b\\\u001b[2mscene_file_writer.py\u001b[0m\u001b]8;;\u001b\\\u001b[2m:\u001b[0m\u001b]8;id=744840;file://c:\\Users\\alexl\\AppData\\Local\\Programs\\Python\\Python312\\Lib\\site-packages\\manim\\scene\\scene_file_writer.py#588\u001b\\\u001b[2m588\u001b[0m\u001b]8;;\u001b\\\n",
       "\u001b[2;36m                    \u001b[0m         \u001b[32m'C:\\Users\\alexl\\Code\\manim-generator\\documentation\\media\\vide\u001b[0m \u001b[2m                        \u001b[0m\n",
       "\u001b[2;36m                    \u001b[0m         \u001b[32mos\\480p15\\partial_movie_files\\FullTutorial\\624642324_14543232\u001b[0m \u001b[2m                        \u001b[0m\n",
       "\u001b[2;36m                    \u001b[0m         \u001b[32m05_3262335682.mp4'\u001b[0m                                            \u001b[2m                        \u001b[0m\n"
      ]
     },
     "metadata": {},
     "output_type": "display_data"
    },
    {
     "data": {
      "text/html": [
       "<pre style=\"white-space:pre;overflow-x:auto;line-height:normal;font-family:Menlo,'DejaVu Sans Mono',consolas,'Courier New',monospace\"><span style=\"color: #7fbfbf; text-decoration-color: #7fbfbf\">[04/20/25 12:38:56] </span><span style=\"color: #008000; text-decoration-color: #008000\">INFO    </span> Animation <span style=\"color: #008000; text-decoration-color: #008000\">2</span> : Partial movie file written in                   <a href=\"file://c:\\Users\\alexl\\AppData\\Local\\Programs\\Python\\Python312\\Lib\\site-packages\\manim\\scene\\scene_file_writer.py\" target=\"_blank\"><span style=\"color: #7f7f7f; text-decoration-color: #7f7f7f\">scene_file_writer.py</span></a><span style=\"color: #7f7f7f; text-decoration-color: #7f7f7f\">:</span><a href=\"file://c:\\Users\\alexl\\AppData\\Local\\Programs\\Python\\Python312\\Lib\\site-packages\\manim\\scene\\scene_file_writer.py#588\" target=\"_blank\"><span style=\"color: #7f7f7f; text-decoration-color: #7f7f7f\">588</span></a>\n",
       "<span style=\"color: #7fbfbf; text-decoration-color: #7fbfbf\">                    </span>         <span style=\"color: #008000; text-decoration-color: #008000\">'C:\\Users\\alexl\\Code\\manim-generator\\documentation\\media\\vide</span> <span style=\"color: #7f7f7f; text-decoration-color: #7f7f7f\">                        </span>\n",
       "<span style=\"color: #7fbfbf; text-decoration-color: #7fbfbf\">                    </span>         <span style=\"color: #008000; text-decoration-color: #008000\">os\\480p15\\partial_movie_files\\FullTutorial\\624642324_17222512</span> <span style=\"color: #7f7f7f; text-decoration-color: #7f7f7f\">                        </span>\n",
       "<span style=\"color: #7fbfbf; text-decoration-color: #7fbfbf\">                    </span>         <span style=\"color: #008000; text-decoration-color: #008000\">94_682032460.mp4'</span>                                             <span style=\"color: #7f7f7f; text-decoration-color: #7f7f7f\">                        </span>\n",
       "</pre>\n"
      ],
      "text/plain": [
       "\u001b[2;36m[04/20/25 12:38:56]\u001b[0m\u001b[2;36m \u001b[0m\u001b[32mINFO    \u001b[0m Animation \u001b[32m2\u001b[0m : Partial movie file written in                   \u001b]8;id=160018;file://c:\\Users\\alexl\\AppData\\Local\\Programs\\Python\\Python312\\Lib\\site-packages\\manim\\scene\\scene_file_writer.py\u001b\\\u001b[2mscene_file_writer.py\u001b[0m\u001b]8;;\u001b\\\u001b[2m:\u001b[0m\u001b]8;id=482347;file://c:\\Users\\alexl\\AppData\\Local\\Programs\\Python\\Python312\\Lib\\site-packages\\manim\\scene\\scene_file_writer.py#588\u001b\\\u001b[2m588\u001b[0m\u001b]8;;\u001b\\\n",
       "\u001b[2;36m                    \u001b[0m         \u001b[32m'C:\\Users\\alexl\\Code\\manim-generator\\documentation\\media\\vide\u001b[0m \u001b[2m                        \u001b[0m\n",
       "\u001b[2;36m                    \u001b[0m         \u001b[32mos\\480p15\\partial_movie_files\\FullTutorial\\624642324_17222512\u001b[0m \u001b[2m                        \u001b[0m\n",
       "\u001b[2;36m                    \u001b[0m         \u001b[32m94_682032460.mp4'\u001b[0m                                             \u001b[2m                        \u001b[0m\n"
      ]
     },
     "metadata": {},
     "output_type": "display_data"
    },
    {
     "data": {
      "text/html": [
       "<pre style=\"white-space:pre;overflow-x:auto;line-height:normal;font-family:Menlo,'DejaVu Sans Mono',consolas,'Courier New',monospace\"><span style=\"color: #7fbfbf; text-decoration-color: #7fbfbf\">                    </span><span style=\"color: #008000; text-decoration-color: #008000\">INFO    </span> Automatically converted                                       <a href=\"file://c:\\Users\\alexl\\AppData\\Local\\Programs\\Python\\Python312\\Lib\\site-packages\\manim\\scene\\scene_file_writer.py\" target=\"_blank\"><span style=\"color: #7f7f7f; text-decoration-color: #7f7f7f\">scene_file_writer.py</span></a><span style=\"color: #7f7f7f; text-decoration-color: #7f7f7f\">:</span><a href=\"file://c:\\Users\\alexl\\AppData\\Local\\Programs\\Python\\Python312\\Lib\\site-packages\\manim\\scene\\scene_file_writer.py#377\" target=\"_blank\"><span style=\"color: #7f7f7f; text-decoration-color: #7f7f7f\">377</span></a>\n",
       "<span style=\"color: #7fbfbf; text-decoration-color: #7fbfbf\">                    </span>         media\\voiceovers\\in-supervised-learning-we-often-want-to-find <span style=\"color: #7f7f7f; text-decoration-color: #7f7f7f\">                        </span>\n",
       "<span style=\"color: #7fbfbf; text-decoration-color: #7fbfbf\">                    </span>         -6b1d9ecd.mp3 to .wav                                         <span style=\"color: #7f7f7f; text-decoration-color: #7f7f7f\">                        </span>\n",
       "</pre>\n"
      ],
      "text/plain": [
       "\u001b[2;36m                   \u001b[0m\u001b[2;36m \u001b[0m\u001b[32mINFO    \u001b[0m Automatically converted                                       \u001b]8;id=562418;file://c:\\Users\\alexl\\AppData\\Local\\Programs\\Python\\Python312\\Lib\\site-packages\\manim\\scene\\scene_file_writer.py\u001b\\\u001b[2mscene_file_writer.py\u001b[0m\u001b]8;;\u001b\\\u001b[2m:\u001b[0m\u001b]8;id=858963;file://c:\\Users\\alexl\\AppData\\Local\\Programs\\Python\\Python312\\Lib\\site-packages\\manim\\scene\\scene_file_writer.py#377\u001b\\\u001b[2m377\u001b[0m\u001b]8;;\u001b\\\n",
       "\u001b[2;36m                    \u001b[0m         media\\voiceovers\\in-supervised-learning-we-often-want-to-find \u001b[2m                        \u001b[0m\n",
       "\u001b[2;36m                    \u001b[0m         -6b1d9ecd.mp3 to .wav                                         \u001b[2m                        \u001b[0m\n"
      ]
     },
     "metadata": {},
     "output_type": "display_data"
    },
    {
     "name": "stderr",
     "output_type": "stream",
     "text": [
      "                                                                                                                     \r"
     ]
    },
    {
     "data": {
      "text/html": [
       "<pre style=\"white-space:pre;overflow-x:auto;line-height:normal;font-family:Menlo,'DejaVu Sans Mono',consolas,'Courier New',monospace\"><span style=\"color: #7fbfbf; text-decoration-color: #7fbfbf\">[04/20/25 12:39:00] </span><span style=\"color: #008000; text-decoration-color: #008000\">INFO    </span> Animation <span style=\"color: #008000; text-decoration-color: #008000\">3</span> : Partial movie file written in                   <a href=\"file://c:\\Users\\alexl\\AppData\\Local\\Programs\\Python\\Python312\\Lib\\site-packages\\manim\\scene\\scene_file_writer.py\" target=\"_blank\"><span style=\"color: #7f7f7f; text-decoration-color: #7f7f7f\">scene_file_writer.py</span></a><span style=\"color: #7f7f7f; text-decoration-color: #7f7f7f\">:</span><a href=\"file://c:\\Users\\alexl\\AppData\\Local\\Programs\\Python\\Python312\\Lib\\site-packages\\manim\\scene\\scene_file_writer.py#588\" target=\"_blank\"><span style=\"color: #7f7f7f; text-decoration-color: #7f7f7f\">588</span></a>\n",
       "<span style=\"color: #7fbfbf; text-decoration-color: #7fbfbf\">                    </span>         <span style=\"color: #008000; text-decoration-color: #008000\">'C:\\Users\\alexl\\Code\\manim-generator\\documentation\\media\\vide</span> <span style=\"color: #7f7f7f; text-decoration-color: #7f7f7f\">                        </span>\n",
       "<span style=\"color: #7fbfbf; text-decoration-color: #7fbfbf\">                    </span>         <span style=\"color: #008000; text-decoration-color: #008000\">os\\480p15\\partial_movie_files\\FullTutorial\\624642324_19709540</span> <span style=\"color: #7f7f7f; text-decoration-color: #7f7f7f\">                        </span>\n",
       "<span style=\"color: #7fbfbf; text-decoration-color: #7fbfbf\">                    </span>         <span style=\"color: #008000; text-decoration-color: #008000\">2_19221272.mp4'</span>                                               <span style=\"color: #7f7f7f; text-decoration-color: #7f7f7f\">                        </span>\n",
       "</pre>\n"
      ],
      "text/plain": [
       "\u001b[2;36m[04/20/25 12:39:00]\u001b[0m\u001b[2;36m \u001b[0m\u001b[32mINFO    \u001b[0m Animation \u001b[32m3\u001b[0m : Partial movie file written in                   \u001b]8;id=375607;file://c:\\Users\\alexl\\AppData\\Local\\Programs\\Python\\Python312\\Lib\\site-packages\\manim\\scene\\scene_file_writer.py\u001b\\\u001b[2mscene_file_writer.py\u001b[0m\u001b]8;;\u001b\\\u001b[2m:\u001b[0m\u001b]8;id=918574;file://c:\\Users\\alexl\\AppData\\Local\\Programs\\Python\\Python312\\Lib\\site-packages\\manim\\scene\\scene_file_writer.py#588\u001b\\\u001b[2m588\u001b[0m\u001b]8;;\u001b\\\n",
       "\u001b[2;36m                    \u001b[0m         \u001b[32m'C:\\Users\\alexl\\Code\\manim-generator\\documentation\\media\\vide\u001b[0m \u001b[2m                        \u001b[0m\n",
       "\u001b[2;36m                    \u001b[0m         \u001b[32mos\\480p15\\partial_movie_files\\FullTutorial\\624642324_19709540\u001b[0m \u001b[2m                        \u001b[0m\n",
       "\u001b[2;36m                    \u001b[0m         \u001b[32m2_19221272.mp4'\u001b[0m                                               \u001b[2m                        \u001b[0m\n"
      ]
     },
     "metadata": {},
     "output_type": "display_data"
    },
    {
     "data": {
      "text/html": [
       "<pre style=\"white-space:pre;overflow-x:auto;line-height:normal;font-family:Menlo,'DejaVu Sans Mono',consolas,'Courier New',monospace\"><span style=\"color: #7fbfbf; text-decoration-color: #7fbfbf\">[04/20/25 12:39:01] </span><span style=\"color: #008000; text-decoration-color: #008000\">INFO    </span> Animation <span style=\"color: #008000; text-decoration-color: #008000\">4</span> : Partial movie file written in                   <a href=\"file://c:\\Users\\alexl\\AppData\\Local\\Programs\\Python\\Python312\\Lib\\site-packages\\manim\\scene\\scene_file_writer.py\" target=\"_blank\"><span style=\"color: #7f7f7f; text-decoration-color: #7f7f7f\">scene_file_writer.py</span></a><span style=\"color: #7f7f7f; text-decoration-color: #7f7f7f\">:</span><a href=\"file://c:\\Users\\alexl\\AppData\\Local\\Programs\\Python\\Python312\\Lib\\site-packages\\manim\\scene\\scene_file_writer.py#588\" target=\"_blank\"><span style=\"color: #7f7f7f; text-decoration-color: #7f7f7f\">588</span></a>\n",
       "<span style=\"color: #7fbfbf; text-decoration-color: #7fbfbf\">                    </span>         <span style=\"color: #008000; text-decoration-color: #008000\">'C:\\Users\\alexl\\Code\\manim-generator\\documentation\\media\\vide</span> <span style=\"color: #7f7f7f; text-decoration-color: #7f7f7f\">                        </span>\n",
       "<span style=\"color: #7fbfbf; text-decoration-color: #7fbfbf\">                    </span>         <span style=\"color: #008000; text-decoration-color: #008000\">os\\480p15\\partial_movie_files\\FullTutorial\\624642324_42153212</span> <span style=\"color: #7f7f7f; text-decoration-color: #7f7f7f\">                        </span>\n",
       "<span style=\"color: #7fbfbf; text-decoration-color: #7fbfbf\">                    </span>         <span style=\"color: #008000; text-decoration-color: #008000\">62_4137123778.mp4'</span>                                            <span style=\"color: #7f7f7f; text-decoration-color: #7f7f7f\">                        </span>\n",
       "</pre>\n"
      ],
      "text/plain": [
       "\u001b[2;36m[04/20/25 12:39:01]\u001b[0m\u001b[2;36m \u001b[0m\u001b[32mINFO    \u001b[0m Animation \u001b[32m4\u001b[0m : Partial movie file written in                   \u001b]8;id=118115;file://c:\\Users\\alexl\\AppData\\Local\\Programs\\Python\\Python312\\Lib\\site-packages\\manim\\scene\\scene_file_writer.py\u001b\\\u001b[2mscene_file_writer.py\u001b[0m\u001b]8;;\u001b\\\u001b[2m:\u001b[0m\u001b]8;id=951808;file://c:\\Users\\alexl\\AppData\\Local\\Programs\\Python\\Python312\\Lib\\site-packages\\manim\\scene\\scene_file_writer.py#588\u001b\\\u001b[2m588\u001b[0m\u001b]8;;\u001b\\\n",
       "\u001b[2;36m                    \u001b[0m         \u001b[32m'C:\\Users\\alexl\\Code\\manim-generator\\documentation\\media\\vide\u001b[0m \u001b[2m                        \u001b[0m\n",
       "\u001b[2;36m                    \u001b[0m         \u001b[32mos\\480p15\\partial_movie_files\\FullTutorial\\624642324_42153212\u001b[0m \u001b[2m                        \u001b[0m\n",
       "\u001b[2;36m                    \u001b[0m         \u001b[32m62_4137123778.mp4'\u001b[0m                                            \u001b[2m                        \u001b[0m\n"
      ]
     },
     "metadata": {},
     "output_type": "display_data"
    },
    {
     "data": {
      "text/html": [
       "<pre style=\"white-space:pre;overflow-x:auto;line-height:normal;font-family:Menlo,'DejaVu Sans Mono',consolas,'Courier New',monospace\"><span style=\"color: #7fbfbf; text-decoration-color: #7fbfbf\">[04/20/25 12:39:02] </span><span style=\"color: #008000; text-decoration-color: #008000\">INFO    </span> Automatically converted                                       <a href=\"file://c:\\Users\\alexl\\AppData\\Local\\Programs\\Python\\Python312\\Lib\\site-packages\\manim\\scene\\scene_file_writer.py\" target=\"_blank\"><span style=\"color: #7f7f7f; text-decoration-color: #7f7f7f\">scene_file_writer.py</span></a><span style=\"color: #7f7f7f; text-decoration-color: #7f7f7f\">:</span><a href=\"file://c:\\Users\\alexl\\AppData\\Local\\Programs\\Python\\Python312\\Lib\\site-packages\\manim\\scene\\scene_file_writer.py#377\" target=\"_blank\"><span style=\"color: #7f7f7f; text-decoration-color: #7f7f7f\">377</span></a>\n",
       "<span style=\"color: #7fbfbf; text-decoration-color: #7fbfbf\">                    </span>         media\\voiceovers\\intuitively-imagine-the-objective-function-a <span style=\"color: #7f7f7f; text-decoration-color: #7f7f7f\">                        </span>\n",
       "<span style=\"color: #7fbfbf; text-decoration-color: #7fbfbf\">                    </span>         s-a-5734eb45.mp3 to .wav                                      <span style=\"color: #7f7f7f; text-decoration-color: #7f7f7f\">                        </span>\n",
       "</pre>\n"
      ],
      "text/plain": [
       "\u001b[2;36m[04/20/25 12:39:02]\u001b[0m\u001b[2;36m \u001b[0m\u001b[32mINFO    \u001b[0m Automatically converted                                       \u001b]8;id=648629;file://c:\\Users\\alexl\\AppData\\Local\\Programs\\Python\\Python312\\Lib\\site-packages\\manim\\scene\\scene_file_writer.py\u001b\\\u001b[2mscene_file_writer.py\u001b[0m\u001b]8;;\u001b\\\u001b[2m:\u001b[0m\u001b]8;id=238999;file://c:\\Users\\alexl\\AppData\\Local\\Programs\\Python\\Python312\\Lib\\site-packages\\manim\\scene\\scene_file_writer.py#377\u001b\\\u001b[2m377\u001b[0m\u001b]8;;\u001b\\\n",
       "\u001b[2;36m                    \u001b[0m         media\\voiceovers\\intuitively-imagine-the-objective-function-a \u001b[2m                        \u001b[0m\n",
       "\u001b[2;36m                    \u001b[0m         s-a-5734eb45.mp3 to .wav                                      \u001b[2m                        \u001b[0m\n"
      ]
     },
     "metadata": {},
     "output_type": "display_data"
    },
    {
     "name": "stderr",
     "output_type": "stream",
     "text": [
      "                                                                                                                              \r"
     ]
    },
    {
     "data": {
      "text/html": [
       "<pre style=\"white-space:pre;overflow-x:auto;line-height:normal;font-family:Menlo,'DejaVu Sans Mono',consolas,'Courier New',monospace\"><span style=\"color: #7fbfbf; text-decoration-color: #7fbfbf\">[04/20/25 12:39:04] </span><span style=\"color: #008000; text-decoration-color: #008000\">INFO    </span> Animation <span style=\"color: #008000; text-decoration-color: #008000\">5</span> : Partial movie file written in                   <a href=\"file://c:\\Users\\alexl\\AppData\\Local\\Programs\\Python\\Python312\\Lib\\site-packages\\manim\\scene\\scene_file_writer.py\" target=\"_blank\"><span style=\"color: #7f7f7f; text-decoration-color: #7f7f7f\">scene_file_writer.py</span></a><span style=\"color: #7f7f7f; text-decoration-color: #7f7f7f\">:</span><a href=\"file://c:\\Users\\alexl\\AppData\\Local\\Programs\\Python\\Python312\\Lib\\site-packages\\manim\\scene\\scene_file_writer.py#588\" target=\"_blank\"><span style=\"color: #7f7f7f; text-decoration-color: #7f7f7f\">588</span></a>\n",
       "<span style=\"color: #7fbfbf; text-decoration-color: #7fbfbf\">                    </span>         <span style=\"color: #008000; text-decoration-color: #008000\">'C:\\Users\\alexl\\Code\\manim-generator\\documentation\\media\\vide</span> <span style=\"color: #7f7f7f; text-decoration-color: #7f7f7f\">                        </span>\n",
       "<span style=\"color: #7fbfbf; text-decoration-color: #7fbfbf\">                    </span>         <span style=\"color: #008000; text-decoration-color: #008000\">os\\480p15\\partial_movie_files\\FullTutorial\\624642324_10705378</span> <span style=\"color: #7f7f7f; text-decoration-color: #7f7f7f\">                        </span>\n",
       "<span style=\"color: #7fbfbf; text-decoration-color: #7fbfbf\">                    </span>         <span style=\"color: #008000; text-decoration-color: #008000\">8_954302833.mp4'</span>                                              <span style=\"color: #7f7f7f; text-decoration-color: #7f7f7f\">                        </span>\n",
       "</pre>\n"
      ],
      "text/plain": [
       "\u001b[2;36m[04/20/25 12:39:04]\u001b[0m\u001b[2;36m \u001b[0m\u001b[32mINFO    \u001b[0m Animation \u001b[32m5\u001b[0m : Partial movie file written in                   \u001b]8;id=548431;file://c:\\Users\\alexl\\AppData\\Local\\Programs\\Python\\Python312\\Lib\\site-packages\\manim\\scene\\scene_file_writer.py\u001b\\\u001b[2mscene_file_writer.py\u001b[0m\u001b]8;;\u001b\\\u001b[2m:\u001b[0m\u001b]8;id=351787;file://c:\\Users\\alexl\\AppData\\Local\\Programs\\Python\\Python312\\Lib\\site-packages\\manim\\scene\\scene_file_writer.py#588\u001b\\\u001b[2m588\u001b[0m\u001b]8;;\u001b\\\n",
       "\u001b[2;36m                    \u001b[0m         \u001b[32m'C:\\Users\\alexl\\Code\\manim-generator\\documentation\\media\\vide\u001b[0m \u001b[2m                        \u001b[0m\n",
       "\u001b[2;36m                    \u001b[0m         \u001b[32mos\\480p15\\partial_movie_files\\FullTutorial\\624642324_10705378\u001b[0m \u001b[2m                        \u001b[0m\n",
       "\u001b[2;36m                    \u001b[0m         \u001b[32m8_954302833.mp4'\u001b[0m                                              \u001b[2m                        \u001b[0m\n"
      ]
     },
     "metadata": {},
     "output_type": "display_data"
    },
    {
     "name": "stderr",
     "output_type": "stream",
     "text": [
      "                                                                                 \r"
     ]
    },
    {
     "data": {
      "text/html": [
       "<pre style=\"white-space:pre;overflow-x:auto;line-height:normal;font-family:Menlo,'DejaVu Sans Mono',consolas,'Courier New',monospace\"><span style=\"color: #7fbfbf; text-decoration-color: #7fbfbf\">                    </span><span style=\"color: #008000; text-decoration-color: #008000\">INFO    </span> Animation <span style=\"color: #008000; text-decoration-color: #008000\">6</span> : Partial movie file written in                   <a href=\"file://c:\\Users\\alexl\\AppData\\Local\\Programs\\Python\\Python312\\Lib\\site-packages\\manim\\scene\\scene_file_writer.py\" target=\"_blank\"><span style=\"color: #7f7f7f; text-decoration-color: #7f7f7f\">scene_file_writer.py</span></a><span style=\"color: #7f7f7f; text-decoration-color: #7f7f7f\">:</span><a href=\"file://c:\\Users\\alexl\\AppData\\Local\\Programs\\Python\\Python312\\Lib\\site-packages\\manim\\scene\\scene_file_writer.py#588\" target=\"_blank\"><span style=\"color: #7f7f7f; text-decoration-color: #7f7f7f\">588</span></a>\n",
       "<span style=\"color: #7fbfbf; text-decoration-color: #7fbfbf\">                    </span>         <span style=\"color: #008000; text-decoration-color: #008000\">'C:\\Users\\alexl\\Code\\manim-generator\\documentation\\media\\vide</span> <span style=\"color: #7f7f7f; text-decoration-color: #7f7f7f\">                        </span>\n",
       "<span style=\"color: #7fbfbf; text-decoration-color: #7fbfbf\">                    </span>         <span style=\"color: #008000; text-decoration-color: #008000\">os\\480p15\\partial_movie_files\\FullTutorial\\624642324_15922005</span> <span style=\"color: #7f7f7f; text-decoration-color: #7f7f7f\">                        </span>\n",
       "<span style=\"color: #7fbfbf; text-decoration-color: #7fbfbf\">                    </span>         <span style=\"color: #008000; text-decoration-color: #008000\">18_691969773.mp4'</span>                                             <span style=\"color: #7f7f7f; text-decoration-color: #7f7f7f\">                        </span>\n",
       "</pre>\n"
      ],
      "text/plain": [
       "\u001b[2;36m                   \u001b[0m\u001b[2;36m \u001b[0m\u001b[32mINFO    \u001b[0m Animation \u001b[32m6\u001b[0m : Partial movie file written in                   \u001b]8;id=159182;file://c:\\Users\\alexl\\AppData\\Local\\Programs\\Python\\Python312\\Lib\\site-packages\\manim\\scene\\scene_file_writer.py\u001b\\\u001b[2mscene_file_writer.py\u001b[0m\u001b]8;;\u001b\\\u001b[2m:\u001b[0m\u001b]8;id=342523;file://c:\\Users\\alexl\\AppData\\Local\\Programs\\Python\\Python312\\Lib\\site-packages\\manim\\scene\\scene_file_writer.py#588\u001b\\\u001b[2m588\u001b[0m\u001b]8;;\u001b\\\n",
       "\u001b[2;36m                    \u001b[0m         \u001b[32m'C:\\Users\\alexl\\Code\\manim-generator\\documentation\\media\\vide\u001b[0m \u001b[2m                        \u001b[0m\n",
       "\u001b[2;36m                    \u001b[0m         \u001b[32mos\\480p15\\partial_movie_files\\FullTutorial\\624642324_15922005\u001b[0m \u001b[2m                        \u001b[0m\n",
       "\u001b[2;36m                    \u001b[0m         \u001b[32m18_691969773.mp4'\u001b[0m                                             \u001b[2m                        \u001b[0m\n"
      ]
     },
     "metadata": {},
     "output_type": "display_data"
    },
    {
     "name": "stderr",
     "output_type": "stream",
     "text": [
      "                                                                               \r"
     ]
    },
    {
     "data": {
      "text/html": [
       "<pre style=\"white-space:pre;overflow-x:auto;line-height:normal;font-family:Menlo,'DejaVu Sans Mono',consolas,'Courier New',monospace\"><span style=\"color: #7fbfbf; text-decoration-color: #7fbfbf\">[04/20/25 12:39:05] </span><span style=\"color: #008000; text-decoration-color: #008000\">INFO    </span> Animation <span style=\"color: #008000; text-decoration-color: #008000\">7</span> : Partial movie file written in                   <a href=\"file://c:\\Users\\alexl\\AppData\\Local\\Programs\\Python\\Python312\\Lib\\site-packages\\manim\\scene\\scene_file_writer.py\" target=\"_blank\"><span style=\"color: #7f7f7f; text-decoration-color: #7f7f7f\">scene_file_writer.py</span></a><span style=\"color: #7f7f7f; text-decoration-color: #7f7f7f\">:</span><a href=\"file://c:\\Users\\alexl\\AppData\\Local\\Programs\\Python\\Python312\\Lib\\site-packages\\manim\\scene\\scene_file_writer.py#588\" target=\"_blank\"><span style=\"color: #7f7f7f; text-decoration-color: #7f7f7f\">588</span></a>\n",
       "<span style=\"color: #7fbfbf; text-decoration-color: #7fbfbf\">                    </span>         <span style=\"color: #008000; text-decoration-color: #008000\">'C:\\Users\\alexl\\Code\\manim-generator\\documentation\\media\\vide</span> <span style=\"color: #7f7f7f; text-decoration-color: #7f7f7f\">                        </span>\n",
       "<span style=\"color: #7fbfbf; text-decoration-color: #7fbfbf\">                    </span>         <span style=\"color: #008000; text-decoration-color: #008000\">os\\480p15\\partial_movie_files\\FullTutorial\\624642324_26960710</span> <span style=\"color: #7f7f7f; text-decoration-color: #7f7f7f\">                        </span>\n",
       "<span style=\"color: #7fbfbf; text-decoration-color: #7fbfbf\">                    </span>         <span style=\"color: #008000; text-decoration-color: #008000\">47_3744728276.mp4'</span>                                            <span style=\"color: #7f7f7f; text-decoration-color: #7f7f7f\">                        </span>\n",
       "</pre>\n"
      ],
      "text/plain": [
       "\u001b[2;36m[04/20/25 12:39:05]\u001b[0m\u001b[2;36m \u001b[0m\u001b[32mINFO    \u001b[0m Animation \u001b[32m7\u001b[0m : Partial movie file written in                   \u001b]8;id=472819;file://c:\\Users\\alexl\\AppData\\Local\\Programs\\Python\\Python312\\Lib\\site-packages\\manim\\scene\\scene_file_writer.py\u001b\\\u001b[2mscene_file_writer.py\u001b[0m\u001b]8;;\u001b\\\u001b[2m:\u001b[0m\u001b]8;id=674159;file://c:\\Users\\alexl\\AppData\\Local\\Programs\\Python\\Python312\\Lib\\site-packages\\manim\\scene\\scene_file_writer.py#588\u001b\\\u001b[2m588\u001b[0m\u001b]8;;\u001b\\\n",
       "\u001b[2;36m                    \u001b[0m         \u001b[32m'C:\\Users\\alexl\\Code\\manim-generator\\documentation\\media\\vide\u001b[0m \u001b[2m                        \u001b[0m\n",
       "\u001b[2;36m                    \u001b[0m         \u001b[32mos\\480p15\\partial_movie_files\\FullTutorial\\624642324_26960710\u001b[0m \u001b[2m                        \u001b[0m\n",
       "\u001b[2;36m                    \u001b[0m         \u001b[32m47_3744728276.mp4'\u001b[0m                                            \u001b[2m                        \u001b[0m\n"
      ]
     },
     "metadata": {},
     "output_type": "display_data"
    },
    {
     "name": "stderr",
     "output_type": "stream",
     "text": [
      "                                                                \r"
     ]
    },
    {
     "data": {
      "text/html": [
       "<pre style=\"white-space:pre;overflow-x:auto;line-height:normal;font-family:Menlo,'DejaVu Sans Mono',consolas,'Courier New',monospace\"><span style=\"color: #7fbfbf; text-decoration-color: #7fbfbf\">                    </span><span style=\"color: #008000; text-decoration-color: #008000\">INFO    </span> Animation <span style=\"color: #008000; text-decoration-color: #008000\">8</span> : Partial movie file written in                   <a href=\"file://c:\\Users\\alexl\\AppData\\Local\\Programs\\Python\\Python312\\Lib\\site-packages\\manim\\scene\\scene_file_writer.py\" target=\"_blank\"><span style=\"color: #7f7f7f; text-decoration-color: #7f7f7f\">scene_file_writer.py</span></a><span style=\"color: #7f7f7f; text-decoration-color: #7f7f7f\">:</span><a href=\"file://c:\\Users\\alexl\\AppData\\Local\\Programs\\Python\\Python312\\Lib\\site-packages\\manim\\scene\\scene_file_writer.py#588\" target=\"_blank\"><span style=\"color: #7f7f7f; text-decoration-color: #7f7f7f\">588</span></a>\n",
       "<span style=\"color: #7fbfbf; text-decoration-color: #7fbfbf\">                    </span>         <span style=\"color: #008000; text-decoration-color: #008000\">'C:\\Users\\alexl\\Code\\manim-generator\\documentation\\media\\vide</span> <span style=\"color: #7f7f7f; text-decoration-color: #7f7f7f\">                        </span>\n",
       "<span style=\"color: #7fbfbf; text-decoration-color: #7fbfbf\">                    </span>         <span style=\"color: #008000; text-decoration-color: #008000\">os\\480p15\\partial_movie_files\\FullTutorial\\624642324_21795003</span> <span style=\"color: #7f7f7f; text-decoration-color: #7f7f7f\">                        </span>\n",
       "<span style=\"color: #7fbfbf; text-decoration-color: #7fbfbf\">                    </span>         <span style=\"color: #008000; text-decoration-color: #008000\">98_3776762945.mp4'</span>                                            <span style=\"color: #7f7f7f; text-decoration-color: #7f7f7f\">                        </span>\n",
       "</pre>\n"
      ],
      "text/plain": [
       "\u001b[2;36m                   \u001b[0m\u001b[2;36m \u001b[0m\u001b[32mINFO    \u001b[0m Animation \u001b[32m8\u001b[0m : Partial movie file written in                   \u001b]8;id=835029;file://c:\\Users\\alexl\\AppData\\Local\\Programs\\Python\\Python312\\Lib\\site-packages\\manim\\scene\\scene_file_writer.py\u001b\\\u001b[2mscene_file_writer.py\u001b[0m\u001b]8;;\u001b\\\u001b[2m:\u001b[0m\u001b]8;id=300835;file://c:\\Users\\alexl\\AppData\\Local\\Programs\\Python\\Python312\\Lib\\site-packages\\manim\\scene\\scene_file_writer.py#588\u001b\\\u001b[2m588\u001b[0m\u001b]8;;\u001b\\\n",
       "\u001b[2;36m                    \u001b[0m         \u001b[32m'C:\\Users\\alexl\\Code\\manim-generator\\documentation\\media\\vide\u001b[0m \u001b[2m                        \u001b[0m\n",
       "\u001b[2;36m                    \u001b[0m         \u001b[32mos\\480p15\\partial_movie_files\\FullTutorial\\624642324_21795003\u001b[0m \u001b[2m                        \u001b[0m\n",
       "\u001b[2;36m                    \u001b[0m         \u001b[32m98_3776762945.mp4'\u001b[0m                                            \u001b[2m                        \u001b[0m\n"
      ]
     },
     "metadata": {},
     "output_type": "display_data"
    },
    {
     "data": {
      "text/html": [
       "<pre style=\"white-space:pre;overflow-x:auto;line-height:normal;font-family:Menlo,'DejaVu Sans Mono',consolas,'Courier New',monospace\"><span style=\"color: #7fbfbf; text-decoration-color: #7fbfbf\">[04/20/25 12:39:06] </span><span style=\"color: #008000; text-decoration-color: #008000\">INFO    </span> Animation <span style=\"color: #008000; text-decoration-color: #008000\">9</span> : Partial movie file written in                   <a href=\"file://c:\\Users\\alexl\\AppData\\Local\\Programs\\Python\\Python312\\Lib\\site-packages\\manim\\scene\\scene_file_writer.py\" target=\"_blank\"><span style=\"color: #7f7f7f; text-decoration-color: #7f7f7f\">scene_file_writer.py</span></a><span style=\"color: #7f7f7f; text-decoration-color: #7f7f7f\">:</span><a href=\"file://c:\\Users\\alexl\\AppData\\Local\\Programs\\Python\\Python312\\Lib\\site-packages\\manim\\scene\\scene_file_writer.py#588\" target=\"_blank\"><span style=\"color: #7f7f7f; text-decoration-color: #7f7f7f\">588</span></a>\n",
       "<span style=\"color: #7fbfbf; text-decoration-color: #7fbfbf\">                    </span>         <span style=\"color: #008000; text-decoration-color: #008000\">'C:\\Users\\alexl\\Code\\manim-generator\\documentation\\media\\vide</span> <span style=\"color: #7f7f7f; text-decoration-color: #7f7f7f\">                        </span>\n",
       "<span style=\"color: #7fbfbf; text-decoration-color: #7fbfbf\">                    </span>         <span style=\"color: #008000; text-decoration-color: #008000\">os\\480p15\\partial_movie_files\\FullTutorial\\624642324_11506462</span> <span style=\"color: #7f7f7f; text-decoration-color: #7f7f7f\">                        </span>\n",
       "<span style=\"color: #7fbfbf; text-decoration-color: #7fbfbf\">                    </span>         <span style=\"color: #008000; text-decoration-color: #008000\">38_3553658483.mp4'</span>                                            <span style=\"color: #7f7f7f; text-decoration-color: #7f7f7f\">                        </span>\n",
       "</pre>\n"
      ],
      "text/plain": [
       "\u001b[2;36m[04/20/25 12:39:06]\u001b[0m\u001b[2;36m \u001b[0m\u001b[32mINFO    \u001b[0m Animation \u001b[32m9\u001b[0m : Partial movie file written in                   \u001b]8;id=674647;file://c:\\Users\\alexl\\AppData\\Local\\Programs\\Python\\Python312\\Lib\\site-packages\\manim\\scene\\scene_file_writer.py\u001b\\\u001b[2mscene_file_writer.py\u001b[0m\u001b]8;;\u001b\\\u001b[2m:\u001b[0m\u001b]8;id=550206;file://c:\\Users\\alexl\\AppData\\Local\\Programs\\Python\\Python312\\Lib\\site-packages\\manim\\scene\\scene_file_writer.py#588\u001b\\\u001b[2m588\u001b[0m\u001b]8;;\u001b\\\n",
       "\u001b[2;36m                    \u001b[0m         \u001b[32m'C:\\Users\\alexl\\Code\\manim-generator\\documentation\\media\\vide\u001b[0m \u001b[2m                        \u001b[0m\n",
       "\u001b[2;36m                    \u001b[0m         \u001b[32mos\\480p15\\partial_movie_files\\FullTutorial\\624642324_11506462\u001b[0m \u001b[2m                        \u001b[0m\n",
       "\u001b[2;36m                    \u001b[0m         \u001b[32m38_3553658483.mp4'\u001b[0m                                            \u001b[2m                        \u001b[0m\n"
      ]
     },
     "metadata": {},
     "output_type": "display_data"
    },
    {
     "data": {
      "text/html": [
       "<pre style=\"white-space:pre;overflow-x:auto;line-height:normal;font-family:Menlo,'DejaVu Sans Mono',consolas,'Courier New',monospace\"><span style=\"color: #7fbfbf; text-decoration-color: #7fbfbf\">[04/20/25 12:39:07] </span><span style=\"color: #008000; text-decoration-color: #008000\">INFO    </span> Automatically converted                                       <a href=\"file://c:\\Users\\alexl\\AppData\\Local\\Programs\\Python\\Python312\\Lib\\site-packages\\manim\\scene\\scene_file_writer.py\" target=\"_blank\"><span style=\"color: #7f7f7f; text-decoration-color: #7f7f7f\">scene_file_writer.py</span></a><span style=\"color: #7f7f7f; text-decoration-color: #7f7f7f\">:</span><a href=\"file://c:\\Users\\alexl\\AppData\\Local\\Programs\\Python\\Python312\\Lib\\site-packages\\manim\\scene\\scene_file_writer.py#377\" target=\"_blank\"><span style=\"color: #7f7f7f; text-decoration-color: #7f7f7f\">377</span></a>\n",
       "<span style=\"color: #7fbfbf; text-decoration-color: #7fbfbf\">                    </span>         media\\voiceovers\\in-this-tutorial-we-ll-cover-gradient-descen <span style=\"color: #7f7f7f; text-decoration-color: #7f7f7f\">                        </span>\n",
       "<span style=\"color: #7fbfbf; text-decoration-color: #7fbfbf\">                    </span>         t-in-baf4c804.mp3 to .wav                                     <span style=\"color: #7f7f7f; text-decoration-color: #7f7f7f\">                        </span>\n",
       "</pre>\n"
      ],
      "text/plain": [
       "\u001b[2;36m[04/20/25 12:39:07]\u001b[0m\u001b[2;36m \u001b[0m\u001b[32mINFO    \u001b[0m Automatically converted                                       \u001b]8;id=625738;file://c:\\Users\\alexl\\AppData\\Local\\Programs\\Python\\Python312\\Lib\\site-packages\\manim\\scene\\scene_file_writer.py\u001b\\\u001b[2mscene_file_writer.py\u001b[0m\u001b]8;;\u001b\\\u001b[2m:\u001b[0m\u001b]8;id=830267;file://c:\\Users\\alexl\\AppData\\Local\\Programs\\Python\\Python312\\Lib\\site-packages\\manim\\scene\\scene_file_writer.py#377\u001b\\\u001b[2m377\u001b[0m\u001b]8;;\u001b\\\n",
       "\u001b[2;36m                    \u001b[0m         media\\voiceovers\\in-this-tutorial-we-ll-cover-gradient-descen \u001b[2m                        \u001b[0m\n",
       "\u001b[2;36m                    \u001b[0m         t-in-baf4c804.mp3 to .wav                                     \u001b[2m                        \u001b[0m\n"
      ]
     },
     "metadata": {},
     "output_type": "display_data"
    },
    {
     "data": {
      "text/html": [
       "<pre style=\"white-space:pre;overflow-x:auto;line-height:normal;font-family:Menlo,'DejaVu Sans Mono',consolas,'Courier New',monospace\"><span style=\"color: #7fbfbf; text-decoration-color: #7fbfbf\">                    </span><span style=\"color: #008000; text-decoration-color: #008000\">INFO    </span> <span style=\"color: #808000; text-decoration-color: #808000; font-weight: bold\">Writing</span> 1D Gradient Descent\\\\Multi-dimensional                 <a href=\"file://c:\\Users\\alexl\\AppData\\Local\\Programs\\Python\\Python312\\Lib\\site-packages\\manim\\utils\\tex_file_writing.py\" target=\"_blank\"><span style=\"color: #7f7f7f; text-decoration-color: #7f7f7f\">tex_file_writing.py</span></a><span style=\"color: #7f7f7f; text-decoration-color: #7f7f7f\">:</span><a href=\"file://c:\\Users\\alexl\\AppData\\Local\\Programs\\Python\\Python312\\Lib\\site-packages\\manim\\utils\\tex_file_writing.py#111\" target=\"_blank\"><span style=\"color: #7f7f7f; text-decoration-color: #7f7f7f\">111</span></a>\n",
       "<span style=\"color: #7fbfbf; text-decoration-color: #7fbfbf\">                    </span>         Extension\\\\Application to Regression\\\\Stochastic Gradient      <span style=\"color: #7f7f7f; text-decoration-color: #7f7f7f\">                       </span>\n",
       "<span style=\"color: #7fbfbf; text-decoration-color: #7fbfbf\">                    </span>         Descent <span style=\"font-weight: bold\">(</span>SGD<span style=\"font-weight: bold\">)</span>\\\\ to media\\Tex\\b5674369e8f2630d.tex              <span style=\"color: #7f7f7f; text-decoration-color: #7f7f7f\">                       </span>\n",
       "</pre>\n"
      ],
      "text/plain": [
       "\u001b[2;36m                   \u001b[0m\u001b[2;36m \u001b[0m\u001b[32mINFO    \u001b[0m \u001b[1;33mWriting\u001b[0m 1D Gradient Descent\\\\Multi-dimensional                 \u001b]8;id=308168;file://c:\\Users\\alexl\\AppData\\Local\\Programs\\Python\\Python312\\Lib\\site-packages\\manim\\utils\\tex_file_writing.py\u001b\\\u001b[2mtex_file_writing.py\u001b[0m\u001b]8;;\u001b\\\u001b[2m:\u001b[0m\u001b]8;id=891640;file://c:\\Users\\alexl\\AppData\\Local\\Programs\\Python\\Python312\\Lib\\site-packages\\manim\\utils\\tex_file_writing.py#111\u001b\\\u001b[2m111\u001b[0m\u001b]8;;\u001b\\\n",
       "\u001b[2;36m                    \u001b[0m         Extension\\\\Application to Regression\\\\Stochastic Gradient      \u001b[2m                       \u001b[0m\n",
       "\u001b[2;36m                    \u001b[0m         Descent \u001b[1m(\u001b[0mSGD\u001b[1m)\u001b[0m\\\\ to media\\Tex\\b5674369e8f2630d.tex              \u001b[2m                       \u001b[0m\n"
      ]
     },
     "metadata": {},
     "output_type": "display_data"
    },
    {
     "data": {
      "text/html": [
       "<pre style=\"white-space:pre;overflow-x:auto;line-height:normal;font-family:Menlo,'DejaVu Sans Mono',consolas,'Courier New',monospace\"><span style=\"color: #7fbfbf; text-decoration-color: #7fbfbf\">[04/20/25 12:39:08] </span><span style=\"color: #008000; text-decoration-color: #008000\">INFO    </span> <span style=\"color: #808000; text-decoration-color: #808000; font-weight: bold\">Writing</span> Multi-dimensional Extension\\\\ to                       <a href=\"file://c:\\Users\\alexl\\AppData\\Local\\Programs\\Python\\Python312\\Lib\\site-packages\\manim\\utils\\tex_file_writing.py\" target=\"_blank\"><span style=\"color: #7f7f7f; text-decoration-color: #7f7f7f\">tex_file_writing.py</span></a><span style=\"color: #7f7f7f; text-decoration-color: #7f7f7f\">:</span><a href=\"file://c:\\Users\\alexl\\AppData\\Local\\Programs\\Python\\Python312\\Lib\\site-packages\\manim\\utils\\tex_file_writing.py#111\" target=\"_blank\"><span style=\"color: #7f7f7f; text-decoration-color: #7f7f7f\">111</span></a>\n",
       "<span style=\"color: #7fbfbf; text-decoration-color: #7fbfbf\">                    </span>         media\\Tex\\608b5da7bc3144d2.tex                                 <span style=\"color: #7f7f7f; text-decoration-color: #7f7f7f\">                       </span>\n",
       "</pre>\n"
      ],
      "text/plain": [
       "\u001b[2;36m[04/20/25 12:39:08]\u001b[0m\u001b[2;36m \u001b[0m\u001b[32mINFO    \u001b[0m \u001b[1;33mWriting\u001b[0m Multi-dimensional Extension\\\\ to                       \u001b]8;id=681575;file://c:\\Users\\alexl\\AppData\\Local\\Programs\\Python\\Python312\\Lib\\site-packages\\manim\\utils\\tex_file_writing.py\u001b\\\u001b[2mtex_file_writing.py\u001b[0m\u001b]8;;\u001b\\\u001b[2m:\u001b[0m\u001b]8;id=268171;file://c:\\Users\\alexl\\AppData\\Local\\Programs\\Python\\Python312\\Lib\\site-packages\\manim\\utils\\tex_file_writing.py#111\u001b\\\u001b[2m111\u001b[0m\u001b]8;;\u001b\\\n",
       "\u001b[2;36m                    \u001b[0m         media\\Tex\\608b5da7bc3144d2.tex                                 \u001b[2m                       \u001b[0m\n"
      ]
     },
     "metadata": {},
     "output_type": "display_data"
    },
    {
     "data": {
      "text/html": [
       "<pre style=\"white-space:pre;overflow-x:auto;line-height:normal;font-family:Menlo,'DejaVu Sans Mono',consolas,'Courier New',monospace\"><span style=\"color: #7fbfbf; text-decoration-color: #7fbfbf\">[04/20/25 12:39:10] </span><span style=\"color: #008000; text-decoration-color: #008000\">INFO    </span> <span style=\"color: #808000; text-decoration-color: #808000; font-weight: bold\">Writing</span> Stochastic Gradient Descent <span style=\"font-weight: bold\">(</span>SGD<span style=\"font-weight: bold\">)</span>\\\\ to                 <a href=\"file://c:\\Users\\alexl\\AppData\\Local\\Programs\\Python\\Python312\\Lib\\site-packages\\manim\\utils\\tex_file_writing.py\" target=\"_blank\"><span style=\"color: #7f7f7f; text-decoration-color: #7f7f7f\">tex_file_writing.py</span></a><span style=\"color: #7f7f7f; text-decoration-color: #7f7f7f\">:</span><a href=\"file://c:\\Users\\alexl\\AppData\\Local\\Programs\\Python\\Python312\\Lib\\site-packages\\manim\\utils\\tex_file_writing.py#111\" target=\"_blank\"><span style=\"color: #7f7f7f; text-decoration-color: #7f7f7f\">111</span></a>\n",
       "<span style=\"color: #7fbfbf; text-decoration-color: #7fbfbf\">                    </span>         media\\Tex\\6f42cd5134ef8232.tex                                 <span style=\"color: #7f7f7f; text-decoration-color: #7f7f7f\">                       </span>\n",
       "</pre>\n"
      ],
      "text/plain": [
       "\u001b[2;36m[04/20/25 12:39:10]\u001b[0m\u001b[2;36m \u001b[0m\u001b[32mINFO    \u001b[0m \u001b[1;33mWriting\u001b[0m Stochastic Gradient Descent \u001b[1m(\u001b[0mSGD\u001b[1m)\u001b[0m\\\\ to                 \u001b]8;id=211834;file://c:\\Users\\alexl\\AppData\\Local\\Programs\\Python\\Python312\\Lib\\site-packages\\manim\\utils\\tex_file_writing.py\u001b\\\u001b[2mtex_file_writing.py\u001b[0m\u001b]8;;\u001b\\\u001b[2m:\u001b[0m\u001b]8;id=837462;file://c:\\Users\\alexl\\AppData\\Local\\Programs\\Python\\Python312\\Lib\\site-packages\\manim\\utils\\tex_file_writing.py#111\u001b\\\u001b[2m111\u001b[0m\u001b]8;;\u001b\\\n",
       "\u001b[2;36m                    \u001b[0m         media\\Tex\\6f42cd5134ef8232.tex                                 \u001b[2m                       \u001b[0m\n"
      ]
     },
     "metadata": {},
     "output_type": "display_data"
    },
    {
     "name": "stderr",
     "output_type": "stream",
     "text": [
      "                                                                                   \r"
     ]
    },
    {
     "data": {
      "text/html": [
       "<pre style=\"white-space:pre;overflow-x:auto;line-height:normal;font-family:Menlo,'DejaVu Sans Mono',consolas,'Courier New',monospace\"><span style=\"color: #7fbfbf; text-decoration-color: #7fbfbf\">[04/20/25 12:39:13] </span><span style=\"color: #008000; text-decoration-color: #008000\">INFO    </span> Animation <span style=\"color: #008000; text-decoration-color: #008000\">10</span> : Partial movie file written in                  <a href=\"file://c:\\Users\\alexl\\AppData\\Local\\Programs\\Python\\Python312\\Lib\\site-packages\\manim\\scene\\scene_file_writer.py\" target=\"_blank\"><span style=\"color: #7f7f7f; text-decoration-color: #7f7f7f\">scene_file_writer.py</span></a><span style=\"color: #7f7f7f; text-decoration-color: #7f7f7f\">:</span><a href=\"file://c:\\Users\\alexl\\AppData\\Local\\Programs\\Python\\Python312\\Lib\\site-packages\\manim\\scene\\scene_file_writer.py#588\" target=\"_blank\"><span style=\"color: #7f7f7f; text-decoration-color: #7f7f7f\">588</span></a>\n",
       "<span style=\"color: #7fbfbf; text-decoration-color: #7fbfbf\">                    </span>         <span style=\"color: #008000; text-decoration-color: #008000\">'C:\\Users\\alexl\\Code\\manim-generator\\documentation\\media\\vide</span> <span style=\"color: #7f7f7f; text-decoration-color: #7f7f7f\">                        </span>\n",
       "<span style=\"color: #7fbfbf; text-decoration-color: #7fbfbf\">                    </span>         <span style=\"color: #008000; text-decoration-color: #008000\">os\\480p15\\partial_movie_files\\FullTutorial\\624642324_14653035</span> <span style=\"color: #7f7f7f; text-decoration-color: #7f7f7f\">                        </span>\n",
       "<span style=\"color: #7fbfbf; text-decoration-color: #7fbfbf\">                    </span>         <span style=\"color: #008000; text-decoration-color: #008000\">94_3579067323.mp4'</span>                                            <span style=\"color: #7f7f7f; text-decoration-color: #7f7f7f\">                        </span>\n",
       "</pre>\n"
      ],
      "text/plain": [
       "\u001b[2;36m[04/20/25 12:39:13]\u001b[0m\u001b[2;36m \u001b[0m\u001b[32mINFO    \u001b[0m Animation \u001b[32m10\u001b[0m : Partial movie file written in                  \u001b]8;id=594691;file://c:\\Users\\alexl\\AppData\\Local\\Programs\\Python\\Python312\\Lib\\site-packages\\manim\\scene\\scene_file_writer.py\u001b\\\u001b[2mscene_file_writer.py\u001b[0m\u001b]8;;\u001b\\\u001b[2m:\u001b[0m\u001b]8;id=420828;file://c:\\Users\\alexl\\AppData\\Local\\Programs\\Python\\Python312\\Lib\\site-packages\\manim\\scene\\scene_file_writer.py#588\u001b\\\u001b[2m588\u001b[0m\u001b]8;;\u001b\\\n",
       "\u001b[2;36m                    \u001b[0m         \u001b[32m'C:\\Users\\alexl\\Code\\manim-generator\\documentation\\media\\vide\u001b[0m \u001b[2m                        \u001b[0m\n",
       "\u001b[2;36m                    \u001b[0m         \u001b[32mos\\480p15\\partial_movie_files\\FullTutorial\\624642324_14653035\u001b[0m \u001b[2m                        \u001b[0m\n",
       "\u001b[2;36m                    \u001b[0m         \u001b[32m94_3579067323.mp4'\u001b[0m                                            \u001b[2m                        \u001b[0m\n"
      ]
     },
     "metadata": {},
     "output_type": "display_data"
    },
    {
     "data": {
      "text/html": [
       "<pre style=\"white-space:pre;overflow-x:auto;line-height:normal;font-family:Menlo,'DejaVu Sans Mono',consolas,'Courier New',monospace\"><span style=\"color: #7fbfbf; text-decoration-color: #7fbfbf\">[04/20/25 12:39:14] </span><span style=\"color: #008000; text-decoration-color: #008000\">INFO    </span> Animation <span style=\"color: #008000; text-decoration-color: #008000\">11</span> : Partial movie file written in                  <a href=\"file://c:\\Users\\alexl\\AppData\\Local\\Programs\\Python\\Python312\\Lib\\site-packages\\manim\\scene\\scene_file_writer.py\" target=\"_blank\"><span style=\"color: #7f7f7f; text-decoration-color: #7f7f7f\">scene_file_writer.py</span></a><span style=\"color: #7f7f7f; text-decoration-color: #7f7f7f\">:</span><a href=\"file://c:\\Users\\alexl\\AppData\\Local\\Programs\\Python\\Python312\\Lib\\site-packages\\manim\\scene\\scene_file_writer.py#588\" target=\"_blank\"><span style=\"color: #7f7f7f; text-decoration-color: #7f7f7f\">588</span></a>\n",
       "<span style=\"color: #7fbfbf; text-decoration-color: #7fbfbf\">                    </span>         <span style=\"color: #008000; text-decoration-color: #008000\">'C:\\Users\\alexl\\Code\\manim-generator\\documentation\\media\\vide</span> <span style=\"color: #7f7f7f; text-decoration-color: #7f7f7f\">                        </span>\n",
       "<span style=\"color: #7fbfbf; text-decoration-color: #7fbfbf\">                    </span>         <span style=\"color: #008000; text-decoration-color: #008000\">os\\480p15\\partial_movie_files\\FullTutorial\\624642324_41296068</span> <span style=\"color: #7f7f7f; text-decoration-color: #7f7f7f\">                        </span>\n",
       "<span style=\"color: #7fbfbf; text-decoration-color: #7fbfbf\">                    </span>         <span style=\"color: #008000; text-decoration-color: #008000\">19_3288018112.mp4'</span>                                            <span style=\"color: #7f7f7f; text-decoration-color: #7f7f7f\">                        </span>\n",
       "</pre>\n"
      ],
      "text/plain": [
       "\u001b[2;36m[04/20/25 12:39:14]\u001b[0m\u001b[2;36m \u001b[0m\u001b[32mINFO    \u001b[0m Animation \u001b[32m11\u001b[0m : Partial movie file written in                  \u001b]8;id=914178;file://c:\\Users\\alexl\\AppData\\Local\\Programs\\Python\\Python312\\Lib\\site-packages\\manim\\scene\\scene_file_writer.py\u001b\\\u001b[2mscene_file_writer.py\u001b[0m\u001b]8;;\u001b\\\u001b[2m:\u001b[0m\u001b]8;id=12884;file://c:\\Users\\alexl\\AppData\\Local\\Programs\\Python\\Python312\\Lib\\site-packages\\manim\\scene\\scene_file_writer.py#588\u001b\\\u001b[2m588\u001b[0m\u001b]8;;\u001b\\\n",
       "\u001b[2;36m                    \u001b[0m         \u001b[32m'C:\\Users\\alexl\\Code\\manim-generator\\documentation\\media\\vide\u001b[0m \u001b[2m                        \u001b[0m\n",
       "\u001b[2;36m                    \u001b[0m         \u001b[32mos\\480p15\\partial_movie_files\\FullTutorial\\624642324_41296068\u001b[0m \u001b[2m                        \u001b[0m\n",
       "\u001b[2;36m                    \u001b[0m         \u001b[32m19_3288018112.mp4'\u001b[0m                                            \u001b[2m                        \u001b[0m\n"
      ]
     },
     "metadata": {},
     "output_type": "display_data"
    },
    {
     "data": {
      "text/html": [
       "<pre style=\"white-space:pre;overflow-x:auto;line-height:normal;font-family:Menlo,'DejaVu Sans Mono',consolas,'Courier New',monospace\"><span style=\"color: #7fbfbf; text-decoration-color: #7fbfbf\">[04/20/25 12:39:15] </span><span style=\"color: #008000; text-decoration-color: #008000\">INFO    </span> Animation <span style=\"color: #008000; text-decoration-color: #008000\">12</span> : Partial movie file written in                  <a href=\"file://c:\\Users\\alexl\\AppData\\Local\\Programs\\Python\\Python312\\Lib\\site-packages\\manim\\scene\\scene_file_writer.py\" target=\"_blank\"><span style=\"color: #7f7f7f; text-decoration-color: #7f7f7f\">scene_file_writer.py</span></a><span style=\"color: #7f7f7f; text-decoration-color: #7f7f7f\">:</span><a href=\"file://c:\\Users\\alexl\\AppData\\Local\\Programs\\Python\\Python312\\Lib\\site-packages\\manim\\scene\\scene_file_writer.py#588\" target=\"_blank\"><span style=\"color: #7f7f7f; text-decoration-color: #7f7f7f\">588</span></a>\n",
       "<span style=\"color: #7fbfbf; text-decoration-color: #7fbfbf\">                    </span>         <span style=\"color: #008000; text-decoration-color: #008000\">'C:\\Users\\alexl\\Code\\manim-generator\\documentation\\media\\vide</span> <span style=\"color: #7f7f7f; text-decoration-color: #7f7f7f\">                        </span>\n",
       "<span style=\"color: #7fbfbf; text-decoration-color: #7fbfbf\">                    </span>         <span style=\"color: #008000; text-decoration-color: #008000\">os\\480p15\\partial_movie_files\\FullTutorial\\624642324_42179924</span> <span style=\"color: #7f7f7f; text-decoration-color: #7f7f7f\">                        </span>\n",
       "<span style=\"color: #7fbfbf; text-decoration-color: #7fbfbf\">                    </span>         <span style=\"color: #008000; text-decoration-color: #008000\">63_1528366306.mp4'</span>                                            <span style=\"color: #7f7f7f; text-decoration-color: #7f7f7f\">                        </span>\n",
       "</pre>\n"
      ],
      "text/plain": [
       "\u001b[2;36m[04/20/25 12:39:15]\u001b[0m\u001b[2;36m \u001b[0m\u001b[32mINFO    \u001b[0m Animation \u001b[32m12\u001b[0m : Partial movie file written in                  \u001b]8;id=499454;file://c:\\Users\\alexl\\AppData\\Local\\Programs\\Python\\Python312\\Lib\\site-packages\\manim\\scene\\scene_file_writer.py\u001b\\\u001b[2mscene_file_writer.py\u001b[0m\u001b]8;;\u001b\\\u001b[2m:\u001b[0m\u001b]8;id=858711;file://c:\\Users\\alexl\\AppData\\Local\\Programs\\Python\\Python312\\Lib\\site-packages\\manim\\scene\\scene_file_writer.py#588\u001b\\\u001b[2m588\u001b[0m\u001b]8;;\u001b\\\n",
       "\u001b[2;36m                    \u001b[0m         \u001b[32m'C:\\Users\\alexl\\Code\\manim-generator\\documentation\\media\\vide\u001b[0m \u001b[2m                        \u001b[0m\n",
       "\u001b[2;36m                    \u001b[0m         \u001b[32mos\\480p15\\partial_movie_files\\FullTutorial\\624642324_42179924\u001b[0m \u001b[2m                        \u001b[0m\n",
       "\u001b[2;36m                    \u001b[0m         \u001b[32m63_1528366306.mp4'\u001b[0m                                            \u001b[2m                        \u001b[0m\n"
      ]
     },
     "metadata": {},
     "output_type": "display_data"
    },
    {
     "name": "stderr",
     "output_type": "stream",
     "text": [
      "                                                                                                                                                                                                                \r"
     ]
    },
    {
     "data": {
      "text/html": [
       "<pre style=\"white-space:pre;overflow-x:auto;line-height:normal;font-family:Menlo,'DejaVu Sans Mono',consolas,'Courier New',monospace\"><span style=\"color: #7fbfbf; text-decoration-color: #7fbfbf\">[04/20/25 12:39:16] </span><span style=\"color: #008000; text-decoration-color: #008000\">INFO    </span> Animation <span style=\"color: #008000; text-decoration-color: #008000\">13</span> : Partial movie file written in                  <a href=\"file://c:\\Users\\alexl\\AppData\\Local\\Programs\\Python\\Python312\\Lib\\site-packages\\manim\\scene\\scene_file_writer.py\" target=\"_blank\"><span style=\"color: #7f7f7f; text-decoration-color: #7f7f7f\">scene_file_writer.py</span></a><span style=\"color: #7f7f7f; text-decoration-color: #7f7f7f\">:</span><a href=\"file://c:\\Users\\alexl\\AppData\\Local\\Programs\\Python\\Python312\\Lib\\site-packages\\manim\\scene\\scene_file_writer.py#588\" target=\"_blank\"><span style=\"color: #7f7f7f; text-decoration-color: #7f7f7f\">588</span></a>\n",
       "<span style=\"color: #7fbfbf; text-decoration-color: #7fbfbf\">                    </span>         <span style=\"color: #008000; text-decoration-color: #008000\">'C:\\Users\\alexl\\Code\\manim-generator\\documentation\\media\\vide</span> <span style=\"color: #7f7f7f; text-decoration-color: #7f7f7f\">                        </span>\n",
       "<span style=\"color: #7fbfbf; text-decoration-color: #7fbfbf\">                    </span>         <span style=\"color: #008000; text-decoration-color: #008000\">os\\480p15\\partial_movie_files\\FullTutorial\\624642324_41424821</span> <span style=\"color: #7f7f7f; text-decoration-color: #7f7f7f\">                        </span>\n",
       "<span style=\"color: #7fbfbf; text-decoration-color: #7fbfbf\">                    </span>         <span style=\"color: #008000; text-decoration-color: #008000\">56_3199637409.mp4'</span>                                            <span style=\"color: #7f7f7f; text-decoration-color: #7f7f7f\">                        </span>\n",
       "</pre>\n"
      ],
      "text/plain": [
       "\u001b[2;36m[04/20/25 12:39:16]\u001b[0m\u001b[2;36m \u001b[0m\u001b[32mINFO    \u001b[0m Animation \u001b[32m13\u001b[0m : Partial movie file written in                  \u001b]8;id=584663;file://c:\\Users\\alexl\\AppData\\Local\\Programs\\Python\\Python312\\Lib\\site-packages\\manim\\scene\\scene_file_writer.py\u001b\\\u001b[2mscene_file_writer.py\u001b[0m\u001b]8;;\u001b\\\u001b[2m:\u001b[0m\u001b]8;id=454521;file://c:\\Users\\alexl\\AppData\\Local\\Programs\\Python\\Python312\\Lib\\site-packages\\manim\\scene\\scene_file_writer.py#588\u001b\\\u001b[2m588\u001b[0m\u001b]8;;\u001b\\\n",
       "\u001b[2;36m                    \u001b[0m         \u001b[32m'C:\\Users\\alexl\\Code\\manim-generator\\documentation\\media\\vide\u001b[0m \u001b[2m                        \u001b[0m\n",
       "\u001b[2;36m                    \u001b[0m         \u001b[32mos\\480p15\\partial_movie_files\\FullTutorial\\624642324_41424821\u001b[0m \u001b[2m                        \u001b[0m\n",
       "\u001b[2;36m                    \u001b[0m         \u001b[32m56_3199637409.mp4'\u001b[0m                                            \u001b[2m                        \u001b[0m\n"
      ]
     },
     "metadata": {},
     "output_type": "display_data"
    },
    {
     "data": {
      "text/html": [
       "<pre style=\"white-space:pre;overflow-x:auto;line-height:normal;font-family:Menlo,'DejaVu Sans Mono',consolas,'Courier New',monospace\"><span style=\"color: #7fbfbf; text-decoration-color: #7fbfbf\">[04/20/25 12:39:17] </span><span style=\"color: #008000; text-decoration-color: #008000\">INFO    </span> Automatically converted                                       <a href=\"file://c:\\Users\\alexl\\AppData\\Local\\Programs\\Python\\Python312\\Lib\\site-packages\\manim\\scene\\scene_file_writer.py\" target=\"_blank\"><span style=\"color: #7f7f7f; text-decoration-color: #7f7f7f\">scene_file_writer.py</span></a><span style=\"color: #7f7f7f; text-decoration-color: #7f7f7f\">:</span><a href=\"file://c:\\Users\\alexl\\AppData\\Local\\Programs\\Python\\Python312\\Lib\\site-packages\\manim\\scene\\scene_file_writer.py#377\" target=\"_blank\"><span style=\"color: #7f7f7f; text-decoration-color: #7f7f7f\">377</span></a>\n",
       "<span style=\"color: #7fbfbf; text-decoration-color: #7fbfbf\">                    </span>         media\\voiceovers\\let-s-begin-with-gradient-descent-in-one-dim <span style=\"color: #7f7f7f; text-decoration-color: #7f7f7f\">                        </span>\n",
       "<span style=\"color: #7fbfbf; text-decoration-color: #7fbfbf\">                    </span>         ension-1f6c2440.mp3 to .wav                                   <span style=\"color: #7f7f7f; text-decoration-color: #7f7f7f\">                        </span>\n",
       "</pre>\n"
      ],
      "text/plain": [
       "\u001b[2;36m[04/20/25 12:39:17]\u001b[0m\u001b[2;36m \u001b[0m\u001b[32mINFO    \u001b[0m Automatically converted                                       \u001b]8;id=385732;file://c:\\Users\\alexl\\AppData\\Local\\Programs\\Python\\Python312\\Lib\\site-packages\\manim\\scene\\scene_file_writer.py\u001b\\\u001b[2mscene_file_writer.py\u001b[0m\u001b]8;;\u001b\\\u001b[2m:\u001b[0m\u001b]8;id=733843;file://c:\\Users\\alexl\\AppData\\Local\\Programs\\Python\\Python312\\Lib\\site-packages\\manim\\scene\\scene_file_writer.py#377\u001b\\\u001b[2m377\u001b[0m\u001b]8;;\u001b\\\n",
       "\u001b[2;36m                    \u001b[0m         media\\voiceovers\\let-s-begin-with-gradient-descent-in-one-dim \u001b[2m                        \u001b[0m\n",
       "\u001b[2;36m                    \u001b[0m         ension-1f6c2440.mp3 to .wav                                   \u001b[2m                        \u001b[0m\n"
      ]
     },
     "metadata": {},
     "output_type": "display_data"
    },
    {
     "name": "stderr",
     "output_type": "stream",
     "text": [
      "                                                                                                  \r"
     ]
    },
    {
     "data": {
      "text/html": [
       "<pre style=\"white-space:pre;overflow-x:auto;line-height:normal;font-family:Menlo,'DejaVu Sans Mono',consolas,'Courier New',monospace\"><span style=\"color: #7fbfbf; text-decoration-color: #7fbfbf\">                    </span><span style=\"color: #008000; text-decoration-color: #008000\">INFO    </span> Animation <span style=\"color: #008000; text-decoration-color: #008000\">14</span> : Partial movie file written in                  <a href=\"file://c:\\Users\\alexl\\AppData\\Local\\Programs\\Python\\Python312\\Lib\\site-packages\\manim\\scene\\scene_file_writer.py\" target=\"_blank\"><span style=\"color: #7f7f7f; text-decoration-color: #7f7f7f\">scene_file_writer.py</span></a><span style=\"color: #7f7f7f; text-decoration-color: #7f7f7f\">:</span><a href=\"file://c:\\Users\\alexl\\AppData\\Local\\Programs\\Python\\Python312\\Lib\\site-packages\\manim\\scene\\scene_file_writer.py#588\" target=\"_blank\"><span style=\"color: #7f7f7f; text-decoration-color: #7f7f7f\">588</span></a>\n",
       "<span style=\"color: #7fbfbf; text-decoration-color: #7fbfbf\">                    </span>         <span style=\"color: #008000; text-decoration-color: #008000\">'C:\\Users\\alexl\\Code\\manim-generator\\documentation\\media\\vide</span> <span style=\"color: #7f7f7f; text-decoration-color: #7f7f7f\">                        </span>\n",
       "<span style=\"color: #7fbfbf; text-decoration-color: #7fbfbf\">                    </span>         <span style=\"color: #008000; text-decoration-color: #008000\">os\\480p15\\partial_movie_files\\FullTutorial\\624642324_86888020</span> <span style=\"color: #7f7f7f; text-decoration-color: #7f7f7f\">                        </span>\n",
       "<span style=\"color: #7fbfbf; text-decoration-color: #7fbfbf\">                    </span>         <span style=\"color: #008000; text-decoration-color: #008000\">8_1814444762.mp4'</span>                                             <span style=\"color: #7f7f7f; text-decoration-color: #7f7f7f\">                        </span>\n",
       "</pre>\n"
      ],
      "text/plain": [
       "\u001b[2;36m                   \u001b[0m\u001b[2;36m \u001b[0m\u001b[32mINFO    \u001b[0m Animation \u001b[32m14\u001b[0m : Partial movie file written in                  \u001b]8;id=260127;file://c:\\Users\\alexl\\AppData\\Local\\Programs\\Python\\Python312\\Lib\\site-packages\\manim\\scene\\scene_file_writer.py\u001b\\\u001b[2mscene_file_writer.py\u001b[0m\u001b]8;;\u001b\\\u001b[2m:\u001b[0m\u001b]8;id=922757;file://c:\\Users\\alexl\\AppData\\Local\\Programs\\Python\\Python312\\Lib\\site-packages\\manim\\scene\\scene_file_writer.py#588\u001b\\\u001b[2m588\u001b[0m\u001b]8;;\u001b\\\n",
       "\u001b[2;36m                    \u001b[0m         \u001b[32m'C:\\Users\\alexl\\Code\\manim-generator\\documentation\\media\\vide\u001b[0m \u001b[2m                        \u001b[0m\n",
       "\u001b[2;36m                    \u001b[0m         \u001b[32mos\\480p15\\partial_movie_files\\FullTutorial\\624642324_86888020\u001b[0m \u001b[2m                        \u001b[0m\n",
       "\u001b[2;36m                    \u001b[0m         \u001b[32m8_1814444762.mp4'\u001b[0m                                             \u001b[2m                        \u001b[0m\n"
      ]
     },
     "metadata": {},
     "output_type": "display_data"
    },
    {
     "data": {
      "text/html": [
       "<pre style=\"white-space:pre;overflow-x:auto;line-height:normal;font-family:Menlo,'DejaVu Sans Mono',consolas,'Courier New',monospace\"><span style=\"color: #7fbfbf; text-decoration-color: #7fbfbf\">[04/20/25 12:39:18] </span><span style=\"color: #008000; text-decoration-color: #008000\">INFO    </span> Animation <span style=\"color: #008000; text-decoration-color: #008000\">15</span> : Partial movie file written in                  <a href=\"file://c:\\Users\\alexl\\AppData\\Local\\Programs\\Python\\Python312\\Lib\\site-packages\\manim\\scene\\scene_file_writer.py\" target=\"_blank\"><span style=\"color: #7f7f7f; text-decoration-color: #7f7f7f\">scene_file_writer.py</span></a><span style=\"color: #7f7f7f; text-decoration-color: #7f7f7f\">:</span><a href=\"file://c:\\Users\\alexl\\AppData\\Local\\Programs\\Python\\Python312\\Lib\\site-packages\\manim\\scene\\scene_file_writer.py#588\" target=\"_blank\"><span style=\"color: #7f7f7f; text-decoration-color: #7f7f7f\">588</span></a>\n",
       "<span style=\"color: #7fbfbf; text-decoration-color: #7fbfbf\">                    </span>         <span style=\"color: #008000; text-decoration-color: #008000\">'C:\\Users\\alexl\\Code\\manim-generator\\documentation\\media\\vide</span> <span style=\"color: #7f7f7f; text-decoration-color: #7f7f7f\">                        </span>\n",
       "<span style=\"color: #7fbfbf; text-decoration-color: #7fbfbf\">                    </span>         <span style=\"color: #008000; text-decoration-color: #008000\">os\\480p15\\partial_movie_files\\FullTutorial\\624642324_14325961</span> <span style=\"color: #7f7f7f; text-decoration-color: #7f7f7f\">                        </span>\n",
       "<span style=\"color: #7fbfbf; text-decoration-color: #7fbfbf\">                    </span>         <span style=\"color: #008000; text-decoration-color: #008000\">16_528341192.mp4'</span>                                             <span style=\"color: #7f7f7f; text-decoration-color: #7f7f7f\">                        </span>\n",
       "</pre>\n"
      ],
      "text/plain": [
       "\u001b[2;36m[04/20/25 12:39:18]\u001b[0m\u001b[2;36m \u001b[0m\u001b[32mINFO    \u001b[0m Animation \u001b[32m15\u001b[0m : Partial movie file written in                  \u001b]8;id=481147;file://c:\\Users\\alexl\\AppData\\Local\\Programs\\Python\\Python312\\Lib\\site-packages\\manim\\scene\\scene_file_writer.py\u001b\\\u001b[2mscene_file_writer.py\u001b[0m\u001b]8;;\u001b\\\u001b[2m:\u001b[0m\u001b]8;id=799541;file://c:\\Users\\alexl\\AppData\\Local\\Programs\\Python\\Python312\\Lib\\site-packages\\manim\\scene\\scene_file_writer.py#588\u001b\\\u001b[2m588\u001b[0m\u001b]8;;\u001b\\\n",
       "\u001b[2;36m                    \u001b[0m         \u001b[32m'C:\\Users\\alexl\\Code\\manim-generator\\documentation\\media\\vide\u001b[0m \u001b[2m                        \u001b[0m\n",
       "\u001b[2;36m                    \u001b[0m         \u001b[32mos\\480p15\\partial_movie_files\\FullTutorial\\624642324_14325961\u001b[0m \u001b[2m                        \u001b[0m\n",
       "\u001b[2;36m                    \u001b[0m         \u001b[32m16_528341192.mp4'\u001b[0m                                             \u001b[2m                        \u001b[0m\n"
      ]
     },
     "metadata": {},
     "output_type": "display_data"
    },
    {
     "name": "stderr",
     "output_type": "stream",
     "text": [
      "                                                                                                           \r"
     ]
    },
    {
     "data": {
      "text/html": [
       "<pre style=\"white-space:pre;overflow-x:auto;line-height:normal;font-family:Menlo,'DejaVu Sans Mono',consolas,'Courier New',monospace\"><span style=\"color: #7fbfbf; text-decoration-color: #7fbfbf\">                    </span><span style=\"color: #008000; text-decoration-color: #008000\">INFO    </span> Animation <span style=\"color: #008000; text-decoration-color: #008000\">16</span> : Partial movie file written in                  <a href=\"file://c:\\Users\\alexl\\AppData\\Local\\Programs\\Python\\Python312\\Lib\\site-packages\\manim\\scene\\scene_file_writer.py\" target=\"_blank\"><span style=\"color: #7f7f7f; text-decoration-color: #7f7f7f\">scene_file_writer.py</span></a><span style=\"color: #7f7f7f; text-decoration-color: #7f7f7f\">:</span><a href=\"file://c:\\Users\\alexl\\AppData\\Local\\Programs\\Python\\Python312\\Lib\\site-packages\\manim\\scene\\scene_file_writer.py#588\" target=\"_blank\"><span style=\"color: #7f7f7f; text-decoration-color: #7f7f7f\">588</span></a>\n",
       "<span style=\"color: #7fbfbf; text-decoration-color: #7fbfbf\">                    </span>         <span style=\"color: #008000; text-decoration-color: #008000\">'C:\\Users\\alexl\\Code\\manim-generator\\documentation\\media\\vide</span> <span style=\"color: #7f7f7f; text-decoration-color: #7f7f7f\">                        </span>\n",
       "<span style=\"color: #7fbfbf; text-decoration-color: #7fbfbf\">                    </span>         <span style=\"color: #008000; text-decoration-color: #008000\">os\\480p15\\partial_movie_files\\FullTutorial\\624642324_96315742</span> <span style=\"color: #7f7f7f; text-decoration-color: #7f7f7f\">                        </span>\n",
       "<span style=\"color: #7fbfbf; text-decoration-color: #7fbfbf\">                    </span>         <span style=\"color: #008000; text-decoration-color: #008000\">3_3688695085.mp4'</span>                                             <span style=\"color: #7f7f7f; text-decoration-color: #7f7f7f\">                        </span>\n",
       "</pre>\n"
      ],
      "text/plain": [
       "\u001b[2;36m                   \u001b[0m\u001b[2;36m \u001b[0m\u001b[32mINFO    \u001b[0m Animation \u001b[32m16\u001b[0m : Partial movie file written in                  \u001b]8;id=83216;file://c:\\Users\\alexl\\AppData\\Local\\Programs\\Python\\Python312\\Lib\\site-packages\\manim\\scene\\scene_file_writer.py\u001b\\\u001b[2mscene_file_writer.py\u001b[0m\u001b]8;;\u001b\\\u001b[2m:\u001b[0m\u001b]8;id=722455;file://c:\\Users\\alexl\\AppData\\Local\\Programs\\Python\\Python312\\Lib\\site-packages\\manim\\scene\\scene_file_writer.py#588\u001b\\\u001b[2m588\u001b[0m\u001b]8;;\u001b\\\n",
       "\u001b[2;36m                    \u001b[0m         \u001b[32m'C:\\Users\\alexl\\Code\\manim-generator\\documentation\\media\\vide\u001b[0m \u001b[2m                        \u001b[0m\n",
       "\u001b[2;36m                    \u001b[0m         \u001b[32mos\\480p15\\partial_movie_files\\FullTutorial\\624642324_96315742\u001b[0m \u001b[2m                        \u001b[0m\n",
       "\u001b[2;36m                    \u001b[0m         \u001b[32m3_3688695085.mp4'\u001b[0m                                             \u001b[2m                        \u001b[0m\n"
      ]
     },
     "metadata": {},
     "output_type": "display_data"
    },
    {
     "data": {
      "text/html": [
       "<pre style=\"white-space:pre;overflow-x:auto;line-height:normal;font-family:Menlo,'DejaVu Sans Mono',consolas,'Courier New',monospace\"><span style=\"color: #7fbfbf; text-decoration-color: #7fbfbf\">[04/20/25 12:39:20] </span><span style=\"color: #008000; text-decoration-color: #008000\">INFO    </span> Automatically converted                                       <a href=\"file://c:\\Users\\alexl\\AppData\\Local\\Programs\\Python\\Python312\\Lib\\site-packages\\manim\\scene\\scene_file_writer.py\" target=\"_blank\"><span style=\"color: #7f7f7f; text-decoration-color: #7f7f7f\">scene_file_writer.py</span></a><span style=\"color: #7f7f7f; text-decoration-color: #7f7f7f\">:</span><a href=\"file://c:\\Users\\alexl\\AppData\\Local\\Programs\\Python\\Python312\\Lib\\site-packages\\manim\\scene\\scene_file_writer.py#377\" target=\"_blank\"><span style=\"color: #7f7f7f; text-decoration-color: #7f7f7f\">377</span></a>\n",
       "<span style=\"color: #7fbfbf; text-decoration-color: #7fbfbf\">                    </span>         media\\voiceovers\\in-one-dimension-we-need-an-objective-functi <span style=\"color: #7f7f7f; text-decoration-color: #7f7f7f\">                        </span>\n",
       "<span style=\"color: #7fbfbf; text-decoration-color: #7fbfbf\">                    </span>         on-f-d30bfaa2.mp3 to .wav                                     <span style=\"color: #7f7f7f; text-decoration-color: #7f7f7f\">                        </span>\n",
       "</pre>\n"
      ],
      "text/plain": [
       "\u001b[2;36m[04/20/25 12:39:20]\u001b[0m\u001b[2;36m \u001b[0m\u001b[32mINFO    \u001b[0m Automatically converted                                       \u001b]8;id=991003;file://c:\\Users\\alexl\\AppData\\Local\\Programs\\Python\\Python312\\Lib\\site-packages\\manim\\scene\\scene_file_writer.py\u001b\\\u001b[2mscene_file_writer.py\u001b[0m\u001b]8;;\u001b\\\u001b[2m:\u001b[0m\u001b]8;id=197607;file://c:\\Users\\alexl\\AppData\\Local\\Programs\\Python\\Python312\\Lib\\site-packages\\manim\\scene\\scene_file_writer.py#377\u001b\\\u001b[2m377\u001b[0m\u001b]8;;\u001b\\\n",
       "\u001b[2;36m                    \u001b[0m         media\\voiceovers\\in-one-dimension-we-need-an-objective-functi \u001b[2m                        \u001b[0m\n",
       "\u001b[2;36m                    \u001b[0m         on-f-d30bfaa2.mp3 to .wav                                     \u001b[2m                        \u001b[0m\n"
      ]
     },
     "metadata": {},
     "output_type": "display_data"
    },
    {
     "data": {
      "text/html": [
       "<pre style=\"white-space:pre;overflow-x:auto;line-height:normal;font-family:Menlo,'DejaVu Sans Mono',consolas,'Courier New',monospace\"><span style=\"color: #7fbfbf; text-decoration-color: #7fbfbf\">                    </span><span style=\"color: #008000; text-decoration-color: #008000\">INFO    </span> <span style=\"color: #808000; text-decoration-color: #808000; font-weight: bold\">Writing</span> Initial value $\\Theta_<span style=\"font-weight: bold\">{</span>init<span style=\"font-weight: bold\">}</span>$\\\\Step size <span style=\"font-weight: bold\">(</span>learning     <a href=\"file://c:\\Users\\alexl\\AppData\\Local\\Programs\\Python\\Python312\\Lib\\site-packages\\manim\\utils\\tex_file_writing.py\" target=\"_blank\"><span style=\"color: #7f7f7f; text-decoration-color: #7f7f7f\">tex_file_writing.py</span></a><span style=\"color: #7f7f7f; text-decoration-color: #7f7f7f\">:</span><a href=\"file://c:\\Users\\alexl\\AppData\\Local\\Programs\\Python\\Python312\\Lib\\site-packages\\manim\\utils\\tex_file_writing.py#111\" target=\"_blank\"><span style=\"color: #7f7f7f; text-decoration-color: #7f7f7f\">111</span></a>\n",
       "<span style=\"color: #7fbfbf; text-decoration-color: #7fbfbf\">                    </span>         rate<span style=\"font-weight: bold\">)</span> $\\eta &gt; <span style=\"color: #008000; text-decoration-color: #008000\">0</span>$\\\\Accuracy threshold $\\epsilon &gt; <span style=\"color: #008000; text-decoration-color: #008000\">0</span>$\\\\ to       <span style=\"color: #7f7f7f; text-decoration-color: #7f7f7f\">                       </span>\n",
       "<span style=\"color: #7fbfbf; text-decoration-color: #7fbfbf\">                    </span>         media\\Tex\\0ea7198a2c8f29ba.tex                                 <span style=\"color: #7f7f7f; text-decoration-color: #7f7f7f\">                       </span>\n",
       "</pre>\n"
      ],
      "text/plain": [
       "\u001b[2;36m                   \u001b[0m\u001b[2;36m \u001b[0m\u001b[32mINFO    \u001b[0m \u001b[1;33mWriting\u001b[0m Initial value $\\Theta_\u001b[1m{\u001b[0minit\u001b[1m}\u001b[0m$\\\\Step size \u001b[1m(\u001b[0mlearning     \u001b]8;id=661804;file://c:\\Users\\alexl\\AppData\\Local\\Programs\\Python\\Python312\\Lib\\site-packages\\manim\\utils\\tex_file_writing.py\u001b\\\u001b[2mtex_file_writing.py\u001b[0m\u001b]8;;\u001b\\\u001b[2m:\u001b[0m\u001b]8;id=402910;file://c:\\Users\\alexl\\AppData\\Local\\Programs\\Python\\Python312\\Lib\\site-packages\\manim\\utils\\tex_file_writing.py#111\u001b\\\u001b[2m111\u001b[0m\u001b]8;;\u001b\\\n",
       "\u001b[2;36m                    \u001b[0m         rate\u001b[1m)\u001b[0m $\\eta > \u001b[32m0\u001b[0m$\\\\Accuracy threshold $\\epsilon > \u001b[32m0\u001b[0m$\\\\ to       \u001b[2m                       \u001b[0m\n",
       "\u001b[2;36m                    \u001b[0m         media\\Tex\\0ea7198a2c8f29ba.tex                                 \u001b[2m                       \u001b[0m\n"
      ]
     },
     "metadata": {},
     "output_type": "display_data"
    },
    {
     "data": {
      "text/html": [
       "<pre style=\"white-space:pre;overflow-x:auto;line-height:normal;font-family:Menlo,'DejaVu Sans Mono',consolas,'Courier New',monospace\"><span style=\"color: #7fbfbf; text-decoration-color: #7fbfbf\">[04/20/25 12:39:22] </span><span style=\"color: #008000; text-decoration-color: #008000\">INFO    </span> <span style=\"color: #808000; text-decoration-color: #808000; font-weight: bold\">Writing</span> Initial value $\\Theta_<span style=\"font-weight: bold\">{</span>init<span style=\"font-weight: bold\">}</span>$\\\\ to                     <a href=\"file://c:\\Users\\alexl\\AppData\\Local\\Programs\\Python\\Python312\\Lib\\site-packages\\manim\\utils\\tex_file_writing.py\" target=\"_blank\"><span style=\"color: #7f7f7f; text-decoration-color: #7f7f7f\">tex_file_writing.py</span></a><span style=\"color: #7f7f7f; text-decoration-color: #7f7f7f\">:</span><a href=\"file://c:\\Users\\alexl\\AppData\\Local\\Programs\\Python\\Python312\\Lib\\site-packages\\manim\\utils\\tex_file_writing.py#111\" target=\"_blank\"><span style=\"color: #7f7f7f; text-decoration-color: #7f7f7f\">111</span></a>\n",
       "<span style=\"color: #7fbfbf; text-decoration-color: #7fbfbf\">                    </span>         media\\Tex\\606037c39b8c5792.tex                                 <span style=\"color: #7f7f7f; text-decoration-color: #7f7f7f\">                       </span>\n",
       "</pre>\n"
      ],
      "text/plain": [
       "\u001b[2;36m[04/20/25 12:39:22]\u001b[0m\u001b[2;36m \u001b[0m\u001b[32mINFO    \u001b[0m \u001b[1;33mWriting\u001b[0m Initial value $\\Theta_\u001b[1m{\u001b[0minit\u001b[1m}\u001b[0m$\\\\ to                     \u001b]8;id=824124;file://c:\\Users\\alexl\\AppData\\Local\\Programs\\Python\\Python312\\Lib\\site-packages\\manim\\utils\\tex_file_writing.py\u001b\\\u001b[2mtex_file_writing.py\u001b[0m\u001b]8;;\u001b\\\u001b[2m:\u001b[0m\u001b]8;id=302768;file://c:\\Users\\alexl\\AppData\\Local\\Programs\\Python\\Python312\\Lib\\site-packages\\manim\\utils\\tex_file_writing.py#111\u001b\\\u001b[2m111\u001b[0m\u001b]8;;\u001b\\\n",
       "\u001b[2;36m                    \u001b[0m         media\\Tex\\606037c39b8c5792.tex                                 \u001b[2m                       \u001b[0m\n"
      ]
     },
     "metadata": {},
     "output_type": "display_data"
    },
    {
     "name": "stderr",
     "output_type": "stream",
     "text": [
      "                                                                                                                                                                                                         \r"
     ]
    },
    {
     "data": {
      "text/html": [
       "<pre style=\"white-space:pre;overflow-x:auto;line-height:normal;font-family:Menlo,'DejaVu Sans Mono',consolas,'Courier New',monospace\"><span style=\"color: #7fbfbf; text-decoration-color: #7fbfbf\">[04/20/25 12:39:24] </span><span style=\"color: #008000; text-decoration-color: #008000\">INFO    </span> Animation <span style=\"color: #008000; text-decoration-color: #008000\">17</span> : Partial movie file written in                  <a href=\"file://c:\\Users\\alexl\\AppData\\Local\\Programs\\Python\\Python312\\Lib\\site-packages\\manim\\scene\\scene_file_writer.py\" target=\"_blank\"><span style=\"color: #7f7f7f; text-decoration-color: #7f7f7f\">scene_file_writer.py</span></a><span style=\"color: #7f7f7f; text-decoration-color: #7f7f7f\">:</span><a href=\"file://c:\\Users\\alexl\\AppData\\Local\\Programs\\Python\\Python312\\Lib\\site-packages\\manim\\scene\\scene_file_writer.py#588\" target=\"_blank\"><span style=\"color: #7f7f7f; text-decoration-color: #7f7f7f\">588</span></a>\n",
       "<span style=\"color: #7fbfbf; text-decoration-color: #7fbfbf\">                    </span>         <span style=\"color: #008000; text-decoration-color: #008000\">'C:\\Users\\alexl\\Code\\manim-generator\\documentation\\media\\vide</span> <span style=\"color: #7f7f7f; text-decoration-color: #7f7f7f\">                        </span>\n",
       "<span style=\"color: #7fbfbf; text-decoration-color: #7fbfbf\">                    </span>         <span style=\"color: #008000; text-decoration-color: #008000\">os\\480p15\\partial_movie_files\\FullTutorial\\624642324_32822157</span> <span style=\"color: #7f7f7f; text-decoration-color: #7f7f7f\">                        </span>\n",
       "<span style=\"color: #7fbfbf; text-decoration-color: #7fbfbf\">                    </span>         <span style=\"color: #008000; text-decoration-color: #008000\">56_4241201516.mp4'</span>                                            <span style=\"color: #7f7f7f; text-decoration-color: #7f7f7f\">                        </span>\n",
       "</pre>\n"
      ],
      "text/plain": [
       "\u001b[2;36m[04/20/25 12:39:24]\u001b[0m\u001b[2;36m \u001b[0m\u001b[32mINFO    \u001b[0m Animation \u001b[32m17\u001b[0m : Partial movie file written in                  \u001b]8;id=390953;file://c:\\Users\\alexl\\AppData\\Local\\Programs\\Python\\Python312\\Lib\\site-packages\\manim\\scene\\scene_file_writer.py\u001b\\\u001b[2mscene_file_writer.py\u001b[0m\u001b]8;;\u001b\\\u001b[2m:\u001b[0m\u001b]8;id=704861;file://c:\\Users\\alexl\\AppData\\Local\\Programs\\Python\\Python312\\Lib\\site-packages\\manim\\scene\\scene_file_writer.py#588\u001b\\\u001b[2m588\u001b[0m\u001b]8;;\u001b\\\n",
       "\u001b[2;36m                    \u001b[0m         \u001b[32m'C:\\Users\\alexl\\Code\\manim-generator\\documentation\\media\\vide\u001b[0m \u001b[2m                        \u001b[0m\n",
       "\u001b[2;36m                    \u001b[0m         \u001b[32mos\\480p15\\partial_movie_files\\FullTutorial\\624642324_32822157\u001b[0m \u001b[2m                        \u001b[0m\n",
       "\u001b[2;36m                    \u001b[0m         \u001b[32m56_4241201516.mp4'\u001b[0m                                            \u001b[2m                        \u001b[0m\n"
      ]
     },
     "metadata": {},
     "output_type": "display_data"
    },
    {
     "data": {
      "text/html": [
       "<pre style=\"white-space:pre;overflow-x:auto;line-height:normal;font-family:Menlo,'DejaVu Sans Mono',consolas,'Courier New',monospace\"><span style=\"color: #7fbfbf; text-decoration-color: #7fbfbf\">[04/20/25 12:39:26] </span><span style=\"color: #008000; text-decoration-color: #008000\">INFO    </span> Animation <span style=\"color: #008000; text-decoration-color: #008000\">18</span> : Partial movie file written in                  <a href=\"file://c:\\Users\\alexl\\AppData\\Local\\Programs\\Python\\Python312\\Lib\\site-packages\\manim\\scene\\scene_file_writer.py\" target=\"_blank\"><span style=\"color: #7f7f7f; text-decoration-color: #7f7f7f\">scene_file_writer.py</span></a><span style=\"color: #7f7f7f; text-decoration-color: #7f7f7f\">:</span><a href=\"file://c:\\Users\\alexl\\AppData\\Local\\Programs\\Python\\Python312\\Lib\\site-packages\\manim\\scene\\scene_file_writer.py#588\" target=\"_blank\"><span style=\"color: #7f7f7f; text-decoration-color: #7f7f7f\">588</span></a>\n",
       "<span style=\"color: #7fbfbf; text-decoration-color: #7fbfbf\">                    </span>         <span style=\"color: #008000; text-decoration-color: #008000\">'C:\\Users\\alexl\\Code\\manim-generator\\documentation\\media\\vide</span> <span style=\"color: #7f7f7f; text-decoration-color: #7f7f7f\">                        </span>\n",
       "<span style=\"color: #7fbfbf; text-decoration-color: #7fbfbf\">                    </span>         <span style=\"color: #008000; text-decoration-color: #008000\">os\\480p15\\partial_movie_files\\FullTutorial\\624642324_25385150</span> <span style=\"color: #7f7f7f; text-decoration-color: #7f7f7f\">                        </span>\n",
       "<span style=\"color: #7fbfbf; text-decoration-color: #7fbfbf\">                    </span>         <span style=\"color: #008000; text-decoration-color: #008000\">50_2009992842.mp4'</span>                                            <span style=\"color: #7f7f7f; text-decoration-color: #7f7f7f\">                        </span>\n",
       "</pre>\n"
      ],
      "text/plain": [
       "\u001b[2;36m[04/20/25 12:39:26]\u001b[0m\u001b[2;36m \u001b[0m\u001b[32mINFO    \u001b[0m Animation \u001b[32m18\u001b[0m : Partial movie file written in                  \u001b]8;id=661917;file://c:\\Users\\alexl\\AppData\\Local\\Programs\\Python\\Python312\\Lib\\site-packages\\manim\\scene\\scene_file_writer.py\u001b\\\u001b[2mscene_file_writer.py\u001b[0m\u001b]8;;\u001b\\\u001b[2m:\u001b[0m\u001b]8;id=592724;file://c:\\Users\\alexl\\AppData\\Local\\Programs\\Python\\Python312\\Lib\\site-packages\\manim\\scene\\scene_file_writer.py#588\u001b\\\u001b[2m588\u001b[0m\u001b]8;;\u001b\\\n",
       "\u001b[2;36m                    \u001b[0m         \u001b[32m'C:\\Users\\alexl\\Code\\manim-generator\\documentation\\media\\vide\u001b[0m \u001b[2m                        \u001b[0m\n",
       "\u001b[2;36m                    \u001b[0m         \u001b[32mos\\480p15\\partial_movie_files\\FullTutorial\\624642324_25385150\u001b[0m \u001b[2m                        \u001b[0m\n",
       "\u001b[2;36m                    \u001b[0m         \u001b[32m50_2009992842.mp4'\u001b[0m                                            \u001b[2m                        \u001b[0m\n"
      ]
     },
     "metadata": {},
     "output_type": "display_data"
    },
    {
     "data": {
      "text/html": [
       "<pre style=\"white-space:pre;overflow-x:auto;line-height:normal;font-family:Menlo,'DejaVu Sans Mono',consolas,'Courier New',monospace\"><span style=\"color: #7fbfbf; text-decoration-color: #7fbfbf\">                    </span><span style=\"color: #008000; text-decoration-color: #008000\">INFO    </span> Automatically converted                                       <a href=\"file://c:\\Users\\alexl\\AppData\\Local\\Programs\\Python\\Python312\\Lib\\site-packages\\manim\\scene\\scene_file_writer.py\" target=\"_blank\"><span style=\"color: #7f7f7f; text-decoration-color: #7f7f7f\">scene_file_writer.py</span></a><span style=\"color: #7f7f7f; text-decoration-color: #7f7f7f\">:</span><a href=\"file://c:\\Users\\alexl\\AppData\\Local\\Programs\\Python\\Python312\\Lib\\site-packages\\manim\\scene\\scene_file_writer.py#377\" target=\"_blank\"><span style=\"color: #7f7f7f; text-decoration-color: #7f7f7f\">377</span></a>\n",
       "<span style=\"color: #7fbfbf; text-decoration-color: #7fbfbf\">                    </span>         media\\voiceovers\\the-gradient-descent-algorithm-starts-at-the <span style=\"color: #7f7f7f; text-decoration-color: #7f7f7f\">                        </span>\n",
       "<span style=\"color: #7fbfbf; text-decoration-color: #7fbfbf\">                    </span>         -0ccb5e1e.mp3 to .wav                                         <span style=\"color: #7f7f7f; text-decoration-color: #7f7f7f\">                        </span>\n",
       "</pre>\n"
      ],
      "text/plain": [
       "\u001b[2;36m                   \u001b[0m\u001b[2;36m \u001b[0m\u001b[32mINFO    \u001b[0m Automatically converted                                       \u001b]8;id=622740;file://c:\\Users\\alexl\\AppData\\Local\\Programs\\Python\\Python312\\Lib\\site-packages\\manim\\scene\\scene_file_writer.py\u001b\\\u001b[2mscene_file_writer.py\u001b[0m\u001b]8;;\u001b\\\u001b[2m:\u001b[0m\u001b]8;id=619314;file://c:\\Users\\alexl\\AppData\\Local\\Programs\\Python\\Python312\\Lib\\site-packages\\manim\\scene\\scene_file_writer.py#377\u001b\\\u001b[2m377\u001b[0m\u001b]8;;\u001b\\\n",
       "\u001b[2;36m                    \u001b[0m         media\\voiceovers\\the-gradient-descent-algorithm-starts-at-the \u001b[2m                        \u001b[0m\n",
       "\u001b[2;36m                    \u001b[0m         -0ccb5e1e.mp3 to .wav                                         \u001b[2m                        \u001b[0m\n"
      ]
     },
     "metadata": {},
     "output_type": "display_data"
    },
    {
     "data": {
      "text/html": [
       "<pre style=\"white-space:pre;overflow-x:auto;line-height:normal;font-family:Menlo,'DejaVu Sans Mono',consolas,'Courier New',monospace\"><span style=\"color: #7fbfbf; text-decoration-color: #7fbfbf\">                    </span><span style=\"color: #008000; text-decoration-color: #008000\">INFO    </span> <span style=\"color: #808000; text-decoration-color: #808000; font-weight: bold\">Writing</span> \\Theta^<span style=\"font-weight: bold\">{(</span>t<span style=\"font-weight: bold\">)}</span> \\gets \\Theta^<span style=\"font-weight: bold\">{(</span>t-<span style=\"color: #008000; text-decoration-color: #008000\">1</span><span style=\"font-weight: bold\">)}</span> - \\eta \\,            <a href=\"file://c:\\Users\\alexl\\AppData\\Local\\Programs\\Python\\Python312\\Lib\\site-packages\\manim\\utils\\tex_file_writing.py\" target=\"_blank\"><span style=\"color: #7f7f7f; text-decoration-color: #7f7f7f\">tex_file_writing.py</span></a><span style=\"color: #7f7f7f; text-decoration-color: #7f7f7f\">:</span><a href=\"file://c:\\Users\\alexl\\AppData\\Local\\Programs\\Python\\Python312\\Lib\\site-packages\\manim\\utils\\tex_file_writing.py#111\" target=\"_blank\"><span style=\"color: #7f7f7f; text-decoration-color: #7f7f7f\">111</span></a>\n",
       "<span style=\"color: #7fbfbf; text-decoration-color: #7fbfbf\">                    </span>         f'<span style=\"font-weight: bold\">(</span>\\Theta^<span style=\"font-weight: bold\">{(</span>t-<span style=\"color: #008000; text-decoration-color: #008000\">1</span><span style=\"font-weight: bold\">)})</span> to media\\Tex\\637183913cb2d02b.tex           <span style=\"color: #7f7f7f; text-decoration-color: #7f7f7f\">                       </span>\n",
       "</pre>\n"
      ],
      "text/plain": [
       "\u001b[2;36m                   \u001b[0m\u001b[2;36m \u001b[0m\u001b[32mINFO    \u001b[0m \u001b[1;33mWriting\u001b[0m \\Theta^\u001b[1m{\u001b[0m\u001b[1m(\u001b[0mt\u001b[1m)\u001b[0m\u001b[1m}\u001b[0m \\gets \\Theta^\u001b[1m{\u001b[0m\u001b[1m(\u001b[0mt-\u001b[32m1\u001b[0m\u001b[1m)\u001b[0m\u001b[1m}\u001b[0m - \\eta \\,            \u001b]8;id=266763;file://c:\\Users\\alexl\\AppData\\Local\\Programs\\Python\\Python312\\Lib\\site-packages\\manim\\utils\\tex_file_writing.py\u001b\\\u001b[2mtex_file_writing.py\u001b[0m\u001b]8;;\u001b\\\u001b[2m:\u001b[0m\u001b]8;id=845614;file://c:\\Users\\alexl\\AppData\\Local\\Programs\\Python\\Python312\\Lib\\site-packages\\manim\\utils\\tex_file_writing.py#111\u001b\\\u001b[2m111\u001b[0m\u001b]8;;\u001b\\\n",
       "\u001b[2;36m                    \u001b[0m         f'\u001b[1m(\u001b[0m\\Theta^\u001b[1m{\u001b[0m\u001b[1m(\u001b[0mt-\u001b[32m1\u001b[0m\u001b[1m)\u001b[0m\u001b[1m}\u001b[0m\u001b[1m)\u001b[0m to media\\Tex\\637183913cb2d02b.tex           \u001b[2m                       \u001b[0m\n"
      ]
     },
     "metadata": {},
     "output_type": "display_data"
    },
    {
     "data": {
      "text/html": [
       "<pre style=\"white-space:pre;overflow-x:auto;line-height:normal;font-family:Menlo,'DejaVu Sans Mono',consolas,'Courier New',monospace\"><span style=\"color: #7fbfbf; text-decoration-color: #7fbfbf\">[04/20/25 12:39:28] </span><span style=\"color: #800000; text-decoration-color: #800000\">WARNING </span> Attempted adding some Mobject as a child more than once, this is not    <a href=\"file://c:\\Users\\alexl\\AppData\\Local\\Programs\\Python\\Python312\\Lib\\site-packages\\manim\\mobject\\mobject.py\" target=\"_blank\"><span style=\"color: #7f7f7f; text-decoration-color: #7f7f7f\">mobject.py</span></a><span style=\"color: #7f7f7f; text-decoration-color: #7f7f7f\">:</span><a href=\"file://c:\\Users\\alexl\\AppData\\Local\\Programs\\Python\\Python312\\Lib\\site-packages\\manim\\mobject\\mobject.py#507\" target=\"_blank\"><span style=\"color: #7f7f7f; text-decoration-color: #7f7f7f\">507</span></a>\n",
       "<span style=\"color: #7fbfbf; text-decoration-color: #7fbfbf\">                    </span>         possible. Repetitions are ignored.                                      <span style=\"color: #7f7f7f; text-decoration-color: #7f7f7f\">              </span>\n",
       "</pre>\n"
      ],
      "text/plain": [
       "\u001b[2;36m[04/20/25 12:39:28]\u001b[0m\u001b[2;36m \u001b[0m\u001b[31mWARNING \u001b[0m Attempted adding some Mobject as a child more than once, this is not    \u001b]8;id=866832;file://c:\\Users\\alexl\\AppData\\Local\\Programs\\Python\\Python312\\Lib\\site-packages\\manim\\mobject\\mobject.py\u001b\\\u001b[2mmobject.py\u001b[0m\u001b]8;;\u001b\\\u001b[2m:\u001b[0m\u001b]8;id=157431;file://c:\\Users\\alexl\\AppData\\Local\\Programs\\Python\\Python312\\Lib\\site-packages\\manim\\mobject\\mobject.py#507\u001b\\\u001b[2m507\u001b[0m\u001b]8;;\u001b\\\n",
       "\u001b[2;36m                    \u001b[0m         possible. Repetitions are ignored.                                      \u001b[2m              \u001b[0m\n"
      ]
     },
     "metadata": {},
     "output_type": "display_data"
    },
    {
     "name": "stderr",
     "output_type": "stream",
     "text": [
      "                                                                                     \r"
     ]
    },
    {
     "data": {
      "text/html": [
       "<pre style=\"white-space:pre;overflow-x:auto;line-height:normal;font-family:Menlo,'DejaVu Sans Mono',consolas,'Courier New',monospace\"><span style=\"color: #7fbfbf; text-decoration-color: #7fbfbf\">[04/20/25 12:39:29] </span><span style=\"color: #008000; text-decoration-color: #008000\">INFO    </span> Animation <span style=\"color: #008000; text-decoration-color: #008000\">19</span> : Partial movie file written in                  <a href=\"file://c:\\Users\\alexl\\AppData\\Local\\Programs\\Python\\Python312\\Lib\\site-packages\\manim\\scene\\scene_file_writer.py\" target=\"_blank\"><span style=\"color: #7f7f7f; text-decoration-color: #7f7f7f\">scene_file_writer.py</span></a><span style=\"color: #7f7f7f; text-decoration-color: #7f7f7f\">:</span><a href=\"file://c:\\Users\\alexl\\AppData\\Local\\Programs\\Python\\Python312\\Lib\\site-packages\\manim\\scene\\scene_file_writer.py#588\" target=\"_blank\"><span style=\"color: #7f7f7f; text-decoration-color: #7f7f7f\">588</span></a>\n",
       "<span style=\"color: #7fbfbf; text-decoration-color: #7fbfbf\">                    </span>         <span style=\"color: #008000; text-decoration-color: #008000\">'C:\\Users\\alexl\\Code\\manim-generator\\documentation\\media\\vide</span> <span style=\"color: #7f7f7f; text-decoration-color: #7f7f7f\">                        </span>\n",
       "<span style=\"color: #7fbfbf; text-decoration-color: #7fbfbf\">                    </span>         <span style=\"color: #008000; text-decoration-color: #008000\">os\\480p15\\partial_movie_files\\FullTutorial\\624642324_27186754</span> <span style=\"color: #7f7f7f; text-decoration-color: #7f7f7f\">                        </span>\n",
       "<span style=\"color: #7fbfbf; text-decoration-color: #7fbfbf\">                    </span>         <span style=\"color: #008000; text-decoration-color: #008000\">03_1373278355.mp4'</span>                                            <span style=\"color: #7f7f7f; text-decoration-color: #7f7f7f\">                        </span>\n",
       "</pre>\n"
      ],
      "text/plain": [
       "\u001b[2;36m[04/20/25 12:39:29]\u001b[0m\u001b[2;36m \u001b[0m\u001b[32mINFO    \u001b[0m Animation \u001b[32m19\u001b[0m : Partial movie file written in                  \u001b]8;id=509683;file://c:\\Users\\alexl\\AppData\\Local\\Programs\\Python\\Python312\\Lib\\site-packages\\manim\\scene\\scene_file_writer.py\u001b\\\u001b[2mscene_file_writer.py\u001b[0m\u001b]8;;\u001b\\\u001b[2m:\u001b[0m\u001b]8;id=226638;file://c:\\Users\\alexl\\AppData\\Local\\Programs\\Python\\Python312\\Lib\\site-packages\\manim\\scene\\scene_file_writer.py#588\u001b\\\u001b[2m588\u001b[0m\u001b]8;;\u001b\\\n",
       "\u001b[2;36m                    \u001b[0m         \u001b[32m'C:\\Users\\alexl\\Code\\manim-generator\\documentation\\media\\vide\u001b[0m \u001b[2m                        \u001b[0m\n",
       "\u001b[2;36m                    \u001b[0m         \u001b[32mos\\480p15\\partial_movie_files\\FullTutorial\\624642324_27186754\u001b[0m \u001b[2m                        \u001b[0m\n",
       "\u001b[2;36m                    \u001b[0m         \u001b[32m03_1373278355.mp4'\u001b[0m                                            \u001b[2m                        \u001b[0m\n"
      ]
     },
     "metadata": {},
     "output_type": "display_data"
    },
    {
     "data": {
      "text/html": [
       "<pre style=\"white-space:pre;overflow-x:auto;line-height:normal;font-family:Menlo,'DejaVu Sans Mono',consolas,'Courier New',monospace\"><span style=\"color: #7fbfbf; text-decoration-color: #7fbfbf\">[04/20/25 12:39:30] </span><span style=\"color: #008000; text-decoration-color: #008000\">INFO    </span> Animation <span style=\"color: #008000; text-decoration-color: #008000\">20</span> : Partial movie file written in                  <a href=\"file://c:\\Users\\alexl\\AppData\\Local\\Programs\\Python\\Python312\\Lib\\site-packages\\manim\\scene\\scene_file_writer.py\" target=\"_blank\"><span style=\"color: #7f7f7f; text-decoration-color: #7f7f7f\">scene_file_writer.py</span></a><span style=\"color: #7f7f7f; text-decoration-color: #7f7f7f\">:</span><a href=\"file://c:\\Users\\alexl\\AppData\\Local\\Programs\\Python\\Python312\\Lib\\site-packages\\manim\\scene\\scene_file_writer.py#588\" target=\"_blank\"><span style=\"color: #7f7f7f; text-decoration-color: #7f7f7f\">588</span></a>\n",
       "<span style=\"color: #7fbfbf; text-decoration-color: #7fbfbf\">                    </span>         <span style=\"color: #008000; text-decoration-color: #008000\">'C:\\Users\\alexl\\Code\\manim-generator\\documentation\\media\\vide</span> <span style=\"color: #7f7f7f; text-decoration-color: #7f7f7f\">                        </span>\n",
       "<span style=\"color: #7fbfbf; text-decoration-color: #7fbfbf\">                    </span>         <span style=\"color: #008000; text-decoration-color: #008000\">os\\480p15\\partial_movie_files\\FullTutorial\\624642324_12467072</span> <span style=\"color: #7f7f7f; text-decoration-color: #7f7f7f\">                        </span>\n",
       "<span style=\"color: #7fbfbf; text-decoration-color: #7fbfbf\">                    </span>         <span style=\"color: #008000; text-decoration-color: #008000\">05_2539317957.mp4'</span>                                            <span style=\"color: #7f7f7f; text-decoration-color: #7f7f7f\">                        </span>\n",
       "</pre>\n"
      ],
      "text/plain": [
       "\u001b[2;36m[04/20/25 12:39:30]\u001b[0m\u001b[2;36m \u001b[0m\u001b[32mINFO    \u001b[0m Animation \u001b[32m20\u001b[0m : Partial movie file written in                  \u001b]8;id=445939;file://c:\\Users\\alexl\\AppData\\Local\\Programs\\Python\\Python312\\Lib\\site-packages\\manim\\scene\\scene_file_writer.py\u001b\\\u001b[2mscene_file_writer.py\u001b[0m\u001b]8;;\u001b\\\u001b[2m:\u001b[0m\u001b]8;id=149155;file://c:\\Users\\alexl\\AppData\\Local\\Programs\\Python\\Python312\\Lib\\site-packages\\manim\\scene\\scene_file_writer.py#588\u001b\\\u001b[2m588\u001b[0m\u001b]8;;\u001b\\\n",
       "\u001b[2;36m                    \u001b[0m         \u001b[32m'C:\\Users\\alexl\\Code\\manim-generator\\documentation\\media\\vide\u001b[0m \u001b[2m                        \u001b[0m\n",
       "\u001b[2;36m                    \u001b[0m         \u001b[32mos\\480p15\\partial_movie_files\\FullTutorial\\624642324_12467072\u001b[0m \u001b[2m                        \u001b[0m\n",
       "\u001b[2;36m                    \u001b[0m         \u001b[32m05_2539317957.mp4'\u001b[0m                                            \u001b[2m                        \u001b[0m\n"
      ]
     },
     "metadata": {},
     "output_type": "display_data"
    },
    {
     "data": {
      "text/html": [
       "<pre style=\"white-space:pre;overflow-x:auto;line-height:normal;font-family:Menlo,'DejaVu Sans Mono',consolas,'Courier New',monospace\"><span style=\"color: #7fbfbf; text-decoration-color: #7fbfbf\">[04/20/25 12:39:31] </span><span style=\"color: #008000; text-decoration-color: #008000\">INFO    </span> Automatically converted                                       <a href=\"file://c:\\Users\\alexl\\AppData\\Local\\Programs\\Python\\Python312\\Lib\\site-packages\\manim\\scene\\scene_file_writer.py\" target=\"_blank\"><span style=\"color: #7f7f7f; text-decoration-color: #7f7f7f\">scene_file_writer.py</span></a><span style=\"color: #7f7f7f; text-decoration-color: #7f7f7f\">:</span><a href=\"file://c:\\Users\\alexl\\AppData\\Local\\Programs\\Python\\Python312\\Lib\\site-packages\\manim\\scene\\scene_file_writer.py#377\" target=\"_blank\"><span style=\"color: #7f7f7f; text-decoration-color: #7f7f7f\">377</span></a>\n",
       "<span style=\"color: #7fbfbf; text-decoration-color: #7fbfbf\">                    </span>         media\\voiceovers\\let-s-visualize-this-with-a-simple-example-2 <span style=\"color: #7f7f7f; text-decoration-color: #7f7f7f\">                        </span>\n",
       "<span style=\"color: #7fbfbf; text-decoration-color: #7fbfbf\">                    </span>         b191f34.mp3 to .wav                                           <span style=\"color: #7f7f7f; text-decoration-color: #7f7f7f\">                        </span>\n",
       "</pre>\n"
      ],
      "text/plain": [
       "\u001b[2;36m[04/20/25 12:39:31]\u001b[0m\u001b[2;36m \u001b[0m\u001b[32mINFO    \u001b[0m Automatically converted                                       \u001b]8;id=703646;file://c:\\Users\\alexl\\AppData\\Local\\Programs\\Python\\Python312\\Lib\\site-packages\\manim\\scene\\scene_file_writer.py\u001b\\\u001b[2mscene_file_writer.py\u001b[0m\u001b]8;;\u001b\\\u001b[2m:\u001b[0m\u001b]8;id=147452;file://c:\\Users\\alexl\\AppData\\Local\\Programs\\Python\\Python312\\Lib\\site-packages\\manim\\scene\\scene_file_writer.py#377\u001b\\\u001b[2m377\u001b[0m\u001b]8;;\u001b\\\n",
       "\u001b[2;36m                    \u001b[0m         media\\voiceovers\\let-s-visualize-this-with-a-simple-example-2 \u001b[2m                        \u001b[0m\n",
       "\u001b[2;36m                    \u001b[0m         b191f34.mp3 to .wav                                           \u001b[2m                        \u001b[0m\n"
      ]
     },
     "metadata": {},
     "output_type": "display_data"
    },
    {
     "name": "stderr",
     "output_type": "stream",
     "text": [
      "                                                                                                                                                                                                               \r"
     ]
    },
    {
     "data": {
      "text/html": [
       "<pre style=\"white-space:pre;overflow-x:auto;line-height:normal;font-family:Menlo,'DejaVu Sans Mono',consolas,'Courier New',monospace\"><span style=\"color: #7fbfbf; text-decoration-color: #7fbfbf\">[04/20/25 12:39:32] </span><span style=\"color: #008000; text-decoration-color: #008000\">INFO    </span> Animation <span style=\"color: #008000; text-decoration-color: #008000\">21</span> : Partial movie file written in                  <a href=\"file://c:\\Users\\alexl\\AppData\\Local\\Programs\\Python\\Python312\\Lib\\site-packages\\manim\\scene\\scene_file_writer.py\" target=\"_blank\"><span style=\"color: #7f7f7f; text-decoration-color: #7f7f7f\">scene_file_writer.py</span></a><span style=\"color: #7f7f7f; text-decoration-color: #7f7f7f\">:</span><a href=\"file://c:\\Users\\alexl\\AppData\\Local\\Programs\\Python\\Python312\\Lib\\site-packages\\manim\\scene\\scene_file_writer.py#588\" target=\"_blank\"><span style=\"color: #7f7f7f; text-decoration-color: #7f7f7f\">588</span></a>\n",
       "<span style=\"color: #7fbfbf; text-decoration-color: #7fbfbf\">                    </span>         <span style=\"color: #008000; text-decoration-color: #008000\">'C:\\Users\\alexl\\Code\\manim-generator\\documentation\\media\\vide</span> <span style=\"color: #7f7f7f; text-decoration-color: #7f7f7f\">                        </span>\n",
       "<span style=\"color: #7fbfbf; text-decoration-color: #7fbfbf\">                    </span>         <span style=\"color: #008000; text-decoration-color: #008000\">os\\480p15\\partial_movie_files\\FullTutorial\\624642324_33928262</span> <span style=\"color: #7f7f7f; text-decoration-color: #7f7f7f\">                        </span>\n",
       "<span style=\"color: #7fbfbf; text-decoration-color: #7fbfbf\">                    </span>         <span style=\"color: #008000; text-decoration-color: #008000\">12_3020554902.mp4'</span>                                            <span style=\"color: #7f7f7f; text-decoration-color: #7f7f7f\">                        </span>\n",
       "</pre>\n"
      ],
      "text/plain": [
       "\u001b[2;36m[04/20/25 12:39:32]\u001b[0m\u001b[2;36m \u001b[0m\u001b[32mINFO    \u001b[0m Animation \u001b[32m21\u001b[0m : Partial movie file written in                  \u001b]8;id=911607;file://c:\\Users\\alexl\\AppData\\Local\\Programs\\Python\\Python312\\Lib\\site-packages\\manim\\scene\\scene_file_writer.py\u001b\\\u001b[2mscene_file_writer.py\u001b[0m\u001b]8;;\u001b\\\u001b[2m:\u001b[0m\u001b]8;id=899675;file://c:\\Users\\alexl\\AppData\\Local\\Programs\\Python\\Python312\\Lib\\site-packages\\manim\\scene\\scene_file_writer.py#588\u001b\\\u001b[2m588\u001b[0m\u001b]8;;\u001b\\\n",
       "\u001b[2;36m                    \u001b[0m         \u001b[32m'C:\\Users\\alexl\\Code\\manim-generator\\documentation\\media\\vide\u001b[0m \u001b[2m                        \u001b[0m\n",
       "\u001b[2;36m                    \u001b[0m         \u001b[32mos\\480p15\\partial_movie_files\\FullTutorial\\624642324_33928262\u001b[0m \u001b[2m                        \u001b[0m\n",
       "\u001b[2;36m                    \u001b[0m         \u001b[32m12_3020554902.mp4'\u001b[0m                                            \u001b[2m                        \u001b[0m\n"
      ]
     },
     "metadata": {},
     "output_type": "display_data"
    },
    {
     "data": {
      "text/html": [
       "<pre style=\"white-space:pre;overflow-x:auto;line-height:normal;font-family:Menlo,'DejaVu Sans Mono',consolas,'Courier New',monospace\"><span style=\"color: #7fbfbf; text-decoration-color: #7fbfbf\">                    </span><span style=\"color: #008000; text-decoration-color: #008000\">INFO    </span> <span style=\"color: #808000; text-decoration-color: #808000; font-weight: bold\">Writing</span> <span style=\"color: #008000; text-decoration-color: #008000\">3</span> to media\\Tex\\8de07035cb22c903.tex                    <a href=\"file://c:\\Users\\alexl\\AppData\\Local\\Programs\\Python\\Python312\\Lib\\site-packages\\manim\\utils\\tex_file_writing.py\" target=\"_blank\"><span style=\"color: #7f7f7f; text-decoration-color: #7f7f7f\">tex_file_writing.py</span></a><span style=\"color: #7f7f7f; text-decoration-color: #7f7f7f\">:</span><a href=\"file://c:\\Users\\alexl\\AppData\\Local\\Programs\\Python\\Python312\\Lib\\site-packages\\manim\\utils\\tex_file_writing.py#111\" target=\"_blank\"><span style=\"color: #7f7f7f; text-decoration-color: #7f7f7f\">111</span></a>\n",
       "</pre>\n"
      ],
      "text/plain": [
       "\u001b[2;36m                   \u001b[0m\u001b[2;36m \u001b[0m\u001b[32mINFO    \u001b[0m \u001b[1;33mWriting\u001b[0m \u001b[32m3\u001b[0m to media\\Tex\\8de07035cb22c903.tex                    \u001b]8;id=178944;file://c:\\Users\\alexl\\AppData\\Local\\Programs\\Python\\Python312\\Lib\\site-packages\\manim\\utils\\tex_file_writing.py\u001b\\\u001b[2mtex_file_writing.py\u001b[0m\u001b]8;;\u001b\\\u001b[2m:\u001b[0m\u001b]8;id=329245;file://c:\\Users\\alexl\\AppData\\Local\\Programs\\Python\\Python312\\Lib\\site-packages\\manim\\utils\\tex_file_writing.py#111\u001b\\\u001b[2m111\u001b[0m\u001b]8;;\u001b\\\n"
      ]
     },
     "metadata": {},
     "output_type": "display_data"
    },
    {
     "data": {
      "text/html": [
       "<pre style=\"white-space:pre;overflow-x:auto;line-height:normal;font-family:Menlo,'DejaVu Sans Mono',consolas,'Courier New',monospace\"><span style=\"color: #7fbfbf; text-decoration-color: #7fbfbf\">[04/20/25 12:39:33] </span><span style=\"color: #008000; text-decoration-color: #008000\">INFO    </span> <span style=\"color: #808000; text-decoration-color: #808000; font-weight: bold\">Writing</span> <span style=\"color: #008000; text-decoration-color: #008000\">6</span> to media\\Tex\\b330e3953bf029d7.tex                    <a href=\"file://c:\\Users\\alexl\\AppData\\Local\\Programs\\Python\\Python312\\Lib\\site-packages\\manim\\utils\\tex_file_writing.py\" target=\"_blank\"><span style=\"color: #7f7f7f; text-decoration-color: #7f7f7f\">tex_file_writing.py</span></a><span style=\"color: #7f7f7f; text-decoration-color: #7f7f7f\">:</span><a href=\"file://c:\\Users\\alexl\\AppData\\Local\\Programs\\Python\\Python312\\Lib\\site-packages\\manim\\utils\\tex_file_writing.py#111\" target=\"_blank\"><span style=\"color: #7f7f7f; text-decoration-color: #7f7f7f\">111</span></a>\n",
       "</pre>\n"
      ],
      "text/plain": [
       "\u001b[2;36m[04/20/25 12:39:33]\u001b[0m\u001b[2;36m \u001b[0m\u001b[32mINFO    \u001b[0m \u001b[1;33mWriting\u001b[0m \u001b[32m6\u001b[0m to media\\Tex\\b330e3953bf029d7.tex                    \u001b]8;id=804473;file://c:\\Users\\alexl\\AppData\\Local\\Programs\\Python\\Python312\\Lib\\site-packages\\manim\\utils\\tex_file_writing.py\u001b\\\u001b[2mtex_file_writing.py\u001b[0m\u001b]8;;\u001b\\\u001b[2m:\u001b[0m\u001b]8;id=259345;file://c:\\Users\\alexl\\AppData\\Local\\Programs\\Python\\Python312\\Lib\\site-packages\\manim\\utils\\tex_file_writing.py#111\u001b\\\u001b[2m111\u001b[0m\u001b]8;;\u001b\\\n"
      ]
     },
     "metadata": {},
     "output_type": "display_data"
    },
    {
     "data": {
      "text/html": [
       "<pre style=\"white-space:pre;overflow-x:auto;line-height:normal;font-family:Menlo,'DejaVu Sans Mono',consolas,'Courier New',monospace\"><span style=\"color: #7fbfbf; text-decoration-color: #7fbfbf\">[04/20/25 12:39:34] </span><span style=\"color: #008000; text-decoration-color: #008000\">INFO    </span> <span style=\"color: #808000; text-decoration-color: #808000; font-weight: bold\">Writing</span> x to media\\Tex\\d3c1af651a272204.tex                    <a href=\"file://c:\\Users\\alexl\\AppData\\Local\\Programs\\Python\\Python312\\Lib\\site-packages\\manim\\utils\\tex_file_writing.py\" target=\"_blank\"><span style=\"color: #7f7f7f; text-decoration-color: #7f7f7f\">tex_file_writing.py</span></a><span style=\"color: #7f7f7f; text-decoration-color: #7f7f7f\">:</span><a href=\"file://c:\\Users\\alexl\\AppData\\Local\\Programs\\Python\\Python312\\Lib\\site-packages\\manim\\utils\\tex_file_writing.py#111\" target=\"_blank\"><span style=\"color: #7f7f7f; text-decoration-color: #7f7f7f\">111</span></a>\n",
       "</pre>\n"
      ],
      "text/plain": [
       "\u001b[2;36m[04/20/25 12:39:34]\u001b[0m\u001b[2;36m \u001b[0m\u001b[32mINFO    \u001b[0m \u001b[1;33mWriting\u001b[0m x to media\\Tex\\d3c1af651a272204.tex                    \u001b]8;id=712441;file://c:\\Users\\alexl\\AppData\\Local\\Programs\\Python\\Python312\\Lib\\site-packages\\manim\\utils\\tex_file_writing.py\u001b\\\u001b[2mtex_file_writing.py\u001b[0m\u001b]8;;\u001b\\\u001b[2m:\u001b[0m\u001b]8;id=89302;file://c:\\Users\\alexl\\AppData\\Local\\Programs\\Python\\Python312\\Lib\\site-packages\\manim\\utils\\tex_file_writing.py#111\u001b\\\u001b[2m111\u001b[0m\u001b]8;;\u001b\\\n"
      ]
     },
     "metadata": {},
     "output_type": "display_data"
    },
    {
     "data": {
      "text/html": [
       "<pre style=\"white-space:pre;overflow-x:auto;line-height:normal;font-family:Menlo,'DejaVu Sans Mono',consolas,'Courier New',monospace\"><span style=\"color: #7fbfbf; text-decoration-color: #7fbfbf\">[04/20/25 12:39:36] </span><span style=\"color: #008000; text-decoration-color: #008000\">INFO    </span> <span style=\"color: #808000; text-decoration-color: #808000; font-weight: bold\">Writing</span> <span style=\"color: #800080; text-decoration-color: #800080; font-weight: bold\">f</span><span style=\"font-weight: bold\">(</span>x<span style=\"font-weight: bold\">)</span> to media\\Tex\\70b3a8630e8c4922.tex                 <a href=\"file://c:\\Users\\alexl\\AppData\\Local\\Programs\\Python\\Python312\\Lib\\site-packages\\manim\\utils\\tex_file_writing.py\" target=\"_blank\"><span style=\"color: #7f7f7f; text-decoration-color: #7f7f7f\">tex_file_writing.py</span></a><span style=\"color: #7f7f7f; text-decoration-color: #7f7f7f\">:</span><a href=\"file://c:\\Users\\alexl\\AppData\\Local\\Programs\\Python\\Python312\\Lib\\site-packages\\manim\\utils\\tex_file_writing.py#111\" target=\"_blank\"><span style=\"color: #7f7f7f; text-decoration-color: #7f7f7f\">111</span></a>\n",
       "</pre>\n"
      ],
      "text/plain": [
       "\u001b[2;36m[04/20/25 12:39:36]\u001b[0m\u001b[2;36m \u001b[0m\u001b[32mINFO    \u001b[0m \u001b[1;33mWriting\u001b[0m \u001b[1;35mf\u001b[0m\u001b[1m(\u001b[0mx\u001b[1m)\u001b[0m to media\\Tex\\70b3a8630e8c4922.tex                 \u001b]8;id=470265;file://c:\\Users\\alexl\\AppData\\Local\\Programs\\Python\\Python312\\Lib\\site-packages\\manim\\utils\\tex_file_writing.py\u001b\\\u001b[2mtex_file_writing.py\u001b[0m\u001b]8;;\u001b\\\u001b[2m:\u001b[0m\u001b]8;id=584889;file://c:\\Users\\alexl\\AppData\\Local\\Programs\\Python\\Python312\\Lib\\site-packages\\manim\\utils\\tex_file_writing.py#111\u001b\\\u001b[2m111\u001b[0m\u001b]8;;\u001b\\\n"
      ]
     },
     "metadata": {},
     "output_type": "display_data"
    },
    {
     "data": {
      "text/html": [
       "<pre style=\"white-space:pre;overflow-x:auto;line-height:normal;font-family:Menlo,'DejaVu Sans Mono',consolas,'Courier New',monospace\"><span style=\"color: #7fbfbf; text-decoration-color: #7fbfbf\">[04/20/25 12:39:38] </span><span style=\"color: #008000; text-decoration-color: #008000\">INFO    </span> <span style=\"color: #808000; text-decoration-color: #808000; font-weight: bold\">Writing</span> <span style=\"color: #800080; text-decoration-color: #800080; font-weight: bold\">f</span><span style=\"font-weight: bold\">(</span>x<span style=\"font-weight: bold\">)</span> = <span style=\"font-weight: bold\">(</span>x - <span style=\"color: #008000; text-decoration-color: #008000\">2</span><span style=\"font-weight: bold\">)</span>^<span style=\"color: #008000; text-decoration-color: #008000\">2</span> to media\\Tex\\7be703b57e470824.tex     <a href=\"file://c:\\Users\\alexl\\AppData\\Local\\Programs\\Python\\Python312\\Lib\\site-packages\\manim\\utils\\tex_file_writing.py\" target=\"_blank\"><span style=\"color: #7f7f7f; text-decoration-color: #7f7f7f\">tex_file_writing.py</span></a><span style=\"color: #7f7f7f; text-decoration-color: #7f7f7f\">:</span><a href=\"file://c:\\Users\\alexl\\AppData\\Local\\Programs\\Python\\Python312\\Lib\\site-packages\\manim\\utils\\tex_file_writing.py#111\" target=\"_blank\"><span style=\"color: #7f7f7f; text-decoration-color: #7f7f7f\">111</span></a>\n",
       "</pre>\n"
      ],
      "text/plain": [
       "\u001b[2;36m[04/20/25 12:39:38]\u001b[0m\u001b[2;36m \u001b[0m\u001b[32mINFO    \u001b[0m \u001b[1;33mWriting\u001b[0m \u001b[1;35mf\u001b[0m\u001b[1m(\u001b[0mx\u001b[1m)\u001b[0m = \u001b[1m(\u001b[0mx - \u001b[32m2\u001b[0m\u001b[1m)\u001b[0m^\u001b[32m2\u001b[0m to media\\Tex\\7be703b57e470824.tex     \u001b]8;id=490779;file://c:\\Users\\alexl\\AppData\\Local\\Programs\\Python\\Python312\\Lib\\site-packages\\manim\\utils\\tex_file_writing.py\u001b\\\u001b[2mtex_file_writing.py\u001b[0m\u001b]8;;\u001b\\\u001b[2m:\u001b[0m\u001b]8;id=327683;file://c:\\Users\\alexl\\AppData\\Local\\Programs\\Python\\Python312\\Lib\\site-packages\\manim\\utils\\tex_file_writing.py#111\u001b\\\u001b[2m111\u001b[0m\u001b]8;;\u001b\\\n"
      ]
     },
     "metadata": {},
     "output_type": "display_data"
    },
    {
     "name": "stderr",
     "output_type": "stream",
     "text": [
      "                                                                                               \r"
     ]
    },
    {
     "data": {
      "text/html": [
       "<pre style=\"white-space:pre;overflow-x:auto;line-height:normal;font-family:Menlo,'DejaVu Sans Mono',consolas,'Courier New',monospace\"><span style=\"color: #7fbfbf; text-decoration-color: #7fbfbf\">[04/20/25 12:39:40] </span><span style=\"color: #008000; text-decoration-color: #008000\">INFO    </span> Animation <span style=\"color: #008000; text-decoration-color: #008000\">22</span> : Partial movie file written in                  <a href=\"file://c:\\Users\\alexl\\AppData\\Local\\Programs\\Python\\Python312\\Lib\\site-packages\\manim\\scene\\scene_file_writer.py\" target=\"_blank\"><span style=\"color: #7f7f7f; text-decoration-color: #7f7f7f\">scene_file_writer.py</span></a><span style=\"color: #7f7f7f; text-decoration-color: #7f7f7f\">:</span><a href=\"file://c:\\Users\\alexl\\AppData\\Local\\Programs\\Python\\Python312\\Lib\\site-packages\\manim\\scene\\scene_file_writer.py#588\" target=\"_blank\"><span style=\"color: #7f7f7f; text-decoration-color: #7f7f7f\">588</span></a>\n",
       "<span style=\"color: #7fbfbf; text-decoration-color: #7fbfbf\">                    </span>         <span style=\"color: #008000; text-decoration-color: #008000\">'C:\\Users\\alexl\\Code\\manim-generator\\documentation\\media\\vide</span> <span style=\"color: #7f7f7f; text-decoration-color: #7f7f7f\">                        </span>\n",
       "<span style=\"color: #7fbfbf; text-decoration-color: #7fbfbf\">                    </span>         <span style=\"color: #008000; text-decoration-color: #008000\">os\\480p15\\partial_movie_files\\FullTutorial\\624642324_41284087</span> <span style=\"color: #7f7f7f; text-decoration-color: #7f7f7f\">                        </span>\n",
       "<span style=\"color: #7fbfbf; text-decoration-color: #7fbfbf\">                    </span>         <span style=\"color: #008000; text-decoration-color: #008000\">23_3942378537.mp4'</span>                                            <span style=\"color: #7f7f7f; text-decoration-color: #7f7f7f\">                        </span>\n",
       "</pre>\n"
      ],
      "text/plain": [
       "\u001b[2;36m[04/20/25 12:39:40]\u001b[0m\u001b[2;36m \u001b[0m\u001b[32mINFO    \u001b[0m Animation \u001b[32m22\u001b[0m : Partial movie file written in                  \u001b]8;id=65027;file://c:\\Users\\alexl\\AppData\\Local\\Programs\\Python\\Python312\\Lib\\site-packages\\manim\\scene\\scene_file_writer.py\u001b\\\u001b[2mscene_file_writer.py\u001b[0m\u001b]8;;\u001b\\\u001b[2m:\u001b[0m\u001b]8;id=259433;file://c:\\Users\\alexl\\AppData\\Local\\Programs\\Python\\Python312\\Lib\\site-packages\\manim\\scene\\scene_file_writer.py#588\u001b\\\u001b[2m588\u001b[0m\u001b]8;;\u001b\\\n",
       "\u001b[2;36m                    \u001b[0m         \u001b[32m'C:\\Users\\alexl\\Code\\manim-generator\\documentation\\media\\vide\u001b[0m \u001b[2m                        \u001b[0m\n",
       "\u001b[2;36m                    \u001b[0m         \u001b[32mos\\480p15\\partial_movie_files\\FullTutorial\\624642324_41284087\u001b[0m \u001b[2m                        \u001b[0m\n",
       "\u001b[2;36m                    \u001b[0m         \u001b[32m23_3942378537.mp4'\u001b[0m                                            \u001b[2m                        \u001b[0m\n"
      ]
     },
     "metadata": {},
     "output_type": "display_data"
    },
    {
     "data": {
      "text/html": [
       "<pre style=\"white-space:pre;overflow-x:auto;line-height:normal;font-family:Menlo,'DejaVu Sans Mono',consolas,'Courier New',monospace\"><span style=\"color: #7fbfbf; text-decoration-color: #7fbfbf\">[04/20/25 12:39:42] </span><span style=\"color: #008000; text-decoration-color: #008000\">INFO    </span> Animation <span style=\"color: #008000; text-decoration-color: #008000\">23</span> : Partial movie file written in                  <a href=\"file://c:\\Users\\alexl\\AppData\\Local\\Programs\\Python\\Python312\\Lib\\site-packages\\manim\\scene\\scene_file_writer.py\" target=\"_blank\"><span style=\"color: #7f7f7f; text-decoration-color: #7f7f7f\">scene_file_writer.py</span></a><span style=\"color: #7f7f7f; text-decoration-color: #7f7f7f\">:</span><a href=\"file://c:\\Users\\alexl\\AppData\\Local\\Programs\\Python\\Python312\\Lib\\site-packages\\manim\\scene\\scene_file_writer.py#588\" target=\"_blank\"><span style=\"color: #7f7f7f; text-decoration-color: #7f7f7f\">588</span></a>\n",
       "<span style=\"color: #7fbfbf; text-decoration-color: #7fbfbf\">                    </span>         <span style=\"color: #008000; text-decoration-color: #008000\">'C:\\Users\\alexl\\Code\\manim-generator\\documentation\\media\\vide</span> <span style=\"color: #7f7f7f; text-decoration-color: #7f7f7f\">                        </span>\n",
       "<span style=\"color: #7fbfbf; text-decoration-color: #7fbfbf\">                    </span>         <span style=\"color: #008000; text-decoration-color: #008000\">os\\480p15\\partial_movie_files\\FullTutorial\\624642324_40893517</span> <span style=\"color: #7f7f7f; text-decoration-color: #7f7f7f\">                        </span>\n",
       "<span style=\"color: #7fbfbf; text-decoration-color: #7fbfbf\">                    </span>         <span style=\"color: #008000; text-decoration-color: #008000\">52_1806015042.mp4'</span>                                            <span style=\"color: #7f7f7f; text-decoration-color: #7f7f7f\">                        </span>\n",
       "</pre>\n"
      ],
      "text/plain": [
       "\u001b[2;36m[04/20/25 12:39:42]\u001b[0m\u001b[2;36m \u001b[0m\u001b[32mINFO    \u001b[0m Animation \u001b[32m23\u001b[0m : Partial movie file written in                  \u001b]8;id=359044;file://c:\\Users\\alexl\\AppData\\Local\\Programs\\Python\\Python312\\Lib\\site-packages\\manim\\scene\\scene_file_writer.py\u001b\\\u001b[2mscene_file_writer.py\u001b[0m\u001b]8;;\u001b\\\u001b[2m:\u001b[0m\u001b]8;id=609848;file://c:\\Users\\alexl\\AppData\\Local\\Programs\\Python\\Python312\\Lib\\site-packages\\manim\\scene\\scene_file_writer.py#588\u001b\\\u001b[2m588\u001b[0m\u001b]8;;\u001b\\\n",
       "\u001b[2;36m                    \u001b[0m         \u001b[32m'C:\\Users\\alexl\\Code\\manim-generator\\documentation\\media\\vide\u001b[0m \u001b[2m                        \u001b[0m\n",
       "\u001b[2;36m                    \u001b[0m         \u001b[32mos\\480p15\\partial_movie_files\\FullTutorial\\624642324_40893517\u001b[0m \u001b[2m                        \u001b[0m\n",
       "\u001b[2;36m                    \u001b[0m         \u001b[32m52_1806015042.mp4'\u001b[0m                                            \u001b[2m                        \u001b[0m\n"
      ]
     },
     "metadata": {},
     "output_type": "display_data"
    },
    {
     "data": {
      "text/html": [
       "<pre style=\"white-space:pre;overflow-x:auto;line-height:normal;font-family:Menlo,'DejaVu Sans Mono',consolas,'Courier New',monospace\"><span style=\"color: #7fbfbf; text-decoration-color: #7fbfbf\">                    </span><span style=\"color: #008000; text-decoration-color: #008000\">INFO    </span> Automatically converted                                       <a href=\"file://c:\\Users\\alexl\\AppData\\Local\\Programs\\Python\\Python312\\Lib\\site-packages\\manim\\scene\\scene_file_writer.py\" target=\"_blank\"><span style=\"color: #7f7f7f; text-decoration-color: #7f7f7f\">scene_file_writer.py</span></a><span style=\"color: #7f7f7f; text-decoration-color: #7f7f7f\">:</span><a href=\"file://c:\\Users\\alexl\\AppData\\Local\\Programs\\Python\\Python312\\Lib\\site-packages\\manim\\scene\\scene_file_writer.py#377\" target=\"_blank\"><span style=\"color: #7f7f7f; text-decoration-color: #7f7f7f\">377</span></a>\n",
       "<span style=\"color: #7fbfbf; text-decoration-color: #7fbfbf\">                    </span>         media\\voiceovers\\starting-at-x-equals-<span style=\"color: #008000; text-decoration-color: #008000\">4</span>-with-a-learning-rate- <span style=\"color: #7f7f7f; text-decoration-color: #7f7f7f\">                        </span>\n",
       "<span style=\"color: #7fbfbf; text-decoration-color: #7fbfbf\">                    </span>         of-<span style=\"color: #008000; text-decoration-color: #008000\">0</span>-<span style=\"color: #008000; text-decoration-color: #008000\">5</span>-3decd13d.mp3 to .wav                                   <span style=\"color: #7f7f7f; text-decoration-color: #7f7f7f\">                        </span>\n",
       "</pre>\n"
      ],
      "text/plain": [
       "\u001b[2;36m                   \u001b[0m\u001b[2;36m \u001b[0m\u001b[32mINFO    \u001b[0m Automatically converted                                       \u001b]8;id=254338;file://c:\\Users\\alexl\\AppData\\Local\\Programs\\Python\\Python312\\Lib\\site-packages\\manim\\scene\\scene_file_writer.py\u001b\\\u001b[2mscene_file_writer.py\u001b[0m\u001b]8;;\u001b\\\u001b[2m:\u001b[0m\u001b]8;id=362224;file://c:\\Users\\alexl\\AppData\\Local\\Programs\\Python\\Python312\\Lib\\site-packages\\manim\\scene\\scene_file_writer.py#377\u001b\\\u001b[2m377\u001b[0m\u001b]8;;\u001b\\\n",
       "\u001b[2;36m                    \u001b[0m         media\\voiceovers\\starting-at-x-equals-\u001b[32m4\u001b[0m-with-a-learning-rate- \u001b[2m                        \u001b[0m\n",
       "\u001b[2;36m                    \u001b[0m         of-\u001b[32m0\u001b[0m-\u001b[32m5\u001b[0m-3decd13d.mp3 to .wav                                   \u001b[2m                        \u001b[0m\n"
      ]
     },
     "metadata": {},
     "output_type": "display_data"
    },
    {
     "name": "stderr",
     "output_type": "stream",
     "text": [
      "                                                                                 \r"
     ]
    },
    {
     "data": {
      "text/html": [
       "<pre style=\"white-space:pre;overflow-x:auto;line-height:normal;font-family:Menlo,'DejaVu Sans Mono',consolas,'Courier New',monospace\"><span style=\"color: #7fbfbf; text-decoration-color: #7fbfbf\">[04/20/25 12:39:43] </span><span style=\"color: #008000; text-decoration-color: #008000\">INFO    </span> Animation <span style=\"color: #008000; text-decoration-color: #008000\">24</span> : Partial movie file written in                  <a href=\"file://c:\\Users\\alexl\\AppData\\Local\\Programs\\Python\\Python312\\Lib\\site-packages\\manim\\scene\\scene_file_writer.py\" target=\"_blank\"><span style=\"color: #7f7f7f; text-decoration-color: #7f7f7f\">scene_file_writer.py</span></a><span style=\"color: #7f7f7f; text-decoration-color: #7f7f7f\">:</span><a href=\"file://c:\\Users\\alexl\\AppData\\Local\\Programs\\Python\\Python312\\Lib\\site-packages\\manim\\scene\\scene_file_writer.py#588\" target=\"_blank\"><span style=\"color: #7f7f7f; text-decoration-color: #7f7f7f\">588</span></a>\n",
       "<span style=\"color: #7fbfbf; text-decoration-color: #7fbfbf\">                    </span>         <span style=\"color: #008000; text-decoration-color: #008000\">'C:\\Users\\alexl\\Code\\manim-generator\\documentation\\media\\vide</span> <span style=\"color: #7f7f7f; text-decoration-color: #7f7f7f\">                        </span>\n",
       "<span style=\"color: #7fbfbf; text-decoration-color: #7fbfbf\">                    </span>         <span style=\"color: #008000; text-decoration-color: #008000\">os\\480p15\\partial_movie_files\\FullTutorial\\624642324_12568959</span> <span style=\"color: #7f7f7f; text-decoration-color: #7f7f7f\">                        </span>\n",
       "<span style=\"color: #7fbfbf; text-decoration-color: #7fbfbf\">                    </span>         <span style=\"color: #008000; text-decoration-color: #008000\">51_1139114330.mp4'</span>                                            <span style=\"color: #7f7f7f; text-decoration-color: #7f7f7f\">                        </span>\n",
       "</pre>\n"
      ],
      "text/plain": [
       "\u001b[2;36m[04/20/25 12:39:43]\u001b[0m\u001b[2;36m \u001b[0m\u001b[32mINFO    \u001b[0m Animation \u001b[32m24\u001b[0m : Partial movie file written in                  \u001b]8;id=954299;file://c:\\Users\\alexl\\AppData\\Local\\Programs\\Python\\Python312\\Lib\\site-packages\\manim\\scene\\scene_file_writer.py\u001b\\\u001b[2mscene_file_writer.py\u001b[0m\u001b]8;;\u001b\\\u001b[2m:\u001b[0m\u001b]8;id=31396;file://c:\\Users\\alexl\\AppData\\Local\\Programs\\Python\\Python312\\Lib\\site-packages\\manim\\scene\\scene_file_writer.py#588\u001b\\\u001b[2m588\u001b[0m\u001b]8;;\u001b\\\n",
       "\u001b[2;36m                    \u001b[0m         \u001b[32m'C:\\Users\\alexl\\Code\\manim-generator\\documentation\\media\\vide\u001b[0m \u001b[2m                        \u001b[0m\n",
       "\u001b[2;36m                    \u001b[0m         \u001b[32mos\\480p15\\partial_movie_files\\FullTutorial\\624642324_12568959\u001b[0m \u001b[2m                        \u001b[0m\n",
       "\u001b[2;36m                    \u001b[0m         \u001b[32m51_1139114330.mp4'\u001b[0m                                            \u001b[2m                        \u001b[0m\n"
      ]
     },
     "metadata": {},
     "output_type": "display_data"
    },
    {
     "data": {
      "text/html": [
       "<pre style=\"white-space:pre;overflow-x:auto;line-height:normal;font-family:Menlo,'DejaVu Sans Mono',consolas,'Courier New',monospace\"><span style=\"color: #7fbfbf; text-decoration-color: #7fbfbf\">[04/20/25 12:39:44] </span><span style=\"color: #008000; text-decoration-color: #008000\">INFO    </span> Animation <span style=\"color: #008000; text-decoration-color: #008000\">25</span> : Partial movie file written in                  <a href=\"file://c:\\Users\\alexl\\AppData\\Local\\Programs\\Python\\Python312\\Lib\\site-packages\\manim\\scene\\scene_file_writer.py\" target=\"_blank\"><span style=\"color: #7f7f7f; text-decoration-color: #7f7f7f\">scene_file_writer.py</span></a><span style=\"color: #7f7f7f; text-decoration-color: #7f7f7f\">:</span><a href=\"file://c:\\Users\\alexl\\AppData\\Local\\Programs\\Python\\Python312\\Lib\\site-packages\\manim\\scene\\scene_file_writer.py#588\" target=\"_blank\"><span style=\"color: #7f7f7f; text-decoration-color: #7f7f7f\">588</span></a>\n",
       "<span style=\"color: #7fbfbf; text-decoration-color: #7fbfbf\">                    </span>         <span style=\"color: #008000; text-decoration-color: #008000\">'C:\\Users\\alexl\\Code\\manim-generator\\documentation\\media\\vide</span> <span style=\"color: #7f7f7f; text-decoration-color: #7f7f7f\">                        </span>\n",
       "<span style=\"color: #7fbfbf; text-decoration-color: #7fbfbf\">                    </span>         <span style=\"color: #008000; text-decoration-color: #008000\">os\\480p15\\partial_movie_files\\FullTutorial\\624642324_40994063</span> <span style=\"color: #7f7f7f; text-decoration-color: #7f7f7f\">                        </span>\n",
       "<span style=\"color: #7fbfbf; text-decoration-color: #7fbfbf\">                    </span>         <span style=\"color: #008000; text-decoration-color: #008000\">67_3294399183.mp4'</span>                                            <span style=\"color: #7f7f7f; text-decoration-color: #7f7f7f\">                        </span>\n",
       "</pre>\n"
      ],
      "text/plain": [
       "\u001b[2;36m[04/20/25 12:39:44]\u001b[0m\u001b[2;36m \u001b[0m\u001b[32mINFO    \u001b[0m Animation \u001b[32m25\u001b[0m : Partial movie file written in                  \u001b]8;id=925418;file://c:\\Users\\alexl\\AppData\\Local\\Programs\\Python\\Python312\\Lib\\site-packages\\manim\\scene\\scene_file_writer.py\u001b\\\u001b[2mscene_file_writer.py\u001b[0m\u001b]8;;\u001b\\\u001b[2m:\u001b[0m\u001b]8;id=729820;file://c:\\Users\\alexl\\AppData\\Local\\Programs\\Python\\Python312\\Lib\\site-packages\\manim\\scene\\scene_file_writer.py#588\u001b\\\u001b[2m588\u001b[0m\u001b]8;;\u001b\\\n",
       "\u001b[2;36m                    \u001b[0m         \u001b[32m'C:\\Users\\alexl\\Code\\manim-generator\\documentation\\media\\vide\u001b[0m \u001b[2m                        \u001b[0m\n",
       "\u001b[2;36m                    \u001b[0m         \u001b[32mos\\480p15\\partial_movie_files\\FullTutorial\\624642324_40994063\u001b[0m \u001b[2m                        \u001b[0m\n",
       "\u001b[2;36m                    \u001b[0m         \u001b[32m67_3294399183.mp4'\u001b[0m                                            \u001b[2m                        \u001b[0m\n"
      ]
     },
     "metadata": {},
     "output_type": "display_data"
    },
    {
     "data": {
      "text/html": [
       "<pre style=\"white-space:pre;overflow-x:auto;line-height:normal;font-family:Menlo,'DejaVu Sans Mono',consolas,'Courier New',monospace\"><span style=\"color: #7fbfbf; text-decoration-color: #7fbfbf\">                    </span><span style=\"color: #008000; text-decoration-color: #008000\">INFO    </span> Automatically converted                                       <a href=\"file://c:\\Users\\alexl\\AppData\\Local\\Programs\\Python\\Python312\\Lib\\site-packages\\manim\\scene\\scene_file_writer.py\" target=\"_blank\"><span style=\"color: #7f7f7f; text-decoration-color: #7f7f7f\">scene_file_writer.py</span></a><span style=\"color: #7f7f7f; text-decoration-color: #7f7f7f\">:</span><a href=\"file://c:\\Users\\alexl\\AppData\\Local\\Programs\\Python\\Python312\\Lib\\site-packages\\manim\\scene\\scene_file_writer.py#377\" target=\"_blank\"><span style=\"color: #7f7f7f; text-decoration-color: #7f7f7f\">377</span></a>\n",
       "<span style=\"color: #7fbfbf; text-decoration-color: #7fbfbf\">                    </span>         media\\voiceovers\\eventually-our-algorithm-converges-to-the-mi <span style=\"color: #7f7f7f; text-decoration-color: #7f7f7f\">                        </span>\n",
       "<span style=\"color: #7fbfbf; text-decoration-color: #7fbfbf\">                    </span>         nimum-f5c8bca5.mp3 to .wav                                    <span style=\"color: #7f7f7f; text-decoration-color: #7f7f7f\">                        </span>\n",
       "</pre>\n"
      ],
      "text/plain": [
       "\u001b[2;36m                   \u001b[0m\u001b[2;36m \u001b[0m\u001b[32mINFO    \u001b[0m Automatically converted                                       \u001b]8;id=583879;file://c:\\Users\\alexl\\AppData\\Local\\Programs\\Python\\Python312\\Lib\\site-packages\\manim\\scene\\scene_file_writer.py\u001b\\\u001b[2mscene_file_writer.py\u001b[0m\u001b]8;;\u001b\\\u001b[2m:\u001b[0m\u001b]8;id=742301;file://c:\\Users\\alexl\\AppData\\Local\\Programs\\Python\\Python312\\Lib\\site-packages\\manim\\scene\\scene_file_writer.py#377\u001b\\\u001b[2m377\u001b[0m\u001b]8;;\u001b\\\n",
       "\u001b[2;36m                    \u001b[0m         media\\voiceovers\\eventually-our-algorithm-converges-to-the-mi \u001b[2m                        \u001b[0m\n",
       "\u001b[2;36m                    \u001b[0m         nimum-f5c8bca5.mp3 to .wav                                    \u001b[2m                        \u001b[0m\n"
      ]
     },
     "metadata": {},
     "output_type": "display_data"
    },
    {
     "data": {
      "text/html": [
       "<pre style=\"white-space:pre;overflow-x:auto;line-height:normal;font-family:Menlo,'DejaVu Sans Mono',consolas,'Courier New',monospace\"><span style=\"color: #7fbfbf; text-decoration-color: #7fbfbf\">                    </span><span style=\"color: #008000; text-decoration-color: #008000\">INFO    </span> <span style=\"color: #808000; text-decoration-color: #808000; font-weight: bold\">Writing</span> x^* = <span style=\"color: #008000; text-decoration-color: #008000\">2</span> to media\\Tex\\d56e9b27f8eb72ac.tex              <a href=\"file://c:\\Users\\alexl\\AppData\\Local\\Programs\\Python\\Python312\\Lib\\site-packages\\manim\\utils\\tex_file_writing.py\" target=\"_blank\"><span style=\"color: #7f7f7f; text-decoration-color: #7f7f7f\">tex_file_writing.py</span></a><span style=\"color: #7f7f7f; text-decoration-color: #7f7f7f\">:</span><a href=\"file://c:\\Users\\alexl\\AppData\\Local\\Programs\\Python\\Python312\\Lib\\site-packages\\manim\\utils\\tex_file_writing.py#111\" target=\"_blank\"><span style=\"color: #7f7f7f; text-decoration-color: #7f7f7f\">111</span></a>\n",
       "</pre>\n"
      ],
      "text/plain": [
       "\u001b[2;36m                   \u001b[0m\u001b[2;36m \u001b[0m\u001b[32mINFO    \u001b[0m \u001b[1;33mWriting\u001b[0m x^* = \u001b[32m2\u001b[0m to media\\Tex\\d56e9b27f8eb72ac.tex              \u001b]8;id=327538;file://c:\\Users\\alexl\\AppData\\Local\\Programs\\Python\\Python312\\Lib\\site-packages\\manim\\utils\\tex_file_writing.py\u001b\\\u001b[2mtex_file_writing.py\u001b[0m\u001b]8;;\u001b\\\u001b[2m:\u001b[0m\u001b]8;id=392114;file://c:\\Users\\alexl\\AppData\\Local\\Programs\\Python\\Python312\\Lib\\site-packages\\manim\\utils\\tex_file_writing.py#111\u001b\\\u001b[2m111\u001b[0m\u001b]8;;\u001b\\\n"
      ]
     },
     "metadata": {},
     "output_type": "display_data"
    },
    {
     "name": "stderr",
     "output_type": "stream",
     "text": [
      "                                                                          \r"
     ]
    },
    {
     "data": {
      "text/html": [
       "<pre style=\"white-space:pre;overflow-x:auto;line-height:normal;font-family:Menlo,'DejaVu Sans Mono',consolas,'Courier New',monospace\"><span style=\"color: #7fbfbf; text-decoration-color: #7fbfbf\">[04/20/25 12:39:46] </span><span style=\"color: #008000; text-decoration-color: #008000\">INFO    </span> Animation <span style=\"color: #008000; text-decoration-color: #008000\">26</span> : Partial movie file written in                  <a href=\"file://c:\\Users\\alexl\\AppData\\Local\\Programs\\Python\\Python312\\Lib\\site-packages\\manim\\scene\\scene_file_writer.py\" target=\"_blank\"><span style=\"color: #7f7f7f; text-decoration-color: #7f7f7f\">scene_file_writer.py</span></a><span style=\"color: #7f7f7f; text-decoration-color: #7f7f7f\">:</span><a href=\"file://c:\\Users\\alexl\\AppData\\Local\\Programs\\Python\\Python312\\Lib\\site-packages\\manim\\scene\\scene_file_writer.py#588\" target=\"_blank\"><span style=\"color: #7f7f7f; text-decoration-color: #7f7f7f\">588</span></a>\n",
       "<span style=\"color: #7fbfbf; text-decoration-color: #7fbfbf\">                    </span>         <span style=\"color: #008000; text-decoration-color: #008000\">'C:\\Users\\alexl\\Code\\manim-generator\\documentation\\media\\vide</span> <span style=\"color: #7f7f7f; text-decoration-color: #7f7f7f\">                        </span>\n",
       "<span style=\"color: #7fbfbf; text-decoration-color: #7fbfbf\">                    </span>         <span style=\"color: #008000; text-decoration-color: #008000\">os\\480p15\\partial_movie_files\\FullTutorial\\624642324_36602960</span> <span style=\"color: #7f7f7f; text-decoration-color: #7f7f7f\">                        </span>\n",
       "<span style=\"color: #7fbfbf; text-decoration-color: #7fbfbf\">                    </span>         <span style=\"color: #008000; text-decoration-color: #008000\">86_744359329.mp4'</span>                                             <span style=\"color: #7f7f7f; text-decoration-color: #7f7f7f\">                        </span>\n",
       "</pre>\n"
      ],
      "text/plain": [
       "\u001b[2;36m[04/20/25 12:39:46]\u001b[0m\u001b[2;36m \u001b[0m\u001b[32mINFO    \u001b[0m Animation \u001b[32m26\u001b[0m : Partial movie file written in                  \u001b]8;id=896073;file://c:\\Users\\alexl\\AppData\\Local\\Programs\\Python\\Python312\\Lib\\site-packages\\manim\\scene\\scene_file_writer.py\u001b\\\u001b[2mscene_file_writer.py\u001b[0m\u001b]8;;\u001b\\\u001b[2m:\u001b[0m\u001b]8;id=152264;file://c:\\Users\\alexl\\AppData\\Local\\Programs\\Python\\Python312\\Lib\\site-packages\\manim\\scene\\scene_file_writer.py#588\u001b\\\u001b[2m588\u001b[0m\u001b]8;;\u001b\\\n",
       "\u001b[2;36m                    \u001b[0m         \u001b[32m'C:\\Users\\alexl\\Code\\manim-generator\\documentation\\media\\vide\u001b[0m \u001b[2m                        \u001b[0m\n",
       "\u001b[2;36m                    \u001b[0m         \u001b[32mos\\480p15\\partial_movie_files\\FullTutorial\\624642324_36602960\u001b[0m \u001b[2m                        \u001b[0m\n",
       "\u001b[2;36m                    \u001b[0m         \u001b[32m86_744359329.mp4'\u001b[0m                                             \u001b[2m                        \u001b[0m\n"
      ]
     },
     "metadata": {},
     "output_type": "display_data"
    },
    {
     "data": {
      "text/html": [
       "<pre style=\"white-space:pre;overflow-x:auto;line-height:normal;font-family:Menlo,'DejaVu Sans Mono',consolas,'Courier New',monospace\"><span style=\"color: #7fbfbf; text-decoration-color: #7fbfbf\">[04/20/25 12:39:47] </span><span style=\"color: #008000; text-decoration-color: #008000\">INFO    </span> Animation <span style=\"color: #008000; text-decoration-color: #008000\">27</span> : Partial movie file written in                  <a href=\"file://c:\\Users\\alexl\\AppData\\Local\\Programs\\Python\\Python312\\Lib\\site-packages\\manim\\scene\\scene_file_writer.py\" target=\"_blank\"><span style=\"color: #7f7f7f; text-decoration-color: #7f7f7f\">scene_file_writer.py</span></a><span style=\"color: #7f7f7f; text-decoration-color: #7f7f7f\">:</span><a href=\"file://c:\\Users\\alexl\\AppData\\Local\\Programs\\Python\\Python312\\Lib\\site-packages\\manim\\scene\\scene_file_writer.py#588\" target=\"_blank\"><span style=\"color: #7f7f7f; text-decoration-color: #7f7f7f\">588</span></a>\n",
       "<span style=\"color: #7fbfbf; text-decoration-color: #7fbfbf\">                    </span>         <span style=\"color: #008000; text-decoration-color: #008000\">'C:\\Users\\alexl\\Code\\manim-generator\\documentation\\media\\vide</span> <span style=\"color: #7f7f7f; text-decoration-color: #7f7f7f\">                        </span>\n",
       "<span style=\"color: #7fbfbf; text-decoration-color: #7fbfbf\">                    </span>         <span style=\"color: #008000; text-decoration-color: #008000\">os\\480p15\\partial_movie_files\\FullTutorial\\624642324_66765394</span> <span style=\"color: #7f7f7f; text-decoration-color: #7f7f7f\">                        </span>\n",
       "<span style=\"color: #7fbfbf; text-decoration-color: #7fbfbf\">                    </span>         <span style=\"color: #008000; text-decoration-color: #008000\">1_3279495822.mp4'</span>                                             <span style=\"color: #7f7f7f; text-decoration-color: #7f7f7f\">                        </span>\n",
       "</pre>\n"
      ],
      "text/plain": [
       "\u001b[2;36m[04/20/25 12:39:47]\u001b[0m\u001b[2;36m \u001b[0m\u001b[32mINFO    \u001b[0m Animation \u001b[32m27\u001b[0m : Partial movie file written in                  \u001b]8;id=469379;file://c:\\Users\\alexl\\AppData\\Local\\Programs\\Python\\Python312\\Lib\\site-packages\\manim\\scene\\scene_file_writer.py\u001b\\\u001b[2mscene_file_writer.py\u001b[0m\u001b]8;;\u001b\\\u001b[2m:\u001b[0m\u001b]8;id=520870;file://c:\\Users\\alexl\\AppData\\Local\\Programs\\Python\\Python312\\Lib\\site-packages\\manim\\scene\\scene_file_writer.py#588\u001b\\\u001b[2m588\u001b[0m\u001b]8;;\u001b\\\n",
       "\u001b[2;36m                    \u001b[0m         \u001b[32m'C:\\Users\\alexl\\Code\\manim-generator\\documentation\\media\\vide\u001b[0m \u001b[2m                        \u001b[0m\n",
       "\u001b[2;36m                    \u001b[0m         \u001b[32mos\\480p15\\partial_movie_files\\FullTutorial\\624642324_66765394\u001b[0m \u001b[2m                        \u001b[0m\n",
       "\u001b[2;36m                    \u001b[0m         \u001b[32m1_3279495822.mp4'\u001b[0m                                             \u001b[2m                        \u001b[0m\n"
      ]
     },
     "metadata": {},
     "output_type": "display_data"
    },
    {
     "data": {
      "text/html": [
       "<pre style=\"white-space:pre;overflow-x:auto;line-height:normal;font-family:Menlo,'DejaVu Sans Mono',consolas,'Courier New',monospace\"><span style=\"color: #7fbfbf; text-decoration-color: #7fbfbf\">[04/20/25 12:39:48] </span><span style=\"color: #008000; text-decoration-color: #008000\">INFO    </span> Automatically converted                                       <a href=\"file://c:\\Users\\alexl\\AppData\\Local\\Programs\\Python\\Python312\\Lib\\site-packages\\manim\\scene\\scene_file_writer.py\" target=\"_blank\"><span style=\"color: #7f7f7f; text-decoration-color: #7f7f7f\">scene_file_writer.py</span></a><span style=\"color: #7f7f7f; text-decoration-color: #7f7f7f\">:</span><a href=\"file://c:\\Users\\alexl\\AppData\\Local\\Programs\\Python\\Python312\\Lib\\site-packages\\manim\\scene\\scene_file_writer.py#377\" target=\"_blank\"><span style=\"color: #7f7f7f; text-decoration-color: #7f7f7f\">377</span></a>\n",
       "<span style=\"color: #7fbfbf; text-decoration-color: #7fbfbf\">                    </span>         media\\voiceovers\\in-convex-functions-like-this-one-gradient-d <span style=\"color: #7f7f7f; text-decoration-color: #7f7f7f\">                        </span>\n",
       "<span style=\"color: #7fbfbf; text-decoration-color: #7fbfbf\">                    </span>         escent-db4afaf4.mp3 to .wav                                   <span style=\"color: #7f7f7f; text-decoration-color: #7f7f7f\">                        </span>\n",
       "</pre>\n"
      ],
      "text/plain": [
       "\u001b[2;36m[04/20/25 12:39:48]\u001b[0m\u001b[2;36m \u001b[0m\u001b[32mINFO    \u001b[0m Automatically converted                                       \u001b]8;id=137537;file://c:\\Users\\alexl\\AppData\\Local\\Programs\\Python\\Python312\\Lib\\site-packages\\manim\\scene\\scene_file_writer.py\u001b\\\u001b[2mscene_file_writer.py\u001b[0m\u001b]8;;\u001b\\\u001b[2m:\u001b[0m\u001b]8;id=746659;file://c:\\Users\\alexl\\AppData\\Local\\Programs\\Python\\Python312\\Lib\\site-packages\\manim\\scene\\scene_file_writer.py#377\u001b\\\u001b[2m377\u001b[0m\u001b]8;;\u001b\\\n",
       "\u001b[2;36m                    \u001b[0m         media\\voiceovers\\in-convex-functions-like-this-one-gradient-d \u001b[2m                        \u001b[0m\n",
       "\u001b[2;36m                    \u001b[0m         escent-db4afaf4.mp3 to .wav                                   \u001b[2m                        \u001b[0m\n"
      ]
     },
     "metadata": {},
     "output_type": "display_data"
    },
    {
     "data": {
      "text/html": [
       "<pre style=\"white-space:pre;overflow-x:auto;line-height:normal;font-family:Menlo,'DejaVu Sans Mono',consolas,'Courier New',monospace\"><span style=\"color: #7fbfbf; text-decoration-color: #7fbfbf\">                    </span><span style=\"color: #008000; text-decoration-color: #008000\">INFO    </span> <span style=\"color: #808000; text-decoration-color: #808000; font-weight: bold\">Writing</span> \\text<span style=\"font-weight: bold\">{</span>For convex <span style=\"font-weight: bold\">}</span> f \\text<span style=\"font-weight: bold\">{</span> with small enough <span style=\"font-weight: bold\">}</span> \\eta,  <a href=\"file://c:\\Users\\alexl\\AppData\\Local\\Programs\\Python\\Python312\\Lib\\site-packages\\manim\\utils\\tex_file_writing.py\" target=\"_blank\"><span style=\"color: #7f7f7f; text-decoration-color: #7f7f7f\">tex_file_writing.py</span></a><span style=\"color: #7f7f7f; text-decoration-color: #7f7f7f\">:</span><a href=\"file://c:\\Users\\alexl\\AppData\\Local\\Programs\\Python\\Python312\\Lib\\site-packages\\manim\\utils\\tex_file_writing.py#111\" target=\"_blank\"><span style=\"color: #7f7f7f; text-decoration-color: #7f7f7f\">111</span></a>\n",
       "<span style=\"color: #7fbfbf; text-decoration-color: #7fbfbf\">                    </span>         \\text<span style=\"font-weight: bold\">{</span> GD converges to optimum.<span style=\"font-weight: bold\">}</span> to                            <span style=\"color: #7f7f7f; text-decoration-color: #7f7f7f\">                       </span>\n",
       "<span style=\"color: #7fbfbf; text-decoration-color: #7fbfbf\">                    </span>         media\\Tex\\af9431c18f80f007.tex                                 <span style=\"color: #7f7f7f; text-decoration-color: #7f7f7f\">                       </span>\n",
       "</pre>\n"
      ],
      "text/plain": [
       "\u001b[2;36m                   \u001b[0m\u001b[2;36m \u001b[0m\u001b[32mINFO    \u001b[0m \u001b[1;33mWriting\u001b[0m \\text\u001b[1m{\u001b[0mFor convex \u001b[1m}\u001b[0m f \\text\u001b[1m{\u001b[0m with small enough \u001b[1m}\u001b[0m \\eta,  \u001b]8;id=100054;file://c:\\Users\\alexl\\AppData\\Local\\Programs\\Python\\Python312\\Lib\\site-packages\\manim\\utils\\tex_file_writing.py\u001b\\\u001b[2mtex_file_writing.py\u001b[0m\u001b]8;;\u001b\\\u001b[2m:\u001b[0m\u001b]8;id=12213;file://c:\\Users\\alexl\\AppData\\Local\\Programs\\Python\\Python312\\Lib\\site-packages\\manim\\utils\\tex_file_writing.py#111\u001b\\\u001b[2m111\u001b[0m\u001b]8;;\u001b\\\n",
       "\u001b[2;36m                    \u001b[0m         \\text\u001b[1m{\u001b[0m GD converges to optimum.\u001b[1m}\u001b[0m to                            \u001b[2m                       \u001b[0m\n",
       "\u001b[2;36m                    \u001b[0m         media\\Tex\\af9431c18f80f007.tex                                 \u001b[2m                       \u001b[0m\n"
      ]
     },
     "metadata": {},
     "output_type": "display_data"
    },
    {
     "name": "stderr",
     "output_type": "stream",
     "text": [
      "                                                                                                    \r"
     ]
    },
    {
     "data": {
      "text/html": [
       "<pre style=\"white-space:pre;overflow-x:auto;line-height:normal;font-family:Menlo,'DejaVu Sans Mono',consolas,'Courier New',monospace\"><span style=\"color: #7fbfbf; text-decoration-color: #7fbfbf\">[04/20/25 12:39:51] </span><span style=\"color: #008000; text-decoration-color: #008000\">INFO    </span> Animation <span style=\"color: #008000; text-decoration-color: #008000\">28</span> : Partial movie file written in                  <a href=\"file://c:\\Users\\alexl\\AppData\\Local\\Programs\\Python\\Python312\\Lib\\site-packages\\manim\\scene\\scene_file_writer.py\" target=\"_blank\"><span style=\"color: #7f7f7f; text-decoration-color: #7f7f7f\">scene_file_writer.py</span></a><span style=\"color: #7f7f7f; text-decoration-color: #7f7f7f\">:</span><a href=\"file://c:\\Users\\alexl\\AppData\\Local\\Programs\\Python\\Python312\\Lib\\site-packages\\manim\\scene\\scene_file_writer.py#588\" target=\"_blank\"><span style=\"color: #7f7f7f; text-decoration-color: #7f7f7f\">588</span></a>\n",
       "<span style=\"color: #7fbfbf; text-decoration-color: #7fbfbf\">                    </span>         <span style=\"color: #008000; text-decoration-color: #008000\">'C:\\Users\\alexl\\Code\\manim-generator\\documentation\\media\\vide</span> <span style=\"color: #7f7f7f; text-decoration-color: #7f7f7f\">                        </span>\n",
       "<span style=\"color: #7fbfbf; text-decoration-color: #7fbfbf\">                    </span>         <span style=\"color: #008000; text-decoration-color: #008000\">os\\480p15\\partial_movie_files\\FullTutorial\\624642324_29555715</span> <span style=\"color: #7f7f7f; text-decoration-color: #7f7f7f\">                        </span>\n",
       "<span style=\"color: #7fbfbf; text-decoration-color: #7fbfbf\">                    </span>         <span style=\"color: #008000; text-decoration-color: #008000\">43_1565207106.mp4'</span>                                            <span style=\"color: #7f7f7f; text-decoration-color: #7f7f7f\">                        </span>\n",
       "</pre>\n"
      ],
      "text/plain": [
       "\u001b[2;36m[04/20/25 12:39:51]\u001b[0m\u001b[2;36m \u001b[0m\u001b[32mINFO    \u001b[0m Animation \u001b[32m28\u001b[0m : Partial movie file written in                  \u001b]8;id=666656;file://c:\\Users\\alexl\\AppData\\Local\\Programs\\Python\\Python312\\Lib\\site-packages\\manim\\scene\\scene_file_writer.py\u001b\\\u001b[2mscene_file_writer.py\u001b[0m\u001b]8;;\u001b\\\u001b[2m:\u001b[0m\u001b]8;id=267284;file://c:\\Users\\alexl\\AppData\\Local\\Programs\\Python\\Python312\\Lib\\site-packages\\manim\\scene\\scene_file_writer.py#588\u001b\\\u001b[2m588\u001b[0m\u001b]8;;\u001b\\\n",
       "\u001b[2;36m                    \u001b[0m         \u001b[32m'C:\\Users\\alexl\\Code\\manim-generator\\documentation\\media\\vide\u001b[0m \u001b[2m                        \u001b[0m\n",
       "\u001b[2;36m                    \u001b[0m         \u001b[32mos\\480p15\\partial_movie_files\\FullTutorial\\624642324_29555715\u001b[0m \u001b[2m                        \u001b[0m\n",
       "\u001b[2;36m                    \u001b[0m         \u001b[32m43_1565207106.mp4'\u001b[0m                                            \u001b[2m                        \u001b[0m\n"
      ]
     },
     "metadata": {},
     "output_type": "display_data"
    },
    {
     "data": {
      "text/html": [
       "<pre style=\"white-space:pre;overflow-x:auto;line-height:normal;font-family:Menlo,'DejaVu Sans Mono',consolas,'Courier New',monospace\"><span style=\"color: #7fbfbf; text-decoration-color: #7fbfbf\">[04/20/25 12:39:52] </span><span style=\"color: #008000; text-decoration-color: #008000\">INFO    </span> Animation <span style=\"color: #008000; text-decoration-color: #008000\">29</span> : Partial movie file written in                  <a href=\"file://c:\\Users\\alexl\\AppData\\Local\\Programs\\Python\\Python312\\Lib\\site-packages\\manim\\scene\\scene_file_writer.py\" target=\"_blank\"><span style=\"color: #7f7f7f; text-decoration-color: #7f7f7f\">scene_file_writer.py</span></a><span style=\"color: #7f7f7f; text-decoration-color: #7f7f7f\">:</span><a href=\"file://c:\\Users\\alexl\\AppData\\Local\\Programs\\Python\\Python312\\Lib\\site-packages\\manim\\scene\\scene_file_writer.py#588\" target=\"_blank\"><span style=\"color: #7f7f7f; text-decoration-color: #7f7f7f\">588</span></a>\n",
       "<span style=\"color: #7fbfbf; text-decoration-color: #7fbfbf\">                    </span>         <span style=\"color: #008000; text-decoration-color: #008000\">'C:\\Users\\alexl\\Code\\manim-generator\\documentation\\media\\vide</span> <span style=\"color: #7f7f7f; text-decoration-color: #7f7f7f\">                        </span>\n",
       "<span style=\"color: #7fbfbf; text-decoration-color: #7fbfbf\">                    </span>         <span style=\"color: #008000; text-decoration-color: #008000\">os\\480p15\\partial_movie_files\\FullTutorial\\624642324_34303326</span> <span style=\"color: #7f7f7f; text-decoration-color: #7f7f7f\">                        </span>\n",
       "<span style=\"color: #7fbfbf; text-decoration-color: #7fbfbf\">                    </span>         <span style=\"color: #008000; text-decoration-color: #008000\">46_888002842.mp4'</span>                                             <span style=\"color: #7f7f7f; text-decoration-color: #7f7f7f\">                        </span>\n",
       "</pre>\n"
      ],
      "text/plain": [
       "\u001b[2;36m[04/20/25 12:39:52]\u001b[0m\u001b[2;36m \u001b[0m\u001b[32mINFO    \u001b[0m Animation \u001b[32m29\u001b[0m : Partial movie file written in                  \u001b]8;id=219593;file://c:\\Users\\alexl\\AppData\\Local\\Programs\\Python\\Python312\\Lib\\site-packages\\manim\\scene\\scene_file_writer.py\u001b\\\u001b[2mscene_file_writer.py\u001b[0m\u001b]8;;\u001b\\\u001b[2m:\u001b[0m\u001b]8;id=495575;file://c:\\Users\\alexl\\AppData\\Local\\Programs\\Python\\Python312\\Lib\\site-packages\\manim\\scene\\scene_file_writer.py#588\u001b\\\u001b[2m588\u001b[0m\u001b]8;;\u001b\\\n",
       "\u001b[2;36m                    \u001b[0m         \u001b[32m'C:\\Users\\alexl\\Code\\manim-generator\\documentation\\media\\vide\u001b[0m \u001b[2m                        \u001b[0m\n",
       "\u001b[2;36m                    \u001b[0m         \u001b[32mos\\480p15\\partial_movie_files\\FullTutorial\\624642324_34303326\u001b[0m \u001b[2m                        \u001b[0m\n",
       "\u001b[2;36m                    \u001b[0m         \u001b[32m46_888002842.mp4'\u001b[0m                                             \u001b[2m                        \u001b[0m\n"
      ]
     },
     "metadata": {},
     "output_type": "display_data"
    },
    {
     "data": {
      "text/html": [
       "<pre style=\"white-space:pre;overflow-x:auto;line-height:normal;font-family:Menlo,'DejaVu Sans Mono',consolas,'Courier New',monospace\"><span style=\"color: #7fbfbf; text-decoration-color: #7fbfbf\">[04/20/25 12:39:53] </span><span style=\"color: #008000; text-decoration-color: #008000\">INFO    </span> Animation <span style=\"color: #008000; text-decoration-color: #008000\">30</span> : Partial movie file written in                  <a href=\"file://c:\\Users\\alexl\\AppData\\Local\\Programs\\Python\\Python312\\Lib\\site-packages\\manim\\scene\\scene_file_writer.py\" target=\"_blank\"><span style=\"color: #7f7f7f; text-decoration-color: #7f7f7f\">scene_file_writer.py</span></a><span style=\"color: #7f7f7f; text-decoration-color: #7f7f7f\">:</span><a href=\"file://c:\\Users\\alexl\\AppData\\Local\\Programs\\Python\\Python312\\Lib\\site-packages\\manim\\scene\\scene_file_writer.py#588\" target=\"_blank\"><span style=\"color: #7f7f7f; text-decoration-color: #7f7f7f\">588</span></a>\n",
       "<span style=\"color: #7fbfbf; text-decoration-color: #7fbfbf\">                    </span>         <span style=\"color: #008000; text-decoration-color: #008000\">'C:\\Users\\alexl\\Code\\manim-generator\\documentation\\media\\vide</span> <span style=\"color: #7f7f7f; text-decoration-color: #7f7f7f\">                        </span>\n",
       "<span style=\"color: #7fbfbf; text-decoration-color: #7fbfbf\">                    </span>         <span style=\"color: #008000; text-decoration-color: #008000\">os\\480p15\\partial_movie_files\\FullTutorial\\624642324_14325961</span> <span style=\"color: #7f7f7f; text-decoration-color: #7f7f7f\">                        </span>\n",
       "<span style=\"color: #7fbfbf; text-decoration-color: #7fbfbf\">                    </span>         <span style=\"color: #008000; text-decoration-color: #008000\">16_711726975.mp4'</span>                                             <span style=\"color: #7f7f7f; text-decoration-color: #7f7f7f\">                        </span>\n",
       "</pre>\n"
      ],
      "text/plain": [
       "\u001b[2;36m[04/20/25 12:39:53]\u001b[0m\u001b[2;36m \u001b[0m\u001b[32mINFO    \u001b[0m Animation \u001b[32m30\u001b[0m : Partial movie file written in                  \u001b]8;id=449731;file://c:\\Users\\alexl\\AppData\\Local\\Programs\\Python\\Python312\\Lib\\site-packages\\manim\\scene\\scene_file_writer.py\u001b\\\u001b[2mscene_file_writer.py\u001b[0m\u001b]8;;\u001b\\\u001b[2m:\u001b[0m\u001b]8;id=44535;file://c:\\Users\\alexl\\AppData\\Local\\Programs\\Python\\Python312\\Lib\\site-packages\\manim\\scene\\scene_file_writer.py#588\u001b\\\u001b[2m588\u001b[0m\u001b]8;;\u001b\\\n",
       "\u001b[2;36m                    \u001b[0m         \u001b[32m'C:\\Users\\alexl\\Code\\manim-generator\\documentation\\media\\vide\u001b[0m \u001b[2m                        \u001b[0m\n",
       "\u001b[2;36m                    \u001b[0m         \u001b[32mos\\480p15\\partial_movie_files\\FullTutorial\\624642324_14325961\u001b[0m \u001b[2m                        \u001b[0m\n",
       "\u001b[2;36m                    \u001b[0m         \u001b[32m16_711726975.mp4'\u001b[0m                                             \u001b[2m                        \u001b[0m\n"
      ]
     },
     "metadata": {},
     "output_type": "display_data"
    },
    {
     "name": "stderr",
     "output_type": "stream",
     "text": [
      "                                                                                                     \r"
     ]
    },
    {
     "data": {
      "text/html": [
       "<pre style=\"white-space:pre;overflow-x:auto;line-height:normal;font-family:Menlo,'DejaVu Sans Mono',consolas,'Courier New',monospace\"><span style=\"color: #7fbfbf; text-decoration-color: #7fbfbf\">[04/20/25 12:39:54] </span><span style=\"color: #008000; text-decoration-color: #008000\">INFO    </span> Animation <span style=\"color: #008000; text-decoration-color: #008000\">31</span> : Partial movie file written in                  <a href=\"file://c:\\Users\\alexl\\AppData\\Local\\Programs\\Python\\Python312\\Lib\\site-packages\\manim\\scene\\scene_file_writer.py\" target=\"_blank\"><span style=\"color: #7f7f7f; text-decoration-color: #7f7f7f\">scene_file_writer.py</span></a><span style=\"color: #7f7f7f; text-decoration-color: #7f7f7f\">:</span><a href=\"file://c:\\Users\\alexl\\AppData\\Local\\Programs\\Python\\Python312\\Lib\\site-packages\\manim\\scene\\scene_file_writer.py#588\" target=\"_blank\"><span style=\"color: #7f7f7f; text-decoration-color: #7f7f7f\">588</span></a>\n",
       "<span style=\"color: #7fbfbf; text-decoration-color: #7fbfbf\">                    </span>         <span style=\"color: #008000; text-decoration-color: #008000\">'C:\\Users\\alexl\\Code\\manim-generator\\documentation\\media\\vide</span> <span style=\"color: #7f7f7f; text-decoration-color: #7f7f7f\">                        </span>\n",
       "<span style=\"color: #7fbfbf; text-decoration-color: #7fbfbf\">                    </span>         <span style=\"color: #008000; text-decoration-color: #008000\">os\\480p15\\partial_movie_files\\FullTutorial\\624642324_95470285</span> <span style=\"color: #7f7f7f; text-decoration-color: #7f7f7f\">                        </span>\n",
       "<span style=\"color: #7fbfbf; text-decoration-color: #7fbfbf\">                    </span>         <span style=\"color: #008000; text-decoration-color: #008000\">4_3709884864.mp4'</span>                                             <span style=\"color: #7f7f7f; text-decoration-color: #7f7f7f\">                        </span>\n",
       "</pre>\n"
      ],
      "text/plain": [
       "\u001b[2;36m[04/20/25 12:39:54]\u001b[0m\u001b[2;36m \u001b[0m\u001b[32mINFO    \u001b[0m Animation \u001b[32m31\u001b[0m : Partial movie file written in                  \u001b]8;id=703583;file://c:\\Users\\alexl\\AppData\\Local\\Programs\\Python\\Python312\\Lib\\site-packages\\manim\\scene\\scene_file_writer.py\u001b\\\u001b[2mscene_file_writer.py\u001b[0m\u001b]8;;\u001b\\\u001b[2m:\u001b[0m\u001b]8;id=548901;file://c:\\Users\\alexl\\AppData\\Local\\Programs\\Python\\Python312\\Lib\\site-packages\\manim\\scene\\scene_file_writer.py#588\u001b\\\u001b[2m588\u001b[0m\u001b]8;;\u001b\\\n",
       "\u001b[2;36m                    \u001b[0m         \u001b[32m'C:\\Users\\alexl\\Code\\manim-generator\\documentation\\media\\vide\u001b[0m \u001b[2m                        \u001b[0m\n",
       "\u001b[2;36m                    \u001b[0m         \u001b[32mos\\480p15\\partial_movie_files\\FullTutorial\\624642324_95470285\u001b[0m \u001b[2m                        \u001b[0m\n",
       "\u001b[2;36m                    \u001b[0m         \u001b[32m4_3709884864.mp4'\u001b[0m                                             \u001b[2m                        \u001b[0m\n"
      ]
     },
     "metadata": {},
     "output_type": "display_data"
    },
    {
     "data": {
      "text/html": [
       "<pre style=\"white-space:pre;overflow-x:auto;line-height:normal;font-family:Menlo,'DejaVu Sans Mono',consolas,'Courier New',monospace\"><span style=\"color: #7fbfbf; text-decoration-color: #7fbfbf\">                    </span><span style=\"color: #008000; text-decoration-color: #008000\">INFO    </span> Automatically converted                                       <a href=\"file://c:\\Users\\alexl\\AppData\\Local\\Programs\\Python\\Python312\\Lib\\site-packages\\manim\\scene\\scene_file_writer.py\" target=\"_blank\"><span style=\"color: #7f7f7f; text-decoration-color: #7f7f7f\">scene_file_writer.py</span></a><span style=\"color: #7f7f7f; text-decoration-color: #7f7f7f\">:</span><a href=\"file://c:\\Users\\alexl\\AppData\\Local\\Programs\\Python\\Python312\\Lib\\site-packages\\manim\\scene\\scene_file_writer.py#377\" target=\"_blank\"><span style=\"color: #7f7f7f; text-decoration-color: #7f7f7f\">377</span></a>\n",
       "<span style=\"color: #7fbfbf; text-decoration-color: #7fbfbf\">                    </span>         media\\voiceovers\\now-let-s-extend-gradient-descent-to-multipl <span style=\"color: #7f7f7f; text-decoration-color: #7f7f7f\">                        </span>\n",
       "<span style=\"color: #7fbfbf; text-decoration-color: #7fbfbf\">                    </span>         e-6649a374.mp3 to .wav                                        <span style=\"color: #7f7f7f; text-decoration-color: #7f7f7f\">                        </span>\n",
       "</pre>\n"
      ],
      "text/plain": [
       "\u001b[2;36m                   \u001b[0m\u001b[2;36m \u001b[0m\u001b[32mINFO    \u001b[0m Automatically converted                                       \u001b]8;id=103997;file://c:\\Users\\alexl\\AppData\\Local\\Programs\\Python\\Python312\\Lib\\site-packages\\manim\\scene\\scene_file_writer.py\u001b\\\u001b[2mscene_file_writer.py\u001b[0m\u001b]8;;\u001b\\\u001b[2m:\u001b[0m\u001b]8;id=358097;file://c:\\Users\\alexl\\AppData\\Local\\Programs\\Python\\Python312\\Lib\\site-packages\\manim\\scene\\scene_file_writer.py#377\u001b\\\u001b[2m377\u001b[0m\u001b]8;;\u001b\\\n",
       "\u001b[2;36m                    \u001b[0m         media\\voiceovers\\now-let-s-extend-gradient-descent-to-multipl \u001b[2m                        \u001b[0m\n",
       "\u001b[2;36m                    \u001b[0m         e-6649a374.mp3 to .wav                                        \u001b[2m                        \u001b[0m\n"
      ]
     },
     "metadata": {},
     "output_type": "display_data"
    },
    {
     "name": "stderr",
     "output_type": "stream",
     "text": [
      "                                                                                                                 \r"
     ]
    },
    {
     "data": {
      "text/html": [
       "<pre style=\"white-space:pre;overflow-x:auto;line-height:normal;font-family:Menlo,'DejaVu Sans Mono',consolas,'Courier New',monospace\"><span style=\"color: #7fbfbf; text-decoration-color: #7fbfbf\">[04/20/25 12:39:56] </span><span style=\"color: #008000; text-decoration-color: #008000\">INFO    </span> Animation <span style=\"color: #008000; text-decoration-color: #008000\">32</span> : Partial movie file written in                  <a href=\"file://c:\\Users\\alexl\\AppData\\Local\\Programs\\Python\\Python312\\Lib\\site-packages\\manim\\scene\\scene_file_writer.py\" target=\"_blank\"><span style=\"color: #7f7f7f; text-decoration-color: #7f7f7f\">scene_file_writer.py</span></a><span style=\"color: #7f7f7f; text-decoration-color: #7f7f7f\">:</span><a href=\"file://c:\\Users\\alexl\\AppData\\Local\\Programs\\Python\\Python312\\Lib\\site-packages\\manim\\scene\\scene_file_writer.py#588\" target=\"_blank\"><span style=\"color: #7f7f7f; text-decoration-color: #7f7f7f\">588</span></a>\n",
       "<span style=\"color: #7fbfbf; text-decoration-color: #7fbfbf\">                    </span>         <span style=\"color: #008000; text-decoration-color: #008000\">'C:\\Users\\alexl\\Code\\manim-generator\\documentation\\media\\vide</span> <span style=\"color: #7f7f7f; text-decoration-color: #7f7f7f\">                        </span>\n",
       "<span style=\"color: #7fbfbf; text-decoration-color: #7fbfbf\">                    </span>         <span style=\"color: #008000; text-decoration-color: #008000\">os\\480p15\\partial_movie_files\\FullTutorial\\624642324_12436207</span> <span style=\"color: #7f7f7f; text-decoration-color: #7f7f7f\">                        </span>\n",
       "<span style=\"color: #7fbfbf; text-decoration-color: #7fbfbf\">                    </span>         <span style=\"color: #008000; text-decoration-color: #008000\">86_784826624.mp4'</span>                                             <span style=\"color: #7f7f7f; text-decoration-color: #7f7f7f\">                        </span>\n",
       "</pre>\n"
      ],
      "text/plain": [
       "\u001b[2;36m[04/20/25 12:39:56]\u001b[0m\u001b[2;36m \u001b[0m\u001b[32mINFO    \u001b[0m Animation \u001b[32m32\u001b[0m : Partial movie file written in                  \u001b]8;id=44499;file://c:\\Users\\alexl\\AppData\\Local\\Programs\\Python\\Python312\\Lib\\site-packages\\manim\\scene\\scene_file_writer.py\u001b\\\u001b[2mscene_file_writer.py\u001b[0m\u001b]8;;\u001b\\\u001b[2m:\u001b[0m\u001b]8;id=16368;file://c:\\Users\\alexl\\AppData\\Local\\Programs\\Python\\Python312\\Lib\\site-packages\\manim\\scene\\scene_file_writer.py#588\u001b\\\u001b[2m588\u001b[0m\u001b]8;;\u001b\\\n",
       "\u001b[2;36m                    \u001b[0m         \u001b[32m'C:\\Users\\alexl\\Code\\manim-generator\\documentation\\media\\vide\u001b[0m \u001b[2m                        \u001b[0m\n",
       "\u001b[2;36m                    \u001b[0m         \u001b[32mos\\480p15\\partial_movie_files\\FullTutorial\\624642324_12436207\u001b[0m \u001b[2m                        \u001b[0m\n",
       "\u001b[2;36m                    \u001b[0m         \u001b[32m86_784826624.mp4'\u001b[0m                                             \u001b[2m                        \u001b[0m\n"
      ]
     },
     "metadata": {},
     "output_type": "display_data"
    },
    {
     "data": {
      "text/html": [
       "<pre style=\"white-space:pre;overflow-x:auto;line-height:normal;font-family:Menlo,'DejaVu Sans Mono',consolas,'Courier New',monospace\"><span style=\"color: #7fbfbf; text-decoration-color: #7fbfbf\">                    </span><span style=\"color: #008000; text-decoration-color: #008000\">INFO    </span> Animation <span style=\"color: #008000; text-decoration-color: #008000\">33</span> : Partial movie file written in                  <a href=\"file://c:\\Users\\alexl\\AppData\\Local\\Programs\\Python\\Python312\\Lib\\site-packages\\manim\\scene\\scene_file_writer.py\" target=\"_blank\"><span style=\"color: #7f7f7f; text-decoration-color: #7f7f7f\">scene_file_writer.py</span></a><span style=\"color: #7f7f7f; text-decoration-color: #7f7f7f\">:</span><a href=\"file://c:\\Users\\alexl\\AppData\\Local\\Programs\\Python\\Python312\\Lib\\site-packages\\manim\\scene\\scene_file_writer.py#588\" target=\"_blank\"><span style=\"color: #7f7f7f; text-decoration-color: #7f7f7f\">588</span></a>\n",
       "<span style=\"color: #7fbfbf; text-decoration-color: #7fbfbf\">                    </span>         <span style=\"color: #008000; text-decoration-color: #008000\">'C:\\Users\\alexl\\Code\\manim-generator\\documentation\\media\\vide</span> <span style=\"color: #7f7f7f; text-decoration-color: #7f7f7f\">                        </span>\n",
       "<span style=\"color: #7fbfbf; text-decoration-color: #7fbfbf\">                    </span>         <span style=\"color: #008000; text-decoration-color: #008000\">os\\480p15\\partial_movie_files\\FullTutorial\\624642324_42179924</span> <span style=\"color: #7f7f7f; text-decoration-color: #7f7f7f\">                        </span>\n",
       "<span style=\"color: #7fbfbf; text-decoration-color: #7fbfbf\">                    </span>         <span style=\"color: #008000; text-decoration-color: #008000\">63_3829346813.mp4'</span>                                            <span style=\"color: #7f7f7f; text-decoration-color: #7f7f7f\">                        </span>\n",
       "</pre>\n"
      ],
      "text/plain": [
       "\u001b[2;36m                   \u001b[0m\u001b[2;36m \u001b[0m\u001b[32mINFO    \u001b[0m Animation \u001b[32m33\u001b[0m : Partial movie file written in                  \u001b]8;id=820762;file://c:\\Users\\alexl\\AppData\\Local\\Programs\\Python\\Python312\\Lib\\site-packages\\manim\\scene\\scene_file_writer.py\u001b\\\u001b[2mscene_file_writer.py\u001b[0m\u001b]8;;\u001b\\\u001b[2m:\u001b[0m\u001b]8;id=127341;file://c:\\Users\\alexl\\AppData\\Local\\Programs\\Python\\Python312\\Lib\\site-packages\\manim\\scene\\scene_file_writer.py#588\u001b\\\u001b[2m588\u001b[0m\u001b]8;;\u001b\\\n",
       "\u001b[2;36m                    \u001b[0m         \u001b[32m'C:\\Users\\alexl\\Code\\manim-generator\\documentation\\media\\vide\u001b[0m \u001b[2m                        \u001b[0m\n",
       "\u001b[2;36m                    \u001b[0m         \u001b[32mos\\480p15\\partial_movie_files\\FullTutorial\\624642324_42179924\u001b[0m \u001b[2m                        \u001b[0m\n",
       "\u001b[2;36m                    \u001b[0m         \u001b[32m63_3829346813.mp4'\u001b[0m                                            \u001b[2m                        \u001b[0m\n"
      ]
     },
     "metadata": {},
     "output_type": "display_data"
    },
    {
     "name": "stderr",
     "output_type": "stream",
     "text": [
      "                                                                                                                           \r"
     ]
    },
    {
     "data": {
      "text/html": [
       "<pre style=\"white-space:pre;overflow-x:auto;line-height:normal;font-family:Menlo,'DejaVu Sans Mono',consolas,'Courier New',monospace\"><span style=\"color: #7fbfbf; text-decoration-color: #7fbfbf\">[04/20/25 12:39:57] </span><span style=\"color: #008000; text-decoration-color: #008000\">INFO    </span> Animation <span style=\"color: #008000; text-decoration-color: #008000\">34</span> : Partial movie file written in                  <a href=\"file://c:\\Users\\alexl\\AppData\\Local\\Programs\\Python\\Python312\\Lib\\site-packages\\manim\\scene\\scene_file_writer.py\" target=\"_blank\"><span style=\"color: #7f7f7f; text-decoration-color: #7f7f7f\">scene_file_writer.py</span></a><span style=\"color: #7f7f7f; text-decoration-color: #7f7f7f\">:</span><a href=\"file://c:\\Users\\alexl\\AppData\\Local\\Programs\\Python\\Python312\\Lib\\site-packages\\manim\\scene\\scene_file_writer.py#588\" target=\"_blank\"><span style=\"color: #7f7f7f; text-decoration-color: #7f7f7f\">588</span></a>\n",
       "<span style=\"color: #7fbfbf; text-decoration-color: #7fbfbf\">                    </span>         <span style=\"color: #008000; text-decoration-color: #008000\">'C:\\Users\\alexl\\Code\\manim-generator\\documentation\\media\\vide</span> <span style=\"color: #7f7f7f; text-decoration-color: #7f7f7f\">                        </span>\n",
       "<span style=\"color: #7fbfbf; text-decoration-color: #7fbfbf\">                    </span>         <span style=\"color: #008000; text-decoration-color: #008000\">os\\480p15\\partial_movie_files\\FullTutorial\\624642324_25171544</span> <span style=\"color: #7f7f7f; text-decoration-color: #7f7f7f\">                        </span>\n",
       "<span style=\"color: #7fbfbf; text-decoration-color: #7fbfbf\">                    </span>         <span style=\"color: #008000; text-decoration-color: #008000\">85_1242239593.mp4'</span>                                            <span style=\"color: #7f7f7f; text-decoration-color: #7f7f7f\">                        </span>\n",
       "</pre>\n"
      ],
      "text/plain": [
       "\u001b[2;36m[04/20/25 12:39:57]\u001b[0m\u001b[2;36m \u001b[0m\u001b[32mINFO    \u001b[0m Animation \u001b[32m34\u001b[0m : Partial movie file written in                  \u001b]8;id=160578;file://c:\\Users\\alexl\\AppData\\Local\\Programs\\Python\\Python312\\Lib\\site-packages\\manim\\scene\\scene_file_writer.py\u001b\\\u001b[2mscene_file_writer.py\u001b[0m\u001b]8;;\u001b\\\u001b[2m:\u001b[0m\u001b]8;id=858095;file://c:\\Users\\alexl\\AppData\\Local\\Programs\\Python\\Python312\\Lib\\site-packages\\manim\\scene\\scene_file_writer.py#588\u001b\\\u001b[2m588\u001b[0m\u001b]8;;\u001b\\\n",
       "\u001b[2;36m                    \u001b[0m         \u001b[32m'C:\\Users\\alexl\\Code\\manim-generator\\documentation\\media\\vide\u001b[0m \u001b[2m                        \u001b[0m\n",
       "\u001b[2;36m                    \u001b[0m         \u001b[32mos\\480p15\\partial_movie_files\\FullTutorial\\624642324_25171544\u001b[0m \u001b[2m                        \u001b[0m\n",
       "\u001b[2;36m                    \u001b[0m         \u001b[32m85_1242239593.mp4'\u001b[0m                                            \u001b[2m                        \u001b[0m\n"
      ]
     },
     "metadata": {},
     "output_type": "display_data"
    },
    {
     "data": {
      "text/html": [
       "<pre style=\"white-space:pre;overflow-x:auto;line-height:normal;font-family:Menlo,'DejaVu Sans Mono',consolas,'Courier New',monospace\"><span style=\"color: #7fbfbf; text-decoration-color: #7fbfbf\">[04/20/25 12:39:58] </span><span style=\"color: #008000; text-decoration-color: #008000\">INFO    </span> Animation <span style=\"color: #008000; text-decoration-color: #008000\">35</span> : Partial movie file written in                  <a href=\"file://c:\\Users\\alexl\\AppData\\Local\\Programs\\Python\\Python312\\Lib\\site-packages\\manim\\scene\\scene_file_writer.py\" target=\"_blank\"><span style=\"color: #7f7f7f; text-decoration-color: #7f7f7f\">scene_file_writer.py</span></a><span style=\"color: #7f7f7f; text-decoration-color: #7f7f7f\">:</span><a href=\"file://c:\\Users\\alexl\\AppData\\Local\\Programs\\Python\\Python312\\Lib\\site-packages\\manim\\scene\\scene_file_writer.py#588\" target=\"_blank\"><span style=\"color: #7f7f7f; text-decoration-color: #7f7f7f\">588</span></a>\n",
       "<span style=\"color: #7fbfbf; text-decoration-color: #7fbfbf\">                    </span>         <span style=\"color: #008000; text-decoration-color: #008000\">'C:\\Users\\alexl\\Code\\manim-generator\\documentation\\media\\vide</span> <span style=\"color: #7f7f7f; text-decoration-color: #7f7f7f\">                        </span>\n",
       "<span style=\"color: #7fbfbf; text-decoration-color: #7fbfbf\">                    </span>         <span style=\"color: #008000; text-decoration-color: #008000\">os\\480p15\\partial_movie_files\\FullTutorial\\624642324_27085783</span> <span style=\"color: #7f7f7f; text-decoration-color: #7f7f7f\">                        </span>\n",
       "<span style=\"color: #7fbfbf; text-decoration-color: #7fbfbf\">                    </span>         <span style=\"color: #008000; text-decoration-color: #008000\">94_4081461735.mp4'</span>                                            <span style=\"color: #7f7f7f; text-decoration-color: #7f7f7f\">                        </span>\n",
       "</pre>\n"
      ],
      "text/plain": [
       "\u001b[2;36m[04/20/25 12:39:58]\u001b[0m\u001b[2;36m \u001b[0m\u001b[32mINFO    \u001b[0m Animation \u001b[32m35\u001b[0m : Partial movie file written in                  \u001b]8;id=533756;file://c:\\Users\\alexl\\AppData\\Local\\Programs\\Python\\Python312\\Lib\\site-packages\\manim\\scene\\scene_file_writer.py\u001b\\\u001b[2mscene_file_writer.py\u001b[0m\u001b]8;;\u001b\\\u001b[2m:\u001b[0m\u001b]8;id=979397;file://c:\\Users\\alexl\\AppData\\Local\\Programs\\Python\\Python312\\Lib\\site-packages\\manim\\scene\\scene_file_writer.py#588\u001b\\\u001b[2m588\u001b[0m\u001b]8;;\u001b\\\n",
       "\u001b[2;36m                    \u001b[0m         \u001b[32m'C:\\Users\\alexl\\Code\\manim-generator\\documentation\\media\\vide\u001b[0m \u001b[2m                        \u001b[0m\n",
       "\u001b[2;36m                    \u001b[0m         \u001b[32mos\\480p15\\partial_movie_files\\FullTutorial\\624642324_27085783\u001b[0m \u001b[2m                        \u001b[0m\n",
       "\u001b[2;36m                    \u001b[0m         \u001b[32m94_4081461735.mp4'\u001b[0m                                            \u001b[2m                        \u001b[0m\n"
      ]
     },
     "metadata": {},
     "output_type": "display_data"
    },
    {
     "data": {
      "text/html": [
       "<pre style=\"white-space:pre;overflow-x:auto;line-height:normal;font-family:Menlo,'DejaVu Sans Mono',consolas,'Courier New',monospace\"><span style=\"color: #7fbfbf; text-decoration-color: #7fbfbf\">                    </span><span style=\"color: #008000; text-decoration-color: #008000\">INFO    </span> Automatically converted                                       <a href=\"file://c:\\Users\\alexl\\AppData\\Local\\Programs\\Python\\Python312\\Lib\\site-packages\\manim\\scene\\scene_file_writer.py\" target=\"_blank\"><span style=\"color: #7f7f7f; text-decoration-color: #7f7f7f\">scene_file_writer.py</span></a><span style=\"color: #7f7f7f; text-decoration-color: #7f7f7f\">:</span><a href=\"file://c:\\Users\\alexl\\AppData\\Local\\Programs\\Python\\Python312\\Lib\\site-packages\\manim\\scene\\scene_file_writer.py#377\" target=\"_blank\"><span style=\"color: #7f7f7f; text-decoration-color: #7f7f7f\">377</span></a>\n",
       "<span style=\"color: #7fbfbf; text-decoration-color: #7fbfbf\">                    </span>         media\\voiceovers\\in-multiple-dimensions-we-replace-the-deriva <span style=\"color: #7f7f7f; text-decoration-color: #7f7f7f\">                        </span>\n",
       "<span style=\"color: #7fbfbf; text-decoration-color: #7fbfbf\">                    </span>         tive-50ccc777.mp3 to .wav                                     <span style=\"color: #7f7f7f; text-decoration-color: #7f7f7f\">                        </span>\n",
       "</pre>\n"
      ],
      "text/plain": [
       "\u001b[2;36m                   \u001b[0m\u001b[2;36m \u001b[0m\u001b[32mINFO    \u001b[0m Automatically converted                                       \u001b]8;id=534339;file://c:\\Users\\alexl\\AppData\\Local\\Programs\\Python\\Python312\\Lib\\site-packages\\manim\\scene\\scene_file_writer.py\u001b\\\u001b[2mscene_file_writer.py\u001b[0m\u001b]8;;\u001b\\\u001b[2m:\u001b[0m\u001b]8;id=231177;file://c:\\Users\\alexl\\AppData\\Local\\Programs\\Python\\Python312\\Lib\\site-packages\\manim\\scene\\scene_file_writer.py#377\u001b\\\u001b[2m377\u001b[0m\u001b]8;;\u001b\\\n",
       "\u001b[2;36m                    \u001b[0m         media\\voiceovers\\in-multiple-dimensions-we-replace-the-deriva \u001b[2m                        \u001b[0m\n",
       "\u001b[2;36m                    \u001b[0m         tive-50ccc777.mp3 to .wav                                     \u001b[2m                        \u001b[0m\n"
      ]
     },
     "metadata": {},
     "output_type": "display_data"
    },
    {
     "name": "stderr",
     "output_type": "stream",
     "text": [
      "                                                                                                                                                                                                                                                  \r"
     ]
    },
    {
     "data": {
      "text/html": [
       "<pre style=\"white-space:pre;overflow-x:auto;line-height:normal;font-family:Menlo,'DejaVu Sans Mono',consolas,'Courier New',monospace\"><span style=\"color: #7fbfbf; text-decoration-color: #7fbfbf\">[04/20/25 12:39:59] </span><span style=\"color: #008000; text-decoration-color: #008000\">INFO    </span> Animation <span style=\"color: #008000; text-decoration-color: #008000\">36</span> : Partial movie file written in                  <a href=\"file://c:\\Users\\alexl\\AppData\\Local\\Programs\\Python\\Python312\\Lib\\site-packages\\manim\\scene\\scene_file_writer.py\" target=\"_blank\"><span style=\"color: #7f7f7f; text-decoration-color: #7f7f7f\">scene_file_writer.py</span></a><span style=\"color: #7f7f7f; text-decoration-color: #7f7f7f\">:</span><a href=\"file://c:\\Users\\alexl\\AppData\\Local\\Programs\\Python\\Python312\\Lib\\site-packages\\manim\\scene\\scene_file_writer.py#588\" target=\"_blank\"><span style=\"color: #7f7f7f; text-decoration-color: #7f7f7f\">588</span></a>\n",
       "<span style=\"color: #7fbfbf; text-decoration-color: #7fbfbf\">                    </span>         <span style=\"color: #008000; text-decoration-color: #008000\">'C:\\Users\\alexl\\Code\\manim-generator\\documentation\\media\\vide</span> <span style=\"color: #7f7f7f; text-decoration-color: #7f7f7f\">                        </span>\n",
       "<span style=\"color: #7fbfbf; text-decoration-color: #7fbfbf\">                    </span>         <span style=\"color: #008000; text-decoration-color: #008000\">os\\480p15\\partial_movie_files\\FullTutorial\\624642324_20776686</span> <span style=\"color: #7f7f7f; text-decoration-color: #7f7f7f\">                        </span>\n",
       "<span style=\"color: #7fbfbf; text-decoration-color: #7fbfbf\">                    </span>         <span style=\"color: #008000; text-decoration-color: #008000\">21_1840722384.mp4'</span>                                            <span style=\"color: #7f7f7f; text-decoration-color: #7f7f7f\">                        </span>\n",
       "</pre>\n"
      ],
      "text/plain": [
       "\u001b[2;36m[04/20/25 12:39:59]\u001b[0m\u001b[2;36m \u001b[0m\u001b[32mINFO    \u001b[0m Animation \u001b[32m36\u001b[0m : Partial movie file written in                  \u001b]8;id=442325;file://c:\\Users\\alexl\\AppData\\Local\\Programs\\Python\\Python312\\Lib\\site-packages\\manim\\scene\\scene_file_writer.py\u001b\\\u001b[2mscene_file_writer.py\u001b[0m\u001b]8;;\u001b\\\u001b[2m:\u001b[0m\u001b]8;id=506586;file://c:\\Users\\alexl\\AppData\\Local\\Programs\\Python\\Python312\\Lib\\site-packages\\manim\\scene\\scene_file_writer.py#588\u001b\\\u001b[2m588\u001b[0m\u001b]8;;\u001b\\\n",
       "\u001b[2;36m                    \u001b[0m         \u001b[32m'C:\\Users\\alexl\\Code\\manim-generator\\documentation\\media\\vide\u001b[0m \u001b[2m                        \u001b[0m\n",
       "\u001b[2;36m                    \u001b[0m         \u001b[32mos\\480p15\\partial_movie_files\\FullTutorial\\624642324_20776686\u001b[0m \u001b[2m                        \u001b[0m\n",
       "\u001b[2;36m                    \u001b[0m         \u001b[32m21_1840722384.mp4'\u001b[0m                                            \u001b[2m                        \u001b[0m\n"
      ]
     },
     "metadata": {},
     "output_type": "display_data"
    },
    {
     "data": {
      "text/html": [
       "<pre style=\"white-space:pre;overflow-x:auto;line-height:normal;font-family:Menlo,'DejaVu Sans Mono',consolas,'Courier New',monospace\"><span style=\"color: #7fbfbf; text-decoration-color: #7fbfbf\">[04/20/25 12:40:00] </span><span style=\"color: #008000; text-decoration-color: #008000\">INFO    </span> Animation <span style=\"color: #008000; text-decoration-color: #008000\">37</span> : Partial movie file written in                  <a href=\"file://c:\\Users\\alexl\\AppData\\Local\\Programs\\Python\\Python312\\Lib\\site-packages\\manim\\scene\\scene_file_writer.py\" target=\"_blank\"><span style=\"color: #7f7f7f; text-decoration-color: #7f7f7f\">scene_file_writer.py</span></a><span style=\"color: #7f7f7f; text-decoration-color: #7f7f7f\">:</span><a href=\"file://c:\\Users\\alexl\\AppData\\Local\\Programs\\Python\\Python312\\Lib\\site-packages\\manim\\scene\\scene_file_writer.py#588\" target=\"_blank\"><span style=\"color: #7f7f7f; text-decoration-color: #7f7f7f\">588</span></a>\n",
       "<span style=\"color: #7fbfbf; text-decoration-color: #7fbfbf\">                    </span>         <span style=\"color: #008000; text-decoration-color: #008000\">'C:\\Users\\alexl\\Code\\manim-generator\\documentation\\media\\vide</span> <span style=\"color: #7f7f7f; text-decoration-color: #7f7f7f\">                        </span>\n",
       "<span style=\"color: #7fbfbf; text-decoration-color: #7fbfbf\">                    </span>         <span style=\"color: #008000; text-decoration-color: #008000\">os\\480p15\\partial_movie_files\\FullTutorial\\624642324_19497977</span> <span style=\"color: #7f7f7f; text-decoration-color: #7f7f7f\">                        </span>\n",
       "<span style=\"color: #7fbfbf; text-decoration-color: #7fbfbf\">                    </span>         <span style=\"color: #008000; text-decoration-color: #008000\">4_419823398.mp4'</span>                                              <span style=\"color: #7f7f7f; text-decoration-color: #7f7f7f\">                        </span>\n",
       "</pre>\n"
      ],
      "text/plain": [
       "\u001b[2;36m[04/20/25 12:40:00]\u001b[0m\u001b[2;36m \u001b[0m\u001b[32mINFO    \u001b[0m Animation \u001b[32m37\u001b[0m : Partial movie file written in                  \u001b]8;id=574552;file://c:\\Users\\alexl\\AppData\\Local\\Programs\\Python\\Python312\\Lib\\site-packages\\manim\\scene\\scene_file_writer.py\u001b\\\u001b[2mscene_file_writer.py\u001b[0m\u001b]8;;\u001b\\\u001b[2m:\u001b[0m\u001b]8;id=550319;file://c:\\Users\\alexl\\AppData\\Local\\Programs\\Python\\Python312\\Lib\\site-packages\\manim\\scene\\scene_file_writer.py#588\u001b\\\u001b[2m588\u001b[0m\u001b]8;;\u001b\\\n",
       "\u001b[2;36m                    \u001b[0m         \u001b[32m'C:\\Users\\alexl\\Code\\manim-generator\\documentation\\media\\vide\u001b[0m \u001b[2m                        \u001b[0m\n",
       "\u001b[2;36m                    \u001b[0m         \u001b[32mos\\480p15\\partial_movie_files\\FullTutorial\\624642324_19497977\u001b[0m \u001b[2m                        \u001b[0m\n",
       "\u001b[2;36m                    \u001b[0m         \u001b[32m4_419823398.mp4'\u001b[0m                                              \u001b[2m                        \u001b[0m\n"
      ]
     },
     "metadata": {},
     "output_type": "display_data"
    },
    {
     "data": {
      "text/html": [
       "<pre style=\"white-space:pre;overflow-x:auto;line-height:normal;font-family:Menlo,'DejaVu Sans Mono',consolas,'Courier New',monospace\"><span style=\"color: #7fbfbf; text-decoration-color: #7fbfbf\">[04/20/25 12:40:01] </span><span style=\"color: #008000; text-decoration-color: #008000\">INFO    </span> Automatically converted                                       <a href=\"file://c:\\Users\\alexl\\AppData\\Local\\Programs\\Python\\Python312\\Lib\\site-packages\\manim\\scene\\scene_file_writer.py\" target=\"_blank\"><span style=\"color: #7f7f7f; text-decoration-color: #7f7f7f\">scene_file_writer.py</span></a><span style=\"color: #7f7f7f; text-decoration-color: #7f7f7f\">:</span><a href=\"file://c:\\Users\\alexl\\AppData\\Local\\Programs\\Python\\Python312\\Lib\\site-packages\\manim\\scene\\scene_file_writer.py#377\" target=\"_blank\"><span style=\"color: #7f7f7f; text-decoration-color: #7f7f7f\">377</span></a>\n",
       "<span style=\"color: #7fbfbf; text-decoration-color: #7fbfbf\">                    </span>         media\\voiceovers\\the-update-rule-becomes-vector-valued-subtra <span style=\"color: #7f7f7f; text-decoration-color: #7f7f7f\">                        </span>\n",
       "<span style=\"color: #7fbfbf; text-decoration-color: #7fbfbf\">                    </span>         cting-ef3c2c82.mp3 to .wav                                    <span style=\"color: #7f7f7f; text-decoration-color: #7f7f7f\">                        </span>\n",
       "</pre>\n"
      ],
      "text/plain": [
       "\u001b[2;36m[04/20/25 12:40:01]\u001b[0m\u001b[2;36m \u001b[0m\u001b[32mINFO    \u001b[0m Automatically converted                                       \u001b]8;id=719472;file://c:\\Users\\alexl\\AppData\\Local\\Programs\\Python\\Python312\\Lib\\site-packages\\manim\\scene\\scene_file_writer.py\u001b\\\u001b[2mscene_file_writer.py\u001b[0m\u001b]8;;\u001b\\\u001b[2m:\u001b[0m\u001b]8;id=882523;file://c:\\Users\\alexl\\AppData\\Local\\Programs\\Python\\Python312\\Lib\\site-packages\\manim\\scene\\scene_file_writer.py#377\u001b\\\u001b[2m377\u001b[0m\u001b]8;;\u001b\\\n",
       "\u001b[2;36m                    \u001b[0m         media\\voiceovers\\the-update-rule-becomes-vector-valued-subtra \u001b[2m                        \u001b[0m\n",
       "\u001b[2;36m                    \u001b[0m         cting-ef3c2c82.mp3 to .wav                                    \u001b[2m                        \u001b[0m\n"
      ]
     },
     "metadata": {},
     "output_type": "display_data"
    },
    {
     "name": "stderr",
     "output_type": "stream",
     "text": [
      "                                                                                                                                                            \r"
     ]
    },
    {
     "data": {
      "text/html": [
       "<pre style=\"white-space:pre;overflow-x:auto;line-height:normal;font-family:Menlo,'DejaVu Sans Mono',consolas,'Courier New',monospace\"><span style=\"color: #7fbfbf; text-decoration-color: #7fbfbf\">[04/20/25 12:40:02] </span><span style=\"color: #008000; text-decoration-color: #008000\">INFO    </span> Animation <span style=\"color: #008000; text-decoration-color: #008000\">38</span> : Partial movie file written in                  <a href=\"file://c:\\Users\\alexl\\AppData\\Local\\Programs\\Python\\Python312\\Lib\\site-packages\\manim\\scene\\scene_file_writer.py\" target=\"_blank\"><span style=\"color: #7f7f7f; text-decoration-color: #7f7f7f\">scene_file_writer.py</span></a><span style=\"color: #7f7f7f; text-decoration-color: #7f7f7f\">:</span><a href=\"file://c:\\Users\\alexl\\AppData\\Local\\Programs\\Python\\Python312\\Lib\\site-packages\\manim\\scene\\scene_file_writer.py#588\" target=\"_blank\"><span style=\"color: #7f7f7f; text-decoration-color: #7f7f7f\">588</span></a>\n",
       "<span style=\"color: #7fbfbf; text-decoration-color: #7fbfbf\">                    </span>         <span style=\"color: #008000; text-decoration-color: #008000\">'C:\\Users\\alexl\\Code\\manim-generator\\documentation\\media\\vide</span> <span style=\"color: #7f7f7f; text-decoration-color: #7f7f7f\">                        </span>\n",
       "<span style=\"color: #7fbfbf; text-decoration-color: #7fbfbf\">                    </span>         <span style=\"color: #008000; text-decoration-color: #008000\">os\\480p15\\partial_movie_files\\FullTutorial\\624642324_39533000</span> <span style=\"color: #7f7f7f; text-decoration-color: #7f7f7f\">                        </span>\n",
       "<span style=\"color: #7fbfbf; text-decoration-color: #7fbfbf\">                    </span>         <span style=\"color: #008000; text-decoration-color: #008000\">27_2319456961.mp4'</span>                                            <span style=\"color: #7f7f7f; text-decoration-color: #7f7f7f\">                        </span>\n",
       "</pre>\n"
      ],
      "text/plain": [
       "\u001b[2;36m[04/20/25 12:40:02]\u001b[0m\u001b[2;36m \u001b[0m\u001b[32mINFO    \u001b[0m Animation \u001b[32m38\u001b[0m : Partial movie file written in                  \u001b]8;id=992139;file://c:\\Users\\alexl\\AppData\\Local\\Programs\\Python\\Python312\\Lib\\site-packages\\manim\\scene\\scene_file_writer.py\u001b\\\u001b[2mscene_file_writer.py\u001b[0m\u001b]8;;\u001b\\\u001b[2m:\u001b[0m\u001b]8;id=75777;file://c:\\Users\\alexl\\AppData\\Local\\Programs\\Python\\Python312\\Lib\\site-packages\\manim\\scene\\scene_file_writer.py#588\u001b\\\u001b[2m588\u001b[0m\u001b]8;;\u001b\\\n",
       "\u001b[2;36m                    \u001b[0m         \u001b[32m'C:\\Users\\alexl\\Code\\manim-generator\\documentation\\media\\vide\u001b[0m \u001b[2m                        \u001b[0m\n",
       "\u001b[2;36m                    \u001b[0m         \u001b[32mos\\480p15\\partial_movie_files\\FullTutorial\\624642324_39533000\u001b[0m \u001b[2m                        \u001b[0m\n",
       "\u001b[2;36m                    \u001b[0m         \u001b[32m27_2319456961.mp4'\u001b[0m                                            \u001b[2m                        \u001b[0m\n"
      ]
     },
     "metadata": {},
     "output_type": "display_data"
    },
    {
     "data": {
      "text/html": [
       "<pre style=\"white-space:pre;overflow-x:auto;line-height:normal;font-family:Menlo,'DejaVu Sans Mono',consolas,'Courier New',monospace\"><span style=\"color: #7fbfbf; text-decoration-color: #7fbfbf\">[04/20/25 12:40:03] </span><span style=\"color: #008000; text-decoration-color: #008000\">INFO    </span> Animation <span style=\"color: #008000; text-decoration-color: #008000\">39</span> : Partial movie file written in                  <a href=\"file://c:\\Users\\alexl\\AppData\\Local\\Programs\\Python\\Python312\\Lib\\site-packages\\manim\\scene\\scene_file_writer.py\" target=\"_blank\"><span style=\"color: #7f7f7f; text-decoration-color: #7f7f7f\">scene_file_writer.py</span></a><span style=\"color: #7f7f7f; text-decoration-color: #7f7f7f\">:</span><a href=\"file://c:\\Users\\alexl\\AppData\\Local\\Programs\\Python\\Python312\\Lib\\site-packages\\manim\\scene\\scene_file_writer.py#588\" target=\"_blank\"><span style=\"color: #7f7f7f; text-decoration-color: #7f7f7f\">588</span></a>\n",
       "<span style=\"color: #7fbfbf; text-decoration-color: #7fbfbf\">                    </span>         <span style=\"color: #008000; text-decoration-color: #008000\">'C:\\Users\\alexl\\Code\\manim-generator\\documentation\\media\\vide</span> <span style=\"color: #7f7f7f; text-decoration-color: #7f7f7f\">                        </span>\n",
       "<span style=\"color: #7fbfbf; text-decoration-color: #7fbfbf\">                    </span>         <span style=\"color: #008000; text-decoration-color: #008000\">os\\480p15\\partial_movie_files\\FullTutorial\\624642324_35120562</span> <span style=\"color: #7f7f7f; text-decoration-color: #7f7f7f\">                        </span>\n",
       "<span style=\"color: #7fbfbf; text-decoration-color: #7fbfbf\">                    </span>         <span style=\"color: #008000; text-decoration-color: #008000\">23_438362727.mp4'</span>                                             <span style=\"color: #7f7f7f; text-decoration-color: #7f7f7f\">                        </span>\n",
       "</pre>\n"
      ],
      "text/plain": [
       "\u001b[2;36m[04/20/25 12:40:03]\u001b[0m\u001b[2;36m \u001b[0m\u001b[32mINFO    \u001b[0m Animation \u001b[32m39\u001b[0m : Partial movie file written in                  \u001b]8;id=679895;file://c:\\Users\\alexl\\AppData\\Local\\Programs\\Python\\Python312\\Lib\\site-packages\\manim\\scene\\scene_file_writer.py\u001b\\\u001b[2mscene_file_writer.py\u001b[0m\u001b]8;;\u001b\\\u001b[2m:\u001b[0m\u001b]8;id=592166;file://c:\\Users\\alexl\\AppData\\Local\\Programs\\Python\\Python312\\Lib\\site-packages\\manim\\scene\\scene_file_writer.py#588\u001b\\\u001b[2m588\u001b[0m\u001b]8;;\u001b\\\n",
       "\u001b[2;36m                    \u001b[0m         \u001b[32m'C:\\Users\\alexl\\Code\\manim-generator\\documentation\\media\\vide\u001b[0m \u001b[2m                        \u001b[0m\n",
       "\u001b[2;36m                    \u001b[0m         \u001b[32mos\\480p15\\partial_movie_files\\FullTutorial\\624642324_35120562\u001b[0m \u001b[2m                        \u001b[0m\n",
       "\u001b[2;36m                    \u001b[0m         \u001b[32m23_438362727.mp4'\u001b[0m                                             \u001b[2m                        \u001b[0m\n"
      ]
     },
     "metadata": {},
     "output_type": "display_data"
    },
    {
     "data": {
      "text/html": [
       "<pre style=\"white-space:pre;overflow-x:auto;line-height:normal;font-family:Menlo,'DejaVu Sans Mono',consolas,'Courier New',monospace\"><span style=\"color: #7fbfbf; text-decoration-color: #7fbfbf\">                    </span><span style=\"color: #008000; text-decoration-color: #008000\">INFO    </span> Automatically converted                                       <a href=\"file://c:\\Users\\alexl\\AppData\\Local\\Programs\\Python\\Python312\\Lib\\site-packages\\manim\\scene\\scene_file_writer.py\" target=\"_blank\"><span style=\"color: #7f7f7f; text-decoration-color: #7f7f7f\">scene_file_writer.py</span></a><span style=\"color: #7f7f7f; text-decoration-color: #7f7f7f\">:</span><a href=\"file://c:\\Users\\alexl\\AppData\\Local\\Programs\\Python\\Python312\\Lib\\site-packages\\manim\\scene\\scene_file_writer.py#377\" target=\"_blank\"><span style=\"color: #7f7f7f; text-decoration-color: #7f7f7f\">377</span></a>\n",
       "<span style=\"color: #7fbfbf; text-decoration-color: #7fbfbf\">                    </span>         media\\voiceovers\\let-s-visualize-gradient-descent-in-two-dime <span style=\"color: #7f7f7f; text-decoration-color: #7f7f7f\">                        </span>\n",
       "<span style=\"color: #7fbfbf; text-decoration-color: #7fbfbf\">                    </span>         nsions-60d8247f.mp3 to .wav                                   <span style=\"color: #7f7f7f; text-decoration-color: #7f7f7f\">                        </span>\n",
       "</pre>\n"
      ],
      "text/plain": [
       "\u001b[2;36m                   \u001b[0m\u001b[2;36m \u001b[0m\u001b[32mINFO    \u001b[0m Automatically converted                                       \u001b]8;id=612561;file://c:\\Users\\alexl\\AppData\\Local\\Programs\\Python\\Python312\\Lib\\site-packages\\manim\\scene\\scene_file_writer.py\u001b\\\u001b[2mscene_file_writer.py\u001b[0m\u001b]8;;\u001b\\\u001b[2m:\u001b[0m\u001b]8;id=943653;file://c:\\Users\\alexl\\AppData\\Local\\Programs\\Python\\Python312\\Lib\\site-packages\\manim\\scene\\scene_file_writer.py#377\u001b\\\u001b[2m377\u001b[0m\u001b]8;;\u001b\\\n",
       "\u001b[2;36m                    \u001b[0m         media\\voiceovers\\let-s-visualize-gradient-descent-in-two-dime \u001b[2m                        \u001b[0m\n",
       "\u001b[2;36m                    \u001b[0m         nsions-60d8247f.mp3 to .wav                                   \u001b[2m                        \u001b[0m\n"
      ]
     },
     "metadata": {},
     "output_type": "display_data"
    },
    {
     "name": "stderr",
     "output_type": "stream",
     "text": [
      "                                                                                                                                                                                                                                                         \r"
     ]
    },
    {
     "data": {
      "text/html": [
       "<pre style=\"white-space:pre;overflow-x:auto;line-height:normal;font-family:Menlo,'DejaVu Sans Mono',consolas,'Courier New',monospace\"><span style=\"color: #7fbfbf; text-decoration-color: #7fbfbf\">[04/20/25 12:40:04] </span><span style=\"color: #008000; text-decoration-color: #008000\">INFO    </span> Animation <span style=\"color: #008000; text-decoration-color: #008000\">40</span> : Partial movie file written in                  <a href=\"file://c:\\Users\\alexl\\AppData\\Local\\Programs\\Python\\Python312\\Lib\\site-packages\\manim\\scene\\scene_file_writer.py\" target=\"_blank\"><span style=\"color: #7f7f7f; text-decoration-color: #7f7f7f\">scene_file_writer.py</span></a><span style=\"color: #7f7f7f; text-decoration-color: #7f7f7f\">:</span><a href=\"file://c:\\Users\\alexl\\AppData\\Local\\Programs\\Python\\Python312\\Lib\\site-packages\\manim\\scene\\scene_file_writer.py#588\" target=\"_blank\"><span style=\"color: #7f7f7f; text-decoration-color: #7f7f7f\">588</span></a>\n",
       "<span style=\"color: #7fbfbf; text-decoration-color: #7fbfbf\">                    </span>         <span style=\"color: #008000; text-decoration-color: #008000\">'C:\\Users\\alexl\\Code\\manim-generator\\documentation\\media\\vide</span> <span style=\"color: #7f7f7f; text-decoration-color: #7f7f7f\">                        </span>\n",
       "<span style=\"color: #7fbfbf; text-decoration-color: #7fbfbf\">                    </span>         <span style=\"color: #008000; text-decoration-color: #008000\">os\\480p15\\partial_movie_files\\FullTutorial\\624642324_12484097</span> <span style=\"color: #7f7f7f; text-decoration-color: #7f7f7f\">                        </span>\n",
       "<span style=\"color: #7fbfbf; text-decoration-color: #7fbfbf\">                    </span>         <span style=\"color: #008000; text-decoration-color: #008000\">76_1724673146.mp4'</span>                                            <span style=\"color: #7f7f7f; text-decoration-color: #7f7f7f\">                        </span>\n",
       "</pre>\n"
      ],
      "text/plain": [
       "\u001b[2;36m[04/20/25 12:40:04]\u001b[0m\u001b[2;36m \u001b[0m\u001b[32mINFO    \u001b[0m Animation \u001b[32m40\u001b[0m : Partial movie file written in                  \u001b]8;id=746250;file://c:\\Users\\alexl\\AppData\\Local\\Programs\\Python\\Python312\\Lib\\site-packages\\manim\\scene\\scene_file_writer.py\u001b\\\u001b[2mscene_file_writer.py\u001b[0m\u001b]8;;\u001b\\\u001b[2m:\u001b[0m\u001b]8;id=839396;file://c:\\Users\\alexl\\AppData\\Local\\Programs\\Python\\Python312\\Lib\\site-packages\\manim\\scene\\scene_file_writer.py#588\u001b\\\u001b[2m588\u001b[0m\u001b]8;;\u001b\\\n",
       "\u001b[2;36m                    \u001b[0m         \u001b[32m'C:\\Users\\alexl\\Code\\manim-generator\\documentation\\media\\vide\u001b[0m \u001b[2m                        \u001b[0m\n",
       "\u001b[2;36m                    \u001b[0m         \u001b[32mos\\480p15\\partial_movie_files\\FullTutorial\\624642324_12484097\u001b[0m \u001b[2m                        \u001b[0m\n",
       "\u001b[2;36m                    \u001b[0m         \u001b[32m76_1724673146.mp4'\u001b[0m                                            \u001b[2m                        \u001b[0m\n"
      ]
     },
     "metadata": {},
     "output_type": "display_data"
    },
    {
     "data": {
      "text/html": [
       "<pre style=\"white-space:pre;overflow-x:auto;line-height:normal;font-family:Menlo,'DejaVu Sans Mono',consolas,'Courier New',monospace\"><span style=\"color: #7fbfbf; text-decoration-color: #7fbfbf\">[04/20/25 12:40:06] </span><span style=\"color: #008000; text-decoration-color: #008000\">INFO    </span> Animation <span style=\"color: #008000; text-decoration-color: #008000\">41</span> : Partial movie file written in                  <a href=\"file://c:\\Users\\alexl\\AppData\\Local\\Programs\\Python\\Python312\\Lib\\site-packages\\manim\\scene\\scene_file_writer.py\" target=\"_blank\"><span style=\"color: #7f7f7f; text-decoration-color: #7f7f7f\">scene_file_writer.py</span></a><span style=\"color: #7f7f7f; text-decoration-color: #7f7f7f\">:</span><a href=\"file://c:\\Users\\alexl\\AppData\\Local\\Programs\\Python\\Python312\\Lib\\site-packages\\manim\\scene\\scene_file_writer.py#588\" target=\"_blank\"><span style=\"color: #7f7f7f; text-decoration-color: #7f7f7f\">588</span></a>\n",
       "<span style=\"color: #7fbfbf; text-decoration-color: #7fbfbf\">                    </span>         <span style=\"color: #008000; text-decoration-color: #008000\">'C:\\Users\\alexl\\Code\\manim-generator\\documentation\\media\\vide</span> <span style=\"color: #7f7f7f; text-decoration-color: #7f7f7f\">                        </span>\n",
       "<span style=\"color: #7fbfbf; text-decoration-color: #7fbfbf\">                    </span>         <span style=\"color: #008000; text-decoration-color: #008000\">os\\480p15\\partial_movie_files\\FullTutorial\\624642324_14909202</span> <span style=\"color: #7f7f7f; text-decoration-color: #7f7f7f\">                        </span>\n",
       "<span style=\"color: #7fbfbf; text-decoration-color: #7fbfbf\">                    </span>         <span style=\"color: #008000; text-decoration-color: #008000\">40_2222095718.mp4'</span>                                            <span style=\"color: #7f7f7f; text-decoration-color: #7f7f7f\">                        </span>\n",
       "</pre>\n"
      ],
      "text/plain": [
       "\u001b[2;36m[04/20/25 12:40:06]\u001b[0m\u001b[2;36m \u001b[0m\u001b[32mINFO    \u001b[0m Animation \u001b[32m41\u001b[0m : Partial movie file written in                  \u001b]8;id=303744;file://c:\\Users\\alexl\\AppData\\Local\\Programs\\Python\\Python312\\Lib\\site-packages\\manim\\scene\\scene_file_writer.py\u001b\\\u001b[2mscene_file_writer.py\u001b[0m\u001b]8;;\u001b\\\u001b[2m:\u001b[0m\u001b]8;id=891598;file://c:\\Users\\alexl\\AppData\\Local\\Programs\\Python\\Python312\\Lib\\site-packages\\manim\\scene\\scene_file_writer.py#588\u001b\\\u001b[2m588\u001b[0m\u001b]8;;\u001b\\\n",
       "\u001b[2;36m                    \u001b[0m         \u001b[32m'C:\\Users\\alexl\\Code\\manim-generator\\documentation\\media\\vide\u001b[0m \u001b[2m                        \u001b[0m\n",
       "\u001b[2;36m                    \u001b[0m         \u001b[32mos\\480p15\\partial_movie_files\\FullTutorial\\624642324_14909202\u001b[0m \u001b[2m                        \u001b[0m\n",
       "\u001b[2;36m                    \u001b[0m         \u001b[32m40_2222095718.mp4'\u001b[0m                                            \u001b[2m                        \u001b[0m\n"
      ]
     },
     "metadata": {},
     "output_type": "display_data"
    },
    {
     "name": "stdout",
     "output_type": "stream",
     "text": [
      "[error]\n",
      "'FullTutorial' object has no attribute 'set_camera_orientation'\n",
      "\n"
     ]
    },
    {
     "data": {
      "text/html": [
       "<pre style=\"white-space:pre;overflow-x:auto;line-height:normal;font-family:Menlo,'DejaVu Sans Mono',consolas,'Courier New',monospace\"><span style=\"color: #7fbfbf; text-decoration-color: #7fbfbf\">[04/20/25 12:40:13] </span><span style=\"color: #008000; text-decoration-color: #008000\">INFO    </span> HTTP Request: POST <span style=\"color: #0000ff; text-decoration-color: #0000ff; text-decoration: underline\">https://api.anthropic.com/v1/messages</span> <span style=\"color: #008000; text-decoration-color: #008000\">\"HTTP/1.1 200</span> <a href=\"file://c:\\Users\\alexl\\AppData\\Local\\Programs\\Python\\Python312\\Lib\\site-packages\\httpx\\_client.py\" target=\"_blank\"><span style=\"color: #7f7f7f; text-decoration-color: #7f7f7f\">_client.py</span></a><span style=\"color: #7f7f7f; text-decoration-color: #7f7f7f\">:</span><a href=\"file://c:\\Users\\alexl\\AppData\\Local\\Programs\\Python\\Python312\\Lib\\site-packages\\httpx\\_client.py#1038\" target=\"_blank\"><span style=\"color: #7f7f7f; text-decoration-color: #7f7f7f\">1038</span></a>\n",
       "<span style=\"color: #7fbfbf; text-decoration-color: #7fbfbf\">                    </span>         <span style=\"color: #008000; text-decoration-color: #008000\">OK\"</span>                                                                    <span style=\"color: #7f7f7f; text-decoration-color: #7f7f7f\">               </span>\n",
       "</pre>\n"
      ],
      "text/plain": [
       "\u001b[2;36m[04/20/25 12:40:13]\u001b[0m\u001b[2;36m \u001b[0m\u001b[32mINFO    \u001b[0m HTTP Request: POST \u001b[4;94mhttps://api.anthropic.com/v1/messages\u001b[0m \u001b[32m\"HTTP/1.1 200\u001b[0m \u001b]8;id=392027;file://c:\\Users\\alexl\\AppData\\Local\\Programs\\Python\\Python312\\Lib\\site-packages\\httpx\\_client.py\u001b\\\u001b[2m_client.py\u001b[0m\u001b]8;;\u001b\\\u001b[2m:\u001b[0m\u001b]8;id=563481;file://c:\\Users\\alexl\\AppData\\Local\\Programs\\Python\\Python312\\Lib\\site-packages\\httpx\\_client.py#1038\u001b\\\u001b[2m1038\u001b[0m\u001b]8;;\u001b\\\n",
       "\u001b[2;36m                    \u001b[0m         \u001b[32mOK\"\u001b[0m                                                                    \u001b[2m               \u001b[0m\n"
      ]
     },
     "metadata": {},
     "output_type": "display_data"
    },
    {
     "name": "stdout",
     "output_type": "stream",
     "text": [
      "[content]\n",
      "TextBlock(citations=None, text=\"I'll fix that error. The `set_camera_orientation` method is available in `ThreeDScene` but not in regular scenes. Since we're using `VoiceoverScene` (which inherits from `Scene`), we need to make our scene inherit from both `VoiceoverScene` and `ThreeDScene` to get 3D capabilities. Let me correct this:\", type='text')\n",
      "\n",
      "[query]\n",
      "https://docs.manim.community/en/stable/reference/manim.scene.three_d_scene.ThreeDScene.html\n",
      "\n"
     ]
    },
    {
     "data": {
      "text/html": [
       "<pre style=\"white-space:pre;overflow-x:auto;line-height:normal;font-family:Menlo,'DejaVu Sans Mono',consolas,'Courier New',monospace\"><span style=\"color: #7fbfbf; text-decoration-color: #7fbfbf\">[04/20/25 12:42:16] </span><span style=\"color: #008000; text-decoration-color: #008000\">INFO    </span> HTTP Request: POST <span style=\"color: #0000ff; text-decoration-color: #0000ff; text-decoration: underline\">https://api.anthropic.com/v1/messages</span> <span style=\"color: #008000; text-decoration-color: #008000\">\"HTTP/1.1 200</span> <a href=\"file://c:\\Users\\alexl\\AppData\\Local\\Programs\\Python\\Python312\\Lib\\site-packages\\httpx\\_client.py\" target=\"_blank\"><span style=\"color: #7f7f7f; text-decoration-color: #7f7f7f\">_client.py</span></a><span style=\"color: #7f7f7f; text-decoration-color: #7f7f7f\">:</span><a href=\"file://c:\\Users\\alexl\\AppData\\Local\\Programs\\Python\\Python312\\Lib\\site-packages\\httpx\\_client.py#1038\" target=\"_blank\"><span style=\"color: #7f7f7f; text-decoration-color: #7f7f7f\">1038</span></a>\n",
       "<span style=\"color: #7fbfbf; text-decoration-color: #7fbfbf\">                    </span>         <span style=\"color: #008000; text-decoration-color: #008000\">OK\"</span>                                                                    <span style=\"color: #7f7f7f; text-decoration-color: #7f7f7f\">               </span>\n",
       "</pre>\n"
      ],
      "text/plain": [
       "\u001b[2;36m[04/20/25 12:42:16]\u001b[0m\u001b[2;36m \u001b[0m\u001b[32mINFO    \u001b[0m HTTP Request: POST \u001b[4;94mhttps://api.anthropic.com/v1/messages\u001b[0m \u001b[32m\"HTTP/1.1 200\u001b[0m \u001b]8;id=79633;file://c:\\Users\\alexl\\AppData\\Local\\Programs\\Python\\Python312\\Lib\\site-packages\\httpx\\_client.py\u001b\\\u001b[2m_client.py\u001b[0m\u001b]8;;\u001b\\\u001b[2m:\u001b[0m\u001b]8;id=260971;file://c:\\Users\\alexl\\AppData\\Local\\Programs\\Python\\Python312\\Lib\\site-packages\\httpx\\_client.py#1038\u001b\\\u001b[2m1038\u001b[0m\u001b]8;;\u001b\\\n",
       "\u001b[2;36m                    \u001b[0m         \u001b[32mOK\"\u001b[0m                                                                    \u001b[2m               \u001b[0m\n"
      ]
     },
     "metadata": {},
     "output_type": "display_data"
    },
    {
     "name": "stdout",
     "output_type": "stream",
     "text": [
      "[content]\n",
      "TextBlock(citations=None, text='Now I\\'ll fix the script by using multiple inheritance to combine the features of `VoiceoverScene` and `ThreeDScene`. Here\\'s the updated code:\\n\\n```python\\nfrom manim import *\\nfrom manim_voiceover import VoiceoverScene\\nfrom manim_voiceover.services.gtts import GTTSService\\nimport numpy as np\\n\\nclass FullTutorial(VoiceoverScene, ThreeDScene):\\n    def construct(self):\\n        # Set up the speech service (using Google TTS for reliability)\\n        self.set_speech_service(GTTSService())\\n        \\n        # SECTION 1: INTRODUCTION\\n        self.intro_section()\\n        \\n        # SECTION 2: 1D GRADIENT DESCENT\\n        self.one_d_gradient_descent()\\n        \\n        # SECTION 3: MULTI-DIMENSIONAL GRADIENT DESCENT\\n        self.multi_d_gradient_descent()\\n        \\n        # SECTION 4: APPLICATION TO REGRESSION\\n        self.regression_application()\\n        \\n        # SECTION 5: STOCHASTIC GRADIENT DESCENT\\n        self.stochastic_gradient_descent()\\n        \\n        # SECTION 6: CONCLUSION\\n        self.conclusion()\\n\\n    def intro_section(self):\\n        # Title\\n        title = Text(\"Gradient Descent\", font_size=72)\\n        subtitle = Text(\"An Iterative Optimization Method\", font_size=36)\\n        subtitle.next_to(title, DOWN)\\n        \\n        with self.voiceover(\"Welcome to this tutorial on gradient descent, one of the most fundamental optimization algorithms in machine learning.\"):\\n            self.play(Write(title))\\n            self.play(FadeIn(subtitle))\\n        \\n        with self.voiceover(\"In supervised learning, we often want to find parameters that minimize an objective function.\"):\\n            objective_eq = MathTex(r\"\\\\Theta^* = \\\\arg\\\\min_{\\\\Theta} J(\\\\Theta)\")\\n            objective_eq.next_to(subtitle, DOWN, buff=0.75)\\n            self.play(FadeOut(subtitle), ReplacementTransform(title, objective_eq))\\n        \\n        # Visual intuition of GD as traversing a terrain\\n        with self.voiceover(\"Intuitively, imagine the objective function as a terrain. Gradient descent starts from an initial point, looks for the steepest downward direction, takes a step, and repeats until reaching a minimum.\"):\\n            # Create a simple contour plot to represent the terrain\\n            axes = Axes(\\n                x_range=[-3, 3, 1],\\n                y_range=[-3, 3, 1],\\n                axis_config={\"include_numbers\": False}\\n            )\\n            \\n            # Function to create a 3D surface (visualized as contour)\\n            def func(x, y):\\n                return 0.5 * (x**2 + 3*y**2 + 0.5*x*y)\\n            \\n            # Create contour plot\\n            contour = axes.plot_implicit_curve(\\n                lambda x, y: func(x, y) - 1,\\n                color=BLUE\\n            )\\n            \\n            contour2 = axes.plot_implicit_curve(\\n                lambda x, y: func(x, y) - 2,\\n                color=BLUE_B\\n            )\\n            \\n            contour3 = axes.plot_implicit_curve(\\n                lambda x, y: func(x, y) - 4,\\n                color=BLUE_C\\n            )\\n            \\n            # Start point and path\\n            start_point = Dot(axes.c2p(2, 2), color=RED)\\n            path = VMobject(color=YELLOW)\\n            path.set_points_as_corners([\\n                axes.c2p(2, 2),\\n                axes.c2p(1.5, 1.0),\\n                axes.c2p(0.8, 0.5),\\n                axes.c2p(0.2, 0.2),\\n                axes.c2p(0, 0)\\n            ])\\n            \\n            destination = Dot(axes.c2p(0, 0), color=GREEN)\\n            \\n            landscape_group = Group(axes, contour, contour2, contour3)\\n            landscape_group.scale(0.8)\\n            \\n            self.play(FadeOut(objective_eq))\\n            self.play(\\n                FadeIn(landscape_group),\\n                FadeIn(start_point)\\n            )\\n            self.play(\\n                Create(path),\\n                run_time=3\\n            )\\n            self.play(FadeIn(destination))\\n            \\n        # Outline the progression of the tutorial\\n        with self.voiceover(\"In this tutorial, we\\'ll cover gradient descent in four stages: One-dimensional gradient descent, extension to many dimensions, application to regression, and stochastic gradient descent for large datasets.\"):\\n            outline = BulletedList(\\n                \"1D Gradient Descent\",\\n                \"Multi-dimensional Extension\",\\n                \"Application to Regression\",\\n                \"Stochastic Gradient Descent (SGD)\",\\n                font_size=36\\n            )\\n            self.play(\\n                FadeOut(landscape_group),\\n                FadeOut(start_point),\\n                FadeOut(path),\\n                FadeOut(destination),\\n                FadeIn(outline)\\n            )\\n            \\n        self.wait(1)\\n        self.play(FadeOut(outline))\\n\\n    def one_d_gradient_descent(self):\\n        section_title = Text(\"1D Gradient Descent\", font_size=60)\\n        \\n        with self.voiceover(\"Let\\'s begin with gradient descent in one dimension.\"):\\n            self.play(Write(section_title))\\n            self.wait(1)\\n            self.play(section_title.animate.to_edge(UP))\\n        \\n        with self.voiceover(\"In one dimension, we need an objective function f, its derivative, and three hyperparameters: an initial value, a step size or learning rate eta, and an accuracy threshold epsilon.\"):\\n            params = BulletedList(\\n                \"Initial value $\\\\\\\\Theta_{init}$\",\\n                \"Step size (learning rate) $\\\\\\\\eta > 0$\",\\n                \"Accuracy threshold $\\\\\\\\epsilon > 0$\",\\n                font_size=34\\n            )\\n            self.play(Create(params))\\n            \\n        with self.voiceover(\"The gradient descent algorithm starts at the initial point and iteratively updates the parameter by moving in the direction opposite to the derivative, scaled by the learning rate.\"):\\n            algorithm_box = SurroundingRectangle(\\n                MathTex(r\"\\\\Theta^{(t)} \\\\gets \\\\Theta^{(t-1)} - \\\\eta \\\\, f\\'(\\\\Theta^{(t-1)})\"),\\n                buff=0.5,\\n                color=YELLOW\\n            )\\n            algorithm = VGroup(\\n                algorithm_box.submobjects[0],  # Fix the indexing error by accessing first submobject\\n                algorithm_box\\n            )\\n            algorithm.next_to(params, DOWN, buff=0.75)\\n            self.play(FadeIn(algorithm))\\n            \\n        # Visual demonstration of 1D gradient descent\\n        with self.voiceover(\"Let\\'s visualize this with a simple example: minimizing the function f(x) equals (x minus 2) squared.\"):\\n            self.play(FadeOut(params), FadeOut(algorithm))\\n            \\n            # Create axes\\n            axes = Axes(\\n                x_range=[-1, 5, 1],\\n                y_range=[0, 10, 2],\\n                axis_config={\"include_tip\": False},\\n                x_axis_config={\"numbers_to_include\": range(0, 6, 1)},\\n                y_axis_config={\"numbers_to_include\": range(0, 12, 2)}\\n            )\\n            \\n            # Label the axes\\n            x_label = axes.get_x_axis_label(\"x\")\\n            y_label = axes.get_y_axis_label(\"f(x)\")\\n            \\n            # Define and plot the function f(x) = (x - 2)^2\\n            def f(x):\\n                return (x - 2)**2\\n                \\n            graph = axes.plot(f, color=BLUE)\\n            graph_label = MathTex(\"f(x) = (x - 2)^2\").next_to(graph, UP).shift(LEFT * 2)\\n            \\n            plot_group = VGroup(axes, x_label, y_label, graph, graph_label)\\n            self.play(Create(plot_group))\\n            \\n        # Animate the gradient descent steps\\n        starting_x = 4\\n        eta = 0.5\\n        convergence_threshold = 0.1\\n        \\n        current_x = starting_x\\n        iterations = []\\n        \\n        # Pre-compute iteration points for smooth animation\\n        while abs(current_x - 2) > convergence_threshold:\\n            iterations.append(current_x)\\n            gradient = 2 * (current_x - 2)  # f\\'(x) = 2(x - 2)\\n            current_x = current_x - eta * gradient\\n            \\n        with self.voiceover(\"Starting at x equals 4 with a learning rate of 0.5, let\\'s trace the gradient descent steps.\"):\\n            # Initial point\\n            point = Dot(axes.c2p(starting_x, f(starting_x)), color=RED)\\n            x_value = MathTex(f\"x^{{(0)}} = {starting_x}\").to_edge(DOWN)\\n            \\n            self.play(FadeIn(point), Write(x_value))\\n            \\n            # Show iterations\\n            for i, x_val in enumerate(iterations[1:], 1):\\n                if i < len(iterations) - 1:  # Skip last iteration for voice pacing\\n                    new_point = Dot(axes.c2p(x_val, f(x_val)), color=RED)\\n                    arrow = Arrow(point.get_center(), new_point.get_center(), buff=0.1, color=YELLOW)\\n                    new_x_value = MathTex(f\"x^{{({i})}} = {x_val:.4f}\").to_edge(DOWN)\\n                    \\n                    self.play(\\n                        Create(arrow),\\n                        Transform(point, new_point),\\n                        Transform(x_value, new_x_value),\\n                        run_time=0.75\\n                    )\\n        \\n        with self.voiceover(\"Eventually, our algorithm converges to the minimum at x equals 2.\"):\\n            final_point = Dot(axes.c2p(2, 0), color=GREEN, radius=0.08)\\n            final_x_value = MathTex(r\"x^* = 2\").to_edge(DOWN)\\n            \\n            self.play(\\n                Transform(point, final_point),\\n                Transform(x_value, final_x_value)\\n            )\\n        \\n        with self.voiceover(\"In convex functions like this one, gradient descent is guaranteed to converge to the global minimum if the learning rate is small enough.\"):\\n            theorem = MathTex(r\"\\\\text{For convex } f \\\\text{ with small enough } \\\\eta, \\\\text{ GD converges to optimum.}\")\\n            theorem.to_edge(DOWN, buff=0.75)\\n            \\n            self.play(\\n                FadeOut(x_value),\\n                FadeIn(theorem)\\n            )\\n        \\n        self.wait(1)\\n        self.play(\\n            FadeOut(plot_group),\\n            FadeOut(point),\\n            FadeOut(theorem),\\n            FadeOut(section_title)\\n        )\\n\\n    def multi_d_gradient_descent(self):\\n        section_title = Text(\"Multi-dimensional Gradient Descent\", font_size=60)\\n        \\n        with self.voiceover(\"Now, let\\'s extend gradient descent to multiple dimensions.\"):\\n            self.play(Write(section_title))\\n            self.wait(1)\\n            self.play(section_title.animate.to_edge(UP))\\n            \\n        with self.voiceover(\"In multiple dimensions, we replace the derivative with the gradient vector, which contains the partial derivatives with respect to each parameter.\"):\\n            gradient = MathTex(\\n                r\"\\\\nabla_\\\\Theta f(\\\\Theta) = \\\\begin{bmatrix} \\\\frac{\\\\partial f}{\\\\partial \\\\Theta_1} \\\\\\\\ \\\\vdots \\\\\\\\ \\\\frac{\\\\partial f}{\\\\partial \\\\Theta_m} \\\\end{bmatrix}\"\\n            )\\n            self.play(Write(gradient))\\n            \\n        with self.voiceover(\"The update rule becomes vector-valued, subtracting the gradient scaled by the learning rate from the current parameter vector.\"):\\n            update = MathTex(\\n                r\"\\\\Theta^{(t)} = \\\\Theta^{(t-1)} - \\\\eta \\\\nabla_\\\\Theta f(\\\\Theta^{(t-1)})\"\\n            )\\n            update.next_to(gradient, DOWN, buff=0.75)\\n            self.play(Write(update))\\n            \\n        # 2D visualization\\n        with self.voiceover(\"Let\\'s visualize gradient descent in two dimensions, where our objective forms a bowl-shaped surface.\"):\\n            self.play(FadeOut(gradient), FadeOut(update))\\n            \\n            # Create a 3D surface\\n            axes = ThreeDAxes(\\n                x_range=[-2, 2, 1],\\n                y_range=[-2, 2, 1],\\n                z_range=[0, 4, 1],\\n                x_length=5,\\n                y_length=5,\\n                z_length=3\\n            )\\n            \\n            # Function for the 3D surface\\n            def f(u, v):\\n                x, y = u, v\\n                return x**2 + y**2\\n                \\n            surface = Surface(\\n                lambda u, v: axes.c2p(u, v, f(u, v)),\\n                u_range=[-2, 2],\\n                v_range=[-2, 2],\\n                resolution=(20, 20),\\n                fill_opacity=0.7,\\n                stroke_color=BLUE\\n            )\\n            \\n            # Set up the camera\\n            self.set_camera_orientation(phi=70 * DEGREES, theta=30 * DEGREES)\\n            self.play(\\n                Create(axes),\\n                Create(surface)\\n            )\\n            \\n        # Animate gradient descent on the surface\\n        with self.voiceover(\"Starting from a point away from the minimum, gradient descent will navigate the surface toward the lowest point.\"):\\n            # Starting point on the surface\\n            start_x, start_y = 1.5, 1.5\\n            start_z = f(start_x, start_y)\\n            start_point = Dot3D(axes.c2p(start_x, start_y, start_z), color=RED, radius=0.08)\\n            \\n            # Destination (minimum)\\n            end_point = Dot3D(axes.c2p(0, 0, 0), color=GREEN, radius=0.08)\\n            \\n            # Create a path for the descent\\n            path_points = []\\n            current_x, current_y = start_x, start_y\\n            eta = 0.2\\n            \\n            for _ in range(8):  # Limited iterations for animation\\n                grad_x = 2 * current_x\\n                grad_y = 2 * current_y\\n                current_x -= eta * grad_x\\n                current_y -= eta * grad_y\\n                path_points.append((current_x, current_y, f(current_x, current_y)))\\n                \\n            # Create the descent path\\n            path = VMobject(color=YELLOW)\\n            path.set_points_as_corners([axes.c2p(start_x, start_y, start_z)] + \\n                                      [axes.c2p(x, y, z) for x, y, z in path_points])\\n            \\n            self.play(FadeIn(start_point))\\n            self.play(Create(path), run_time=3)\\n            self.play(FadeIn(end_point))\\n            \\n        with self.voiceover(\"The termination condition can be based on function change, parameter change, or simply a fixed number of iterations.\"):\\n            termination = BulletedList(\\n                \"Fixed iteration cap\",\\n                \"Small parameter change\",\\n                \"Small function change\",\\n                font_size=28\\n            )\\n            termination.to_corner(UR)\\n            self.play(Write(termination))\\n            \\n        self.wait(1)\\n        self.play(\\n            FadeOut(axes),\\n            FadeOut(surface),\\n            FadeOut(start_point),\\n            FadeOut(path),\\n            FadeOut(end_point),\\n            FadeOut(termination),\\n            FadeOut(section_title)\\n        )\\n        # Reset camera orientation for 2D scenes\\n        self.set_camera_orientation(phi=0, theta=-90 * DEGREES)\\n\\n    def regression_application(self):\\n        section_title = Text(\"Application to Regression\", font_size=60)\\n        \\n        with self.voiceover(\"Now, let\\'s apply gradient descent to a practical problem: linear regression.\"):\\n            self.play(Write(section_title))\\n            self.wait(1)\\n            self.play(section_title.animate.to_edge(UP))\\n            \\n        with self.voiceover(\"In linear regression with squared error loss, our objective is to minimize the average squared difference between predictions and actual values.\"):\\n            objective = MathTex(\\n                r\"J(\\\\bm{\\\\theta}) = \\\\frac{1}{n}\\\\sum_{i=1}^{n} \\\\bigl(\\\\bm{\\\\theta}^{\\\\top}x^{(i)}-y^{(i)}\\\\bigr)^2\"\\n            )\\n            self.play(Write(objective))\\n            \\n        with self.voiceover(\"The gradient of this objective with respect to our parameters is:\"):\\n            gradient = MathTex(\\n                r\"\\\\nabla_{\\\\bm{\\\\theta}}J = \\\\frac{2}{n}X^{\\\\top}(X\\\\bm{\\\\theta}-Y)\"\\n            )\\n            gradient.next_to(objective, DOWN, buff=0.75)\\n            self.play(Write(gradient))\\n            \\n        with self.voiceover(\"Which gives us the gradient descent update rule:\"):\\n            update = MathTex(\\n                r\"\\\\bm{\\\\theta}^{(t)} = \\\\bm{\\\\theta}^{(t-1)} - \\\\eta\\\\frac{2}{n}\\\\sum_{i=1}^{n} \\\\bigl(\\\\bm{\\\\theta}^{(t-1)\\\\top}x^{(i)}-y^{(i)}\\\\bigr)x^{(i)}\"\\n            )\\n            update.next_to(gradient, DOWN, buff=0.75)\\n            self.play(Write(update))\\n            \\n        # Visual example of linear regression\\n        with self.voiceover(\"Let\\'s visualize how gradient descent works for linear regression.\"):\\n            self.play(\\n                FadeOut(objective),\\n                FadeOut(gradient),\\n                FadeOut(update)\\n            )\\n            \\n            # Create scatter plot with data points\\n            axes = Axes(\\n                x_range=[0, 10, 1],\\n                y_range=[0, 10, 1],\\n                axis_config={\"include_tip\": False}\\n            )\\n            \\n            # Generate synthetic data for visualization\\n            np.random.seed(42)  # For reproducibility\\n            x_vals = np.linspace(1, 9, 10)\\n            y_vals = 1 + 0.7 * x_vals + np.random.normal(0, 1, 10)\\n            \\n            # Create dots for the data points\\n            dots = VGroup(*[\\n                Dot(axes.c2p(x, y), color=BLUE)\\n                for x, y in zip(x_vals, y_vals)\\n            ])\\n            \\n            x_label = axes.get_x_axis_label(\"x\")\\n            y_label = axes.get_y_axis_label(\"y\")\\n            \\n            plot_group = VGroup(axes, x_label, y_label, dots)\\n            self.play(Create(plot_group))\\n            \\n        with self.voiceover(\"We start with initial parameters and iteratively update them using gradient descent.\"):\\n            # Initial line\\n            init_slope, init_intercept = 0.0, 5.0\\n            initial_line = axes.plot(\\n                lambda x: init_slope * x + init_intercept,\\n                color=RED,\\n                x_range=[0, 10]\\n            )\\n            initial_eq = MathTex(r\"y = 0.0x + 5.0\", color=RED).to_corner(UL)\\n            \\n            self.play(\\n                Create(initial_line),\\n                Write(initial_eq)\\n            )\\n            \\n        with self.voiceover(\"With each iteration, our line gets closer to the optimal fit.\"):\\n            # Iterate to show gradient descent progress\\n            lines = []\\n            equations = []\\n            \\n            # These would be computed by actual GD in practice\\n            # Here we\\'ll just show a smooth progression\\n            slopes = [0.2, 0.4, 0.55, 0.65, 0.7]\\n            intercepts = [4.5, 3.5, 2.5, 1.5, 1.0]\\n            \\n            for i, (slope, intercept) in enumerate(zip(slopes, intercepts)):\\n                new_line = axes.plot(\\n                    lambda x, s=slope, i=intercept: s * x + i,\\n                    color=YELLOW,\\n                    x_range=[0, 10]\\n                )\\n                new_eq = MathTex(f\"y = {slope:.1f}x + {intercept:.1f}\", color=YELLOW).to_corner(UL)\\n                \\n                lines.append(new_line)\\n                equations.append(new_eq)\\n                \\n                if i == 0:\\n                    self.play(\\n                        Transform(initial_line, new_line),\\n                        Transform(initial_eq, new_eq),\\n                        run_time=1\\n                    )\\n                else:\\n                    self.play(\\n                        Transform(initial_line, new_line),\\n                        Transform(initial_eq, new_eq),\\n                        run_time=0.8\\n                    )\\n            \\n            # Final optimal line\\n            optimal_line = axes.plot(\\n                lambda x: 0.7 * x + 1.0,\\n                color=GREEN,\\n                x_range=[0, 10]\\n            )\\n            optimal_eq = MathTex(r\"y = 0.7x + 1.0\", color=GREEN).to_corner(UL)\\n            \\n            self.play(\\n                Transform(initial_line, optimal_line),\\n                Transform(initial_eq, optimal_eq)\\n            )\\n            \\n        with self.voiceover(\"We can extend this approach to ridge regression by adding an L2 regularization term to the objective function.\"):\\n            ridge_title = Text(\"Ridge Regression\", font_size=40)\\n            ridge_title.next_to(section_title, DOWN)\\n            \\n            ridge_obj = MathTex(\\n                r\"J_{ridge}(\\\\bm{\\\\theta}) = \\\\frac{1}{n}\\\\sum_{i=1}^{n} \\\\bigl(\\\\bm{\\\\theta}^{\\\\top}x^{(i)}-y^{(i)}\\\\bigr)^2 + \\\\lambda||\\\\bm{\\\\theta}||^2\"\\n            )\\n            ridge_obj.scale(0.8)\\n            ridge_obj.next_to(ridge_title, DOWN, buff=0.5)\\n            \\n            self.play(\\n                FadeOut(plot_group),\\n                FadeOut(initial_line),\\n                FadeOut(initial_eq),\\n                Write(ridge_title),\\n                Write(ridge_obj)\\n            )\\n            \\n        self.wait(1)\\n        self.play(\\n            FadeOut(section_title),\\n            FadeOut(ridge_title),\\n            FadeOut(ridge_obj)\\n        )\\n\\n    def stochastic_gradient_descent(self):\\n        section_title = Text(\"Stochastic Gradient Descent\", font_size=60)\\n        \\n        with self.voiceover(\"Finally, let\\'s explore stochastic gradient descent, a variant of gradient descent designed for large datasets.\"):\\n            self.play(Write(section_title))\\n            self.wait(1)\\n            self.play(section_title.animate.to_edge(UP))\\n            \\n        with self.voiceover(\"When our objective is a sum of many terms, computing the full gradient can be expensive. Stochastic gradient descent updates with just one randomly chosen term at each step.\"):\\n            sgd_formula = MathTex(\\n                r\"f(\\\\Theta) = \\\\frac{1}{n}\\\\sum_{i=1}^{n} f_i(\\\\Theta)\"\\n            )\\n            \\n            sgd_update = MathTex(\\n                r\"\\\\Theta^{(t)} \\\\gets \\\\Theta^{(t-1)} - \\\\eta(t) \\\\, \\\\nabla f_i(\\\\Theta^{(t-1)})\"\\n            )\\n            sgd_update.next_to(sgd_formula, DOWN, buff=0.75)\\n            \\n            random_i = MathTex(r\"i \\\\sim \\\\text{Uniform}\\\\{1, \\\\ldots, n\\\\}\")\\n            random_i.next_to(sgd_update, DOWN, buff=0.5)\\n            \\n            self.play(Write(sgd_formula))\\n            self.play(Write(sgd_update))\\n            self.play(Write(random_i))\\n            \\n        with self.voiceover(\"Under certain conditions on the learning rate schedule, SGD converges to the optimum with probability 1.\"):\\n            convergence = MathTex(\\n                r\"\\\\sum_{t=1}^{\\\\infty}\\\\eta(t) = \\\\infty, \\\\quad \\\\sum_{t=1}^{\\\\infty}\\\\eta(t)^2 < \\\\infty\"\\n            )\\n            convergence.next_to(random_i, DOWN, buff=0.75)\\n            self.play(Write(convergence))\\n            \\n        # Visualization comparing GD and SGD\\n        with self.voiceover(\"There are three key advantages of SGD: it\\'s more efficient for large datasets, it can escape poor local minima, and it often leads to better generalization.\"):\\n            self.play(\\n                FadeOut(sgd_formula),\\n                FadeOut(sgd_update),\\n                FadeOut(random_i),\\n                FadeOut(convergence)\\n            )\\n            \\n            advantages = BulletedList(\\n                \"Efficiency: Each step uses only one data point\",\\n                \"Escaping bad minima: Noise helps avoid shallow local minima\",\\n                \"Generalization: Slight under-optimization reduces overfitting\",\\n                font_size=36\\n            )\\n            self.play(Create(advantages))\\n            \\n        # Visual comparison of GD vs SGD trajectories\\n        with self.voiceover(\"Let\\'s compare the trajectories of batch gradient descent and stochastic gradient descent.\"):\\n            self.play(FadeOut(advantages))\\n            \\n            # Create a contour plot for a non-convex function\\n            axes = Axes(\\n                x_range=[-3, 3, 1],\\n                y_range=[-3, 3, 1],\\n                axis_config={\"include_numbers\": False}\\n            )\\n            \\n            # Non-convex function for visualization\\n            def non_convex_func(x, y):\\n                return 0.5 * (x**2 + 3*y**2) + np.sin(2*x) + 2*np.cos(y)\\n            \\n            # Create contours\\n            contour_levels = [0.5, 1, 2, 3, 4]\\n            contours = VGroup(*[\\n                axes.plot_implicit_curve(\\n                    lambda x, y: non_convex_func(x, y) - level,\\n                    color=BLUE_C if i % 2 == 0 else BLUE_D\\n                )\\n                for i, level in enumerate(contour_levels)\\n            ])\\n            \\n            # Label the plot\\n            plot_label = Text(\"Non-convex Objective\", font_size=28).next_to(axes, UP)\\n            plot_group = VGroup(axes, contours, plot_label)\\n            \\n            self.play(Create(plot_group))\\n            \\n            # Batch GD path (direct)\\n            gd_start = Dot(axes.c2p(2, 2), color=RED)\\n            gd_path = VMobject(color=RED)\\n            gd_path.set_points_as_corners([\\n                axes.c2p(2, 2),\\n                axes.c2p(1.5, 1.5),\\n                axes.c2p(1.0, 1.0),\\n                axes.c2p(0.5, 0.5),\\n                axes.c2p(0.3, 0.3),\\n                axes.c2p(0.2, 0.2)\\n            ])\\n            gd_end = Dot(axes.c2p(0.2, 0.2), color=RED)\\n            gd_label = Text(\"Batch GD\", font_size=24, color=RED).next_to(gd_end, RIGHT)\\n            \\n            # SGD path (noisy)\\n            sgd_start = Dot(axes.c2p(2, 2), color=YELLOW)\\n            sgd_path = VMobject(color=YELLOW)\\n            sgd_path.set_points_as_corners([\\n                axes.c2p(2, 2),\\n                axes.c2p(1.7, 1.3),\\n                axes.c2p(1.2, 1.4),\\n                axes.c2p(0.9, 0.8),\\n                axes.c2p(0.4, 0.7),\\n                axes.c2p(0.0, 0.3),\\n                axes.c2p(-0.3, 0.1),\\n                axes.c2p(-0.5, -0.2)\\n            ])\\n            sgd_end = Dot(axes.c2p(-0.5, -0.2), color=YELLOW)\\n            sgd_label = Text(\"SGD\", font_size=24, color=YELLOW).next_to(sgd_end, LEFT)\\n            \\n            # Show batch GD\\n            self.play(FadeIn(gd_start))\\n            self.play(Create(gd_path), run_time=2)\\n            self.play(FadeIn(gd_end), Write(gd_label))\\n            \\n            # Show SGD\\n            self.play(FadeIn(sgd_start))\\n            self.play(Create(sgd_path), run_time=2)\\n            self.play(FadeIn(sgd_end), Write(sgd_label))\\n            \\n        with self.voiceover(\"Notice how SGD\\'s noisy updates allow it to escape the local minimum that trapped batch gradient descent, potentially finding a better solution.\"):\\n            global_min = Dot(axes.c2p(-0.5, -0.2), color=GREEN, radius=0.1)\\n            global_min_label = Text(\"Global Minimum\", font_size=24, color=GREEN).next_to(global_min, DOWN)\\n            \\n            local_min = Dot(axes.c2p(0.2, 0.2), color=ORANGE, radius=0.1)\\n            local_min_label = Text(\"Local Minimum\", font_size=24, color=ORANGE).next_to(local_min, UP)\\n            \\n            self.play(\\n                FadeOut(sgd_end),\\n                FadeIn(global_min),\\n                Write(global_min_label),\\n                Transform(gd_end, local_min),\\n                Write(local_min_label)\\n            )\\n            \\n        self.wait(1)\\n        self.play(\\n            FadeOut(plot_group),\\n            FadeOut(gd_start),\\n            FadeOut(gd_path),\\n            FadeOut(gd_end),\\n            FadeOut(gd_label),\\n            FadeOut(sgd_start),\\n            FadeOut(sgd_path),\\n            FadeOut(global_min),\\n            FadeOut(global_min_label),\\n            FadeOut(local_min_label),\\n            FadeOut(section_title)\\n        )\\n\\n    def conclusion(self):\\n        conclusion_title = Text(\"Conclusion\", font_size=60)\\n        \\n        with self.voiceover(\"To conclude, gradient descent is a fundamental optimization algorithm with several variants.\"):\\n            self.play(Write(conclusion_title))\\n            self.wait(1)\\n            self.play(conclusion_title.animate.to_edge(UP))\\n            \\n        with self.voiceover(\"We\\'ve covered one-dimensional gradient descent, multi-dimensional gradient descent, applications to regression, and stochastic gradient descent.\"):\\n            summary = BulletedList(\\n                \"1D Gradient Descent: Moving in the opposite direction of the derivative\",\\n                \"Multi-dimensional GD: Using the gradient vector for multiple parameters\",\\n                \"Regression Applications: Finding optimal parameters for prediction\",\\n                \"Stochastic GD: Using single samples for efficiency and better generalization\",\\n                font_size=32\\n            )\\n            self.play(Create(summary))\\n            \\n        with self.voiceover(\"These techniques form the backbone of optimization in modern machine learning, enabling the training of complex models on large datasets.\"):\\n            algorithms = VGroup(\\n                Text(\"Batch Gradient Descent\", font_size=28, color=BLUE),\\n                Text(\"Mini-batch SGD\", font_size=28, color=GREEN),\\n                Text(\"Momentum\", font_size=28, color=RED),\\n                Text(\"AdaGrad\", font_size=28, color=YELLOW),\\n                Text(\"RMSProp\", font_size=28, color=PURPLE),\\n                Text(\"Adam\", font_size=28, color=ORANGE)\\n            ).arrange(DOWN, aligned_edge=LEFT, buff=0.3)\\n            \\n            algorithms.next_to(summary, RIGHT, buff=1)\\n            self.play(FadeIn(algorithms))\\n            \\n        with self.voiceover(\"Thank you for exploring gradient descent with us.\"):\\n            final_text = Text(\"Thank you!\", font_size=60, color=BLUE)\\n            self.play(\\n                FadeOut(summary),\\n                FadeOut(algorithms),\\n                FadeOut(conclusion_title),\\n                Write(final_text)\\n            )\\n            \\n        self.wait(1)\\n        self.play(FadeOut(final_text))\\n```\\n\\nI\\'ve made the following key changes to fix the error:\\n\\n1. Changed the class inheritance to include both `VoiceoverScene` and `ThreeDScene`:\\n   ```python\\n   class FullTutorial(VoiceoverScene, ThreeDScene):\\n   ```\\n\\n2. Fixed a potential indexing error in the algorithm_box assignment by explicitly accessing the first submobject:\\n   ```python\\n   algorithm = VGroup(\\n       algorithm_box.submobjects[0],  # Explicit access to first submobject\\n       algorithm_box\\n   )\\n   ```\\n\\n3. Made sure to reset the camera orientation after the 3D section to ensure subsequent 2D scenes render correctly:\\n   ```python\\n   # Reset camera orientation for 2D scenes\\n   self.set_camera_orientation(phi=0, theta=-90 * DEGREES)\\n   ```\\n\\nThese changes should address the error while preserving all the visual components and animations in the tutorial. The animation will now properly support both the 2D and 3D elements while maintaining the voiceover functionality.', type='text')\n",
      "\n",
      "[running code]\n",
      "\n"
     ]
    },
    {
     "data": {
      "text/html": [
       "<pre style=\"white-space:pre;overflow-x:auto;line-height:normal;font-family:Menlo,'DejaVu Sans Mono',consolas,'Courier New',monospace\"><span style=\"color: #7fbfbf; text-decoration-color: #7fbfbf\">[04/20/25 12:42:17] </span><span style=\"color: #008000; text-decoration-color: #008000\">INFO    </span> Automatically converted                                       <a href=\"file://c:\\Users\\alexl\\AppData\\Local\\Programs\\Python\\Python312\\Lib\\site-packages\\manim\\scene\\scene_file_writer.py\" target=\"_blank\"><span style=\"color: #7f7f7f; text-decoration-color: #7f7f7f\">scene_file_writer.py</span></a><span style=\"color: #7f7f7f; text-decoration-color: #7f7f7f\">:</span><a href=\"file://c:\\Users\\alexl\\AppData\\Local\\Programs\\Python\\Python312\\Lib\\site-packages\\manim\\scene\\scene_file_writer.py#377\" target=\"_blank\"><span style=\"color: #7f7f7f; text-decoration-color: #7f7f7f\">377</span></a>\n",
       "<span style=\"color: #7fbfbf; text-decoration-color: #7fbfbf\">                    </span>         media\\voiceovers\\welcome-to-this-tutorial-on-gradient-descent <span style=\"color: #7f7f7f; text-decoration-color: #7f7f7f\">                        </span>\n",
       "<span style=\"color: #7fbfbf; text-decoration-color: #7fbfbf\">                    </span>         -one-<span style=\"color: #008000; text-decoration-color: #008000\">04047886.</span>mp3 to .wav                                     <span style=\"color: #7f7f7f; text-decoration-color: #7f7f7f\">                        </span>\n",
       "</pre>\n"
      ],
      "text/plain": [
       "\u001b[2;36m[04/20/25 12:42:17]\u001b[0m\u001b[2;36m \u001b[0m\u001b[32mINFO    \u001b[0m Automatically converted                                       \u001b]8;id=43795;file://c:\\Users\\alexl\\AppData\\Local\\Programs\\Python\\Python312\\Lib\\site-packages\\manim\\scene\\scene_file_writer.py\u001b\\\u001b[2mscene_file_writer.py\u001b[0m\u001b]8;;\u001b\\\u001b[2m:\u001b[0m\u001b]8;id=414728;file://c:\\Users\\alexl\\AppData\\Local\\Programs\\Python\\Python312\\Lib\\site-packages\\manim\\scene\\scene_file_writer.py#377\u001b\\\u001b[2m377\u001b[0m\u001b]8;;\u001b\\\n",
       "\u001b[2;36m                    \u001b[0m         media\\voiceovers\\welcome-to-this-tutorial-on-gradient-descent \u001b[2m                        \u001b[0m\n",
       "\u001b[2;36m                    \u001b[0m         -one-\u001b[32m04047886.\u001b[0mmp3 to .wav                                     \u001b[2m                        \u001b[0m\n"
      ]
     },
     "metadata": {},
     "output_type": "display_data"
    },
    {
     "name": "stderr",
     "output_type": "stream",
     "text": [
      "                                                                                              \r"
     ]
    },
    {
     "data": {
      "text/html": [
       "<pre style=\"white-space:pre;overflow-x:auto;line-height:normal;font-family:Menlo,'DejaVu Sans Mono',consolas,'Courier New',monospace\"><span style=\"color: #7fbfbf; text-decoration-color: #7fbfbf\">[04/20/25 12:42:18] </span><span style=\"color: #008000; text-decoration-color: #008000\">INFO    </span> Animation <span style=\"color: #008000; text-decoration-color: #008000\">0</span> : Partial movie file written in                   <a href=\"file://c:\\Users\\alexl\\AppData\\Local\\Programs\\Python\\Python312\\Lib\\site-packages\\manim\\scene\\scene_file_writer.py\" target=\"_blank\"><span style=\"color: #7f7f7f; text-decoration-color: #7f7f7f\">scene_file_writer.py</span></a><span style=\"color: #7f7f7f; text-decoration-color: #7f7f7f\">:</span><a href=\"file://c:\\Users\\alexl\\AppData\\Local\\Programs\\Python\\Python312\\Lib\\site-packages\\manim\\scene\\scene_file_writer.py#588\" target=\"_blank\"><span style=\"color: #7f7f7f; text-decoration-color: #7f7f7f\">588</span></a>\n",
       "<span style=\"color: #7fbfbf; text-decoration-color: #7fbfbf\">                    </span>         <span style=\"color: #008000; text-decoration-color: #008000\">'C:\\Users\\alexl\\Code\\manim-generator\\documentation\\media\\vide</span> <span style=\"color: #7f7f7f; text-decoration-color: #7f7f7f\">                        </span>\n",
       "<span style=\"color: #7fbfbf; text-decoration-color: #7fbfbf\">                    </span>         <span style=\"color: #008000; text-decoration-color: #008000\">os\\480p15\\partial_movie_files\\FullTutorial\\238433677_22694294</span> <span style=\"color: #7f7f7f; text-decoration-color: #7f7f7f\">                        </span>\n",
       "<span style=\"color: #7fbfbf; text-decoration-color: #7fbfbf\">                    </span>         <span style=\"color: #008000; text-decoration-color: #008000\">7_223132457.mp4'</span>                                              <span style=\"color: #7f7f7f; text-decoration-color: #7f7f7f\">                        </span>\n",
       "</pre>\n"
      ],
      "text/plain": [
       "\u001b[2;36m[04/20/25 12:42:18]\u001b[0m\u001b[2;36m \u001b[0m\u001b[32mINFO    \u001b[0m Animation \u001b[32m0\u001b[0m : Partial movie file written in                   \u001b]8;id=961381;file://c:\\Users\\alexl\\AppData\\Local\\Programs\\Python\\Python312\\Lib\\site-packages\\manim\\scene\\scene_file_writer.py\u001b\\\u001b[2mscene_file_writer.py\u001b[0m\u001b]8;;\u001b\\\u001b[2m:\u001b[0m\u001b]8;id=138463;file://c:\\Users\\alexl\\AppData\\Local\\Programs\\Python\\Python312\\Lib\\site-packages\\manim\\scene\\scene_file_writer.py#588\u001b\\\u001b[2m588\u001b[0m\u001b]8;;\u001b\\\n",
       "\u001b[2;36m                    \u001b[0m         \u001b[32m'C:\\Users\\alexl\\Code\\manim-generator\\documentation\\media\\vide\u001b[0m \u001b[2m                        \u001b[0m\n",
       "\u001b[2;36m                    \u001b[0m         \u001b[32mos\\480p15\\partial_movie_files\\FullTutorial\\238433677_22694294\u001b[0m \u001b[2m                        \u001b[0m\n",
       "\u001b[2;36m                    \u001b[0m         \u001b[32m7_223132457.mp4'\u001b[0m                                              \u001b[2m                        \u001b[0m\n"
      ]
     },
     "metadata": {},
     "output_type": "display_data"
    },
    {
     "name": "stderr",
     "output_type": "stream",
     "text": [
      "                                                                                                              \r"
     ]
    },
    {
     "data": {
      "text/html": [
       "<pre style=\"white-space:pre;overflow-x:auto;line-height:normal;font-family:Menlo,'DejaVu Sans Mono',consolas,'Courier New',monospace\"><span style=\"color: #7fbfbf; text-decoration-color: #7fbfbf\">                    </span><span style=\"color: #008000; text-decoration-color: #008000\">INFO    </span> Animation <span style=\"color: #008000; text-decoration-color: #008000\">1</span> : Partial movie file written in                   <a href=\"file://c:\\Users\\alexl\\AppData\\Local\\Programs\\Python\\Python312\\Lib\\site-packages\\manim\\scene\\scene_file_writer.py\" target=\"_blank\"><span style=\"color: #7f7f7f; text-decoration-color: #7f7f7f\">scene_file_writer.py</span></a><span style=\"color: #7f7f7f; text-decoration-color: #7f7f7f\">:</span><a href=\"file://c:\\Users\\alexl\\AppData\\Local\\Programs\\Python\\Python312\\Lib\\site-packages\\manim\\scene\\scene_file_writer.py#588\" target=\"_blank\"><span style=\"color: #7f7f7f; text-decoration-color: #7f7f7f\">588</span></a>\n",
       "<span style=\"color: #7fbfbf; text-decoration-color: #7fbfbf\">                    </span>         <span style=\"color: #008000; text-decoration-color: #008000\">'C:\\Users\\alexl\\Code\\manim-generator\\documentation\\media\\vide</span> <span style=\"color: #7f7f7f; text-decoration-color: #7f7f7f\">                        </span>\n",
       "<span style=\"color: #7fbfbf; text-decoration-color: #7fbfbf\">                    </span>         <span style=\"color: #008000; text-decoration-color: #008000\">os\\480p15\\partial_movie_files\\FullTutorial\\432527821_36501261</span> <span style=\"color: #7f7f7f; text-decoration-color: #7f7f7f\">                        </span>\n",
       "<span style=\"color: #7fbfbf; text-decoration-color: #7fbfbf\">                    </span>         <span style=\"color: #008000; text-decoration-color: #008000\">36_3262335682.mp4'</span>                                            <span style=\"color: #7f7f7f; text-decoration-color: #7f7f7f\">                        </span>\n",
       "</pre>\n"
      ],
      "text/plain": [
       "\u001b[2;36m                   \u001b[0m\u001b[2;36m \u001b[0m\u001b[32mINFO    \u001b[0m Animation \u001b[32m1\u001b[0m : Partial movie file written in                   \u001b]8;id=352696;file://c:\\Users\\alexl\\AppData\\Local\\Programs\\Python\\Python312\\Lib\\site-packages\\manim\\scene\\scene_file_writer.py\u001b\\\u001b[2mscene_file_writer.py\u001b[0m\u001b]8;;\u001b\\\u001b[2m:\u001b[0m\u001b]8;id=558509;file://c:\\Users\\alexl\\AppData\\Local\\Programs\\Python\\Python312\\Lib\\site-packages\\manim\\scene\\scene_file_writer.py#588\u001b\\\u001b[2m588\u001b[0m\u001b]8;;\u001b\\\n",
       "\u001b[2;36m                    \u001b[0m         \u001b[32m'C:\\Users\\alexl\\Code\\manim-generator\\documentation\\media\\vide\u001b[0m \u001b[2m                        \u001b[0m\n",
       "\u001b[2;36m                    \u001b[0m         \u001b[32mos\\480p15\\partial_movie_files\\FullTutorial\\432527821_36501261\u001b[0m \u001b[2m                        \u001b[0m\n",
       "\u001b[2;36m                    \u001b[0m         \u001b[32m36_3262335682.mp4'\u001b[0m                                            \u001b[2m                        \u001b[0m\n"
      ]
     },
     "metadata": {},
     "output_type": "display_data"
    },
    {
     "data": {
      "text/html": [
       "<pre style=\"white-space:pre;overflow-x:auto;line-height:normal;font-family:Menlo,'DejaVu Sans Mono',consolas,'Courier New',monospace\"><span style=\"color: #7fbfbf; text-decoration-color: #7fbfbf\">[04/20/25 12:42:19] </span><span style=\"color: #008000; text-decoration-color: #008000\">INFO    </span> Animation <span style=\"color: #008000; text-decoration-color: #008000\">2</span> : Partial movie file written in                   <a href=\"file://c:\\Users\\alexl\\AppData\\Local\\Programs\\Python\\Python312\\Lib\\site-packages\\manim\\scene\\scene_file_writer.py\" target=\"_blank\"><span style=\"color: #7f7f7f; text-decoration-color: #7f7f7f\">scene_file_writer.py</span></a><span style=\"color: #7f7f7f; text-decoration-color: #7f7f7f\">:</span><a href=\"file://c:\\Users\\alexl\\AppData\\Local\\Programs\\Python\\Python312\\Lib\\site-packages\\manim\\scene\\scene_file_writer.py#588\" target=\"_blank\"><span style=\"color: #7f7f7f; text-decoration-color: #7f7f7f\">588</span></a>\n",
       "<span style=\"color: #7fbfbf; text-decoration-color: #7fbfbf\">                    </span>         <span style=\"color: #008000; text-decoration-color: #008000\">'C:\\Users\\alexl\\Code\\manim-generator\\documentation\\media\\vide</span> <span style=\"color: #7f7f7f; text-decoration-color: #7f7f7f\">                        </span>\n",
       "<span style=\"color: #7fbfbf; text-decoration-color: #7fbfbf\">                    </span>         <span style=\"color: #008000; text-decoration-color: #008000\">os\\480p15\\partial_movie_files\\FullTutorial\\432527821_30080646</span> <span style=\"color: #7f7f7f; text-decoration-color: #7f7f7f\">                        </span>\n",
       "<span style=\"color: #7fbfbf; text-decoration-color: #7fbfbf\">                    </span>         <span style=\"color: #008000; text-decoration-color: #008000\">20_682032460.mp4'</span>                                             <span style=\"color: #7f7f7f; text-decoration-color: #7f7f7f\">                        </span>\n",
       "</pre>\n"
      ],
      "text/plain": [
       "\u001b[2;36m[04/20/25 12:42:19]\u001b[0m\u001b[2;36m \u001b[0m\u001b[32mINFO    \u001b[0m Animation \u001b[32m2\u001b[0m : Partial movie file written in                   \u001b]8;id=572464;file://c:\\Users\\alexl\\AppData\\Local\\Programs\\Python\\Python312\\Lib\\site-packages\\manim\\scene\\scene_file_writer.py\u001b\\\u001b[2mscene_file_writer.py\u001b[0m\u001b]8;;\u001b\\\u001b[2m:\u001b[0m\u001b]8;id=374228;file://c:\\Users\\alexl\\AppData\\Local\\Programs\\Python\\Python312\\Lib\\site-packages\\manim\\scene\\scene_file_writer.py#588\u001b\\\u001b[2m588\u001b[0m\u001b]8;;\u001b\\\n",
       "\u001b[2;36m                    \u001b[0m         \u001b[32m'C:\\Users\\alexl\\Code\\manim-generator\\documentation\\media\\vide\u001b[0m \u001b[2m                        \u001b[0m\n",
       "\u001b[2;36m                    \u001b[0m         \u001b[32mos\\480p15\\partial_movie_files\\FullTutorial\\432527821_30080646\u001b[0m \u001b[2m                        \u001b[0m\n",
       "\u001b[2;36m                    \u001b[0m         \u001b[32m20_682032460.mp4'\u001b[0m                                             \u001b[2m                        \u001b[0m\n"
      ]
     },
     "metadata": {},
     "output_type": "display_data"
    },
    {
     "data": {
      "text/html": [
       "<pre style=\"white-space:pre;overflow-x:auto;line-height:normal;font-family:Menlo,'DejaVu Sans Mono',consolas,'Courier New',monospace\"><span style=\"color: #7fbfbf; text-decoration-color: #7fbfbf\">                    </span><span style=\"color: #008000; text-decoration-color: #008000\">INFO    </span> Automatically converted                                       <a href=\"file://c:\\Users\\alexl\\AppData\\Local\\Programs\\Python\\Python312\\Lib\\site-packages\\manim\\scene\\scene_file_writer.py\" target=\"_blank\"><span style=\"color: #7f7f7f; text-decoration-color: #7f7f7f\">scene_file_writer.py</span></a><span style=\"color: #7f7f7f; text-decoration-color: #7f7f7f\">:</span><a href=\"file://c:\\Users\\alexl\\AppData\\Local\\Programs\\Python\\Python312\\Lib\\site-packages\\manim\\scene\\scene_file_writer.py#377\" target=\"_blank\"><span style=\"color: #7f7f7f; text-decoration-color: #7f7f7f\">377</span></a>\n",
       "<span style=\"color: #7fbfbf; text-decoration-color: #7fbfbf\">                    </span>         media\\voiceovers\\in-supervised-learning-we-often-want-to-find <span style=\"color: #7f7f7f; text-decoration-color: #7f7f7f\">                        </span>\n",
       "<span style=\"color: #7fbfbf; text-decoration-color: #7fbfbf\">                    </span>         -6b1d9ecd.mp3 to .wav                                         <span style=\"color: #7f7f7f; text-decoration-color: #7f7f7f\">                        </span>\n",
       "</pre>\n"
      ],
      "text/plain": [
       "\u001b[2;36m                   \u001b[0m\u001b[2;36m \u001b[0m\u001b[32mINFO    \u001b[0m Automatically converted                                       \u001b]8;id=47261;file://c:\\Users\\alexl\\AppData\\Local\\Programs\\Python\\Python312\\Lib\\site-packages\\manim\\scene\\scene_file_writer.py\u001b\\\u001b[2mscene_file_writer.py\u001b[0m\u001b]8;;\u001b\\\u001b[2m:\u001b[0m\u001b]8;id=586933;file://c:\\Users\\alexl\\AppData\\Local\\Programs\\Python\\Python312\\Lib\\site-packages\\manim\\scene\\scene_file_writer.py#377\u001b\\\u001b[2m377\u001b[0m\u001b]8;;\u001b\\\n",
       "\u001b[2;36m                    \u001b[0m         media\\voiceovers\\in-supervised-learning-we-often-want-to-find \u001b[2m                        \u001b[0m\n",
       "\u001b[2;36m                    \u001b[0m         -6b1d9ecd.mp3 to .wav                                         \u001b[2m                        \u001b[0m\n"
      ]
     },
     "metadata": {},
     "output_type": "display_data"
    },
    {
     "name": "stderr",
     "output_type": "stream",
     "text": [
      "                                                                                                                     \r"
     ]
    },
    {
     "data": {
      "text/html": [
       "<pre style=\"white-space:pre;overflow-x:auto;line-height:normal;font-family:Menlo,'DejaVu Sans Mono',consolas,'Courier New',monospace\"><span style=\"color: #7fbfbf; text-decoration-color: #7fbfbf\">[04/20/25 12:42:23] </span><span style=\"color: #008000; text-decoration-color: #008000\">INFO    </span> Animation <span style=\"color: #008000; text-decoration-color: #008000\">3</span> : Partial movie file written in                   <a href=\"file://c:\\Users\\alexl\\AppData\\Local\\Programs\\Python\\Python312\\Lib\\site-packages\\manim\\scene\\scene_file_writer.py\" target=\"_blank\"><span style=\"color: #7f7f7f; text-decoration-color: #7f7f7f\">scene_file_writer.py</span></a><span style=\"color: #7f7f7f; text-decoration-color: #7f7f7f\">:</span><a href=\"file://c:\\Users\\alexl\\AppData\\Local\\Programs\\Python\\Python312\\Lib\\site-packages\\manim\\scene\\scene_file_writer.py#588\" target=\"_blank\"><span style=\"color: #7f7f7f; text-decoration-color: #7f7f7f\">588</span></a>\n",
       "<span style=\"color: #7fbfbf; text-decoration-color: #7fbfbf\">                    </span>         <span style=\"color: #008000; text-decoration-color: #008000\">'C:\\Users\\alexl\\Code\\manim-generator\\documentation\\media\\vide</span> <span style=\"color: #7f7f7f; text-decoration-color: #7f7f7f\">                        </span>\n",
       "<span style=\"color: #7fbfbf; text-decoration-color: #7fbfbf\">                    </span>         <span style=\"color: #008000; text-decoration-color: #008000\">os\\480p15\\partial_movie_files\\FullTutorial\\432527821_12952172</span> <span style=\"color: #7f7f7f; text-decoration-color: #7f7f7f\">                        </span>\n",
       "<span style=\"color: #7fbfbf; text-decoration-color: #7fbfbf\">                    </span>         <span style=\"color: #008000; text-decoration-color: #008000\">0_19221272.mp4'</span>                                               <span style=\"color: #7f7f7f; text-decoration-color: #7f7f7f\">                        </span>\n",
       "</pre>\n"
      ],
      "text/plain": [
       "\u001b[2;36m[04/20/25 12:42:23]\u001b[0m\u001b[2;36m \u001b[0m\u001b[32mINFO    \u001b[0m Animation \u001b[32m3\u001b[0m : Partial movie file written in                   \u001b]8;id=42333;file://c:\\Users\\alexl\\AppData\\Local\\Programs\\Python\\Python312\\Lib\\site-packages\\manim\\scene\\scene_file_writer.py\u001b\\\u001b[2mscene_file_writer.py\u001b[0m\u001b]8;;\u001b\\\u001b[2m:\u001b[0m\u001b]8;id=673689;file://c:\\Users\\alexl\\AppData\\Local\\Programs\\Python\\Python312\\Lib\\site-packages\\manim\\scene\\scene_file_writer.py#588\u001b\\\u001b[2m588\u001b[0m\u001b]8;;\u001b\\\n",
       "\u001b[2;36m                    \u001b[0m         \u001b[32m'C:\\Users\\alexl\\Code\\manim-generator\\documentation\\media\\vide\u001b[0m \u001b[2m                        \u001b[0m\n",
       "\u001b[2;36m                    \u001b[0m         \u001b[32mos\\480p15\\partial_movie_files\\FullTutorial\\432527821_12952172\u001b[0m \u001b[2m                        \u001b[0m\n",
       "\u001b[2;36m                    \u001b[0m         \u001b[32m0_19221272.mp4'\u001b[0m                                               \u001b[2m                        \u001b[0m\n"
      ]
     },
     "metadata": {},
     "output_type": "display_data"
    },
    {
     "data": {
      "text/html": [
       "<pre style=\"white-space:pre;overflow-x:auto;line-height:normal;font-family:Menlo,'DejaVu Sans Mono',consolas,'Courier New',monospace\"><span style=\"color: #7fbfbf; text-decoration-color: #7fbfbf\">[04/20/25 12:42:24] </span><span style=\"color: #008000; text-decoration-color: #008000\">INFO    </span> Animation <span style=\"color: #008000; text-decoration-color: #008000\">4</span> : Partial movie file written in                   <a href=\"file://c:\\Users\\alexl\\AppData\\Local\\Programs\\Python\\Python312\\Lib\\site-packages\\manim\\scene\\scene_file_writer.py\" target=\"_blank\"><span style=\"color: #7f7f7f; text-decoration-color: #7f7f7f\">scene_file_writer.py</span></a><span style=\"color: #7f7f7f; text-decoration-color: #7f7f7f\">:</span><a href=\"file://c:\\Users\\alexl\\AppData\\Local\\Programs\\Python\\Python312\\Lib\\site-packages\\manim\\scene\\scene_file_writer.py#588\" target=\"_blank\"><span style=\"color: #7f7f7f; text-decoration-color: #7f7f7f\">588</span></a>\n",
       "<span style=\"color: #7fbfbf; text-decoration-color: #7fbfbf\">                    </span>         <span style=\"color: #008000; text-decoration-color: #008000\">'C:\\Users\\alexl\\Code\\manim-generator\\documentation\\media\\vide</span> <span style=\"color: #7f7f7f; text-decoration-color: #7f7f7f\">                        </span>\n",
       "<span style=\"color: #7fbfbf; text-decoration-color: #7fbfbf\">                    </span>         <span style=\"color: #008000; text-decoration-color: #008000\">os\\480p15\\partial_movie_files\\FullTutorial\\432527821_79710324</span> <span style=\"color: #7f7f7f; text-decoration-color: #7f7f7f\">                        </span>\n",
       "<span style=\"color: #7fbfbf; text-decoration-color: #7fbfbf\">                    </span>         <span style=\"color: #008000; text-decoration-color: #008000\">3_4137123778.mp4'</span>                                             <span style=\"color: #7f7f7f; text-decoration-color: #7f7f7f\">                        </span>\n",
       "</pre>\n"
      ],
      "text/plain": [
       "\u001b[2;36m[04/20/25 12:42:24]\u001b[0m\u001b[2;36m \u001b[0m\u001b[32mINFO    \u001b[0m Animation \u001b[32m4\u001b[0m : Partial movie file written in                   \u001b]8;id=113809;file://c:\\Users\\alexl\\AppData\\Local\\Programs\\Python\\Python312\\Lib\\site-packages\\manim\\scene\\scene_file_writer.py\u001b\\\u001b[2mscene_file_writer.py\u001b[0m\u001b]8;;\u001b\\\u001b[2m:\u001b[0m\u001b]8;id=903379;file://c:\\Users\\alexl\\AppData\\Local\\Programs\\Python\\Python312\\Lib\\site-packages\\manim\\scene\\scene_file_writer.py#588\u001b\\\u001b[2m588\u001b[0m\u001b]8;;\u001b\\\n",
       "\u001b[2;36m                    \u001b[0m         \u001b[32m'C:\\Users\\alexl\\Code\\manim-generator\\documentation\\media\\vide\u001b[0m \u001b[2m                        \u001b[0m\n",
       "\u001b[2;36m                    \u001b[0m         \u001b[32mos\\480p15\\partial_movie_files\\FullTutorial\\432527821_79710324\u001b[0m \u001b[2m                        \u001b[0m\n",
       "\u001b[2;36m                    \u001b[0m         \u001b[32m3_4137123778.mp4'\u001b[0m                                             \u001b[2m                        \u001b[0m\n"
      ]
     },
     "metadata": {},
     "output_type": "display_data"
    },
    {
     "data": {
      "text/html": [
       "<pre style=\"white-space:pre;overflow-x:auto;line-height:normal;font-family:Menlo,'DejaVu Sans Mono',consolas,'Courier New',monospace\"><span style=\"color: #7fbfbf; text-decoration-color: #7fbfbf\">                    </span><span style=\"color: #008000; text-decoration-color: #008000\">INFO    </span> Automatically converted                                       <a href=\"file://c:\\Users\\alexl\\AppData\\Local\\Programs\\Python\\Python312\\Lib\\site-packages\\manim\\scene\\scene_file_writer.py\" target=\"_blank\"><span style=\"color: #7f7f7f; text-decoration-color: #7f7f7f\">scene_file_writer.py</span></a><span style=\"color: #7f7f7f; text-decoration-color: #7f7f7f\">:</span><a href=\"file://c:\\Users\\alexl\\AppData\\Local\\Programs\\Python\\Python312\\Lib\\site-packages\\manim\\scene\\scene_file_writer.py#377\" target=\"_blank\"><span style=\"color: #7f7f7f; text-decoration-color: #7f7f7f\">377</span></a>\n",
       "<span style=\"color: #7fbfbf; text-decoration-color: #7fbfbf\">                    </span>         media\\voiceovers\\intuitively-imagine-the-objective-function-a <span style=\"color: #7f7f7f; text-decoration-color: #7f7f7f\">                        </span>\n",
       "<span style=\"color: #7fbfbf; text-decoration-color: #7fbfbf\">                    </span>         s-a-5734eb45.mp3 to .wav                                      <span style=\"color: #7f7f7f; text-decoration-color: #7f7f7f\">                        </span>\n",
       "</pre>\n"
      ],
      "text/plain": [
       "\u001b[2;36m                   \u001b[0m\u001b[2;36m \u001b[0m\u001b[32mINFO    \u001b[0m Automatically converted                                       \u001b]8;id=133634;file://c:\\Users\\alexl\\AppData\\Local\\Programs\\Python\\Python312\\Lib\\site-packages\\manim\\scene\\scene_file_writer.py\u001b\\\u001b[2mscene_file_writer.py\u001b[0m\u001b]8;;\u001b\\\u001b[2m:\u001b[0m\u001b]8;id=388423;file://c:\\Users\\alexl\\AppData\\Local\\Programs\\Python\\Python312\\Lib\\site-packages\\manim\\scene\\scene_file_writer.py#377\u001b\\\u001b[2m377\u001b[0m\u001b]8;;\u001b\\\n",
       "\u001b[2;36m                    \u001b[0m         media\\voiceovers\\intuitively-imagine-the-objective-function-a \u001b[2m                        \u001b[0m\n",
       "\u001b[2;36m                    \u001b[0m         s-a-5734eb45.mp3 to .wav                                      \u001b[2m                        \u001b[0m\n"
      ]
     },
     "metadata": {},
     "output_type": "display_data"
    },
    {
     "name": "stderr",
     "output_type": "stream",
     "text": [
      "                                                                                                                             \r"
     ]
    },
    {
     "data": {
      "text/html": [
       "<pre style=\"white-space:pre;overflow-x:auto;line-height:normal;font-family:Menlo,'DejaVu Sans Mono',consolas,'Courier New',monospace\"><span style=\"color: #7fbfbf; text-decoration-color: #7fbfbf\">[04/20/25 12:42:26] </span><span style=\"color: #008000; text-decoration-color: #008000\">INFO    </span> Animation <span style=\"color: #008000; text-decoration-color: #008000\">5</span> : Partial movie file written in                   <a href=\"file://c:\\Users\\alexl\\AppData\\Local\\Programs\\Python\\Python312\\Lib\\site-packages\\manim\\scene\\scene_file_writer.py\" target=\"_blank\"><span style=\"color: #7f7f7f; text-decoration-color: #7f7f7f\">scene_file_writer.py</span></a><span style=\"color: #7f7f7f; text-decoration-color: #7f7f7f\">:</span><a href=\"file://c:\\Users\\alexl\\AppData\\Local\\Programs\\Python\\Python312\\Lib\\site-packages\\manim\\scene\\scene_file_writer.py#588\" target=\"_blank\"><span style=\"color: #7f7f7f; text-decoration-color: #7f7f7f\">588</span></a>\n",
       "<span style=\"color: #7fbfbf; text-decoration-color: #7fbfbf\">                    </span>         <span style=\"color: #008000; text-decoration-color: #008000\">'C:\\Users\\alexl\\Code\\manim-generator\\documentation\\media\\vide</span> <span style=\"color: #7f7f7f; text-decoration-color: #7f7f7f\">                        </span>\n",
       "<span style=\"color: #7fbfbf; text-decoration-color: #7fbfbf\">                    </span>         <span style=\"color: #008000; text-decoration-color: #008000\">os\\480p15\\partial_movie_files\\FullTutorial\\432527821_26097486</span> <span style=\"color: #7f7f7f; text-decoration-color: #7f7f7f\">                        </span>\n",
       "<span style=\"color: #7fbfbf; text-decoration-color: #7fbfbf\">                    </span>         <span style=\"color: #008000; text-decoration-color: #008000\">82_954302833.mp4'</span>                                             <span style=\"color: #7f7f7f; text-decoration-color: #7f7f7f\">                        </span>\n",
       "</pre>\n"
      ],
      "text/plain": [
       "\u001b[2;36m[04/20/25 12:42:26]\u001b[0m\u001b[2;36m \u001b[0m\u001b[32mINFO    \u001b[0m Animation \u001b[32m5\u001b[0m : Partial movie file written in                   \u001b]8;id=703351;file://c:\\Users\\alexl\\AppData\\Local\\Programs\\Python\\Python312\\Lib\\site-packages\\manim\\scene\\scene_file_writer.py\u001b\\\u001b[2mscene_file_writer.py\u001b[0m\u001b]8;;\u001b\\\u001b[2m:\u001b[0m\u001b]8;id=973717;file://c:\\Users\\alexl\\AppData\\Local\\Programs\\Python\\Python312\\Lib\\site-packages\\manim\\scene\\scene_file_writer.py#588\u001b\\\u001b[2m588\u001b[0m\u001b]8;;\u001b\\\n",
       "\u001b[2;36m                    \u001b[0m         \u001b[32m'C:\\Users\\alexl\\Code\\manim-generator\\documentation\\media\\vide\u001b[0m \u001b[2m                        \u001b[0m\n",
       "\u001b[2;36m                    \u001b[0m         \u001b[32mos\\480p15\\partial_movie_files\\FullTutorial\\432527821_26097486\u001b[0m \u001b[2m                        \u001b[0m\n",
       "\u001b[2;36m                    \u001b[0m         \u001b[32m82_954302833.mp4'\u001b[0m                                             \u001b[2m                        \u001b[0m\n"
      ]
     },
     "metadata": {},
     "output_type": "display_data"
    },
    {
     "name": "stderr",
     "output_type": "stream",
     "text": [
      "                                                                                 \r"
     ]
    },
    {
     "data": {
      "text/html": [
       "<pre style=\"white-space:pre;overflow-x:auto;line-height:normal;font-family:Menlo,'DejaVu Sans Mono',consolas,'Courier New',monospace\"><span style=\"color: #7fbfbf; text-decoration-color: #7fbfbf\">                    </span><span style=\"color: #008000; text-decoration-color: #008000\">INFO    </span> Animation <span style=\"color: #008000; text-decoration-color: #008000\">6</span> : Partial movie file written in                   <a href=\"file://c:\\Users\\alexl\\AppData\\Local\\Programs\\Python\\Python312\\Lib\\site-packages\\manim\\scene\\scene_file_writer.py\" target=\"_blank\"><span style=\"color: #7f7f7f; text-decoration-color: #7f7f7f\">scene_file_writer.py</span></a><span style=\"color: #7f7f7f; text-decoration-color: #7f7f7f\">:</span><a href=\"file://c:\\Users\\alexl\\AppData\\Local\\Programs\\Python\\Python312\\Lib\\site-packages\\manim\\scene\\scene_file_writer.py#588\" target=\"_blank\"><span style=\"color: #7f7f7f; text-decoration-color: #7f7f7f\">588</span></a>\n",
       "<span style=\"color: #7fbfbf; text-decoration-color: #7fbfbf\">                    </span>         <span style=\"color: #008000; text-decoration-color: #008000\">'C:\\Users\\alexl\\Code\\manim-generator\\documentation\\media\\vide</span> <span style=\"color: #7f7f7f; text-decoration-color: #7f7f7f\">                        </span>\n",
       "<span style=\"color: #7fbfbf; text-decoration-color: #7fbfbf\">                    </span>         <span style=\"color: #008000; text-decoration-color: #008000\">os\\480p15\\partial_movie_files\\FullTutorial\\432527821_13654502</span> <span style=\"color: #7f7f7f; text-decoration-color: #7f7f7f\">                        </span>\n",
       "<span style=\"color: #7fbfbf; text-decoration-color: #7fbfbf\">                    </span>         <span style=\"color: #008000; text-decoration-color: #008000\">90_691969773.mp4'</span>                                             <span style=\"color: #7f7f7f; text-decoration-color: #7f7f7f\">                        </span>\n",
       "</pre>\n"
      ],
      "text/plain": [
       "\u001b[2;36m                   \u001b[0m\u001b[2;36m \u001b[0m\u001b[32mINFO    \u001b[0m Animation \u001b[32m6\u001b[0m : Partial movie file written in                   \u001b]8;id=484893;file://c:\\Users\\alexl\\AppData\\Local\\Programs\\Python\\Python312\\Lib\\site-packages\\manim\\scene\\scene_file_writer.py\u001b\\\u001b[2mscene_file_writer.py\u001b[0m\u001b]8;;\u001b\\\u001b[2m:\u001b[0m\u001b]8;id=813216;file://c:\\Users\\alexl\\AppData\\Local\\Programs\\Python\\Python312\\Lib\\site-packages\\manim\\scene\\scene_file_writer.py#588\u001b\\\u001b[2m588\u001b[0m\u001b]8;;\u001b\\\n",
       "\u001b[2;36m                    \u001b[0m         \u001b[32m'C:\\Users\\alexl\\Code\\manim-generator\\documentation\\media\\vide\u001b[0m \u001b[2m                        \u001b[0m\n",
       "\u001b[2;36m                    \u001b[0m         \u001b[32mos\\480p15\\partial_movie_files\\FullTutorial\\432527821_13654502\u001b[0m \u001b[2m                        \u001b[0m\n",
       "\u001b[2;36m                    \u001b[0m         \u001b[32m90_691969773.mp4'\u001b[0m                                             \u001b[2m                        \u001b[0m\n"
      ]
     },
     "metadata": {},
     "output_type": "display_data"
    },
    {
     "name": "stderr",
     "output_type": "stream",
     "text": [
      "                                                                               \r"
     ]
    },
    {
     "data": {
      "text/html": [
       "<pre style=\"white-space:pre;overflow-x:auto;line-height:normal;font-family:Menlo,'DejaVu Sans Mono',consolas,'Courier New',monospace\"><span style=\"color: #7fbfbf; text-decoration-color: #7fbfbf\">[04/20/25 12:42:27] </span><span style=\"color: #008000; text-decoration-color: #008000\">INFO    </span> Animation <span style=\"color: #008000; text-decoration-color: #008000\">7</span> : Partial movie file written in                   <a href=\"file://c:\\Users\\alexl\\AppData\\Local\\Programs\\Python\\Python312\\Lib\\site-packages\\manim\\scene\\scene_file_writer.py\" target=\"_blank\"><span style=\"color: #7f7f7f; text-decoration-color: #7f7f7f\">scene_file_writer.py</span></a><span style=\"color: #7f7f7f; text-decoration-color: #7f7f7f\">:</span><a href=\"file://c:\\Users\\alexl\\AppData\\Local\\Programs\\Python\\Python312\\Lib\\site-packages\\manim\\scene\\scene_file_writer.py#588\" target=\"_blank\"><span style=\"color: #7f7f7f; text-decoration-color: #7f7f7f\">588</span></a>\n",
       "<span style=\"color: #7fbfbf; text-decoration-color: #7fbfbf\">                    </span>         <span style=\"color: #008000; text-decoration-color: #008000\">'C:\\Users\\alexl\\Code\\manim-generator\\documentation\\media\\vide</span> <span style=\"color: #7f7f7f; text-decoration-color: #7f7f7f\">                        </span>\n",
       "<span style=\"color: #7fbfbf; text-decoration-color: #7fbfbf\">                    </span>         <span style=\"color: #008000; text-decoration-color: #008000\">os\\480p15\\partial_movie_files\\FullTutorial\\432527821_39904222</span> <span style=\"color: #7f7f7f; text-decoration-color: #7f7f7f\">                        </span>\n",
       "<span style=\"color: #7fbfbf; text-decoration-color: #7fbfbf\">                    </span>         <span style=\"color: #008000; text-decoration-color: #008000\">31_971409007.mp4'</span>                                             <span style=\"color: #7f7f7f; text-decoration-color: #7f7f7f\">                        </span>\n",
       "</pre>\n"
      ],
      "text/plain": [
       "\u001b[2;36m[04/20/25 12:42:27]\u001b[0m\u001b[2;36m \u001b[0m\u001b[32mINFO    \u001b[0m Animation \u001b[32m7\u001b[0m : Partial movie file written in                   \u001b]8;id=884881;file://c:\\Users\\alexl\\AppData\\Local\\Programs\\Python\\Python312\\Lib\\site-packages\\manim\\scene\\scene_file_writer.py\u001b\\\u001b[2mscene_file_writer.py\u001b[0m\u001b]8;;\u001b\\\u001b[2m:\u001b[0m\u001b]8;id=412854;file://c:\\Users\\alexl\\AppData\\Local\\Programs\\Python\\Python312\\Lib\\site-packages\\manim\\scene\\scene_file_writer.py#588\u001b\\\u001b[2m588\u001b[0m\u001b]8;;\u001b\\\n",
       "\u001b[2;36m                    \u001b[0m         \u001b[32m'C:\\Users\\alexl\\Code\\manim-generator\\documentation\\media\\vide\u001b[0m \u001b[2m                        \u001b[0m\n",
       "\u001b[2;36m                    \u001b[0m         \u001b[32mos\\480p15\\partial_movie_files\\FullTutorial\\432527821_39904222\u001b[0m \u001b[2m                        \u001b[0m\n",
       "\u001b[2;36m                    \u001b[0m         \u001b[32m31_971409007.mp4'\u001b[0m                                             \u001b[2m                        \u001b[0m\n"
      ]
     },
     "metadata": {},
     "output_type": "display_data"
    },
    {
     "name": "stderr",
     "output_type": "stream",
     "text": [
      "                                                                \r"
     ]
    },
    {
     "data": {
      "text/html": [
       "<pre style=\"white-space:pre;overflow-x:auto;line-height:normal;font-family:Menlo,'DejaVu Sans Mono',consolas,'Courier New',monospace\"><span style=\"color: #7fbfbf; text-decoration-color: #7fbfbf\">                    </span><span style=\"color: #008000; text-decoration-color: #008000\">INFO    </span> Animation <span style=\"color: #008000; text-decoration-color: #008000\">8</span> : Partial movie file written in                   <a href=\"file://c:\\Users\\alexl\\AppData\\Local\\Programs\\Python\\Python312\\Lib\\site-packages\\manim\\scene\\scene_file_writer.py\" target=\"_blank\"><span style=\"color: #7f7f7f; text-decoration-color: #7f7f7f\">scene_file_writer.py</span></a><span style=\"color: #7f7f7f; text-decoration-color: #7f7f7f\">:</span><a href=\"file://c:\\Users\\alexl\\AppData\\Local\\Programs\\Python\\Python312\\Lib\\site-packages\\manim\\scene\\scene_file_writer.py#588\" target=\"_blank\"><span style=\"color: #7f7f7f; text-decoration-color: #7f7f7f\">588</span></a>\n",
       "<span style=\"color: #7fbfbf; text-decoration-color: #7fbfbf\">                    </span>         <span style=\"color: #008000; text-decoration-color: #008000\">'C:\\Users\\alexl\\Code\\manim-generator\\documentation\\media\\vide</span> <span style=\"color: #7f7f7f; text-decoration-color: #7f7f7f\">                        </span>\n",
       "<span style=\"color: #7fbfbf; text-decoration-color: #7fbfbf\">                    </span>         <span style=\"color: #008000; text-decoration-color: #008000\">os\\480p15\\partial_movie_files\\FullTutorial\\432527821_12589202</span> <span style=\"color: #7f7f7f; text-decoration-color: #7f7f7f\">                        </span>\n",
       "<span style=\"color: #7fbfbf; text-decoration-color: #7fbfbf\">                    </span>         <span style=\"color: #008000; text-decoration-color: #008000\">25_1275789028.mp4'</span>                                            <span style=\"color: #7f7f7f; text-decoration-color: #7f7f7f\">                        </span>\n",
       "</pre>\n"
      ],
      "text/plain": [
       "\u001b[2;36m                   \u001b[0m\u001b[2;36m \u001b[0m\u001b[32mINFO    \u001b[0m Animation \u001b[32m8\u001b[0m : Partial movie file written in                   \u001b]8;id=490419;file://c:\\Users\\alexl\\AppData\\Local\\Programs\\Python\\Python312\\Lib\\site-packages\\manim\\scene\\scene_file_writer.py\u001b\\\u001b[2mscene_file_writer.py\u001b[0m\u001b]8;;\u001b\\\u001b[2m:\u001b[0m\u001b]8;id=868892;file://c:\\Users\\alexl\\AppData\\Local\\Programs\\Python\\Python312\\Lib\\site-packages\\manim\\scene\\scene_file_writer.py#588\u001b\\\u001b[2m588\u001b[0m\u001b]8;;\u001b\\\n",
       "\u001b[2;36m                    \u001b[0m         \u001b[32m'C:\\Users\\alexl\\Code\\manim-generator\\documentation\\media\\vide\u001b[0m \u001b[2m                        \u001b[0m\n",
       "\u001b[2;36m                    \u001b[0m         \u001b[32mos\\480p15\\partial_movie_files\\FullTutorial\\432527821_12589202\u001b[0m \u001b[2m                        \u001b[0m\n",
       "\u001b[2;36m                    \u001b[0m         \u001b[32m25_1275789028.mp4'\u001b[0m                                            \u001b[2m                        \u001b[0m\n"
      ]
     },
     "metadata": {},
     "output_type": "display_data"
    },
    {
     "data": {
      "text/html": [
       "<pre style=\"white-space:pre;overflow-x:auto;line-height:normal;font-family:Menlo,'DejaVu Sans Mono',consolas,'Courier New',monospace\"><span style=\"color: #7fbfbf; text-decoration-color: #7fbfbf\">[04/20/25 12:42:28] </span><span style=\"color: #008000; text-decoration-color: #008000\">INFO    </span> Animation <span style=\"color: #008000; text-decoration-color: #008000\">9</span> : Partial movie file written in                   <a href=\"file://c:\\Users\\alexl\\AppData\\Local\\Programs\\Python\\Python312\\Lib\\site-packages\\manim\\scene\\scene_file_writer.py\" target=\"_blank\"><span style=\"color: #7f7f7f; text-decoration-color: #7f7f7f\">scene_file_writer.py</span></a><span style=\"color: #7f7f7f; text-decoration-color: #7f7f7f\">:</span><a href=\"file://c:\\Users\\alexl\\AppData\\Local\\Programs\\Python\\Python312\\Lib\\site-packages\\manim\\scene\\scene_file_writer.py#588\" target=\"_blank\"><span style=\"color: #7f7f7f; text-decoration-color: #7f7f7f\">588</span></a>\n",
       "<span style=\"color: #7fbfbf; text-decoration-color: #7fbfbf\">                    </span>         <span style=\"color: #008000; text-decoration-color: #008000\">'C:\\Users\\alexl\\Code\\manim-generator\\documentation\\media\\vide</span> <span style=\"color: #7f7f7f; text-decoration-color: #7f7f7f\">                        </span>\n",
       "<span style=\"color: #7fbfbf; text-decoration-color: #7fbfbf\">                    </span>         <span style=\"color: #008000; text-decoration-color: #008000\">os\\480p15\\partial_movie_files\\FullTutorial\\432527821_35296038</span> <span style=\"color: #7f7f7f; text-decoration-color: #7f7f7f\">                        </span>\n",
       "<span style=\"color: #7fbfbf; text-decoration-color: #7fbfbf\">                    </span>         <span style=\"color: #008000; text-decoration-color: #008000\">99_3556471562.mp4'</span>                                            <span style=\"color: #7f7f7f; text-decoration-color: #7f7f7f\">                        </span>\n",
       "</pre>\n"
      ],
      "text/plain": [
       "\u001b[2;36m[04/20/25 12:42:28]\u001b[0m\u001b[2;36m \u001b[0m\u001b[32mINFO    \u001b[0m Animation \u001b[32m9\u001b[0m : Partial movie file written in                   \u001b]8;id=49434;file://c:\\Users\\alexl\\AppData\\Local\\Programs\\Python\\Python312\\Lib\\site-packages\\manim\\scene\\scene_file_writer.py\u001b\\\u001b[2mscene_file_writer.py\u001b[0m\u001b]8;;\u001b\\\u001b[2m:\u001b[0m\u001b]8;id=175583;file://c:\\Users\\alexl\\AppData\\Local\\Programs\\Python\\Python312\\Lib\\site-packages\\manim\\scene\\scene_file_writer.py#588\u001b\\\u001b[2m588\u001b[0m\u001b]8;;\u001b\\\n",
       "\u001b[2;36m                    \u001b[0m         \u001b[32m'C:\\Users\\alexl\\Code\\manim-generator\\documentation\\media\\vide\u001b[0m \u001b[2m                        \u001b[0m\n",
       "\u001b[2;36m                    \u001b[0m         \u001b[32mos\\480p15\\partial_movie_files\\FullTutorial\\432527821_35296038\u001b[0m \u001b[2m                        \u001b[0m\n",
       "\u001b[2;36m                    \u001b[0m         \u001b[32m99_3556471562.mp4'\u001b[0m                                            \u001b[2m                        \u001b[0m\n"
      ]
     },
     "metadata": {},
     "output_type": "display_data"
    },
    {
     "data": {
      "text/html": [
       "<pre style=\"white-space:pre;overflow-x:auto;line-height:normal;font-family:Menlo,'DejaVu Sans Mono',consolas,'Courier New',monospace\"><span style=\"color: #7fbfbf; text-decoration-color: #7fbfbf\">                    </span><span style=\"color: #008000; text-decoration-color: #008000\">INFO    </span> Automatically converted                                       <a href=\"file://c:\\Users\\alexl\\AppData\\Local\\Programs\\Python\\Python312\\Lib\\site-packages\\manim\\scene\\scene_file_writer.py\" target=\"_blank\"><span style=\"color: #7f7f7f; text-decoration-color: #7f7f7f\">scene_file_writer.py</span></a><span style=\"color: #7f7f7f; text-decoration-color: #7f7f7f\">:</span><a href=\"file://c:\\Users\\alexl\\AppData\\Local\\Programs\\Python\\Python312\\Lib\\site-packages\\manim\\scene\\scene_file_writer.py#377\" target=\"_blank\"><span style=\"color: #7f7f7f; text-decoration-color: #7f7f7f\">377</span></a>\n",
       "<span style=\"color: #7fbfbf; text-decoration-color: #7fbfbf\">                    </span>         media\\voiceovers\\in-this-tutorial-we-ll-cover-gradient-descen <span style=\"color: #7f7f7f; text-decoration-color: #7f7f7f\">                        </span>\n",
       "<span style=\"color: #7fbfbf; text-decoration-color: #7fbfbf\">                    </span>         t-in-baf4c804.mp3 to .wav                                     <span style=\"color: #7f7f7f; text-decoration-color: #7f7f7f\">                        </span>\n",
       "</pre>\n"
      ],
      "text/plain": [
       "\u001b[2;36m                   \u001b[0m\u001b[2;36m \u001b[0m\u001b[32mINFO    \u001b[0m Automatically converted                                       \u001b]8;id=801230;file://c:\\Users\\alexl\\AppData\\Local\\Programs\\Python\\Python312\\Lib\\site-packages\\manim\\scene\\scene_file_writer.py\u001b\\\u001b[2mscene_file_writer.py\u001b[0m\u001b]8;;\u001b\\\u001b[2m:\u001b[0m\u001b]8;id=582615;file://c:\\Users\\alexl\\AppData\\Local\\Programs\\Python\\Python312\\Lib\\site-packages\\manim\\scene\\scene_file_writer.py#377\u001b\\\u001b[2m377\u001b[0m\u001b]8;;\u001b\\\n",
       "\u001b[2;36m                    \u001b[0m         media\\voiceovers\\in-this-tutorial-we-ll-cover-gradient-descen \u001b[2m                        \u001b[0m\n",
       "\u001b[2;36m                    \u001b[0m         t-in-baf4c804.mp3 to .wav                                     \u001b[2m                        \u001b[0m\n"
      ]
     },
     "metadata": {},
     "output_type": "display_data"
    },
    {
     "name": "stderr",
     "output_type": "stream",
     "text": [
      "                                                                                   \r"
     ]
    },
    {
     "data": {
      "text/html": [
       "<pre style=\"white-space:pre;overflow-x:auto;line-height:normal;font-family:Menlo,'DejaVu Sans Mono',consolas,'Courier New',monospace\"><span style=\"color: #7fbfbf; text-decoration-color: #7fbfbf\">[04/20/25 12:42:30] </span><span style=\"color: #008000; text-decoration-color: #008000\">INFO    </span> Animation <span style=\"color: #008000; text-decoration-color: #008000\">10</span> : Partial movie file written in                  <a href=\"file://c:\\Users\\alexl\\AppData\\Local\\Programs\\Python\\Python312\\Lib\\site-packages\\manim\\scene\\scene_file_writer.py\" target=\"_blank\"><span style=\"color: #7f7f7f; text-decoration-color: #7f7f7f\">scene_file_writer.py</span></a><span style=\"color: #7f7f7f; text-decoration-color: #7f7f7f\">:</span><a href=\"file://c:\\Users\\alexl\\AppData\\Local\\Programs\\Python\\Python312\\Lib\\site-packages\\manim\\scene\\scene_file_writer.py#588\" target=\"_blank\"><span style=\"color: #7f7f7f; text-decoration-color: #7f7f7f\">588</span></a>\n",
       "<span style=\"color: #7fbfbf; text-decoration-color: #7fbfbf\">                    </span>         <span style=\"color: #008000; text-decoration-color: #008000\">'C:\\Users\\alexl\\Code\\manim-generator\\documentation\\media\\vide</span> <span style=\"color: #7f7f7f; text-decoration-color: #7f7f7f\">                        </span>\n",
       "<span style=\"color: #7fbfbf; text-decoration-color: #7fbfbf\">                    </span>         <span style=\"color: #008000; text-decoration-color: #008000\">os\\480p15\\partial_movie_files\\FullTutorial\\432527821_37256141</span> <span style=\"color: #7f7f7f; text-decoration-color: #7f7f7f\">                        </span>\n",
       "<span style=\"color: #7fbfbf; text-decoration-color: #7fbfbf\">                    </span>         <span style=\"color: #008000; text-decoration-color: #008000\">80_3579067323.mp4'</span>                                            <span style=\"color: #7f7f7f; text-decoration-color: #7f7f7f\">                        </span>\n",
       "</pre>\n"
      ],
      "text/plain": [
       "\u001b[2;36m[04/20/25 12:42:30]\u001b[0m\u001b[2;36m \u001b[0m\u001b[32mINFO    \u001b[0m Animation \u001b[32m10\u001b[0m : Partial movie file written in                  \u001b]8;id=361066;file://c:\\Users\\alexl\\AppData\\Local\\Programs\\Python\\Python312\\Lib\\site-packages\\manim\\scene\\scene_file_writer.py\u001b\\\u001b[2mscene_file_writer.py\u001b[0m\u001b]8;;\u001b\\\u001b[2m:\u001b[0m\u001b]8;id=357349;file://c:\\Users\\alexl\\AppData\\Local\\Programs\\Python\\Python312\\Lib\\site-packages\\manim\\scene\\scene_file_writer.py#588\u001b\\\u001b[2m588\u001b[0m\u001b]8;;\u001b\\\n",
       "\u001b[2;36m                    \u001b[0m         \u001b[32m'C:\\Users\\alexl\\Code\\manim-generator\\documentation\\media\\vide\u001b[0m \u001b[2m                        \u001b[0m\n",
       "\u001b[2;36m                    \u001b[0m         \u001b[32mos\\480p15\\partial_movie_files\\FullTutorial\\432527821_37256141\u001b[0m \u001b[2m                        \u001b[0m\n",
       "\u001b[2;36m                    \u001b[0m         \u001b[32m80_3579067323.mp4'\u001b[0m                                            \u001b[2m                        \u001b[0m\n"
      ]
     },
     "metadata": {},
     "output_type": "display_data"
    },
    {
     "data": {
      "text/html": [
       "<pre style=\"white-space:pre;overflow-x:auto;line-height:normal;font-family:Menlo,'DejaVu Sans Mono',consolas,'Courier New',monospace\"><span style=\"color: #7fbfbf; text-decoration-color: #7fbfbf\">[04/20/25 12:42:31] </span><span style=\"color: #008000; text-decoration-color: #008000\">INFO    </span> Animation <span style=\"color: #008000; text-decoration-color: #008000\">11</span> : Partial movie file written in                  <a href=\"file://c:\\Users\\alexl\\AppData\\Local\\Programs\\Python\\Python312\\Lib\\site-packages\\manim\\scene\\scene_file_writer.py\" target=\"_blank\"><span style=\"color: #7f7f7f; text-decoration-color: #7f7f7f\">scene_file_writer.py</span></a><span style=\"color: #7f7f7f; text-decoration-color: #7f7f7f\">:</span><a href=\"file://c:\\Users\\alexl\\AppData\\Local\\Programs\\Python\\Python312\\Lib\\site-packages\\manim\\scene\\scene_file_writer.py#588\" target=\"_blank\"><span style=\"color: #7f7f7f; text-decoration-color: #7f7f7f\">588</span></a>\n",
       "<span style=\"color: #7fbfbf; text-decoration-color: #7fbfbf\">                    </span>         <span style=\"color: #008000; text-decoration-color: #008000\">'C:\\Users\\alexl\\Code\\manim-generator\\documentation\\media\\vide</span> <span style=\"color: #7f7f7f; text-decoration-color: #7f7f7f\">                        </span>\n",
       "<span style=\"color: #7fbfbf; text-decoration-color: #7fbfbf\">                    </span>         <span style=\"color: #008000; text-decoration-color: #008000\">os\\480p15\\partial_movie_files\\FullTutorial\\432527821_32665795</span> <span style=\"color: #7f7f7f; text-decoration-color: #7f7f7f\">                        </span>\n",
       "<span style=\"color: #7fbfbf; text-decoration-color: #7fbfbf\">                    </span>         <span style=\"color: #008000; text-decoration-color: #008000\">04_2037826049.mp4'</span>                                            <span style=\"color: #7f7f7f; text-decoration-color: #7f7f7f\">                        </span>\n",
       "</pre>\n"
      ],
      "text/plain": [
       "\u001b[2;36m[04/20/25 12:42:31]\u001b[0m\u001b[2;36m \u001b[0m\u001b[32mINFO    \u001b[0m Animation \u001b[32m11\u001b[0m : Partial movie file written in                  \u001b]8;id=36639;file://c:\\Users\\alexl\\AppData\\Local\\Programs\\Python\\Python312\\Lib\\site-packages\\manim\\scene\\scene_file_writer.py\u001b\\\u001b[2mscene_file_writer.py\u001b[0m\u001b]8;;\u001b\\\u001b[2m:\u001b[0m\u001b]8;id=281418;file://c:\\Users\\alexl\\AppData\\Local\\Programs\\Python\\Python312\\Lib\\site-packages\\manim\\scene\\scene_file_writer.py#588\u001b\\\u001b[2m588\u001b[0m\u001b]8;;\u001b\\\n",
       "\u001b[2;36m                    \u001b[0m         \u001b[32m'C:\\Users\\alexl\\Code\\manim-generator\\documentation\\media\\vide\u001b[0m \u001b[2m                        \u001b[0m\n",
       "\u001b[2;36m                    \u001b[0m         \u001b[32mos\\480p15\\partial_movie_files\\FullTutorial\\432527821_32665795\u001b[0m \u001b[2m                        \u001b[0m\n",
       "\u001b[2;36m                    \u001b[0m         \u001b[32m04_2037826049.mp4'\u001b[0m                                            \u001b[2m                        \u001b[0m\n"
      ]
     },
     "metadata": {},
     "output_type": "display_data"
    },
    {
     "data": {
      "text/html": [
       "<pre style=\"white-space:pre;overflow-x:auto;line-height:normal;font-family:Menlo,'DejaVu Sans Mono',consolas,'Courier New',monospace\"><span style=\"color: #7fbfbf; text-decoration-color: #7fbfbf\">[04/20/25 12:42:32] </span><span style=\"color: #008000; text-decoration-color: #008000\">INFO    </span> Animation <span style=\"color: #008000; text-decoration-color: #008000\">12</span> : Partial movie file written in                  <a href=\"file://c:\\Users\\alexl\\AppData\\Local\\Programs\\Python\\Python312\\Lib\\site-packages\\manim\\scene\\scene_file_writer.py\" target=\"_blank\"><span style=\"color: #7f7f7f; text-decoration-color: #7f7f7f\">scene_file_writer.py</span></a><span style=\"color: #7f7f7f; text-decoration-color: #7f7f7f\">:</span><a href=\"file://c:\\Users\\alexl\\AppData\\Local\\Programs\\Python\\Python312\\Lib\\site-packages\\manim\\scene\\scene_file_writer.py#588\" target=\"_blank\"><span style=\"color: #7f7f7f; text-decoration-color: #7f7f7f\">588</span></a>\n",
       "<span style=\"color: #7fbfbf; text-decoration-color: #7fbfbf\">                    </span>         <span style=\"color: #008000; text-decoration-color: #008000\">'C:\\Users\\alexl\\Code\\manim-generator\\documentation\\media\\vide</span> <span style=\"color: #7f7f7f; text-decoration-color: #7f7f7f\">                        </span>\n",
       "<span style=\"color: #7fbfbf; text-decoration-color: #7fbfbf\">                    </span>         <span style=\"color: #008000; text-decoration-color: #008000\">os\\480p15\\partial_movie_files\\FullTutorial\\432527821_26315805</span> <span style=\"color: #7f7f7f; text-decoration-color: #7f7f7f\">                        </span>\n",
       "<span style=\"color: #7fbfbf; text-decoration-color: #7fbfbf\">                    </span>         <span style=\"color: #008000; text-decoration-color: #008000\">03_590917425.mp4'</span>                                             <span style=\"color: #7f7f7f; text-decoration-color: #7f7f7f\">                        </span>\n",
       "</pre>\n"
      ],
      "text/plain": [
       "\u001b[2;36m[04/20/25 12:42:32]\u001b[0m\u001b[2;36m \u001b[0m\u001b[32mINFO    \u001b[0m Animation \u001b[32m12\u001b[0m : Partial movie file written in                  \u001b]8;id=880114;file://c:\\Users\\alexl\\AppData\\Local\\Programs\\Python\\Python312\\Lib\\site-packages\\manim\\scene\\scene_file_writer.py\u001b\\\u001b[2mscene_file_writer.py\u001b[0m\u001b]8;;\u001b\\\u001b[2m:\u001b[0m\u001b]8;id=213441;file://c:\\Users\\alexl\\AppData\\Local\\Programs\\Python\\Python312\\Lib\\site-packages\\manim\\scene\\scene_file_writer.py#588\u001b\\\u001b[2m588\u001b[0m\u001b]8;;\u001b\\\n",
       "\u001b[2;36m                    \u001b[0m         \u001b[32m'C:\\Users\\alexl\\Code\\manim-generator\\documentation\\media\\vide\u001b[0m \u001b[2m                        \u001b[0m\n",
       "\u001b[2;36m                    \u001b[0m         \u001b[32mos\\480p15\\partial_movie_files\\FullTutorial\\432527821_26315805\u001b[0m \u001b[2m                        \u001b[0m\n",
       "\u001b[2;36m                    \u001b[0m         \u001b[32m03_590917425.mp4'\u001b[0m                                             \u001b[2m                        \u001b[0m\n"
      ]
     },
     "metadata": {},
     "output_type": "display_data"
    },
    {
     "name": "stderr",
     "output_type": "stream",
     "text": [
      "                                                                                                                                                                                                                \r"
     ]
    },
    {
     "data": {
      "text/html": [
       "<pre style=\"white-space:pre;overflow-x:auto;line-height:normal;font-family:Menlo,'DejaVu Sans Mono',consolas,'Courier New',monospace\"><span style=\"color: #7fbfbf; text-decoration-color: #7fbfbf\">[04/20/25 12:42:33] </span><span style=\"color: #008000; text-decoration-color: #008000\">INFO    </span> Animation <span style=\"color: #008000; text-decoration-color: #008000\">13</span> : Partial movie file written in                  <a href=\"file://c:\\Users\\alexl\\AppData\\Local\\Programs\\Python\\Python312\\Lib\\site-packages\\manim\\scene\\scene_file_writer.py\" target=\"_blank\"><span style=\"color: #7f7f7f; text-decoration-color: #7f7f7f\">scene_file_writer.py</span></a><span style=\"color: #7f7f7f; text-decoration-color: #7f7f7f\">:</span><a href=\"file://c:\\Users\\alexl\\AppData\\Local\\Programs\\Python\\Python312\\Lib\\site-packages\\manim\\scene\\scene_file_writer.py#588\" target=\"_blank\"><span style=\"color: #7f7f7f; text-decoration-color: #7f7f7f\">588</span></a>\n",
       "<span style=\"color: #7fbfbf; text-decoration-color: #7fbfbf\">                    </span>         <span style=\"color: #008000; text-decoration-color: #008000\">'C:\\Users\\alexl\\Code\\manim-generator\\documentation\\media\\vide</span> <span style=\"color: #7f7f7f; text-decoration-color: #7f7f7f\">                        </span>\n",
       "<span style=\"color: #7fbfbf; text-decoration-color: #7fbfbf\">                    </span>         <span style=\"color: #008000; text-decoration-color: #008000\">os\\480p15\\partial_movie_files\\FullTutorial\\432527821_29425632</span> <span style=\"color: #7f7f7f; text-decoration-color: #7f7f7f\">                        </span>\n",
       "<span style=\"color: #7fbfbf; text-decoration-color: #7fbfbf\">                    </span>         <span style=\"color: #008000; text-decoration-color: #008000\">73_3199637409.mp4'</span>                                            <span style=\"color: #7f7f7f; text-decoration-color: #7f7f7f\">                        </span>\n",
       "</pre>\n"
      ],
      "text/plain": [
       "\u001b[2;36m[04/20/25 12:42:33]\u001b[0m\u001b[2;36m \u001b[0m\u001b[32mINFO    \u001b[0m Animation \u001b[32m13\u001b[0m : Partial movie file written in                  \u001b]8;id=924341;file://c:\\Users\\alexl\\AppData\\Local\\Programs\\Python\\Python312\\Lib\\site-packages\\manim\\scene\\scene_file_writer.py\u001b\\\u001b[2mscene_file_writer.py\u001b[0m\u001b]8;;\u001b\\\u001b[2m:\u001b[0m\u001b]8;id=353308;file://c:\\Users\\alexl\\AppData\\Local\\Programs\\Python\\Python312\\Lib\\site-packages\\manim\\scene\\scene_file_writer.py#588\u001b\\\u001b[2m588\u001b[0m\u001b]8;;\u001b\\\n",
       "\u001b[2;36m                    \u001b[0m         \u001b[32m'C:\\Users\\alexl\\Code\\manim-generator\\documentation\\media\\vide\u001b[0m \u001b[2m                        \u001b[0m\n",
       "\u001b[2;36m                    \u001b[0m         \u001b[32mos\\480p15\\partial_movie_files\\FullTutorial\\432527821_29425632\u001b[0m \u001b[2m                        \u001b[0m\n",
       "\u001b[2;36m                    \u001b[0m         \u001b[32m73_3199637409.mp4'\u001b[0m                                            \u001b[2m                        \u001b[0m\n"
      ]
     },
     "metadata": {},
     "output_type": "display_data"
    },
    {
     "data": {
      "text/html": [
       "<pre style=\"white-space:pre;overflow-x:auto;line-height:normal;font-family:Menlo,'DejaVu Sans Mono',consolas,'Courier New',monospace\"><span style=\"color: #7fbfbf; text-decoration-color: #7fbfbf\">                    </span><span style=\"color: #008000; text-decoration-color: #008000\">INFO    </span> Automatically converted                                       <a href=\"file://c:\\Users\\alexl\\AppData\\Local\\Programs\\Python\\Python312\\Lib\\site-packages\\manim\\scene\\scene_file_writer.py\" target=\"_blank\"><span style=\"color: #7f7f7f; text-decoration-color: #7f7f7f\">scene_file_writer.py</span></a><span style=\"color: #7f7f7f; text-decoration-color: #7f7f7f\">:</span><a href=\"file://c:\\Users\\alexl\\AppData\\Local\\Programs\\Python\\Python312\\Lib\\site-packages\\manim\\scene\\scene_file_writer.py#377\" target=\"_blank\"><span style=\"color: #7f7f7f; text-decoration-color: #7f7f7f\">377</span></a>\n",
       "<span style=\"color: #7fbfbf; text-decoration-color: #7fbfbf\">                    </span>         media\\voiceovers\\let-s-begin-with-gradient-descent-in-one-dim <span style=\"color: #7f7f7f; text-decoration-color: #7f7f7f\">                        </span>\n",
       "<span style=\"color: #7fbfbf; text-decoration-color: #7fbfbf\">                    </span>         ension-1f6c2440.mp3 to .wav                                   <span style=\"color: #7f7f7f; text-decoration-color: #7f7f7f\">                        </span>\n",
       "</pre>\n"
      ],
      "text/plain": [
       "\u001b[2;36m                   \u001b[0m\u001b[2;36m \u001b[0m\u001b[32mINFO    \u001b[0m Automatically converted                                       \u001b]8;id=466063;file://c:\\Users\\alexl\\AppData\\Local\\Programs\\Python\\Python312\\Lib\\site-packages\\manim\\scene\\scene_file_writer.py\u001b\\\u001b[2mscene_file_writer.py\u001b[0m\u001b]8;;\u001b\\\u001b[2m:\u001b[0m\u001b]8;id=1257;file://c:\\Users\\alexl\\AppData\\Local\\Programs\\Python\\Python312\\Lib\\site-packages\\manim\\scene\\scene_file_writer.py#377\u001b\\\u001b[2m377\u001b[0m\u001b]8;;\u001b\\\n",
       "\u001b[2;36m                    \u001b[0m         media\\voiceovers\\let-s-begin-with-gradient-descent-in-one-dim \u001b[2m                        \u001b[0m\n",
       "\u001b[2;36m                    \u001b[0m         ension-1f6c2440.mp3 to .wav                                   \u001b[2m                        \u001b[0m\n"
      ]
     },
     "metadata": {},
     "output_type": "display_data"
    },
    {
     "name": "stderr",
     "output_type": "stream",
     "text": [
      "                                                                                                  \r"
     ]
    },
    {
     "data": {
      "text/html": [
       "<pre style=\"white-space:pre;overflow-x:auto;line-height:normal;font-family:Menlo,'DejaVu Sans Mono',consolas,'Courier New',monospace\"><span style=\"color: #7fbfbf; text-decoration-color: #7fbfbf\">[04/20/25 12:42:34] </span><span style=\"color: #008000; text-decoration-color: #008000\">INFO    </span> Animation <span style=\"color: #008000; text-decoration-color: #008000\">14</span> : Partial movie file written in                  <a href=\"file://c:\\Users\\alexl\\AppData\\Local\\Programs\\Python\\Python312\\Lib\\site-packages\\manim\\scene\\scene_file_writer.py\" target=\"_blank\"><span style=\"color: #7f7f7f; text-decoration-color: #7f7f7f\">scene_file_writer.py</span></a><span style=\"color: #7f7f7f; text-decoration-color: #7f7f7f\">:</span><a href=\"file://c:\\Users\\alexl\\AppData\\Local\\Programs\\Python\\Python312\\Lib\\site-packages\\manim\\scene\\scene_file_writer.py#588\" target=\"_blank\"><span style=\"color: #7f7f7f; text-decoration-color: #7f7f7f\">588</span></a>\n",
       "<span style=\"color: #7fbfbf; text-decoration-color: #7fbfbf\">                    </span>         <span style=\"color: #008000; text-decoration-color: #008000\">'C:\\Users\\alexl\\Code\\manim-generator\\documentation\\media\\vide</span> <span style=\"color: #7f7f7f; text-decoration-color: #7f7f7f\">                        </span>\n",
       "<span style=\"color: #7fbfbf; text-decoration-color: #7fbfbf\">                    </span>         <span style=\"color: #008000; text-decoration-color: #008000\">os\\480p15\\partial_movie_files\\FullTutorial\\432527821_18062637</span> <span style=\"color: #7f7f7f; text-decoration-color: #7f7f7f\">                        </span>\n",
       "<span style=\"color: #7fbfbf; text-decoration-color: #7fbfbf\">                    </span>         <span style=\"color: #008000; text-decoration-color: #008000\">51_1814444762.mp4'</span>                                            <span style=\"color: #7f7f7f; text-decoration-color: #7f7f7f\">                        </span>\n",
       "</pre>\n"
      ],
      "text/plain": [
       "\u001b[2;36m[04/20/25 12:42:34]\u001b[0m\u001b[2;36m \u001b[0m\u001b[32mINFO    \u001b[0m Animation \u001b[32m14\u001b[0m : Partial movie file written in                  \u001b]8;id=141855;file://c:\\Users\\alexl\\AppData\\Local\\Programs\\Python\\Python312\\Lib\\site-packages\\manim\\scene\\scene_file_writer.py\u001b\\\u001b[2mscene_file_writer.py\u001b[0m\u001b]8;;\u001b\\\u001b[2m:\u001b[0m\u001b]8;id=398818;file://c:\\Users\\alexl\\AppData\\Local\\Programs\\Python\\Python312\\Lib\\site-packages\\manim\\scene\\scene_file_writer.py#588\u001b\\\u001b[2m588\u001b[0m\u001b]8;;\u001b\\\n",
       "\u001b[2;36m                    \u001b[0m         \u001b[32m'C:\\Users\\alexl\\Code\\manim-generator\\documentation\\media\\vide\u001b[0m \u001b[2m                        \u001b[0m\n",
       "\u001b[2;36m                    \u001b[0m         \u001b[32mos\\480p15\\partial_movie_files\\FullTutorial\\432527821_18062637\u001b[0m \u001b[2m                        \u001b[0m\n",
       "\u001b[2;36m                    \u001b[0m         \u001b[32m51_1814444762.mp4'\u001b[0m                                            \u001b[2m                        \u001b[0m\n"
      ]
     },
     "metadata": {},
     "output_type": "display_data"
    },
    {
     "data": {
      "text/html": [
       "<pre style=\"white-space:pre;overflow-x:auto;line-height:normal;font-family:Menlo,'DejaVu Sans Mono',consolas,'Courier New',monospace\"><span style=\"color: #7fbfbf; text-decoration-color: #7fbfbf\">                    </span><span style=\"color: #008000; text-decoration-color: #008000\">INFO    </span> Animation <span style=\"color: #008000; text-decoration-color: #008000\">15</span> : Partial movie file written in                  <a href=\"file://c:\\Users\\alexl\\AppData\\Local\\Programs\\Python\\Python312\\Lib\\site-packages\\manim\\scene\\scene_file_writer.py\" target=\"_blank\"><span style=\"color: #7f7f7f; text-decoration-color: #7f7f7f\">scene_file_writer.py</span></a><span style=\"color: #7f7f7f; text-decoration-color: #7f7f7f\">:</span><a href=\"file://c:\\Users\\alexl\\AppData\\Local\\Programs\\Python\\Python312\\Lib\\site-packages\\manim\\scene\\scene_file_writer.py#588\" target=\"_blank\"><span style=\"color: #7f7f7f; text-decoration-color: #7f7f7f\">588</span></a>\n",
       "<span style=\"color: #7fbfbf; text-decoration-color: #7fbfbf\">                    </span>         <span style=\"color: #008000; text-decoration-color: #008000\">'C:\\Users\\alexl\\Code\\manim-generator\\documentation\\media\\vide</span> <span style=\"color: #7f7f7f; text-decoration-color: #7f7f7f\">                        </span>\n",
       "<span style=\"color: #7fbfbf; text-decoration-color: #7fbfbf\">                    </span>         <span style=\"color: #008000; text-decoration-color: #008000\">os\\480p15\\partial_movie_files\\FullTutorial\\432527821_54873157</span> <span style=\"color: #7f7f7f; text-decoration-color: #7f7f7f\">                        </span>\n",
       "<span style=\"color: #7fbfbf; text-decoration-color: #7fbfbf\">                    </span>         <span style=\"color: #008000; text-decoration-color: #008000\">3_528341192.mp4'</span>                                              <span style=\"color: #7f7f7f; text-decoration-color: #7f7f7f\">                        </span>\n",
       "</pre>\n"
      ],
      "text/plain": [
       "\u001b[2;36m                   \u001b[0m\u001b[2;36m \u001b[0m\u001b[32mINFO    \u001b[0m Animation \u001b[32m15\u001b[0m : Partial movie file written in                  \u001b]8;id=447969;file://c:\\Users\\alexl\\AppData\\Local\\Programs\\Python\\Python312\\Lib\\site-packages\\manim\\scene\\scene_file_writer.py\u001b\\\u001b[2mscene_file_writer.py\u001b[0m\u001b]8;;\u001b\\\u001b[2m:\u001b[0m\u001b]8;id=309587;file://c:\\Users\\alexl\\AppData\\Local\\Programs\\Python\\Python312\\Lib\\site-packages\\manim\\scene\\scene_file_writer.py#588\u001b\\\u001b[2m588\u001b[0m\u001b]8;;\u001b\\\n",
       "\u001b[2;36m                    \u001b[0m         \u001b[32m'C:\\Users\\alexl\\Code\\manim-generator\\documentation\\media\\vide\u001b[0m \u001b[2m                        \u001b[0m\n",
       "\u001b[2;36m                    \u001b[0m         \u001b[32mos\\480p15\\partial_movie_files\\FullTutorial\\432527821_54873157\u001b[0m \u001b[2m                        \u001b[0m\n",
       "\u001b[2;36m                    \u001b[0m         \u001b[32m3_528341192.mp4'\u001b[0m                                              \u001b[2m                        \u001b[0m\n"
      ]
     },
     "metadata": {},
     "output_type": "display_data"
    },
    {
     "name": "stderr",
     "output_type": "stream",
     "text": [
      "                                                                                                           \r"
     ]
    },
    {
     "data": {
      "text/html": [
       "<pre style=\"white-space:pre;overflow-x:auto;line-height:normal;font-family:Menlo,'DejaVu Sans Mono',consolas,'Courier New',monospace\"><span style=\"color: #7fbfbf; text-decoration-color: #7fbfbf\">                    </span><span style=\"color: #008000; text-decoration-color: #008000\">INFO    </span> Animation <span style=\"color: #008000; text-decoration-color: #008000\">16</span> : Partial movie file written in                  <a href=\"file://c:\\Users\\alexl\\AppData\\Local\\Programs\\Python\\Python312\\Lib\\site-packages\\manim\\scene\\scene_file_writer.py\" target=\"_blank\"><span style=\"color: #7f7f7f; text-decoration-color: #7f7f7f\">scene_file_writer.py</span></a><span style=\"color: #7f7f7f; text-decoration-color: #7f7f7f\">:</span><a href=\"file://c:\\Users\\alexl\\AppData\\Local\\Programs\\Python\\Python312\\Lib\\site-packages\\manim\\scene\\scene_file_writer.py#588\" target=\"_blank\"><span style=\"color: #7f7f7f; text-decoration-color: #7f7f7f\">588</span></a>\n",
       "<span style=\"color: #7fbfbf; text-decoration-color: #7fbfbf\">                    </span>         <span style=\"color: #008000; text-decoration-color: #008000\">'C:\\Users\\alexl\\Code\\manim-generator\\documentation\\media\\vide</span> <span style=\"color: #7f7f7f; text-decoration-color: #7f7f7f\">                        </span>\n",
       "<span style=\"color: #7fbfbf; text-decoration-color: #7fbfbf\">                    </span>         <span style=\"color: #008000; text-decoration-color: #008000\">os\\480p15\\partial_movie_files\\FullTutorial\\432527821_30286483</span> <span style=\"color: #7f7f7f; text-decoration-color: #7f7f7f\">                        </span>\n",
       "<span style=\"color: #7fbfbf; text-decoration-color: #7fbfbf\">                    </span>         <span style=\"color: #008000; text-decoration-color: #008000\">83_3688695085.mp4'</span>                                            <span style=\"color: #7f7f7f; text-decoration-color: #7f7f7f\">                        </span>\n",
       "</pre>\n"
      ],
      "text/plain": [
       "\u001b[2;36m                   \u001b[0m\u001b[2;36m \u001b[0m\u001b[32mINFO    \u001b[0m Animation \u001b[32m16\u001b[0m : Partial movie file written in                  \u001b]8;id=45031;file://c:\\Users\\alexl\\AppData\\Local\\Programs\\Python\\Python312\\Lib\\site-packages\\manim\\scene\\scene_file_writer.py\u001b\\\u001b[2mscene_file_writer.py\u001b[0m\u001b]8;;\u001b\\\u001b[2m:\u001b[0m\u001b]8;id=118416;file://c:\\Users\\alexl\\AppData\\Local\\Programs\\Python\\Python312\\Lib\\site-packages\\manim\\scene\\scene_file_writer.py#588\u001b\\\u001b[2m588\u001b[0m\u001b]8;;\u001b\\\n",
       "\u001b[2;36m                    \u001b[0m         \u001b[32m'C:\\Users\\alexl\\Code\\manim-generator\\documentation\\media\\vide\u001b[0m \u001b[2m                        \u001b[0m\n",
       "\u001b[2;36m                    \u001b[0m         \u001b[32mos\\480p15\\partial_movie_files\\FullTutorial\\432527821_30286483\u001b[0m \u001b[2m                        \u001b[0m\n",
       "\u001b[2;36m                    \u001b[0m         \u001b[32m83_3688695085.mp4'\u001b[0m                                            \u001b[2m                        \u001b[0m\n"
      ]
     },
     "metadata": {},
     "output_type": "display_data"
    },
    {
     "data": {
      "text/html": [
       "<pre style=\"white-space:pre;overflow-x:auto;line-height:normal;font-family:Menlo,'DejaVu Sans Mono',consolas,'Courier New',monospace\"><span style=\"color: #7fbfbf; text-decoration-color: #7fbfbf\">                    </span><span style=\"color: #008000; text-decoration-color: #008000\">INFO    </span> Automatically converted                                       <a href=\"file://c:\\Users\\alexl\\AppData\\Local\\Programs\\Python\\Python312\\Lib\\site-packages\\manim\\scene\\scene_file_writer.py\" target=\"_blank\"><span style=\"color: #7f7f7f; text-decoration-color: #7f7f7f\">scene_file_writer.py</span></a><span style=\"color: #7f7f7f; text-decoration-color: #7f7f7f\">:</span><a href=\"file://c:\\Users\\alexl\\AppData\\Local\\Programs\\Python\\Python312\\Lib\\site-packages\\manim\\scene\\scene_file_writer.py#377\" target=\"_blank\"><span style=\"color: #7f7f7f; text-decoration-color: #7f7f7f\">377</span></a>\n",
       "<span style=\"color: #7fbfbf; text-decoration-color: #7fbfbf\">                    </span>         media\\voiceovers\\in-one-dimension-we-need-an-objective-functi <span style=\"color: #7f7f7f; text-decoration-color: #7f7f7f\">                        </span>\n",
       "<span style=\"color: #7fbfbf; text-decoration-color: #7fbfbf\">                    </span>         on-f-d30bfaa2.mp3 to .wav                                     <span style=\"color: #7f7f7f; text-decoration-color: #7f7f7f\">                        </span>\n",
       "</pre>\n"
      ],
      "text/plain": [
       "\u001b[2;36m                   \u001b[0m\u001b[2;36m \u001b[0m\u001b[32mINFO    \u001b[0m Automatically converted                                       \u001b]8;id=221147;file://c:\\Users\\alexl\\AppData\\Local\\Programs\\Python\\Python312\\Lib\\site-packages\\manim\\scene\\scene_file_writer.py\u001b\\\u001b[2mscene_file_writer.py\u001b[0m\u001b]8;;\u001b\\\u001b[2m:\u001b[0m\u001b]8;id=592752;file://c:\\Users\\alexl\\AppData\\Local\\Programs\\Python\\Python312\\Lib\\site-packages\\manim\\scene\\scene_file_writer.py#377\u001b\\\u001b[2m377\u001b[0m\u001b]8;;\u001b\\\n",
       "\u001b[2;36m                    \u001b[0m         media\\voiceovers\\in-one-dimension-we-need-an-objective-functi \u001b[2m                        \u001b[0m\n",
       "\u001b[2;36m                    \u001b[0m         on-f-d30bfaa2.mp3 to .wav                                     \u001b[2m                        \u001b[0m\n"
      ]
     },
     "metadata": {},
     "output_type": "display_data"
    },
    {
     "name": "stderr",
     "output_type": "stream",
     "text": [
      "                                                                                                                                                                                                       \r"
     ]
    },
    {
     "data": {
      "text/html": [
       "<pre style=\"white-space:pre;overflow-x:auto;line-height:normal;font-family:Menlo,'DejaVu Sans Mono',consolas,'Courier New',monospace\"><span style=\"color: #7fbfbf; text-decoration-color: #7fbfbf\">[04/20/25 12:42:35] </span><span style=\"color: #008000; text-decoration-color: #008000\">INFO    </span> Animation <span style=\"color: #008000; text-decoration-color: #008000\">17</span> : Partial movie file written in                  <a href=\"file://c:\\Users\\alexl\\AppData\\Local\\Programs\\Python\\Python312\\Lib\\site-packages\\manim\\scene\\scene_file_writer.py\" target=\"_blank\"><span style=\"color: #7f7f7f; text-decoration-color: #7f7f7f\">scene_file_writer.py</span></a><span style=\"color: #7f7f7f; text-decoration-color: #7f7f7f\">:</span><a href=\"file://c:\\Users\\alexl\\AppData\\Local\\Programs\\Python\\Python312\\Lib\\site-packages\\manim\\scene\\scene_file_writer.py#588\" target=\"_blank\"><span style=\"color: #7f7f7f; text-decoration-color: #7f7f7f\">588</span></a>\n",
       "<span style=\"color: #7fbfbf; text-decoration-color: #7fbfbf\">                    </span>         <span style=\"color: #008000; text-decoration-color: #008000\">'C:\\Users\\alexl\\Code\\manim-generator\\documentation\\media\\vide</span> <span style=\"color: #7f7f7f; text-decoration-color: #7f7f7f\">                        </span>\n",
       "<span style=\"color: #7fbfbf; text-decoration-color: #7fbfbf\">                    </span>         <span style=\"color: #008000; text-decoration-color: #008000\">os\\480p15\\partial_movie_files\\FullTutorial\\432527821_32128210</span> <span style=\"color: #7f7f7f; text-decoration-color: #7f7f7f\">                        </span>\n",
       "<span style=\"color: #7fbfbf; text-decoration-color: #7fbfbf\">                    </span>         <span style=\"color: #008000; text-decoration-color: #008000\">85_4241201516.mp4'</span>                                            <span style=\"color: #7f7f7f; text-decoration-color: #7f7f7f\">                        </span>\n",
       "</pre>\n"
      ],
      "text/plain": [
       "\u001b[2;36m[04/20/25 12:42:35]\u001b[0m\u001b[2;36m \u001b[0m\u001b[32mINFO    \u001b[0m Animation \u001b[32m17\u001b[0m : Partial movie file written in                  \u001b]8;id=823356;file://c:\\Users\\alexl\\AppData\\Local\\Programs\\Python\\Python312\\Lib\\site-packages\\manim\\scene\\scene_file_writer.py\u001b\\\u001b[2mscene_file_writer.py\u001b[0m\u001b]8;;\u001b\\\u001b[2m:\u001b[0m\u001b]8;id=571998;file://c:\\Users\\alexl\\AppData\\Local\\Programs\\Python\\Python312\\Lib\\site-packages\\manim\\scene\\scene_file_writer.py#588\u001b\\\u001b[2m588\u001b[0m\u001b]8;;\u001b\\\n",
       "\u001b[2;36m                    \u001b[0m         \u001b[32m'C:\\Users\\alexl\\Code\\manim-generator\\documentation\\media\\vide\u001b[0m \u001b[2m                        \u001b[0m\n",
       "\u001b[2;36m                    \u001b[0m         \u001b[32mos\\480p15\\partial_movie_files\\FullTutorial\\432527821_32128210\u001b[0m \u001b[2m                        \u001b[0m\n",
       "\u001b[2;36m                    \u001b[0m         \u001b[32m85_4241201516.mp4'\u001b[0m                                            \u001b[2m                        \u001b[0m\n"
      ]
     },
     "metadata": {},
     "output_type": "display_data"
    },
    {
     "data": {
      "text/html": [
       "<pre style=\"white-space:pre;overflow-x:auto;line-height:normal;font-family:Menlo,'DejaVu Sans Mono',consolas,'Courier New',monospace\"><span style=\"color: #7fbfbf; text-decoration-color: #7fbfbf\">[04/20/25 12:42:37] </span><span style=\"color: #008000; text-decoration-color: #008000\">INFO    </span> Animation <span style=\"color: #008000; text-decoration-color: #008000\">18</span> : Partial movie file written in                  <a href=\"file://c:\\Users\\alexl\\AppData\\Local\\Programs\\Python\\Python312\\Lib\\site-packages\\manim\\scene\\scene_file_writer.py\" target=\"_blank\"><span style=\"color: #7f7f7f; text-decoration-color: #7f7f7f\">scene_file_writer.py</span></a><span style=\"color: #7f7f7f; text-decoration-color: #7f7f7f\">:</span><a href=\"file://c:\\Users\\alexl\\AppData\\Local\\Programs\\Python\\Python312\\Lib\\site-packages\\manim\\scene\\scene_file_writer.py#588\" target=\"_blank\"><span style=\"color: #7f7f7f; text-decoration-color: #7f7f7f\">588</span></a>\n",
       "<span style=\"color: #7fbfbf; text-decoration-color: #7fbfbf\">                    </span>         <span style=\"color: #008000; text-decoration-color: #008000\">'C:\\Users\\alexl\\Code\\manim-generator\\documentation\\media\\vide</span> <span style=\"color: #7f7f7f; text-decoration-color: #7f7f7f\">                        </span>\n",
       "<span style=\"color: #7fbfbf; text-decoration-color: #7fbfbf\">                    </span>         <span style=\"color: #008000; text-decoration-color: #008000\">os\\480p15\\partial_movie_files\\FullTutorial\\432527821_28128555</span> <span style=\"color: #7f7f7f; text-decoration-color: #7f7f7f\">                        </span>\n",
       "<span style=\"color: #7fbfbf; text-decoration-color: #7fbfbf\">                    </span>         <span style=\"color: #008000; text-decoration-color: #008000\">44_1862674647.mp4'</span>                                            <span style=\"color: #7f7f7f; text-decoration-color: #7f7f7f\">                        </span>\n",
       "</pre>\n"
      ],
      "text/plain": [
       "\u001b[2;36m[04/20/25 12:42:37]\u001b[0m\u001b[2;36m \u001b[0m\u001b[32mINFO    \u001b[0m Animation \u001b[32m18\u001b[0m : Partial movie file written in                  \u001b]8;id=30231;file://c:\\Users\\alexl\\AppData\\Local\\Programs\\Python\\Python312\\Lib\\site-packages\\manim\\scene\\scene_file_writer.py\u001b\\\u001b[2mscene_file_writer.py\u001b[0m\u001b]8;;\u001b\\\u001b[2m:\u001b[0m\u001b]8;id=958991;file://c:\\Users\\alexl\\AppData\\Local\\Programs\\Python\\Python312\\Lib\\site-packages\\manim\\scene\\scene_file_writer.py#588\u001b\\\u001b[2m588\u001b[0m\u001b]8;;\u001b\\\n",
       "\u001b[2;36m                    \u001b[0m         \u001b[32m'C:\\Users\\alexl\\Code\\manim-generator\\documentation\\media\\vide\u001b[0m \u001b[2m                        \u001b[0m\n",
       "\u001b[2;36m                    \u001b[0m         \u001b[32mos\\480p15\\partial_movie_files\\FullTutorial\\432527821_28128555\u001b[0m \u001b[2m                        \u001b[0m\n",
       "\u001b[2;36m                    \u001b[0m         \u001b[32m44_1862674647.mp4'\u001b[0m                                            \u001b[2m                        \u001b[0m\n"
      ]
     },
     "metadata": {},
     "output_type": "display_data"
    },
    {
     "data": {
      "text/html": [
       "<pre style=\"white-space:pre;overflow-x:auto;line-height:normal;font-family:Menlo,'DejaVu Sans Mono',consolas,'Courier New',monospace\"><span style=\"color: #7fbfbf; text-decoration-color: #7fbfbf\">                    </span><span style=\"color: #008000; text-decoration-color: #008000\">INFO    </span> Automatically converted                                       <a href=\"file://c:\\Users\\alexl\\AppData\\Local\\Programs\\Python\\Python312\\Lib\\site-packages\\manim\\scene\\scene_file_writer.py\" target=\"_blank\"><span style=\"color: #7f7f7f; text-decoration-color: #7f7f7f\">scene_file_writer.py</span></a><span style=\"color: #7f7f7f; text-decoration-color: #7f7f7f\">:</span><a href=\"file://c:\\Users\\alexl\\AppData\\Local\\Programs\\Python\\Python312\\Lib\\site-packages\\manim\\scene\\scene_file_writer.py#377\" target=\"_blank\"><span style=\"color: #7f7f7f; text-decoration-color: #7f7f7f\">377</span></a>\n",
       "<span style=\"color: #7fbfbf; text-decoration-color: #7fbfbf\">                    </span>         media\\voiceovers\\the-gradient-descent-algorithm-starts-at-the <span style=\"color: #7f7f7f; text-decoration-color: #7f7f7f\">                        </span>\n",
       "<span style=\"color: #7fbfbf; text-decoration-color: #7fbfbf\">                    </span>         -0ccb5e1e.mp3 to .wav                                         <span style=\"color: #7f7f7f; text-decoration-color: #7f7f7f\">                        </span>\n",
       "</pre>\n"
      ],
      "text/plain": [
       "\u001b[2;36m                   \u001b[0m\u001b[2;36m \u001b[0m\u001b[32mINFO    \u001b[0m Automatically converted                                       \u001b]8;id=496780;file://c:\\Users\\alexl\\AppData\\Local\\Programs\\Python\\Python312\\Lib\\site-packages\\manim\\scene\\scene_file_writer.py\u001b\\\u001b[2mscene_file_writer.py\u001b[0m\u001b]8;;\u001b\\\u001b[2m:\u001b[0m\u001b]8;id=750735;file://c:\\Users\\alexl\\AppData\\Local\\Programs\\Python\\Python312\\Lib\\site-packages\\manim\\scene\\scene_file_writer.py#377\u001b\\\u001b[2m377\u001b[0m\u001b]8;;\u001b\\\n",
       "\u001b[2;36m                    \u001b[0m         media\\voiceovers\\the-gradient-descent-algorithm-starts-at-the \u001b[2m                        \u001b[0m\n",
       "\u001b[2;36m                    \u001b[0m         -0ccb5e1e.mp3 to .wav                                         \u001b[2m                        \u001b[0m\n"
      ]
     },
     "metadata": {},
     "output_type": "display_data"
    },
    {
     "data": {
      "text/html": [
       "<pre style=\"white-space:pre;overflow-x:auto;line-height:normal;font-family:Menlo,'DejaVu Sans Mono',consolas,'Courier New',monospace\"><span style=\"color: #7fbfbf; text-decoration-color: #7fbfbf\">[04/20/25 12:42:38] </span><span style=\"color: #008000; text-decoration-color: #008000\">INFO    </span> Animation <span style=\"color: #008000; text-decoration-color: #008000\">19</span> : Partial movie file written in                  <a href=\"file://c:\\Users\\alexl\\AppData\\Local\\Programs\\Python\\Python312\\Lib\\site-packages\\manim\\scene\\scene_file_writer.py\" target=\"_blank\"><span style=\"color: #7f7f7f; text-decoration-color: #7f7f7f\">scene_file_writer.py</span></a><span style=\"color: #7f7f7f; text-decoration-color: #7f7f7f\">:</span><a href=\"file://c:\\Users\\alexl\\AppData\\Local\\Programs\\Python\\Python312\\Lib\\site-packages\\manim\\scene\\scene_file_writer.py#588\" target=\"_blank\"><span style=\"color: #7f7f7f; text-decoration-color: #7f7f7f\">588</span></a>\n",
       "<span style=\"color: #7fbfbf; text-decoration-color: #7fbfbf\">                    </span>         <span style=\"color: #008000; text-decoration-color: #008000\">'C:\\Users\\alexl\\Code\\manim-generator\\documentation\\media\\vide</span> <span style=\"color: #7f7f7f; text-decoration-color: #7f7f7f\">                        </span>\n",
       "<span style=\"color: #7fbfbf; text-decoration-color: #7fbfbf\">                    </span>         <span style=\"color: #008000; text-decoration-color: #008000\">os\\480p15\\partial_movie_files\\FullTutorial\\432527821_12261591</span> <span style=\"color: #7f7f7f; text-decoration-color: #7f7f7f\">                        </span>\n",
       "<span style=\"color: #7fbfbf; text-decoration-color: #7fbfbf\">                    </span>         <span style=\"color: #008000; text-decoration-color: #008000\">86_2578696237.mp4'</span>                                            <span style=\"color: #7f7f7f; text-decoration-color: #7f7f7f\">                        </span>\n",
       "</pre>\n"
      ],
      "text/plain": [
       "\u001b[2;36m[04/20/25 12:42:38]\u001b[0m\u001b[2;36m \u001b[0m\u001b[32mINFO    \u001b[0m Animation \u001b[32m19\u001b[0m : Partial movie file written in                  \u001b]8;id=424792;file://c:\\Users\\alexl\\AppData\\Local\\Programs\\Python\\Python312\\Lib\\site-packages\\manim\\scene\\scene_file_writer.py\u001b\\\u001b[2mscene_file_writer.py\u001b[0m\u001b]8;;\u001b\\\u001b[2m:\u001b[0m\u001b]8;id=10034;file://c:\\Users\\alexl\\AppData\\Local\\Programs\\Python\\Python312\\Lib\\site-packages\\manim\\scene\\scene_file_writer.py#588\u001b\\\u001b[2m588\u001b[0m\u001b]8;;\u001b\\\n",
       "\u001b[2;36m                    \u001b[0m         \u001b[32m'C:\\Users\\alexl\\Code\\manim-generator\\documentation\\media\\vide\u001b[0m \u001b[2m                        \u001b[0m\n",
       "\u001b[2;36m                    \u001b[0m         \u001b[32mos\\480p15\\partial_movie_files\\FullTutorial\\432527821_12261591\u001b[0m \u001b[2m                        \u001b[0m\n",
       "\u001b[2;36m                    \u001b[0m         \u001b[32m86_2578696237.mp4'\u001b[0m                                            \u001b[2m                        \u001b[0m\n"
      ]
     },
     "metadata": {},
     "output_type": "display_data"
    },
    {
     "name": "stdout",
     "output_type": "stream",
     "text": [
      "[error]\n",
      "list index out of range\n",
      "\n"
     ]
    }
   ],
   "source": [
    "user_query = \"\"\n",
    "caches = 0\n",
    "\n",
    "with open(\"prompt.txt\", \"rb\") as f:\n",
    "    user_query = str(f.read())\n",
    "\n",
    "messages = [{\n",
    "    \"role\": \"user\",\n",
    "    \"content\": f\"\"\"{user_query}\n",
    "\n",
    "Instructions:\n",
    "1) Create manim code for a video that facilitates understanding -- try to name the single overarching class \"FullTutorial\".\n",
    "2) Please use voiceover if you deem that it will be helpful.\n",
    "3) Feel free to include a lot of visuals to make the animation look nice. In fact, a shorter video with a bunch of cool visuals is definitely preferred over a longer one with just text.\n",
    "4) Make sure to reference the documentation (when you are even slightly confused) via the available function in order to maximize accuracy. Avoiding errors is a MUST here!\n",
    "\n",
    "Here are some extremely important things that you must make sure to follow:\n",
    "1) AVOID LATEX ERRORS AT ALL COSTS (don't do anything even slightly risky) <-- we need the code to actually run\n",
    "    a) DO NOT use ANY special unicode or greek characters that might even remotely have a chance of causing issues with some latex interpreters\n",
    "    b) Be very careful about special characters like &\n",
    "    c) Be very careful about line breaks and stuff\n",
    "2) Make sure that you fade all text/images at the appropriate time so nothing lingers for longer than its supposed to. For example, we don't want to see some title or body from several scenes ago persist throughout the whole video. EVERYTHING should be temporary. Triple check this and ensure that NOTHING at all persists. This is one of the most important things.\n",
    "3) Make sure that there are no run time errors and the code plays. If your task at hand is advanced, you may find it helpful to break it up and ensure each part is correct.\n",
    "4) Avoid list index errors at all costs. Double and triple check your indexing everytime you access an index. Make sure that the array isn't empty and its not out of bounds. This part is cruicial.\n",
    "5) Make sure everything stays in frame -- we don't want things like the title or some image being cut out!\n",
    "6) Make sure that there are no common python syntactical / runtime errors!\n",
    "7) Make sure that audio is properly integrated with the mp4\n",
    "\"\"\"\n",
    "}]\n",
    "\n",
    "def extract_python_block(text):\n",
    "    pattern = r\"```python\\n(.*?)\\n```\"\n",
    "    match = re.search(pattern, text, re.DOTALL)\n",
    "    if match:\n",
    "        return match.group(1)\n",
    "    return None\n",
    "\n",
    "\n",
    "while True:\n",
    "    # 1) Keep using tool calling until code is generated\n",
    "    while True:\n",
    "        message = client.messages.create(\n",
    "            model=\"claude-3-7-sonnet-20250219\",\n",
    "            max_tokens=19999,\n",
    "            temperature=1,\n",
    "            system=SYSTEM,\n",
    "            tools = [\n",
    "                {\n",
    "                    \"name\": \"get_specific_documentatino_info\",\n",
    "                    \"description\": \"Gets specific documentation info from provided url\",\n",
    "                    \"input_schema\": {\n",
    "                        \"type\": \"object\",\n",
    "                        \"properties\": {\n",
    "                            \"url\": {\n",
    "                                \"type\": \"string\",\n",
    "                                \"description\": \"URL whose documentation info you want returned.\"\n",
    "                            },\n",
    "                        },\n",
    "                        \"required\": [\"url\"]\n",
    "                    }\n",
    "                }\n",
    "            ],\n",
    "            messages=messages\n",
    "        )\n",
    "\n",
    "        has_tool_call = False\n",
    "        \n",
    "        for info in message.content:\n",
    "            if info.type == \"tool_use\":\n",
    "                print(\"[query]\\n\" + str(info.input[\"url\"]) + \"\\n\")\n",
    "                result = send_query(info.input[\"url\"])\n",
    "                has_tool_call = True\n",
    "\n",
    "                messages.append({\n",
    "                    \"role\": \"assistant\",\n",
    "                    \"content\": [info],\n",
    "                })\n",
    "                messages.append({\n",
    "                    \"role\": \"user\",\n",
    "                    \"content\": [{\n",
    "                        \"type\": \"tool_result\",\n",
    "                        \"tool_use_id\": info.id,\n",
    "                        \"content\": result,\n",
    "                        # \"citations\": {\"enabled\": True}\n",
    "                    }]\n",
    "                })\n",
    "                # Update and see if we can cache\n",
    "                caches += 1\n",
    "\n",
    "                if caches <= 4:\n",
    "                    messages[-1][\"content\"][0][\"cache_control\"] = {\"type\": \"ephemeral\"}\n",
    "            \n",
    "            else:\n",
    "                print(\"[content]\\n\" + str(info) + \"\\n\")\n",
    "                messages.append({\n",
    "                    \"role\": \"assistant\",\n",
    "                    \"content\": [info],\n",
    "                })\n",
    "        \n",
    "        if not has_tool_call:\n",
    "            break\n",
    "    \n",
    "    # 2) Check the code\n",
    "    try:\n",
    "        print(\"[running code]\\n\")\n",
    "\n",
    "        def run_manim(code: str, quality=\"low_quality\"):\n",
    "            ns = {}\n",
    "            exec(code, ns)\n",
    "\n",
    "            # Grab the class we expect\n",
    "            scene_cls = ns.get(\"FullTutorial\")\n",
    "            if scene_cls is None:\n",
    "                raise ValueError(\"The provided code did not define a class 'FullTutorial'.\")\n",
    "\n",
    "            with tempconfig({\"quality\": quality}):\n",
    "                scene_cls().render()\n",
    "\n",
    "        run_manim(extract_python_block(messages[-1][\"content\"][0].text))\n",
    "\n",
    "    except Exception as e:\n",
    "        print(\"[error]\\n\" + str(e) + \"\\n\")\n",
    "        messages.append({ \"role\": \"user\", \"content\": f\"Code gave the following error:\\n{str(e)}\" })\n",
    "        continue\n",
    "\n",
    "    break\n"
   ]
  },
  {
   "cell_type": "code",
   "execution_count": null,
   "id": "ab356e6b",
   "metadata": {},
   "outputs": [],
   "source": []
  }
 ],
 "metadata": {
  "kernelspec": {
   "display_name": "Python 3",
   "language": "python",
   "name": "python3"
  },
  "language_info": {
   "codemirror_mode": {
    "name": "ipython",
    "version": 3
   },
   "file_extension": ".py",
   "mimetype": "text/x-python",
   "name": "python",
   "nbconvert_exporter": "python",
   "pygments_lexer": "ipython3",
   "version": "3.12.1"
  }
 },
 "nbformat": 4,
 "nbformat_minor": 5
}
